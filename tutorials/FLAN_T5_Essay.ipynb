{
 "cells": [
  {
   "cell_type": "code",
   "execution_count": 6,
   "metadata": {
    "colab": {
     "base_uri": "https://localhost:8080/"
    },
    "id": "ahRGedwRMCxT",
    "outputId": "14b44777-efb6-4286-f0bd-5aa14f72810a"
   },
   "outputs": [],
   "source": [
    "#!pip install transformers"
   ]
  },
  {
   "cell_type": "code",
   "execution_count": 13,
   "metadata": {},
   "outputs": [
    {
     "name": "stdout",
     "output_type": "stream",
     "text": [
      "Collecting transformers==4.3.0\n",
      "  Downloading transformers-4.3.0-py3-none-any.whl (1.8 MB)\n",
      "     |████████████████████████████████| 1.8 MB 5.8 MB/s            \n",
      "\u001b[?25hRequirement already satisfied: numpy>=1.17 in /Users/gyuhoshim/opt/anaconda3/envs/conda_env/lib/python3.6/site-packages (from transformers==4.3.0) (1.19.5)\n",
      "Requirement already satisfied: tqdm>=4.27 in /Users/gyuhoshim/opt/anaconda3/envs/conda_env/lib/python3.6/site-packages (from transformers==4.3.0) (4.31.1)\n",
      "Requirement already satisfied: packaging in /Users/gyuhoshim/opt/anaconda3/envs/conda_env/lib/python3.6/site-packages (from transformers==4.3.0) (21.3)\n",
      "Requirement already satisfied: filelock in /Users/gyuhoshim/opt/anaconda3/envs/conda_env/lib/python3.6/site-packages (from transformers==4.3.0) (3.4.1)\n",
      "Collecting tokenizers<0.11,>=0.10.1\n",
      "  Downloading tokenizers-0.10.3-cp36-cp36m-macosx_10_11_x86_64.whl (2.2 MB)\n",
      "     |████████████████████████████████| 2.2 MB 26.0 MB/s            \n",
      "\u001b[?25hRequirement already satisfied: dataclasses in /Users/gyuhoshim/opt/anaconda3/envs/conda_env/lib/python3.6/site-packages (from transformers==4.3.0) (0.8)\n",
      "Requirement already satisfied: importlib-metadata in /Users/gyuhoshim/opt/anaconda3/envs/conda_env/lib/python3.6/site-packages (from transformers==4.3.0) (4.8.3)\n",
      "Requirement already satisfied: regex!=2019.12.17 in /Users/gyuhoshim/opt/anaconda3/envs/conda_env/lib/python3.6/site-packages (from transformers==4.3.0) (2023.8.8)\n",
      "Requirement already satisfied: requests in /Users/gyuhoshim/opt/anaconda3/envs/conda_env/lib/python3.6/site-packages (from transformers==4.3.0) (2.27.1)\n",
      "Requirement already satisfied: sacremoses in /Users/gyuhoshim/opt/anaconda3/envs/conda_env/lib/python3.6/site-packages (from transformers==4.3.0) (0.0.53)\n",
      "Requirement already satisfied: typing-extensions>=3.6.4 in /Users/gyuhoshim/opt/anaconda3/envs/conda_env/lib/python3.6/site-packages (from importlib-metadata->transformers==4.3.0) (4.1.1)\n",
      "Requirement already satisfied: zipp>=0.5 in /Users/gyuhoshim/opt/anaconda3/envs/conda_env/lib/python3.6/site-packages (from importlib-metadata->transformers==4.3.0) (3.6.0)\n",
      "Requirement already satisfied: pyparsing!=3.0.5,>=2.0.2 in /Users/gyuhoshim/opt/anaconda3/envs/conda_env/lib/python3.6/site-packages (from packaging->transformers==4.3.0) (2.1.0)\n",
      "Requirement already satisfied: idna<4,>=2.5 in /Users/gyuhoshim/opt/anaconda3/envs/conda_env/lib/python3.6/site-packages (from requests->transformers==4.3.0) (3.4)\n",
      "Requirement already satisfied: charset-normalizer~=2.0.0 in /Users/gyuhoshim/opt/anaconda3/envs/conda_env/lib/python3.6/site-packages (from requests->transformers==4.3.0) (2.0.12)\n",
      "Requirement already satisfied: urllib3<1.27,>=1.21.1 in /Users/gyuhoshim/opt/anaconda3/envs/conda_env/lib/python3.6/site-packages (from requests->transformers==4.3.0) (1.26.18)\n",
      "Requirement already satisfied: certifi>=2017.4.17 in /Users/gyuhoshim/opt/anaconda3/envs/conda_env/lib/python3.6/site-packages (from requests->transformers==4.3.0) (2021.5.30)\n",
      "Requirement already satisfied: joblib in /Users/gyuhoshim/opt/anaconda3/envs/conda_env/lib/python3.6/site-packages (from sacremoses->transformers==4.3.0) (1.1.1)\n",
      "Requirement already satisfied: click in /Users/gyuhoshim/opt/anaconda3/envs/conda_env/lib/python3.6/site-packages (from sacremoses->transformers==4.3.0) (8.0.4)\n",
      "Requirement already satisfied: six in /Users/gyuhoshim/opt/anaconda3/envs/conda_env/lib/python3.6/site-packages (from sacremoses->transformers==4.3.0) (1.16.0)\n",
      "Installing collected packages: tokenizers, transformers\n",
      "  Attempting uninstall: tokenizers\n",
      "    Found existing installation: tokenizers 0.8.1rc1\n",
      "    Uninstalling tokenizers-0.8.1rc1:\n",
      "      Successfully uninstalled tokenizers-0.8.1rc1\n",
      "  Attempting uninstall: transformers\n",
      "    Found existing installation: transformers 3.0.2\n",
      "    Uninstalling transformers-3.0.2:\n",
      "      Successfully uninstalled transformers-3.0.2\n",
      "Successfully installed tokenizers-0.10.3 transformers-4.3.0\n"
     ]
    }
   ],
   "source": [
    "!pip install transformers==4.3.0"
   ]
  },
  {
   "cell_type": "code",
   "execution_count": 6,
   "metadata": {},
   "outputs": [
    {
     "name": "stdout",
     "output_type": "stream",
     "text": [
      "Requirement already satisfied: pip in /Users/gyuhoshim/opt/anaconda3/envs/conda_env/lib/python3.6/site-packages (21.2.2)\n",
      "Collecting pip\n",
      "  Using cached pip-21.3.1-py3-none-any.whl (1.7 MB)\n",
      "Installing collected packages: pip\n",
      "  Attempting uninstall: pip\n",
      "    Found existing installation: pip 21.2.2\n",
      "    Uninstalling pip-21.2.2:\n",
      "      Successfully uninstalled pip-21.2.2\n",
      "Successfully installed pip-21.3.1\n"
     ]
    }
   ],
   "source": [
    "!pip install --upgrade pip"
   ]
  },
  {
   "cell_type": "code",
   "execution_count": 3,
   "metadata": {
    "colab": {
     "base_uri": "https://localhost:8080/"
    },
    "id": "y-Kq9KJfMjZA",
    "outputId": "f91619da-8955-4c67-ce98-19e0b50e4bba"
   },
   "outputs": [
    {
     "name": "stdout",
     "output_type": "stream",
     "text": [
      "Requirement already satisfied: sentencepiece in /Users/gyuhoshim/opt/anaconda3/envs/conda_env/lib/python3.6/site-packages (0.1.99)\n"
     ]
    }
   ],
   "source": [
    "!pip install sentencepiece"
   ]
  },
  {
   "cell_type": "code",
   "execution_count": 4,
   "metadata": {
    "colab": {
     "base_uri": "https://localhost:8080/"
    },
    "id": "f6VZyShZQ8YE",
    "outputId": "c82a3d4c-cf5e-49b2-976a-413944a4d415"
   },
   "outputs": [
    {
     "name": "stdout",
     "output_type": "stream",
     "text": [
      "Collecting accelerate\n",
      "  Downloading accelerate-0.9.0-py3-none-any.whl (106 kB)\n",
      "\u001b[K     |████████████████████████████████| 106 kB 6.9 MB/s eta 0:00:01\n",
      "\u001b[?25hRequirement already satisfied: torch>=1.4.0 in /Users/gyuhoshim/opt/anaconda3/envs/conda_env/lib/python3.6/site-packages (from accelerate) (1.10.2)\n",
      "Requirement already satisfied: numpy>=1.17 in /Users/gyuhoshim/opt/anaconda3/envs/conda_env/lib/python3.6/site-packages (from accelerate) (1.19.5)\n",
      "Requirement already satisfied: pyyaml in /Users/gyuhoshim/opt/anaconda3/envs/conda_env/lib/python3.6/site-packages (from accelerate) (5.1.1)\n",
      "Requirement already satisfied: typing-extensions in /Users/gyuhoshim/opt/anaconda3/envs/conda_env/lib/python3.6/site-packages (from torch>=1.4.0->accelerate) (4.1.1)\n",
      "Requirement already satisfied: dataclasses in /Users/gyuhoshim/opt/anaconda3/envs/conda_env/lib/python3.6/site-packages (from torch>=1.4.0->accelerate) (0.8)\n",
      "Installing collected packages: accelerate\n",
      "Successfully installed accelerate-0.9.0\n"
     ]
    }
   ],
   "source": [
    "!pip install accelerate"
   ]
  },
  {
   "cell_type": "code",
   "execution_count": 5,
   "metadata": {},
   "outputs": [
    {
     "name": "stdout",
     "output_type": "stream",
     "text": [
      "Collecting xlrd==1.1.0\n",
      "  Downloading xlrd-1.1.0-py2.py3-none-any.whl (108 kB)\n",
      "     |████████████████████████████████| 108 kB 6.5 MB/s            \n",
      "\u001b[?25hInstalling collected packages: xlrd\n",
      "Successfully installed xlrd-1.1.0\n"
     ]
    }
   ],
   "source": [
    "!pip install  xlrd==1.1.0"
   ]
  },
  {
   "cell_type": "code",
   "execution_count": 7,
   "metadata": {},
   "outputs": [
    {
     "name": "stdout",
     "output_type": "stream",
     "text": [
      "Collecting ipywidgets\n",
      "  Using cached ipywidgets-7.8.1-py2.py3-none-any.whl (124 kB)\n",
      "Collecting comm>=0.1.3\n",
      "  Using cached comm-0.1.4-py3-none-any.whl (6.6 kB)\n",
      "Requirement already satisfied: ipython-genutils~=0.2.0 in /Users/gyuhoshim/opt/anaconda3/envs/conda_env/lib/python3.6/site-packages (from ipywidgets) (0.2.0)\n",
      "Requirement already satisfied: ipython>=4.0.0 in /Users/gyuhoshim/opt/anaconda3/envs/conda_env/lib/python3.6/site-packages (from ipywidgets) (7.16.3)\n",
      "Collecting widgetsnbextension~=3.6.6\n",
      "  Using cached widgetsnbextension-3.6.6-py2.py3-none-any.whl (1.6 MB)\n",
      "Requirement already satisfied: traitlets>=4.3.1 in /Users/gyuhoshim/opt/anaconda3/envs/conda_env/lib/python3.6/site-packages (from ipywidgets) (4.3.3)\n",
      "Collecting jupyterlab-widgets<3,>=1.0.0\n",
      "  Using cached jupyterlab_widgets-1.1.7-py3-none-any.whl (295 kB)\n",
      "Requirement already satisfied: pickleshare in /Users/gyuhoshim/opt/anaconda3/envs/conda_env/lib/python3.6/site-packages (from ipython>=4.0.0->ipywidgets) (0.7.5)\n",
      "Requirement already satisfied: pygments in /Users/gyuhoshim/opt/anaconda3/envs/conda_env/lib/python3.6/site-packages (from ipython>=4.0.0->ipywidgets) (2.14.0)\n",
      "Requirement already satisfied: backcall in /Users/gyuhoshim/opt/anaconda3/envs/conda_env/lib/python3.6/site-packages (from ipython>=4.0.0->ipywidgets) (0.2.0)\n",
      "Requirement already satisfied: pexpect in /Users/gyuhoshim/opt/anaconda3/envs/conda_env/lib/python3.6/site-packages (from ipython>=4.0.0->ipywidgets) (4.8.0)\n",
      "Requirement already satisfied: decorator in /Users/gyuhoshim/opt/anaconda3/envs/conda_env/lib/python3.6/site-packages (from ipython>=4.0.0->ipywidgets) (5.1.1)\n",
      "Requirement already satisfied: prompt-toolkit!=3.0.0,!=3.0.1,<3.1.0,>=2.0.0 in /Users/gyuhoshim/opt/anaconda3/envs/conda_env/lib/python3.6/site-packages (from ipython>=4.0.0->ipywidgets) (3.0.36)\n",
      "Requirement already satisfied: setuptools>=18.5 in /Users/gyuhoshim/opt/anaconda3/envs/conda_env/lib/python3.6/site-packages (from ipython>=4.0.0->ipywidgets) (58.0.4)\n",
      "Requirement already satisfied: appnope in /Users/gyuhoshim/opt/anaconda3/envs/conda_env/lib/python3.6/site-packages (from ipython>=4.0.0->ipywidgets) (0.1.3)\n",
      "Requirement already satisfied: jedi<=0.17.2,>=0.10 in /Users/gyuhoshim/opt/anaconda3/envs/conda_env/lib/python3.6/site-packages (from ipython>=4.0.0->ipywidgets) (0.17.2)\n",
      "Requirement already satisfied: six in /Users/gyuhoshim/opt/anaconda3/envs/conda_env/lib/python3.6/site-packages (from traitlets>=4.3.1->ipywidgets) (1.16.0)\n",
      "Requirement already satisfied: notebook>=4.4.1 in /Users/gyuhoshim/opt/anaconda3/envs/conda_env/lib/python3.6/site-packages (from widgetsnbextension~=3.6.6->ipywidgets) (6.1.6)\n",
      "Collecting parso<0.8.0,>=0.7.0\n",
      "  Using cached parso-0.7.1-py2.py3-none-any.whl (109 kB)\n",
      "Requirement already satisfied: nbformat in /Users/gyuhoshim/opt/anaconda3/envs/conda_env/lib/python3.6/site-packages (from notebook>=4.4.1->widgetsnbextension~=3.6.6->ipywidgets) (5.1.3)\n",
      "Requirement already satisfied: ipykernel in /Users/gyuhoshim/opt/anaconda3/envs/conda_env/lib/python3.6/site-packages (from notebook>=4.4.1->widgetsnbextension~=3.6.6->ipywidgets) (5.5.6)\n",
      "Requirement already satisfied: jupyter-client>=5.3.4 in /Users/gyuhoshim/opt/anaconda3/envs/conda_env/lib/python3.6/site-packages (from notebook>=4.4.1->widgetsnbextension~=3.6.6->ipywidgets) (7.1.2)\n",
      "Requirement already satisfied: pyzmq>=17 in /Users/gyuhoshim/opt/anaconda3/envs/conda_env/lib/python3.6/site-packages (from notebook>=4.4.1->widgetsnbextension~=3.6.6->ipywidgets) (25.1.1)\n",
      "Requirement already satisfied: tornado>=5.0 in /Users/gyuhoshim/opt/anaconda3/envs/conda_env/lib/python3.6/site-packages (from notebook>=4.4.1->widgetsnbextension~=3.6.6->ipywidgets) (6.1)\n",
      "Requirement already satisfied: argon2-cffi in /Users/gyuhoshim/opt/anaconda3/envs/conda_env/lib/python3.6/site-packages (from notebook>=4.4.1->widgetsnbextension~=3.6.6->ipywidgets) (21.3.0)\n",
      "Requirement already satisfied: jupyter-core>=4.6.1 in /Users/gyuhoshim/opt/anaconda3/envs/conda_env/lib/python3.6/site-packages (from notebook>=4.4.1->widgetsnbextension~=3.6.6->ipywidgets) (4.9.2)\n",
      "Requirement already satisfied: terminado>=0.8.3 in /Users/gyuhoshim/opt/anaconda3/envs/conda_env/lib/python3.6/site-packages (from notebook>=4.4.1->widgetsnbextension~=3.6.6->ipywidgets) (0.12.1)\n",
      "Requirement already satisfied: jinja2 in /Users/gyuhoshim/opt/anaconda3/envs/conda_env/lib/python3.6/site-packages (from notebook>=4.4.1->widgetsnbextension~=3.6.6->ipywidgets) (3.0.3)\n",
      "Requirement already satisfied: Send2Trash in /Users/gyuhoshim/opt/anaconda3/envs/conda_env/lib/python3.6/site-packages (from notebook>=4.4.1->widgetsnbextension~=3.6.6->ipywidgets) (1.8.2)\n",
      "Requirement already satisfied: prometheus-client in /Users/gyuhoshim/opt/anaconda3/envs/conda_env/lib/python3.6/site-packages (from notebook>=4.4.1->widgetsnbextension~=3.6.6->ipywidgets) (0.17.1)\n",
      "Requirement already satisfied: nbconvert in /Users/gyuhoshim/opt/anaconda3/envs/conda_env/lib/python3.6/site-packages (from notebook>=4.4.1->widgetsnbextension~=3.6.6->ipywidgets) (6.0.7)\n",
      "Requirement already satisfied: wcwidth in /Users/gyuhoshim/opt/anaconda3/envs/conda_env/lib/python3.6/site-packages (from prompt-toolkit!=3.0.0,!=3.0.1,<3.1.0,>=2.0.0->ipython>=4.0.0->ipywidgets) (0.2.8)\n",
      "Requirement already satisfied: ptyprocess>=0.5 in /Users/gyuhoshim/opt/anaconda3/envs/conda_env/lib/python3.6/site-packages (from pexpect->ipython>=4.0.0->ipywidgets) (0.7.0)\n",
      "Requirement already satisfied: python-dateutil>=2.1 in /Users/gyuhoshim/opt/anaconda3/envs/conda_env/lib/python3.6/site-packages (from jupyter-client>=5.3.4->notebook>=4.4.1->widgetsnbextension~=3.6.6->ipywidgets) (2.8.2)\n",
      "Requirement already satisfied: entrypoints in /Users/gyuhoshim/opt/anaconda3/envs/conda_env/lib/python3.6/site-packages (from jupyter-client>=5.3.4->notebook>=4.4.1->widgetsnbextension~=3.6.6->ipywidgets) (0.4)\n",
      "Requirement already satisfied: nest-asyncio>=1.5 in /Users/gyuhoshim/opt/anaconda3/envs/conda_env/lib/python3.6/site-packages (from jupyter-client>=5.3.4->notebook>=4.4.1->widgetsnbextension~=3.6.6->ipywidgets) (1.5.8)\n",
      "Requirement already satisfied: argon2-cffi-bindings in /Users/gyuhoshim/opt/anaconda3/envs/conda_env/lib/python3.6/site-packages (from argon2-cffi->notebook>=4.4.1->widgetsnbextension~=3.6.6->ipywidgets) (21.2.0)\n",
      "Requirement already satisfied: dataclasses in /Users/gyuhoshim/opt/anaconda3/envs/conda_env/lib/python3.6/site-packages (from argon2-cffi->notebook>=4.4.1->widgetsnbextension~=3.6.6->ipywidgets) (0.8)\n",
      "Requirement already satisfied: typing-extensions in /Users/gyuhoshim/opt/anaconda3/envs/conda_env/lib/python3.6/site-packages (from argon2-cffi->notebook>=4.4.1->widgetsnbextension~=3.6.6->ipywidgets) (4.1.1)\n",
      "Requirement already satisfied: MarkupSafe>=2.0 in /Users/gyuhoshim/opt/anaconda3/envs/conda_env/lib/python3.6/site-packages (from jinja2->notebook>=4.4.1->widgetsnbextension~=3.6.6->ipywidgets) (2.0.1)\n",
      "Requirement already satisfied: nbclient<0.6.0,>=0.5.0 in /Users/gyuhoshim/opt/anaconda3/envs/conda_env/lib/python3.6/site-packages (from nbconvert->notebook>=4.4.1->widgetsnbextension~=3.6.6->ipywidgets) (0.5.9)\n",
      "Requirement already satisfied: mistune<2,>=0.8.1 in /Users/gyuhoshim/opt/anaconda3/envs/conda_env/lib/python3.6/site-packages (from nbconvert->notebook>=4.4.1->widgetsnbextension~=3.6.6->ipywidgets) (0.8.4)\n",
      "Requirement already satisfied: bleach in /Users/gyuhoshim/opt/anaconda3/envs/conda_env/lib/python3.6/site-packages (from nbconvert->notebook>=4.4.1->widgetsnbextension~=3.6.6->ipywidgets) (4.1.0)\n",
      "Requirement already satisfied: jupyterlab-pygments in /Users/gyuhoshim/opt/anaconda3/envs/conda_env/lib/python3.6/site-packages (from nbconvert->notebook>=4.4.1->widgetsnbextension~=3.6.6->ipywidgets) (0.1.2)\n",
      "Requirement already satisfied: testpath in /Users/gyuhoshim/opt/anaconda3/envs/conda_env/lib/python3.6/site-packages (from nbconvert->notebook>=4.4.1->widgetsnbextension~=3.6.6->ipywidgets) (0.6.0)\n",
      "Requirement already satisfied: pandocfilters>=1.4.1 in /Users/gyuhoshim/opt/anaconda3/envs/conda_env/lib/python3.6/site-packages (from nbconvert->notebook>=4.4.1->widgetsnbextension~=3.6.6->ipywidgets) (1.5.0)\n",
      "Requirement already satisfied: defusedxml in /Users/gyuhoshim/opt/anaconda3/envs/conda_env/lib/python3.6/site-packages (from nbconvert->notebook>=4.4.1->widgetsnbextension~=3.6.6->ipywidgets) (0.7.1)\n",
      "Requirement already satisfied: jsonschema!=2.5.0,>=2.4 in /Users/gyuhoshim/opt/anaconda3/envs/conda_env/lib/python3.6/site-packages (from nbformat->notebook>=4.4.1->widgetsnbextension~=3.6.6->ipywidgets) (3.2.0)\n",
      "Requirement already satisfied: importlib-metadata in /Users/gyuhoshim/opt/anaconda3/envs/conda_env/lib/python3.6/site-packages (from jsonschema!=2.5.0,>=2.4->nbformat->notebook>=4.4.1->widgetsnbextension~=3.6.6->ipywidgets) (4.8.3)\n",
      "Requirement already satisfied: pyrsistent>=0.14.0 in /Users/gyuhoshim/opt/anaconda3/envs/conda_env/lib/python3.6/site-packages (from jsonschema!=2.5.0,>=2.4->nbformat->notebook>=4.4.1->widgetsnbextension~=3.6.6->ipywidgets) (0.18.0)\n",
      "Requirement already satisfied: attrs>=17.4.0 in /Users/gyuhoshim/opt/anaconda3/envs/conda_env/lib/python3.6/site-packages (from jsonschema!=2.5.0,>=2.4->nbformat->notebook>=4.4.1->widgetsnbextension~=3.6.6->ipywidgets) (22.2.0)\n",
      "Requirement already satisfied: async-generator in /Users/gyuhoshim/opt/anaconda3/envs/conda_env/lib/python3.6/site-packages (from nbclient<0.6.0,>=0.5.0->nbconvert->notebook>=4.4.1->widgetsnbextension~=3.6.6->ipywidgets) (1.10)\n",
      "Requirement already satisfied: cffi>=1.0.1 in /Users/gyuhoshim/opt/anaconda3/envs/conda_env/lib/python3.6/site-packages (from argon2-cffi-bindings->argon2-cffi->notebook>=4.4.1->widgetsnbextension~=3.6.6->ipywidgets) (1.15.1)\n",
      "Requirement already satisfied: packaging in /Users/gyuhoshim/opt/anaconda3/envs/conda_env/lib/python3.6/site-packages (from bleach->nbconvert->notebook>=4.4.1->widgetsnbextension~=3.6.6->ipywidgets) (21.3)\n",
      "Requirement already satisfied: webencodings in /Users/gyuhoshim/opt/anaconda3/envs/conda_env/lib/python3.6/site-packages (from bleach->nbconvert->notebook>=4.4.1->widgetsnbextension~=3.6.6->ipywidgets) (0.5.1)\n",
      "Requirement already satisfied: pycparser in /Users/gyuhoshim/opt/anaconda3/envs/conda_env/lib/python3.6/site-packages (from cffi>=1.0.1->argon2-cffi-bindings->argon2-cffi->notebook>=4.4.1->widgetsnbextension~=3.6.6->ipywidgets) (2.21)\n",
      "Requirement already satisfied: zipp>=0.5 in /Users/gyuhoshim/opt/anaconda3/envs/conda_env/lib/python3.6/site-packages (from importlib-metadata->jsonschema!=2.5.0,>=2.4->nbformat->notebook>=4.4.1->widgetsnbextension~=3.6.6->ipywidgets) (3.6.0)\n",
      "Requirement already satisfied: pyparsing!=3.0.5,>=2.0.2 in /Users/gyuhoshim/opt/anaconda3/envs/conda_env/lib/python3.6/site-packages (from packaging->bleach->nbconvert->notebook>=4.4.1->widgetsnbextension~=3.6.6->ipywidgets) (2.1.0)\n",
      "Installing collected packages: parso, widgetsnbextension, jupyterlab-widgets, comm, ipywidgets\n",
      "  Attempting uninstall: parso\n",
      "    Found existing installation: parso 0.8.3\n",
      "    Uninstalling parso-0.8.3:\n",
      "      Successfully uninstalled parso-0.8.3\n",
      "Successfully installed comm-0.1.4 ipywidgets-7.8.1 jupyterlab-widgets-1.1.7 parso-0.7.1 widgetsnbextension-3.6.6\n"
     ]
    }
   ],
   "source": [
    "!pip install --upgrade ipywidgets"
   ]
  },
  {
   "cell_type": "code",
   "execution_count": 1,
   "metadata": {
    "colab": {
     "base_uri": "https://localhost:8080/"
    },
    "id": "hNXQ4U_w1dry",
    "outputId": "d42672eb-238e-4427-8067-188f6f1b26ee"
   },
   "outputs": [
    {
     "data": {
      "application/vnd.jupyter.widget-view+json": {
       "model_id": "242a615909954f64a77133f37af1af20",
       "version_major": 2,
       "version_minor": 0
      },
      "text/plain": [
       "HBox(children=(IntProgress(value=0, description='Downloading', max=791656, style=ProgressStyle(description_wid…"
      ]
     },
     "metadata": {},
     "output_type": "display_data"
    },
    {
     "name": "stdout",
     "output_type": "stream",
     "text": [
      "\n"
     ]
    },
    {
     "data": {
      "application/vnd.jupyter.widget-view+json": {
       "model_id": "5977d32054b3490fac4ccdd310344168",
       "version_major": 2,
       "version_minor": 0
      },
      "text/plain": [
       "HBox(children=(IntProgress(value=0, description='Downloading', max=2201, style=ProgressStyle(description_width…"
      ]
     },
     "metadata": {},
     "output_type": "display_data"
    },
    {
     "name": "stdout",
     "output_type": "stream",
     "text": [
      "\n"
     ]
    },
    {
     "data": {
      "application/vnd.jupyter.widget-view+json": {
       "model_id": "8f2d223f08dd4c669eaea67f1b56c2ad",
       "version_major": 2,
       "version_minor": 0
      },
      "text/plain": [
       "HBox(children=(IntProgress(value=0, description='Downloading', max=2537, style=ProgressStyle(description_width…"
      ]
     },
     "metadata": {},
     "output_type": "display_data"
    },
    {
     "name": "stdout",
     "output_type": "stream",
     "text": [
      "\n"
     ]
    },
    {
     "data": {
      "application/vnd.jupyter.widget-view+json": {
       "model_id": "fa3de88b04da4369b7c918d4a59eaad3",
       "version_major": 2,
       "version_minor": 0
      },
      "text/plain": [
       "HBox(children=(IntProgress(value=0, description='Downloading', max=2424064, style=ProgressStyle(description_wi…"
      ]
     },
     "metadata": {},
     "output_type": "display_data"
    },
    {
     "name": "stdout",
     "output_type": "stream",
     "text": [
      "\n"
     ]
    },
    {
     "data": {
      "application/vnd.jupyter.widget-view+json": {
       "model_id": "a12f52279f004666b0ce53dce2508e57",
       "version_major": 2,
       "version_minor": 0
      },
      "text/plain": [
       "HBox(children=(IntProgress(value=0, description='Downloading', max=1404, style=ProgressStyle(description_width…"
      ]
     },
     "metadata": {},
     "output_type": "display_data"
    },
    {
     "name": "stdout",
     "output_type": "stream",
     "text": [
      "\n"
     ]
    },
    {
     "data": {
      "application/vnd.jupyter.widget-view+json": {
       "model_id": "952561c21bd049fd9b4e43b13d6d59bb",
       "version_major": 2,
       "version_minor": 0
      },
      "text/plain": [
       "HBox(children=(IntProgress(value=0, description='Downloading', max=990402637, style=ProgressStyle(description_…"
      ]
     },
     "metadata": {},
     "output_type": "display_data"
    },
    {
     "name": "stdout",
     "output_type": "stream",
     "text": [
      "\n",
      "   Law of Conservation of Energy kinetic energy potential energy\n",
      "0                     Acceptable      Not Found        Not Found\n",
      "1                      Not Found      Not Found        Not Found\n",
      "2                     Acceptable   Insufficient     Insufficient\n",
      "3                   Insufficient   Insufficient     Insufficient\n",
      "4                     Acceptable   Insufficient     Insufficient\n",
      "5                      Not Found   Insufficient     Insufficient\n",
      "6                     Acceptable      Not Found        Not Found\n",
      "7                      Not Found   Insufficient     Insufficient\n",
      "8                      Not Found      Not Found     Insufficient\n",
      "9                     Acceptable      Not Found     Insufficient\n",
      "10                     Not Found   Insufficient     Insufficient\n",
      "11                     Not Found      Not Found        Not Found\n",
      "12                     Not Found   Insufficient     Insufficient\n",
      "13                    Acceptable   Insufficient     Insufficient\n",
      "14                    Acceptable   Insufficient     Insufficient\n",
      "15                     Not Found      Not Found        Not Found\n",
      "16                    Acceptable      Not Found        Not Found\n",
      "17                     Not Found      Not Found        Not Found\n",
      "18                    Acceptable   Insufficient        Not Found\n",
      "19                    Acceptable      Not Found        Not Found\n",
      "20                    Acceptable      Not Found        Not Found\n",
      "21                    Acceptable   Insufficient     Insufficient\n",
      "22                    Acceptable   Insufficient     Insufficient\n",
      "23                    Acceptable      Not Found        Not Found\n",
      "24                     Not Found   Insufficient     Insufficient\n",
      "25                     Not Found      Not Found     Insufficient\n",
      "26                  Insufficient   Insufficient     Insufficient\n",
      "27                    Acceptable   Insufficient     Insufficient\n",
      "28                    Acceptable   Insufficient     Insufficient\n",
      "29                    Acceptable   Insufficient     Insufficient\n",
      "30                    Acceptable   Insufficient     Insufficient\n",
      "31                    Acceptable      Not Found        Not Found\n",
      "32                    Acceptable   Insufficient     Insufficient\n",
      "33                    Acceptable      Not Found       Acceptable\n",
      "34                  Insufficient   Insufficient     Insufficient\n",
      "35                     Not Found      Not Found        Not Found\n",
      "36                  Insufficient   Insufficient     Insufficient\n",
      "37                    Acceptable   Insufficient     Insufficient\n",
      "38                  Insufficient   Insufficient     Insufficient\n",
      "39                    Acceptable      Not Found        Not Found\n",
      "40                    Acceptable      Not Found     Insufficient\n",
      "41                    Acceptable      Not Found        Not Found\n",
      "42                    Acceptable      Not Found        Not Found\n",
      "43                    Acceptable      Not Found     Insufficient\n",
      "44                     Not Found      Not Found     Insufficient\n",
      "45                    Acceptable      Not Found     Insufficient\n",
      "46                    Acceptable      Not Found     Insufficient\n",
      "47                     Not Found   Insufficient     Insufficient\n",
      "48                    Acceptable   Insufficient     Insufficient\n",
      "49                    Acceptable      Not Found        Not Found\n",
      "50                    Acceptable   Insufficient     Insufficient\n",
      "51                     Not Found   Insufficient     Insufficient\n",
      "52                    Acceptable      Not Found     Insufficient\n",
      "53                    Acceptable      Not Found     Insufficient\n",
      "54                    Acceptable      Not Found        Not Found\n",
      "55                    Acceptable   Insufficient     Insufficient\n",
      "56                    Acceptable   Insufficient     Insufficient\n",
      "57                    Acceptable   Insufficient       Acceptable\n",
      "58                    Acceptable   Insufficient     Insufficient\n",
      "59                    Acceptable      Not Found        Not Found\n",
      "60                    Acceptable   Insufficient     Insufficient\n",
      "61                     Not Found      Not Found        Not Found\n",
      "62                     Not Found      Not Found     Insufficient\n",
      "63                    Acceptable      Not Found        Not Found\n",
      "64                    Acceptable   Insufficient     Insufficient\n",
      "65                  Insufficient   Insufficient     Insufficient\n",
      "66                    Acceptable   Insufficient     Insufficient\n",
      "67                    Acceptable   Insufficient     Insufficient\n",
      "68                    Acceptable      Not Found     Insufficient\n",
      "69                  Insufficient   Insufficient     Insufficient\n",
      "70                    Acceptable   Insufficient     Insufficient\n",
      "71                  Insufficient   Insufficient     Insufficient\n",
      "72                  Insufficient   Insufficient     Insufficient\n",
      "73                    Acceptable   Insufficient     Insufficient\n",
      "74                    Acceptable      Not Found     Insufficient\n",
      "75                     Not Found      Not Found     Insufficient\n"
     ]
    }
   ],
   "source": [
    "import pandas as pd\n",
    "from transformers import T5Tokenizer\n",
    "from transformers import T5ForConditionalGeneration\n",
    "import torch\n",
    "\n",
    "# Load data into pandas DataFrame\n",
    "data_df = pd.read_excel(\"StudentEssays.xlsx\")\n",
    "\n",
    "# Initialize T5 tokenizer and model\n",
    "tokenizer = T5Tokenizer.from_pretrained(\"google/flan-t5-base\")\n",
    "model = T5ForConditionalGeneration.from_pretrained(\"google/flan-t5-base\")\n",
    "\n",
    "# Move the model to the CUDA device if available\n",
    "if torch.cuda.is_available():\n",
    "    model.to(\"cuda\")\n",
    "\n",
    "# Define a list of concepts to predict\n",
    "concepts_to_predict = [\"potential energy\", \"kinetic energy\", \"Law of Conservation of Energy\"]\n",
    "\n",
    "# Define possible outcome labels\n",
    "outcome_labels = [\"Acceptable\", \"Unacceptable\", \"Insufficient\", \"Not Found\"]\n",
    "\n",
    "# Create a list to store predictions as dictionaries\n",
    "predictions_list = []\n",
    "\n",
    "# Iterate through each row of text data\n",
    "for index, row in data_df.iterrows():\n",
    "    text = row['Essay']  # Assuming the text content is in column 'Essay'\n",
    "\n",
    "    # Initialize predictions dictionary for this row\n",
    "    predictions = {}\n",
    "\n",
    "    # Iterate through each concept to predict\n",
    "    for concept in concepts_to_predict:\n",
    "        # Define a template for classification\n",
    "        template = f\"According to the following essay, is the student's definition of {concept} Acceptable, Unacceptable, Insufficient, or Not Found? Only use one of these labels for outputs\\n{text}\"\n",
    "        # Prepare the input by replacing placeholders\n",
    "        formatted_input = template\n",
    "        # Tokenize and classify the text\n",
    "        input_ids = tokenizer(formatted_input, return_tensors=\"pt\", padding=True, truncation=True).input_ids.to(\"cuda\" if torch.cuda.is_available() else \"cpu\")\n",
    "        outputs = model.generate(input_ids, max_length=128)\n",
    "        decoded_output = tokenizer.decode(outputs[0], skip_special_tokens=True)  # Remove special tokens\n",
    "\n",
    "        # Store the prediction in the dictionary\n",
    "        predictions[concept] = next((label for label in outcome_labels if label.lower() in decoded_output.lower()), \"Unknown\")\n",
    "\n",
    "        if predictions[concept] == \"Unknown\":\n",
    "          print(len(decoded_output))\n",
    "          with open('output.txt', 'w') as f:\n",
    "            f.write(decoded_output)\n",
    "\n",
    "    # Append the predictions to the list\n",
    "    predictions_list.append(predictions)\n",
    "\n",
    "# Convert the list of dictionaries to a DataFrame\n",
    "predictions_df = pd.DataFrame(predictions_list)\n",
    "\n",
    "# # Print the predictions\n",
    "# print(predictions_df)\n",
    "# Set options to display all rows and columns\n",
    "pd.set_option('display.max_rows', None)\n",
    "pd.set_option('display.max_columns', None)\n",
    "\n",
    "# Print the predictions\n",
    "print(predictions_df)"
   ]
  },
  {
   "cell_type": "code",
   "execution_count": 9,
   "metadata": {
    "id": "0UnxI34BZK4b"
   },
   "outputs": [
    {
     "name": "stdout",
     "output_type": "stream",
     "text": [
      "Name: transformers\n",
      "Version: 3.0.2\n",
      "Summary: State-of-the-art Natural Language Processing for TensorFlow 2.0 and PyTorch\n",
      "Home-page: https://github.com/huggingface/transformers\n",
      "Author: Thomas Wolf, Lysandre Debut, Victor Sanh, Julien Chaumond, Sam Shleifer, Patrick von Platen, Google AI Language Team Authors, Open AI team Authors, Facebook AI Authors, Carnegie Mellon University Authors\n",
      "Author-email: thomas@huggingface.co\n",
      "License: Apache\n",
      "Location: /Users/gyuhoshim/opt/anaconda3/envs/conda_env/lib/python3.6/site-packages\n",
      "Requires: dataclasses, filelock, numpy, packaging, regex, requests, sacremoses, sentencepiece, tokenizers, tqdm\n",
      "Required-by: \n",
      "Note: you may need to restart the kernel to use updated packages.\n"
     ]
    }
   ],
   "source": [
    "pip show transformers"
   ]
  },
  {
   "cell_type": "code",
   "execution_count": 10,
   "metadata": {},
   "outputs": [
    {
     "name": "stdout",
     "output_type": "stream",
     "text": [
      "__init__.py\n",
      "__main__.py\n",
      "\u001b[34m__pycache__\u001b[m\u001b[m/\n",
      "activations.py\n",
      "another_try.py\n",
      "\u001b[34mbenchmark\u001b[m\u001b[m/\n",
      "benchmark_utils.py\n",
      "\u001b[34mcommands\u001b[m\u001b[m/\n",
      "configuration_albert.py\n",
      "configuration_auto.py\n",
      "configuration_bart.py\n",
      "configuration_bert.py\n",
      "configuration_camembert.py\n",
      "configuration_ctrl.py\n",
      "configuration_distilbert.py\n",
      "configuration_electra.py\n",
      "configuration_encoder_decoder.py\n",
      "configuration_flaubert.py\n",
      "configuration_gpt2.py\n",
      "configuration_longformer.py\n",
      "configuration_marian.py\n",
      "configuration_mmbt.py\n",
      "configuration_mobilebert.py\n",
      "configuration_openai.py\n",
      "configuration_reformer.py\n",
      "configuration_retribert.py\n",
      "configuration_roberta.py\n",
      "configuration_t5.py\n",
      "configuration_transfo_xl.py\n",
      "configuration_utils.py\n",
      "configuration_xlm.py\n",
      "configuration_xlm_roberta.py\n",
      "configuration_xlnet.py\n",
      "convert_albert_original_tf_checkpoint_to_pytorch.py\n",
      "convert_bart_original_pytorch_checkpoint_to_pytorch.py\n",
      "convert_bert_original_tf_checkpoint_to_pytorch.py\n",
      "convert_bert_pytorch_checkpoint_to_original_tf.py\n",
      "convert_dialogpt_original_pytorch_checkpoint_to_pytorch.py\n",
      "convert_electra_original_tf_checkpoint_to_pytorch.py\n",
      "convert_gpt2_original_tf_checkpoint_to_pytorch.py\n",
      "convert_graph_to_onnx.py\n",
      "convert_longformer_original_pytorch_lightning_to_pytorch.py\n",
      "convert_marian_to_pytorch.py\n",
      "convert_mobilebert_original_tf_checkpoint_to_pytorch.py\n",
      "convert_openai_original_tf_checkpoint_to_pytorch.py\n",
      "convert_pytorch_checkpoint_to_tf2.py\n",
      "convert_reformer_trax_checkpoint_to_pytorch.py\n",
      "convert_roberta_original_pytorch_checkpoint_to_pytorch.py\n",
      "convert_t5_original_tf_checkpoint_to_pytorch.py\n",
      "convert_transfo_xl_original_tf_checkpoint_to_pytorch.py\n",
      "convert_xlm_original_pytorch_checkpoint_to_pytorch.py\n",
      "convert_xlnet_original_tf_checkpoint_to_pytorch.py\n",
      "\u001b[34mdata\u001b[m\u001b[m/\n",
      "file.py\n",
      "file_utils.py\n",
      "filep.py\n",
      "generation_tf_utils.py\n",
      "generation_utils.py\n",
      "hf_api.py\n",
      "hf_argparser.py\n",
      "modelcard.py\n",
      "modeling_albert.py\n",
      "modeling_auto.py\n",
      "modeling_bart.py\n",
      "modeling_beam_search.py\n",
      "modeling_bert.py\n",
      "modeling_camembert.py\n",
      "modeling_ctrl.py\n",
      "modeling_distilbert.py\n",
      "modeling_electra.py\n",
      "modeling_encoder_decoder.py\n",
      "modeling_flaubert.py\n",
      "modeling_gpt2.py\n",
      "modeling_longformer.py\n",
      "modeling_marian.py\n",
      "modeling_mmbt.py\n",
      "modeling_mobilebert.py\n",
      "modeling_openai.py\n",
      "modeling_reformer.py\n",
      "modeling_retribert.py\n",
      "modeling_roberta.py\n",
      "modeling_t5.py\n",
      "modeling_tf_albert.py\n",
      "modeling_tf_auto.py\n",
      "modeling_tf_bert.py\n",
      "modeling_tf_camembert.py\n",
      "modeling_tf_ctrl.py\n",
      "modeling_tf_distilbert.py\n",
      "modeling_tf_electra.py\n",
      "modeling_tf_flaubert.py\n",
      "modeling_tf_gpt2.py\n",
      "modeling_tf_mobilebert.py\n",
      "modeling_tf_openai.py\n",
      "modeling_tf_pytorch_utils.py\n",
      "modeling_tf_roberta.py\n",
      "modeling_tf_t5.py\n",
      "modeling_tf_transfo_xl.py\n",
      "modeling_tf_transfo_xl_utilities.py\n",
      "modeling_tf_utils.py\n",
      "modeling_tf_xlm.py\n",
      "modeling_tf_xlm_roberta.py\n",
      "modeling_tf_xlnet.py\n",
      "modeling_transfo_xl.py\n",
      "modeling_transfo_xl_utilities.py\n",
      "modeling_utils.py\n",
      "modeling_xlm.py\n",
      "modeling_xlm_roberta.py\n",
      "modeling_xlnet.py\n",
      "optimization.py\n",
      "optimization_tf.py\n",
      "pipelines.py\n",
      "testing_utils.py\n",
      "tokenization_albert.py\n",
      "tokenization_auto.py\n",
      "tokenization_bart.py\n",
      "tokenization_bert.py\n",
      "tokenization_bert_japanese.py\n",
      "tokenization_camembert.py\n",
      "tokenization_ctrl.py\n",
      "tokenization_distilbert.py\n",
      "tokenization_electra.py\n",
      "tokenization_flaubert.py\n",
      "tokenization_gpt2.py\n",
      "tokenization_longformer.py\n",
      "tokenization_marian.py\n",
      "tokenization_mobilebert.py\n",
      "tokenization_openai.py\n",
      "tokenization_reformer.py\n",
      "tokenization_retribert.py\n",
      "tokenization_roberta.py\n",
      "tokenization_t5.py\n",
      "tokenization_transfo_xl.py\n",
      "tokenization_utils.py\n",
      "tokenization_utils_base.py\n",
      "tokenization_utils_fast.py\n",
      "tokenization_xlm.py\n",
      "tokenization_xlm_roberta.py\n",
      "tokenization_xlnet.py\n",
      "trainer.py\n",
      "trainer_tf.py\n",
      "trainer_utils.py\n",
      "training_args.py\n",
      "training_args_tf.py\n",
      "try.py\n",
      "utils_encoder_decoder.py\n"
     ]
    }
   ],
   "source": [
    "ls /Users/gyuhoshim/opt/anaconda3/envs/conda_env/lib/python3.6/site-packages/transformers"
   ]
  },
  {
   "cell_type": "code",
   "execution_count": 5,
   "metadata": {
    "id": "ch7HBAWb9sh6"
   },
   "outputs": [],
   "source": [
    "# Update the original DataFrame with the predictions\n",
    "data_df[\"PE\"] = predictions_df[\"potential energy\"]\n",
    "data_df[\"KE\"] = predictions_df[\"kinetic energy\"]\n",
    "data_df[\"LCE\"] = predictions_df[\"Law of Conservation of Energy\"]\n",
    "\n",
    "# Save the modified DataFrame to the same Excel file, overwriting the original file\n",
    "data_df.to_excel(\"Result.xlsx\", index=False)"
   ]
  }
 ],
 "metadata": {
  "accelerator": "GPU",
  "colab": {
   "gpuType": "T4",
   "machine_shape": "hm",
   "provenance": []
  },
  "kernelspec": {
   "display_name": "Python 3",
   "language": "python",
   "name": "python3"
  },
  "language_info": {
   "codemirror_mode": {
    "name": "ipython",
    "version": 3
   },
   "file_extension": ".py",
   "mimetype": "text/x-python",
   "name": "python",
   "nbconvert_exporter": "python",
   "pygments_lexer": "ipython3",
   "version": "3.6.13"
  }
 },
 "nbformat": 4,
 "nbformat_minor": 4
}
