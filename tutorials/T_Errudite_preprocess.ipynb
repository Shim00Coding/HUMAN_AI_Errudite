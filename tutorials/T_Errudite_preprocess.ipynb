{
 "cells": [
  {
   "cell_type": "code",
   "execution_count": 1,
   "id": "80759359",
   "metadata": {},
   "outputs": [],
   "source": [
    "%load_ext autoreload\n",
    "%autoreload 2\n",
    "\n",
    "import warnings\n",
    "warnings.filterwarnings('ignore')\n",
    "\n",
    "def import_sys():\n",
    "    import sys\n",
    "    sys.path.append('..')\n",
    "import_sys()\n",
    "\n",
    "import logging\n",
    "logging.basicConfig(level=logging.INFO)\n",
    "logger = logging.getLogger(__name__)  # pylint: disable=invalid-name"
   ]
  },
  {
   "cell_type": "code",
   "execution_count": 2,
   "id": "69932818",
   "metadata": {},
   "outputs": [
    {
     "name": "stdout",
     "output_type": "stream",
     "text": [
      "<module 'errudite' from '/Users/gyuhoshim/errudite/errudite/__init__.py'>\n"
     ]
    }
   ],
   "source": [
    "import errudite\n",
    "print(errudite)"
   ]
  },
  {
   "cell_type": "code",
   "execution_count": 3,
   "id": "353e0ae0",
   "metadata": {},
   "outputs": [
    {
     "name": "stderr",
     "output_type": "stream",
     "text": [
      "WARNING:errudite.utils.file_utils:Local path not yet exist, but still parsed: /Users/gyuhoshim/errudite/tutorials/caches/vocab.pkl\n",
      "WARNING:errudite.processor.spacy_annotator:(2, 'No such file or directory')\n"
     ]
    }
   ],
   "source": [
    "import pandas as pd\n",
    "from tqdm import tqdm\n",
    "\n",
    "from overrides import overrides\n",
    "\n",
    "from errudite.io import DatasetReader\n",
    "from errudite.utils import normalize_file_path, accuracy_score\n",
    "from errudite.targets.instance import Instance\n",
    "from errudite.targets.target import Target\n",
    "from errudite.targets.label import Label, PredefinedLabel"
   ]
  },
  {
   "cell_type": "code",
   "execution_count": 4,
   "id": "cdda7d9f",
   "metadata": {},
   "outputs": [],
   "source": [
    "# !pip install transformers==4.3.0"
   ]
  },
  {
   "cell_type": "code",
   "execution_count": 5,
   "id": "09095e98",
   "metadata": {},
   "outputs": [],
   "source": [
    "# !pip install sentencepiece"
   ]
  },
  {
   "cell_type": "code",
   "execution_count": 6,
   "id": "52fa15fe",
   "metadata": {},
   "outputs": [],
   "source": [
    "# !pip install accelerate"
   ]
  },
  {
   "cell_type": "code",
   "execution_count": 7,
   "id": "59310ba9",
   "metadata": {},
   "outputs": [],
   "source": [
    "# !pip install  xlrd==1.1.0"
   ]
  },
  {
   "cell_type": "code",
   "execution_count": 8,
   "id": "e954f34f",
   "metadata": {},
   "outputs": [],
   "source": [
    "# !pip install --upgrade ipywidgets"
   ]
  },
  {
   "cell_type": "code",
   "execution_count": 9,
   "id": "e00499e8",
   "metadata": {},
   "outputs": [
    {
     "name": "stderr",
     "output_type": "stream",
     "text": [
      "INFO:pytorch_pretrained_bert.modeling:Better speed can be achieved with apex installed from https://www.github.com/nvidia/apex .\n",
      "INFO:pytorch_transformers.modeling_bert:Better speed can be achieved with apex installed from https://www.github.com/nvidia/apex .\n",
      "INFO:pytorch_transformers.modeling_xlnet:Better speed can be achieved with apex installed from https://www.github.com/nvidia/apex .\n",
      "INFO:allennlp.common.registrable:instantiating registered subclass relu of <class 'allennlp.nn.activations.Activation'>\n",
      "INFO:allennlp.common.registrable:instantiating registered subclass relu of <class 'allennlp.nn.activations.Activation'>\n",
      "INFO:allennlp.common.registrable:instantiating registered subclass relu of <class 'allennlp.nn.activations.Activation'>\n",
      "INFO:allennlp.common.registrable:instantiating registered subclass relu of <class 'allennlp.nn.activations.Activation'>\n"
     ]
    }
   ],
   "source": [
    "#Flan_T5\n",
    "\n",
    "import pandas as pd\n",
    "from transformers import T5Tokenizer, T5ForConditionalGeneration\n",
    "import torch\n",
    "from typing import List, Dict\n",
    "import sys\n",
    "sys.path.append('..')\n",
    "from errudite.predictors.predictor import Predictor\n",
    "from errudite.targets.label import Label, PredefinedLabel\n",
    "\n",
    "class Predictor_FLAN_T5(Predictor):\n",
    "    def __init__(self, name: str, \n",
    "    model_path: str=None,\n",
    "    model_online_path: str=None,\n",
    "    description: str='',\n",
    "    model_type: str=None) -> None:\n",
    "        model = None\n",
    "        Predictor.__init__(self, name, description, model, ['accuracy'])\n",
    "        \n",
    "    def predict_essay(self, essay : str) -> Dict[str,str]:\n",
    "        # Load data into pandas DataFrame\n",
    "        data_df = pd.read_excel(\"StudentEssays.xlsx\")\n",
    "\n",
    "        # Initialize T5 tokenizer and model\n",
    "        tokenizer = T5Tokenizer.from_pretrained(\"google/flan-t5-base\")\n",
    "        model = T5ForConditionalGeneration.from_pretrained(\"google/flan-t5-base\")\n",
    "\n",
    "        # Move the model to the CUDA device if available\n",
    "        if torch.cuda.is_available():\n",
    "            model.to(\"cuda\")\n",
    "\n",
    "        # Define a list of concepts to predict\n",
    "        concepts_to_predict = [\"potential energy\", \"kinetic energy\", \"Law of Conservation of Energy\"]\n",
    "\n",
    "        # Define possible outcome labels\n",
    "        outcome_labels = [\"Acceptable\", \"Unacceptable\", \"Insufficient\", \"Not Found\"]\n",
    "\n",
    "        # Create a list to store predictions as dictionaries\n",
    "        predictions_list = []\n",
    "\n",
    "        text = essay  # Assuming the text content is in column 'Essay'\n",
    "\n",
    "        # Initialize predictions dictionary for this row\n",
    "        predictions = {}\n",
    "\n",
    "        # Iterate through each concept to predict\n",
    "        for concept in concepts_to_predict:\n",
    "            # Define a template for classification\n",
    "            template = f\"According to the following essay, is the student's definition of {concept} Acceptable, Unacceptable, Insufficient, or Not Found? Only use one of these labels for outputs\\n{text}\"\n",
    "            # Prepare the input by replacing placeholders\n",
    "            formatted_input = template\n",
    "            # Tokenize and classify the text\n",
    "            input_ids = tokenizer(formatted_input, return_tensors=\"pt\", padding=True, truncation=True).input_ids.to(\"cuda\" if torch.cuda.is_available() else \"cpu\")\n",
    "            outputs = model.generate(input_ids, max_length=128)\n",
    "            decoded_output = tokenizer.decode(outputs[0], skip_special_tokens=True)  # Remove special tokens\n",
    "\n",
    "            # Store the prediction in the dictionary\n",
    "            predictions[concept] = next((label for label in outcome_labels if label.lower() in decoded_output.lower()), \"Unknown\")\n",
    "\n",
    "            if predictions[concept] == \"Unknown\":\n",
    "              print(len(decoded_output))\n",
    "              with open('output.txt', 'w') as f:\n",
    "                f.write(decoded_output)\n",
    "\n",
    "        return predictions"
   ]
  },
  {
   "cell_type": "markdown",
   "id": "b3b8aa14",
   "metadata": {},
   "source": [
    "## 1. DatasetReader"
   ]
  },
  {
   "cell_type": "code",
   "execution_count": 10,
   "id": "1c3b4373",
   "metadata": {},
   "outputs": [],
   "source": [
    "@DatasetReader.register(\"STE\")\n",
    "class STEReader(DatasetReader):\n",
    "    def __init__(self, cache_folder_path: str=None) -> None:\n",
    "        super().__init__(cache_folder_path)\n",
    "        # overwrite the primary evaluation method and metric name\n",
    "        Label.set_task_evaluator(accuracy_score, 'accuracy')\n",
    "        \n",
    "    @overrides\n",
    "    def _read(self, file_path: str, lazy: bool, sample_size: int):\n",
    "        \"\"\"\n",
    "        Returns a list containing all the instances in the specified dataset.\n",
    " \n",
    "        Parameters\n",
    "        ----------\n",
    "        file_path : str\n",
    "            The path of the input data file.\n",
    "        lazy : bool, optional\n",
    "            If ``lazy==True``, only run the tokenization, does not compute the linguistic\n",
    "            features like POS, NER. By default False\n",
    "        sample_size : int, optional\n",
    "            If sample size is set, only load this many of instances, by default None\n",
    "        \n",
    "        Returns\n",
    "        -------\n",
    "        List[Instance]\n",
    "            The instance list.\n",
    "        \"\"\"\n",
    "        instances = []\n",
    "        essays = []\n",
    "        logger.info(\"Reading instances from lines in file at: %s\", file_path)\n",
    "        df = pd.read_excel(normalize_file_path(file_path), sep='\\t')\n",
    "        for idx, row in tqdm(df.iterrows()):\n",
    "            if lazy:\n",
    "                essays.append(row['Essay'])\n",
    "            else:\n",
    "                instance = self._text_to_instance(f'q:{idx}', row)\n",
    "                if instance is not None:\n",
    "                    instances.append(instance)\n",
    "                if sample_size and idx > sample_size:\n",
    "                    break\n",
    "        if lazy:\n",
    "            return { \"Essays\": essays }\n",
    "        else:\n",
    "            return instances\n",
    "    \n",
    "    @overrides\n",
    "    def _text_to_instance(self, id: str, row) -> Instance:\n",
    "        # The function that transfers raw text to instance.\n",
    "        essay = Target(qid=row['Essay_ID'], text=row['Essay'], vid=0, metas={'type': 'essays'})        # label\n",
    "        groundtruth_PE = PredefinedLabel(\n",
    "            model='groundtruth', \n",
    "            qid=row['Essay_ID'], \n",
    "            text=row['PE'], \n",
    "            vid=0, \n",
    "        )\n",
    "        groundtruth_KE = PredefinedLabel(\n",
    "            model='groundtruth', \n",
    "            qid=row['Essay_ID'], \n",
    "            text=row['KE'], \n",
    "            vid=0, \n",
    "        )\n",
    "        groundtruth_LCE = PredefinedLabel(\n",
    "            model='groundtruth', \n",
    "            qid=row['Essay_ID'], \n",
    "            text=row['LCE'], \n",
    "            vid=0, \n",
    "        )\n",
    "        return self.create_instance(row['Essay_ID'], \n",
    "            essay=essay, \n",
    "            groundtruth_PE=groundtruth_PE,\n",
    "            groundtruth_KE=groundtruth_KE,\n",
    "            groundtruth_LCE=groundtruth_LCE)"
   ]
  },
  {
   "cell_type": "code",
   "execution_count": 11,
   "id": "4a7af428",
   "metadata": {},
   "outputs": [
    {
     "name": "stderr",
     "output_type": "stream",
     "text": [
      "INFO:errudite.utils.file_utils:Errudite cache folder selected: ./ste_caches\n"
     ]
    }
   ],
   "source": [
    "from errudite.io import DatasetReader\n",
    "\n",
    "cache_folder_path = \"./ste_caches\"\n",
    "reader = DatasetReader.by_name(\"STE\")(cache_folder_path=cache_folder_path)"
   ]
  },
  {
   "cell_type": "code",
   "execution_count": 12,
   "id": "27160fab-a5f1-4c29-bc7a-bd9b619a0784",
   "metadata": {},
   "outputs": [
    {
     "name": "stderr",
     "output_type": "stream",
     "text": [
      "INFO:errudite.io.dataset_reader:Reading instances from lines in file at: ReadyForAudit.xlsx\n",
      "INFO:__main__:Reading instances from lines in file at: ReadyForAudit.xlsx\n",
      "76it [00:02, 28.42it/s]\n"
     ]
    },
    {
     "data": {
      "text/plain": [
       "[Instance [InstanceKey(qid='L24-RCFinal proposal, L3b8-23_RCFinal proposal, & L3b8-08_RCFinal proposal', vid=0)],\n",
       " Instance [InstanceKey(qid='L3b8-21_RCFinal proposal', vid=0)],\n",
       " Instance [InstanceKey(qid='L23-RCFinal proposal, L22-RCFinal proposal, L3b8-22_RCFinal proposal, L3b8-20_RCFinal proposal, & L3b8-19_RCFinal', vid=0)],\n",
       " Instance [InstanceKey(qid='L21-RCFinal proposal & L3b8-24_RCFinal proposal', vid=0)],\n",
       " Instance [InstanceKey(qid='L3b8-17_RCFinal proposal', vid=0)],\n",
       " Instance [InstanceKey(qid='L3b8-16_RCFinal proposal & UG_ENGM-RC74', vid=0)],\n",
       " Instance [InstanceKey(qid='L3b8-15_RCFinal proposal & UG_ENGM-RC63 ', vid=0)],\n",
       " Instance [InstanceKey(qid='L3b8-14_RCFinal proposal', vid=0)],\n",
       " Instance [InstanceKey(qid='L3b8-13_RCFinal proposal', vid=0)],\n",
       " Instance [InstanceKey(qid='L3b8-11_RCFinal proposal', vid=0)],\n",
       " Instance [InstanceKey(qid='L3b8-02_RCFinal proposal & L3b7-16_RCFinal', vid=0)],\n",
       " Instance [InstanceKey(qid='L216_RCFinal Proposal  & L215_RCFinal Proposal', vid=0)],\n",
       " Instance [InstanceKey(qid='L214_RCFinal Proposal & L3b8-12_RCFinal proposal', vid=0)],\n",
       " Instance [InstanceKey(qid=' \\nL3b8-10 RC Proposal \\n', vid=0)],\n",
       " Instance [InstanceKey(qid='L3b8-09 RC Proposal  &L3b8-03_RCFinal proposal', vid=0)],\n",
       " Instance [InstanceKey(qid='L3b8-07 RC Proposal', vid=0)],\n",
       " Instance [InstanceKey(qid='L3b8-06 RC Proposal', vid=0)],\n",
       " Instance [InstanceKey(qid='L3b8-05 RC Proposal ', vid=0)],\n",
       " Instance [InstanceKey(qid='L3b8-04 RC Proposal', vid=0)],\n",
       " Instance [InstanceKey(qid='L3b8-01 RC Proposal', vid=0)],\n",
       " Instance [InstanceKey(qid='\\nL3b7-29_RCFinal proposal, L3b7-23_RCFinal, & UG_ENGM-RC76', vid=0)],\n",
       " Instance [InstanceKey(qid='\\nL3b7-24_RCFinal', vid=0)],\n",
       " Instance [InstanceKey(qid='L3b7-22_RCFinal & L3b7-23_RCFinal', vid=0)],\n",
       " Instance [InstanceKey(qid=' L3b7-21_RCFinal', vid=0)],\n",
       " Instance [InstanceKey(qid=' L3b7-20_RCFinal', vid=0)],\n",
       " Instance [InstanceKey(qid=' L3b7-19_RCFinal', vid=0)],\n",
       " Instance [InstanceKey(qid=' L3b7-17_RCFinal', vid=0)],\n",
       " Instance [InstanceKey(qid='\\nL3b7-10_RCFinal & L3b5-22_RCFinal', vid=0)],\n",
       " Instance [InstanceKey(qid='L3b5-21_RCFinal', vid=0)],\n",
       " Instance [InstanceKey(qid='UG_ENGM-RC79', vid=0)],\n",
       " Instance [InstanceKey(qid='UG_ENGM-RC84', vid=0)],\n",
       " Instance [InstanceKey(qid='UG_ENGM-RC89', vid=0)],\n",
       " Instance [InstanceKey(qid='UG_ENGM-RC93', vid=0)],\n",
       " Instance [InstanceKey(qid='L1c3-12_RC', vid=0)],\n",
       " Instance [InstanceKey(qid='L1c2-13_RC', vid=0)],\n",
       " Instance [InstanceKey(qid='L1c3-02_RC & L3b5-17_RC', vid=0)],\n",
       " Instance [InstanceKey(qid='L1c3-20_RC', vid=0)],\n",
       " Instance [InstanceKey(qid='L3b8-10_RCFinal Proposal', vid=0)],\n",
       " Instance [InstanceKey(qid='L3b8-09_RCFinal proposal', vid=0)],\n",
       " Instance [InstanceKey(qid='L3b8-07_RCFinal proposal', vid=0)],\n",
       " Instance [InstanceKey(qid='L3b8-06_RCFinal proposal', vid=0)],\n",
       " Instance [InstanceKey(qid='L3b8-05_RCFinal proposal', vid=0)],\n",
       " Instance [InstanceKey(qid='L3b8-04_RCFinal proposal', vid=0)],\n",
       " Instance [InstanceKey(qid='L3b8-01_RCFinal proposal', vid=0)],\n",
       " Instance [InstanceKey(qid='L3b7-15_RCFinal proposal/L3b7-25_RCFinal proposal', vid=0)],\n",
       " Instance [InstanceKey(qid='L3b7-11_RCFinal proposal/L3b7-06_RCFinal proposal', vid=0)],\n",
       " Instance [InstanceKey(qid='L3b5-20_RCFinal Proposal', vid=0)],\n",
       " Instance [InstanceKey(qid='L3b5-18_RCFinal Proposal/L3b5-17_RCFinal proposal', vid=0)],\n",
       " Instance [InstanceKey(qid='L1c3-26_RCFinal proposal', vid=0)],\n",
       " Instance [InstanceKey(qid='L1c3-25_RCFinal proposal', vid=0)],\n",
       " Instance [InstanceKey(qid='L1c3-24_RCFinal proposal', vid=0)],\n",
       " Instance [InstanceKey(qid='L1c3-22_RCFinal proposal', vid=0)],\n",
       " Instance [InstanceKey(qid='L1c3-18_RCFinal proposal', vid=0)],\n",
       " Instance [InstanceKey(qid='L1c3-17_RCFinal proposal ', vid=0)],\n",
       " Instance [InstanceKey(qid='L1c3-16_RCFinal proposal', vid=0)],\n",
       " Instance [InstanceKey(qid='L1c3-15_RCFinal proposal/L1c3-19_RCFinal proposal', vid=0)],\n",
       " Instance [InstanceKey(qid='L1c3-13_RCFinal proposal', vid=0)],\n",
       " Instance [InstanceKey(qid='L1c3-12_RCFinal proposal', vid=0)],\n",
       " Instance [InstanceKey(qid='L1c3-11_RCFinal proposal', vid=0)],\n",
       " Instance [InstanceKey(qid='L1c3-10_RCFinal proposal', vid=0)],\n",
       " Instance [InstanceKey(qid='L1c3-09_RCFinal proposal\\n', vid=0)],\n",
       " Instance [InstanceKey(qid='L1c3-08_RCFinal proposal', vid=0)],\n",
       " Instance [InstanceKey(qid='L1c3-07_RCFinal proposal / L1c3-20_RCFinal proposal', vid=0)],\n",
       " Instance [InstanceKey(qid='L1c3-06_RCFinal proposal', vid=0)],\n",
       " Instance [InstanceKey(qid='L1c3-04_RCFinal proposal', vid=0)],\n",
       " Instance [InstanceKey(qid='L1c3-03_RCFinal proposal', vid=0)],\n",
       " Instance [InstanceKey(qid='L1c3-02_RCFinal proposal/L1c3-05_RCFinal proposal', vid=0)],\n",
       " Instance [InstanceKey(qid='L1c2-25_RCFinal proposal/L1c3-14_RCFinal proposal', vid=0)],\n",
       " Instance [InstanceKey(qid='L1c2-23_RCFinal proposal', vid=0)],\n",
       " Instance [InstanceKey(qid='L1c2-13_RCFinal proposal', vid=0)],\n",
       " Instance [InstanceKey(qid='L3b6-12_RCFinal proposal/L1c2-11_RCFinal proposal', vid=0)],\n",
       " Instance [InstanceKey(qid='L3b6-11_RCFinal proposal/L1c2-12_RCFinal proposal', vid=0)],\n",
       " Instance [InstanceKey(qid='L1c2-02_RCFinal proposal/L1c3-23_RCFinal proposal\\n', vid=0)],\n",
       " Instance [InstanceKey(qid='L1c1-23_RCFinal proposal/L1c2-01_RCFinal proposal', vid=0)],\n",
       " Instance [InstanceKey(qid='L1c1-22_RCFinal proposal/L1c1-21_RCFinal proposal/L1c1-20_RCFinal proposal', vid=0)],\n",
       " Instance [InstanceKey(qid='L1c1-16_RCFinal proposal/L1c1-19_RCFinal proposal', vid=0)]]"
      ]
     },
     "execution_count": 12,
     "metadata": {},
     "output_type": "execute_result"
    }
   ],
   "source": [
    "reader.read(\"ReadyForAudit.xlsx\")"
   ]
  },
  {
   "cell_type": "markdown",
   "id": "1e7197f6",
   "metadata": {},
   "source": [
    "## 2. Predictor"
   ]
  },
  {
   "cell_type": "code",
   "execution_count": 13,
   "id": "bf46d075",
   "metadata": {},
   "outputs": [],
   "source": [
    "from typing import List, Dict\n",
    "import sys\n",
    "sys.path.append('..')\n",
    "from errudite.predictors.predictor import Predictor\n",
    "from errudite.utils.evaluator import accuracy_score  #t\n",
    "from errudite.targets.label import Label, PredefinedLabel"
   ]
  },
  {
   "cell_type": "code",
   "execution_count": 14,
   "id": "1a913831",
   "metadata": {},
   "outputs": [],
   "source": [
    "@Predictor.register(\"STE_FLAN_T5\")\n",
    "class PredictorSTE(Predictor_FLAN_T5):\n",
    "    def __init__(self, name: str, \n",
    "        model_path: str=None,\n",
    "        model_online_path: str=None,\n",
    "        description: str='') -> None:\n",
    "        Predictor_FLAN_T5.__init__(self, name, model_path, model_online_path, description)\n",
    "        # import sys\n",
    "        # sys.path.append('..')\n",
    "        # from errudite.utils.evaluator import accuracy_score\n",
    "        # Second, from the metrics above, pick one that's primary, and it will be used \n",
    "        # to compute `is_incorrect()` in any label target object: primary metric < 1.\n",
    "        Label.set_task_evaluator(\n",
    "            # the evaluation function that accepts pred and groundtruths, \n",
    "            # and return a dict of metrics: { metric_name: metric_score }. \n",
    "            # This is saved as Label.task_evaluation_func.\n",
    "            task_evaluation_func=accuracy_score, \n",
    "            # The primary task metric name, ideally a key of task_evaluation_func ‘s return.\n",
    "            task_primary_metric='accuracy')\n",
    "\n",
    "    # the raw prediction function, returning the output of the model in a json format.\n",
    "    def predict(self, essay: str) -> Dict[str, str]:\n",
    "        predicted = self.predict_essay(essay)\n",
    "        return predicted\n",
    "\n",
    "    @classmethod\n",
    "    # the class method that takes `Target` inputs, and output a `Label` object.\n",
    "    def model_predict(cls, \n",
    "        predictor: Predictor, \n",
    "        essay: Target, \n",
    "        groundtruth_PE: Label, groundtruth_KE: Label, groundtruth_LCE: Label) -> 'Label':\n",
    "        answer = None\n",
    "        if not predictor:\n",
    "            return answer\n",
    "        predicted = predictor.predict(essay.get_text())\n",
    "        if not predicted:\n",
    "            return None\n",
    "        answer_PE = PredefinedLabel(\n",
    "            model=predictor.name, \n",
    "            qid=essay.qid,\n",
    "            text=predicted['potential energy'], \n",
    "            vid=max([essay.vid]))\n",
    "        answer_KE = PredefinedLabel(\n",
    "            model=predictor.name, \n",
    "            qid=essay.qid,\n",
    "            text=predicted['kinetic energy'], \n",
    "            vid=max([essay.vid]))\n",
    "        answer_LCE = PredefinedLabel(\n",
    "            model=predictor.name, \n",
    "            qid=essay.qid,\n",
    "            text=predicted['Law of Conservation of Energy'], \n",
    "            vid=max([essay.vid]))\n",
    "        answer_PE.compute_perform(groundtruths=groundtruth_PE)\n",
    "        answer_KE.compute_perform(groundtruths=groundtruth_KE)\n",
    "        answer_LCE.compute_perform(groundtruths=groundtruth_LCE)\n",
    "        return answer_PE, answer_KE, answer_LCE\n",
    "\n"
   ]
  },
  {
   "cell_type": "code",
   "execution_count": 15,
   "id": "2408055a",
   "metadata": {},
   "outputs": [
    {
     "name": "stderr",
     "output_type": "stream",
     "text": [
      "INFO:errudite.io.dataset_reader:Reading instances from lines in file at: ReadyForAudit.xlsx\n",
      "INFO:__main__:Reading instances from lines in file at: ReadyForAudit.xlsx\n",
      "10it [00:00, 24.81it/s]\n"
     ]
    }
   ],
   "source": [
    "# read the raw data!\n",
    "instances = reader.read(\n",
    "    # The path of the input data file. We are using the first 100 rows from the SNLI dev set.\n",
    "    file_path='ReadyForAudit.xlsx', \n",
    "    # If sample size is set, only load this many of instances, by default None.\n",
    "    sample_size=10)"
   ]
  },
  {
   "cell_type": "code",
   "execution_count": 16,
   "id": "a0faffcc",
   "metadata": {},
   "outputs": [],
   "source": [
    "from errudite.predictors import Predictor\n",
    "model_path = \"FLAN_T5_Essay\"\n",
    "predictor = Predictor.by_name(\"STE_FLAN_T5\")(\n",
    "    name ='FLAN_T5', \n",
    "    description='Prediction created by FLAN_T5')"
   ]
  },
  {
   "cell_type": "code",
   "execution_count": 17,
   "id": "1144347e",
   "metadata": {},
   "outputs": [
    {
     "name": "stderr",
     "output_type": "stream",
     "text": [
      "INFO:__main__:Running predictions....\n",
      "100%|██████████| 12/12 [02:20<00:00, 11.76s/it]\n"
     ]
    }
   ],
   "source": [
    "from tqdm import tqdm \n",
    "logger.info(\"Running predictions....\")\n",
    "for instance in tqdm(instances):\n",
    "    prediction_PE, prediction_KE, prediction_LCE = Predictor.by_name(\"STE_FLAN_T5\").model_predict(\n",
    "        predictor, \n",
    "        essay = instance.essay,\n",
    "        groundtruth_PE = instance.groundtruth_PE, groundtruth_KE = instance.groundtruth_KE, groundtruth_LCE = instance.groundtruth_LCE)\n",
    "    # set the prediction\n",
    "    instance.set_entries(prediction_PE = prediction_PE, prediction_KE = prediction_KE, prediction_LCE = prediction_LCE)"
   ]
  },
  {
   "cell_type": "code",
   "execution_count": 18,
   "id": "993220e2",
   "metadata": {},
   "outputs": [
    {
     "name": "stdout",
     "output_type": "stream",
     "text": [
      "[Target] [InstanceKey(qid='L23-RCFinal proposal, L22-RCFinal proposal, L3b8-22_RCFinal proposal, L3b8-20_RCFinal proposal, & L3b8-19_RCFinal', vid=0)]\n",
      "The initial drop must be the highest point of your roller coaster. It will be where all of the energy must be created in the form of Potential energy. A height of 90m would be just right because the initial drop can help the car to go over the hills with enough potential energy. I propose that we should make the roller coasters drop 90 meters tall because the roller coaster needs a lot of KE to go through the rest of the roller coaster. During initial drop, the increasing height increases potential energy at the top of hill and kinetic energy at the bottom of hill. When we increase the initial drop height the car has a faster speed so it'll be able to travel farther.\n",
      "\n",
      "The hill of the roller coaster is another critical part. It must be a smaller height than the initial drop to have enough energy to go up the hill. The hill can be .80 meter or less because it can’t be more than .89 meter because the potential energy would be transformed to kinetic energy with the loss of heat.  The hill has this height, the car will have enough Kinetic energy to get it over the hill. When increasing height and mass in car lift, potential energy increased. \n",
      "\n",
      "False \n",
      "\n",
      "[Instance] [InstanceKey(qid='L23-RCFinal proposal, L22-RCFinal proposal, L3b8-22_RCFinal proposal, L3b8-20_RCFinal proposal, & L3b8-19_RCFinal', vid=0)]\n",
      "[essay]\tThe initial drop must be the highest point of your roller coaster. It will be where all of the energy must be created in the form of Potential energy. A height of 90m would be just right because the initial drop can help the car to go over the hills with enough potential energy. I propose that we should make the roller coasters drop 90 meters tall because the roller coaster needs a lot of KE to go through the rest of the roller coaster. During initial drop, the increasing height increases potential energy at the top of hill and kinetic energy at the bottom of hill. When we increase the initial drop height the car has a faster speed so it'll be able to travel farther.\n",
      "\n",
      "The hill of the roller coaster is another critical part. It must be a smaller height than the initial drop to have enough energy to go up the hill. The hill can be .80 meter or less because it can’t be more than .89 meter because the potential energy would be transformed to kinetic energy with the loss of heat.  The hill has this height, the car will have enough Kinetic energy to get it over the hill. When increasing height and mass in car lift, potential energy increased.\n",
      "[groundtruth_PE]\tInsufficient\tgroundtruth\t{}\n",
      "[groundtruth_KE]\tInsufficient\tgroundtruth\t{}\n",
      "[groundtruth_LCE]\tAcceptable\tgroundtruth\t{}\n",
      "[prediction_PE]\tInsufficient\tFLAN_T5\t{'accuracy': 1.0}\n",
      "[prediction_KE]\tInsufficient\tFLAN_T5\t{'accuracy': 1.0}\n",
      "[prediction_LCE]\tAcceptable\tFLAN_T5\t{'accuracy': 1.0}\n",
      "\n"
     ]
    }
   ],
   "source": [
    "print(instances[2].get_entry('essay'), \"\\n\")\n",
    "print(instances[2].is_incorrect(model='FLAN_T5'), \"\\n\")\n",
    "  \n",
    "instances[2].show_instance()"
   ]
  },
  {
   "cell_type": "code",
   "execution_count": 19,
   "id": "6cc1a335-86d4-407f-bf78-d0f2741d51ba",
   "metadata": {},
   "outputs": [
    {
     "data": {
      "text/plain": [
       "[Instance [InstanceKey(qid='L24-RCFinal proposal, L3b8-23_RCFinal proposal, & L3b8-08_RCFinal proposal', vid=0)],\n",
       " Instance [InstanceKey(qid='L3b8-21_RCFinal proposal', vid=0)],\n",
       " Instance [InstanceKey(qid='L23-RCFinal proposal, L22-RCFinal proposal, L3b8-22_RCFinal proposal, L3b8-20_RCFinal proposal, & L3b8-19_RCFinal', vid=0)],\n",
       " Instance [InstanceKey(qid='L21-RCFinal proposal & L3b8-24_RCFinal proposal', vid=0)],\n",
       " Instance [InstanceKey(qid='L3b8-17_RCFinal proposal', vid=0)],\n",
       " Instance [InstanceKey(qid='L3b8-16_RCFinal proposal & UG_ENGM-RC74', vid=0)],\n",
       " Instance [InstanceKey(qid='L3b8-15_RCFinal proposal & UG_ENGM-RC63 ', vid=0)],\n",
       " Instance [InstanceKey(qid='L3b8-14_RCFinal proposal', vid=0)],\n",
       " Instance [InstanceKey(qid='L3b8-13_RCFinal proposal', vid=0)],\n",
       " Instance [InstanceKey(qid='L3b8-11_RCFinal proposal', vid=0)],\n",
       " Instance [InstanceKey(qid='L3b8-02_RCFinal proposal & L3b7-16_RCFinal', vid=0)],\n",
       " Instance [InstanceKey(qid='L216_RCFinal Proposal  & L215_RCFinal Proposal', vid=0)]]"
      ]
     },
     "execution_count": 19,
     "metadata": {},
     "output_type": "execute_result"
    }
   ],
   "source": [
    "instances"
   ]
  },
  {
   "cell_type": "code",
   "execution_count": 20,
   "id": "b77ffb81",
   "metadata": {},
   "outputs": [
    {
     "ename": "AttributeError",
     "evalue": "'NoneType' object has no attribute 'perform'",
     "output_type": "error",
     "traceback": [
      "\u001b[0;31m---------------------------------------------------------------------------\u001b[0m",
      "\u001b[0;31mAttributeError\u001b[0m                            Traceback (most recent call last)",
      "\u001b[0;32m<ipython-input-20-b731398479d6>\u001b[0m in \u001b[0;36m<module>\u001b[0;34m\u001b[0m\n\u001b[0;32m----> 1\u001b[0;31m \u001b[0mpredictor\u001b[0m\u001b[0;34m.\u001b[0m\u001b[0mevaluate_performance\u001b[0m\u001b[0;34m(\u001b[0m\u001b[0minstances\u001b[0m\u001b[0;34m)\u001b[0m\u001b[0;34m\u001b[0m\u001b[0;34m\u001b[0m\u001b[0m\n\u001b[0m\u001b[1;32m      2\u001b[0m \u001b[0mprint\u001b[0m\u001b[0;34m(\u001b[0m\u001b[0;34m{\u001b[0m\u001b[0;34m\"predictor\"\u001b[0m\u001b[0;34m:\u001b[0m \u001b[0mpredictor\u001b[0m\u001b[0;34m.\u001b[0m\u001b[0mname\u001b[0m\u001b[0;34m,\u001b[0m \u001b[0;34m\"perform\"\u001b[0m\u001b[0;34m:\u001b[0m \u001b[0mpredictor\u001b[0m\u001b[0;34m.\u001b[0m\u001b[0mperform\u001b[0m \u001b[0;34m}\u001b[0m\u001b[0;34m)\u001b[0m\u001b[0;34m\u001b[0m\u001b[0;34m\u001b[0m\u001b[0m\n",
      "\u001b[0;32m~/errudite/errudite/predictors/predictor.py\u001b[0m in \u001b[0;36mevaluate_performance\u001b[0;34m(self, instances)\u001b[0m\n\u001b[1;32m     75\u001b[0m             \u001b[0;32mfor\u001b[0m \u001b[0mmetric\u001b[0m \u001b[0;32min\u001b[0m \u001b[0mself\u001b[0m\u001b[0;34m.\u001b[0m\u001b[0mperform_metrics\u001b[0m\u001b[0;34m:\u001b[0m\u001b[0;34m\u001b[0m\u001b[0;34m\u001b[0m\u001b[0m\n\u001b[1;32m     76\u001b[0m                 self.perform[metric] = sum([\n\u001b[0;32m---> 77\u001b[0;31m                     i.get_entry('prediction', self.name).perform[metric] for i in instances]) / n_total\n\u001b[0m\u001b[1;32m     78\u001b[0m         \u001b[0;32melse\u001b[0m\u001b[0;34m:\u001b[0m\u001b[0;34m\u001b[0m\u001b[0;34m\u001b[0m\u001b[0m\n\u001b[1;32m     79\u001b[0m             \u001b[0mprint\u001b[0m\u001b[0;34m(\u001b[0m\u001b[0mn_total\u001b[0m\u001b[0;34m)\u001b[0m\u001b[0;34m\u001b[0m\u001b[0;34m\u001b[0m\u001b[0m\n",
      "\u001b[0;32m~/errudite/errudite/predictors/predictor.py\u001b[0m in \u001b[0;36m<listcomp>\u001b[0;34m(.0)\u001b[0m\n\u001b[1;32m     75\u001b[0m             \u001b[0;32mfor\u001b[0m \u001b[0mmetric\u001b[0m \u001b[0;32min\u001b[0m \u001b[0mself\u001b[0m\u001b[0;34m.\u001b[0m\u001b[0mperform_metrics\u001b[0m\u001b[0;34m:\u001b[0m\u001b[0;34m\u001b[0m\u001b[0;34m\u001b[0m\u001b[0m\n\u001b[1;32m     76\u001b[0m                 self.perform[metric] = sum([\n\u001b[0;32m---> 77\u001b[0;31m                     i.get_entry('prediction', self.name).perform[metric] for i in instances]) / n_total\n\u001b[0m\u001b[1;32m     78\u001b[0m         \u001b[0;32melse\u001b[0m\u001b[0;34m:\u001b[0m\u001b[0;34m\u001b[0m\u001b[0;34m\u001b[0m\u001b[0m\n\u001b[1;32m     79\u001b[0m             \u001b[0mprint\u001b[0m\u001b[0;34m(\u001b[0m\u001b[0mn_total\u001b[0m\u001b[0;34m)\u001b[0m\u001b[0;34m\u001b[0m\u001b[0;34m\u001b[0m\u001b[0m\n",
      "\u001b[0;31mAttributeError\u001b[0m: 'NoneType' object has no attribute 'perform'"
     ]
    }
   ],
   "source": [
    "predictor.evaluate_performance(instances)\n",
    "print({\"predictor\": predictor.name, \"perform\": predictor.perform })"
   ]
  },
  {
   "cell_type": "code",
   "execution_count": null,
   "id": "b946e75f",
   "metadata": {},
   "outputs": [],
   "source": []
  }
 ],
 "metadata": {
  "kernelspec": {
   "display_name": "Python 3",
   "language": "python",
   "name": "python3"
  },
  "language_info": {
   "codemirror_mode": {
    "name": "ipython",
    "version": 3
   },
   "file_extension": ".py",
   "mimetype": "text/x-python",
   "name": "python",
   "nbconvert_exporter": "python",
   "pygments_lexer": "ipython3",
   "version": "3.6.13"
  }
 },
 "nbformat": 4,
 "nbformat_minor": 5
}
