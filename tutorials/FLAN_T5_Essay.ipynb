{
 "cells": [
  {
   "cell_type": "code",
   "execution_count": 1,
   "metadata": {
    "colab": {
     "base_uri": "https://localhost:8080/"
    },
    "id": "ahRGedwRMCxT",
    "outputId": "14b44777-efb6-4286-f0bd-5aa14f72810a"
   },
   "outputs": [
    {
     "name": "stdout",
     "output_type": "stream",
     "text": [
      "Requirement already satisfied: transformers==4.3.0 in c:\\users\\dongh\\anaconda3\\envs\\myenv\\lib\\site-packages (4.3.0)\n",
      "Requirement already satisfied: sacremoses in c:\\users\\dongh\\anaconda3\\envs\\myenv\\lib\\site-packages (from transformers==4.3.0) (0.0.53)\n",
      "Requirement already satisfied: packaging in c:\\users\\dongh\\anaconda3\\envs\\myenv\\lib\\site-packages (from transformers==4.3.0) (21.3)\n",
      "Requirement already satisfied: tqdm>=4.27 in c:\\users\\dongh\\anaconda3\\envs\\myenv\\lib\\site-packages (from transformers==4.3.0) (4.31.1)\n",
      "Requirement already satisfied: numpy>=1.17 in c:\\users\\dongh\\anaconda3\\envs\\myenv\\lib\\site-packages (from transformers==4.3.0) (1.19.5)\n",
      "Requirement already satisfied: filelock in c:\\users\\dongh\\anaconda3\\envs\\myenv\\lib\\site-packages (from transformers==4.3.0) (3.4.1)\n",
      "Requirement already satisfied: requests in c:\\users\\dongh\\anaconda3\\envs\\myenv\\lib\\site-packages (from transformers==4.3.0) (2.27.1)\n",
      "Requirement already satisfied: tokenizers<0.11,>=0.10.1 in c:\\users\\dongh\\anaconda3\\envs\\myenv\\lib\\site-packages (from transformers==4.3.0) (0.10.3)\n",
      "Requirement already satisfied: dataclasses in c:\\users\\dongh\\anaconda3\\envs\\myenv\\lib\\site-packages (from transformers==4.3.0) (0.8)\n",
      "Requirement already satisfied: regex!=2019.12.17 in c:\\users\\dongh\\anaconda3\\envs\\myenv\\lib\\site-packages (from transformers==4.3.0) (2023.8.8)\n",
      "Requirement already satisfied: importlib-metadata in c:\\users\\dongh\\anaconda3\\envs\\myenv\\lib\\site-packages (from transformers==4.3.0) (4.8.3)\n",
      "Requirement already satisfied: zipp>=0.5 in c:\\users\\dongh\\anaconda3\\envs\\myenv\\lib\\site-packages (from importlib-metadata->transformers==4.3.0) (3.6.0)\n",
      "Requirement already satisfied: typing-extensions>=3.6.4 in c:\\users\\dongh\\anaconda3\\envs\\myenv\\lib\\site-packages (from importlib-metadata->transformers==4.3.0) (4.1.1)\n",
      "Requirement already satisfied: pyparsing!=3.0.5,>=2.0.2 in c:\\users\\dongh\\anaconda3\\envs\\myenv\\lib\\site-packages (from packaging->transformers==4.3.0) (2.1.0)\n",
      "Requirement already satisfied: charset-normalizer~=2.0.0 in c:\\users\\dongh\\anaconda3\\envs\\myenv\\lib\\site-packages (from requests->transformers==4.3.0) (2.0.12)\n",
      "Requirement already satisfied: idna<4,>=2.5 in c:\\users\\dongh\\anaconda3\\envs\\myenv\\lib\\site-packages (from requests->transformers==4.3.0) (3.4)\n",
      "Requirement already satisfied: certifi>=2017.4.17 in c:\\users\\dongh\\anaconda3\\envs\\myenv\\lib\\site-packages (from requests->transformers==4.3.0) (2021.5.30)\n",
      "Requirement already satisfied: urllib3<1.27,>=1.21.1 in c:\\users\\dongh\\anaconda3\\envs\\myenv\\lib\\site-packages (from requests->transformers==4.3.0) (1.26.16)\n",
      "Requirement already satisfied: six in c:\\users\\dongh\\anaconda3\\envs\\myenv\\lib\\site-packages (from sacremoses->transformers==4.3.0) (1.16.0)\n",
      "Requirement already satisfied: click in c:\\users\\dongh\\anaconda3\\envs\\myenv\\lib\\site-packages (from sacremoses->transformers==4.3.0) (8.0.4)\n",
      "Requirement already satisfied: joblib in c:\\users\\dongh\\anaconda3\\envs\\myenv\\lib\\site-packages (from sacremoses->transformers==4.3.0) (1.1.1)\n",
      "Requirement already satisfied: colorama in c:\\users\\dongh\\anaconda3\\envs\\myenv\\lib\\site-packages (from click->sacremoses->transformers==4.3.0) (0.4.5)\n"
     ]
    }
   ],
   "source": [
    "!pip install transformers==4.3.0"
   ]
  },
  {
   "cell_type": "code",
   "execution_count": 2,
   "metadata": {
    "colab": {
     "base_uri": "https://localhost:8080/"
    },
    "id": "y-Kq9KJfMjZA",
    "outputId": "f91619da-8955-4c67-ce98-19e0b50e4bba"
   },
   "outputs": [
    {
     "name": "stdout",
     "output_type": "stream",
     "text": [
      "Requirement already satisfied: sentencepiece in c:\\users\\dongh\\anaconda3\\envs\\myenv\\lib\\site-packages (0.1.99)\n"
     ]
    }
   ],
   "source": [
    "!pip install sentencepiece"
   ]
  },
  {
   "cell_type": "code",
   "execution_count": 3,
   "metadata": {
    "colab": {
     "base_uri": "https://localhost:8080/"
    },
    "id": "f6VZyShZQ8YE",
    "outputId": "c82a3d4c-cf5e-49b2-976a-413944a4d415"
   },
   "outputs": [
    {
     "name": "stdout",
     "output_type": "stream",
     "text": [
      "Requirement already satisfied: accelerate in c:\\users\\dongh\\anaconda3\\envs\\myenv\\lib\\site-packages (0.9.0)\n",
      "Requirement already satisfied: pyyaml in c:\\users\\dongh\\anaconda3\\envs\\myenv\\lib\\site-packages (from accelerate) (5.1.1)\n",
      "Requirement already satisfied: torch>=1.4.0 in c:\\users\\dongh\\anaconda3\\envs\\myenv\\lib\\site-packages (from accelerate) (1.10.2)\n",
      "Requirement already satisfied: numpy>=1.17 in c:\\users\\dongh\\anaconda3\\envs\\myenv\\lib\\site-packages (from accelerate) (1.19.5)\n",
      "Requirement already satisfied: dataclasses in c:\\users\\dongh\\anaconda3\\envs\\myenv\\lib\\site-packages (from torch>=1.4.0->accelerate) (0.8)\n",
      "Requirement already satisfied: typing-extensions in c:\\users\\dongh\\anaconda3\\envs\\myenv\\lib\\site-packages (from torch>=1.4.0->accelerate) (4.1.1)\n"
     ]
    }
   ],
   "source": [
    "!pip install accelerate"
   ]
  },
  {
   "cell_type": "code",
   "execution_count": 4,
   "metadata": {},
   "outputs": [
    {
     "name": "stdout",
     "output_type": "stream",
     "text": [
      "Requirement already satisfied: xlrd==1.1.0 in c:\\users\\dongh\\anaconda3\\envs\\myenv\\lib\\site-packages (1.1.0)\n"
     ]
    }
   ],
   "source": [
    "!pip install  xlrd==1.1.0"
   ]
  },
  {
   "cell_type": "code",
   "execution_count": 5,
   "metadata": {},
   "outputs": [
    {
     "name": "stdout",
     "output_type": "stream",
     "text": [
      "Requirement already satisfied: ipywidgets in c:\\users\\dongh\\anaconda3\\envs\\myenv\\lib\\site-packages (7.8.1)\n",
      "Requirement already satisfied: comm>=0.1.3 in c:\\users\\dongh\\anaconda3\\envs\\myenv\\lib\\site-packages (from ipywidgets) (0.1.4)\n",
      "Requirement already satisfied: traitlets>=4.3.1 in c:\\users\\dongh\\anaconda3\\envs\\myenv\\lib\\site-packages (from ipywidgets) (4.3.3)\n",
      "Requirement already satisfied: ipython>=4.0.0 in c:\\users\\dongh\\anaconda3\\envs\\myenv\\lib\\site-packages (from ipywidgets) (7.16.3)\n",
      "Requirement already satisfied: ipython-genutils~=0.2.0 in c:\\users\\dongh\\anaconda3\\envs\\myenv\\lib\\site-packages (from ipywidgets) (0.2.0)\n",
      "Requirement already satisfied: widgetsnbextension~=3.6.6 in c:\\users\\dongh\\anaconda3\\envs\\myenv\\lib\\site-packages (from ipywidgets) (3.6.6)\n",
      "Requirement already satisfied: jupyterlab-widgets<3,>=1.0.0 in c:\\users\\dongh\\anaconda3\\envs\\myenv\\lib\\site-packages (from ipywidgets) (1.1.7)\n",
      "Requirement already satisfied: pickleshare in c:\\users\\dongh\\anaconda3\\envs\\myenv\\lib\\site-packages (from ipython>=4.0.0->ipywidgets) (0.7.5)\n",
      "Requirement already satisfied: colorama in c:\\users\\dongh\\anaconda3\\envs\\myenv\\lib\\site-packages (from ipython>=4.0.0->ipywidgets) (0.4.5)\n",
      "Requirement already satisfied: prompt-toolkit!=3.0.0,!=3.0.1,<3.1.0,>=2.0.0 in c:\\users\\dongh\\anaconda3\\envs\\myenv\\lib\\site-packages (from ipython>=4.0.0->ipywidgets) (3.0.36)\n",
      "Requirement already satisfied: pygments in c:\\users\\dongh\\anaconda3\\envs\\myenv\\lib\\site-packages (from ipython>=4.0.0->ipywidgets) (2.14.0)\n",
      "Requirement already satisfied: setuptools>=18.5 in c:\\users\\dongh\\anaconda3\\envs\\myenv\\lib\\site-packages (from ipython>=4.0.0->ipywidgets) (58.0.4)\n",
      "Requirement already satisfied: backcall in c:\\users\\dongh\\anaconda3\\envs\\myenv\\lib\\site-packages (from ipython>=4.0.0->ipywidgets) (0.2.0)\n",
      "Requirement already satisfied: decorator in c:\\users\\dongh\\anaconda3\\envs\\myenv\\lib\\site-packages (from ipython>=4.0.0->ipywidgets) (5.1.1)\n",
      "Requirement already satisfied: jedi<=0.17.2,>=0.10 in c:\\users\\dongh\\anaconda3\\envs\\myenv\\lib\\site-packages (from ipython>=4.0.0->ipywidgets) (0.17.2)\n",
      "Requirement already satisfied: parso<0.8.0,>=0.7.0 in c:\\users\\dongh\\anaconda3\\envs\\myenv\\lib\\site-packages (from jedi<=0.17.2,>=0.10->ipython>=4.0.0->ipywidgets) (0.7.1)\n",
      "Requirement already satisfied: wcwidth in c:\\users\\dongh\\anaconda3\\envs\\myenv\\lib\\site-packages (from prompt-toolkit!=3.0.0,!=3.0.1,<3.1.0,>=2.0.0->ipython>=4.0.0->ipywidgets) (0.2.7)\n",
      "Requirement already satisfied: six in c:\\users\\dongh\\anaconda3\\envs\\myenv\\lib\\site-packages (from traitlets>=4.3.1->ipywidgets) (1.16.0)\n",
      "Requirement already satisfied: notebook>=4.4.1 in c:\\users\\dongh\\anaconda3\\envs\\myenv\\lib\\site-packages (from widgetsnbextension~=3.6.6->ipywidgets) (6.1.4)\n",
      "Requirement already satisfied: jupyter-client>=5.3.4 in c:\\users\\dongh\\anaconda3\\envs\\myenv\\lib\\site-packages (from notebook>=4.4.1->widgetsnbextension~=3.6.6->ipywidgets) (7.1.2)\n",
      "Requirement already satisfied: ipykernel in c:\\users\\dongh\\anaconda3\\envs\\myenv\\lib\\site-packages (from notebook>=4.4.1->widgetsnbextension~=3.6.6->ipywidgets) (5.5.6)\n",
      "Requirement already satisfied: terminado>=0.8.3 in c:\\users\\dongh\\anaconda3\\envs\\myenv\\lib\\site-packages (from notebook>=4.4.1->widgetsnbextension~=3.6.6->ipywidgets) (0.12.1)\n",
      "Requirement already satisfied: tornado>=5.0 in c:\\users\\dongh\\anaconda3\\envs\\myenv\\lib\\site-packages (from notebook>=4.4.1->widgetsnbextension~=3.6.6->ipywidgets) (5.1.1)\n",
      "Requirement already satisfied: argon2-cffi in c:\\users\\dongh\\anaconda3\\envs\\myenv\\lib\\site-packages (from notebook>=4.4.1->widgetsnbextension~=3.6.6->ipywidgets) (21.3.0)\n",
      "Requirement already satisfied: pyzmq>=17 in c:\\users\\dongh\\anaconda3\\envs\\myenv\\lib\\site-packages (from notebook>=4.4.1->widgetsnbextension~=3.6.6->ipywidgets) (25.1.1)\n",
      "Requirement already satisfied: nbformat in c:\\users\\dongh\\anaconda3\\envs\\myenv\\lib\\site-packages (from notebook>=4.4.1->widgetsnbextension~=3.6.6->ipywidgets) (5.1.3)\n",
      "Requirement already satisfied: nbconvert in c:\\users\\dongh\\anaconda3\\envs\\myenv\\lib\\site-packages (from notebook>=4.4.1->widgetsnbextension~=3.6.6->ipywidgets) (6.0.7)\n",
      "Requirement already satisfied: jupyter-core>=4.6.1 in c:\\users\\dongh\\anaconda3\\envs\\myenv\\lib\\site-packages (from notebook>=4.4.1->widgetsnbextension~=3.6.6->ipywidgets) (4.9.2)\n",
      "Requirement already satisfied: Send2Trash in c:\\users\\dongh\\anaconda3\\envs\\myenv\\lib\\site-packages (from notebook>=4.4.1->widgetsnbextension~=3.6.6->ipywidgets) (1.8.2)\n",
      "Requirement already satisfied: jinja2 in c:\\users\\dongh\\anaconda3\\envs\\myenv\\lib\\site-packages (from notebook>=4.4.1->widgetsnbextension~=3.6.6->ipywidgets) (3.0.3)\n",
      "Requirement already satisfied: prometheus-client in c:\\users\\dongh\\anaconda3\\envs\\myenv\\lib\\site-packages (from notebook>=4.4.1->widgetsnbextension~=3.6.6->ipywidgets) (0.17.1)\n",
      "Requirement already satisfied: nest-asyncio>=1.5 in c:\\users\\dongh\\anaconda3\\envs\\myenv\\lib\\site-packages (from jupyter-client>=5.3.4->notebook>=4.4.1->widgetsnbextension~=3.6.6->ipywidgets) (1.5.8)\n",
      "Requirement already satisfied: python-dateutil>=2.1 in c:\\users\\dongh\\anaconda3\\envs\\myenv\\lib\\site-packages (from jupyter-client>=5.3.4->notebook>=4.4.1->widgetsnbextension~=3.6.6->ipywidgets) (2.8.2)\n",
      "Requirement already satisfied: entrypoints in c:\\users\\dongh\\anaconda3\\envs\\myenv\\lib\\site-packages (from jupyter-client>=5.3.4->notebook>=4.4.1->widgetsnbextension~=3.6.6->ipywidgets) (0.4)\n",
      "Requirement already satisfied: pywin32>=1.0 in c:\\users\\dongh\\anaconda3\\envs\\myenv\\lib\\site-packages (from jupyter-core>=4.6.1->notebook>=4.4.1->widgetsnbextension~=3.6.6->ipywidgets) (305)\n",
      "Requirement already satisfied: pywinpty>=1.1.0 in c:\\users\\dongh\\anaconda3\\envs\\myenv\\lib\\site-packages (from terminado>=0.8.3->notebook>=4.4.1->widgetsnbextension~=3.6.6->ipywidgets) (1.1.6)\n",
      "Requirement already satisfied: typing-extensions in c:\\users\\dongh\\anaconda3\\envs\\myenv\\lib\\site-packages (from argon2-cffi->notebook>=4.4.1->widgetsnbextension~=3.6.6->ipywidgets) (4.1.1)\n",
      "Requirement already satisfied: argon2-cffi-bindings in c:\\users\\dongh\\anaconda3\\envs\\myenv\\lib\\site-packages (from argon2-cffi->notebook>=4.4.1->widgetsnbextension~=3.6.6->ipywidgets) (21.2.0)\n",
      "Requirement already satisfied: dataclasses in c:\\users\\dongh\\anaconda3\\envs\\myenv\\lib\\site-packages (from argon2-cffi->notebook>=4.4.1->widgetsnbextension~=3.6.6->ipywidgets) (0.8)\n",
      "Requirement already satisfied: cffi>=1.0.1 in c:\\users\\dongh\\anaconda3\\envs\\myenv\\lib\\site-packages (from argon2-cffi-bindings->argon2-cffi->notebook>=4.4.1->widgetsnbextension~=3.6.6->ipywidgets) (1.15.1)\n",
      "Requirement already satisfied: pycparser in c:\\users\\dongh\\anaconda3\\envs\\myenv\\lib\\site-packages (from cffi>=1.0.1->argon2-cffi-bindings->argon2-cffi->notebook>=4.4.1->widgetsnbextension~=3.6.6->ipywidgets) (2.21)\n",
      "Requirement already satisfied: MarkupSafe>=2.0 in c:\\users\\dongh\\anaconda3\\envs\\myenv\\lib\\site-packages (from jinja2->notebook>=4.4.1->widgetsnbextension~=3.6.6->ipywidgets) (2.0.1)\n",
      "Requirement already satisfied: defusedxml in c:\\users\\dongh\\anaconda3\\envs\\myenv\\lib\\site-packages (from nbconvert->notebook>=4.4.1->widgetsnbextension~=3.6.6->ipywidgets) (0.7.1)\n",
      "Requirement already satisfied: testpath in c:\\users\\dongh\\anaconda3\\envs\\myenv\\lib\\site-packages (from nbconvert->notebook>=4.4.1->widgetsnbextension~=3.6.6->ipywidgets) (0.6.0)\n",
      "Requirement already satisfied: nbclient<0.6.0,>=0.5.0 in c:\\users\\dongh\\anaconda3\\envs\\myenv\\lib\\site-packages (from nbconvert->notebook>=4.4.1->widgetsnbextension~=3.6.6->ipywidgets) (0.5.9)\n",
      "Requirement already satisfied: pandocfilters>=1.4.1 in c:\\users\\dongh\\anaconda3\\envs\\myenv\\lib\\site-packages (from nbconvert->notebook>=4.4.1->widgetsnbextension~=3.6.6->ipywidgets) (1.5.0)\n",
      "Requirement already satisfied: mistune<2,>=0.8.1 in c:\\users\\dongh\\anaconda3\\envs\\myenv\\lib\\site-packages (from nbconvert->notebook>=4.4.1->widgetsnbextension~=3.6.6->ipywidgets) (0.8.4)\n",
      "Requirement already satisfied: bleach in c:\\users\\dongh\\anaconda3\\envs\\myenv\\lib\\site-packages (from nbconvert->notebook>=4.4.1->widgetsnbextension~=3.6.6->ipywidgets) (4.1.0)\n",
      "Requirement already satisfied: jupyterlab-pygments in c:\\users\\dongh\\anaconda3\\envs\\myenv\\lib\\site-packages (from nbconvert->notebook>=4.4.1->widgetsnbextension~=3.6.6->ipywidgets) (0.1.2)\n",
      "Requirement already satisfied: async-generator in c:\\users\\dongh\\anaconda3\\envs\\myenv\\lib\\site-packages (from nbclient<0.6.0,>=0.5.0->nbconvert->notebook>=4.4.1->widgetsnbextension~=3.6.6->ipywidgets) (1.10)\n",
      "Requirement already satisfied: jsonschema!=2.5.0,>=2.4 in c:\\users\\dongh\\anaconda3\\envs\\myenv\\lib\\site-packages (from nbformat->notebook>=4.4.1->widgetsnbextension~=3.6.6->ipywidgets) (2.6.0)\n",
      "Requirement already satisfied: packaging in c:\\users\\dongh\\anaconda3\\envs\\myenv\\lib\\site-packages (from bleach->nbconvert->notebook>=4.4.1->widgetsnbextension~=3.6.6->ipywidgets) (21.3)\n",
      "Requirement already satisfied: webencodings in c:\\users\\dongh\\anaconda3\\envs\\myenv\\lib\\site-packages (from bleach->nbconvert->notebook>=4.4.1->widgetsnbextension~=3.6.6->ipywidgets) (0.5.1)\n",
      "Requirement already satisfied: pyparsing!=3.0.5,>=2.0.2 in c:\\users\\dongh\\anaconda3\\envs\\myenv\\lib\\site-packages (from packaging->bleach->nbconvert->notebook>=4.4.1->widgetsnbextension~=3.6.6->ipywidgets) (2.1.0)\n"
     ]
    }
   ],
   "source": [
    "!pip install --upgrade ipywidgets"
   ]
  },
  {
   "cell_type": "code",
   "execution_count": null,
   "metadata": {},
   "outputs": [],
   "source": [
    "import pandas as pd\n",
    "from transformers import T5Tokenizer, T5ForConditionalGeneration\n",
    "import torch\n",
    "\n",
    "class Predictor_FLAN_T5(Predictor):\n",
    "    def __init__(self, name: str, \n",
    "    model_path: str=None,\n",
    "    model_online_path: str=None,\n",
    "    description: str='',\n",
    "    model_type: str=None) -> None:\n",
    "        \n",
    "    def predict_essay(self, essay : str) -> Dict[str,str]:\n",
    "        # Load data into pandas DataFrame\n",
    "        data_df = pd.read_excel(\"StudentEssays.xlsx\")\n",
    "\n",
    "        # Initialize T5 tokenizer and model\n",
    "        tokenizer = T5Tokenizer.from_pretrained(\"google/flan-t5-base\")\n",
    "        model = T5ForConditionalGeneration.from_pretrained(\"google/flan-t5-base\")\n",
    "\n",
    "        # Move the model to the CUDA device if available\n",
    "        if torch.cuda.is_available():\n",
    "            model.to(\"cuda\")\n",
    "\n",
    "        # Define a list of concepts to predict\n",
    "        concepts_to_predict = [\"potential energy\", \"kinetic energy\", \"Law of Conservation of Energy\"]\n",
    "\n",
    "        # Define possible outcome labels\n",
    "        outcome_labels = [\"Acceptable\", \"Unacceptable\", \"Insufficient\", \"Not Found\"]\n",
    "\n",
    "        # Create a list to store predictions as dictionaries\n",
    "        predictions_list = []\n",
    "\n",
    "        text = essay  # Assuming the text content is in column 'Essay'\n",
    "\n",
    "        # Initialize predictions dictionary for this row\n",
    "        predictions = {}\n",
    "\n",
    "        # Iterate through each concept to predict\n",
    "        for concept in concepts_to_predict:\n",
    "            # Define a template for classification\n",
    "            template = f\"According to the following essay, is the student's definition of {concept} Acceptable, Unacceptable, Insufficient, or Not Found? Only use one of these labels for outputs\\n{text}\"\n",
    "            # Prepare the input by replacing placeholders\n",
    "            formatted_input = template\n",
    "            # Tokenize and classify the text\n",
    "            input_ids = tokenizer(formatted_input, return_tensors=\"pt\", padding=True, truncation=True).input_ids.to(\"cuda\" if torch.cuda.is_available() else \"cpu\")\n",
    "            outputs = model.generate(input_ids, max_length=128)\n",
    "            decoded_output = tokenizer.decode(outputs[0], skip_special_tokens=True)  # Remove special tokens\n",
    "\n",
    "            # Store the prediction in the dictionary\n",
    "            predictions[concept] = next((label for label in outcome_labels if label.lower() in decoded_output.lower()), \"Unknown\")\n",
    "\n",
    "            if predictions[concept] == \"Unknown\":\n",
    "              print(len(decoded_output))\n",
    "              with open('output.txt', 'w') as f:\n",
    "                f.write(decoded_output)\n",
    "\n",
    "        return predictions"
   ]
  },
  {
   "cell_type": "code",
   "execution_count": null,
   "metadata": {
    "id": "0UnxI34BZK4b"
   },
   "outputs": [],
   "source": []
  },
  {
   "cell_type": "code",
   "execution_count": null,
   "metadata": {},
   "outputs": [],
   "source": []
  }
 ],
 "metadata": {
  "accelerator": "GPU",
  "colab": {
   "gpuType": "T4",
   "machine_shape": "hm",
   "provenance": []
  },
  "kernelspec": {
   "display_name": "Python 3",
   "language": "python",
   "name": "python3"
  },
  "language_info": {
   "codemirror_mode": {
    "name": "ipython",
    "version": 3
   },
   "file_extension": ".py",
   "mimetype": "text/x-python",
   "name": "python",
   "nbconvert_exporter": "python",
   "pygments_lexer": "ipython3",
   "version": "3.6.13"
  }
 },
 "nbformat": 4,
 "nbformat_minor": 4
}
