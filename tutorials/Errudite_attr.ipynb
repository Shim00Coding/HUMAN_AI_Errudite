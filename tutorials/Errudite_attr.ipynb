{
 "cells": [
  {
   "cell_type": "code",
   "execution_count": 1,
   "id": "d739a51e-2db6-4a7e-9cb2-f2bda498ba51",
   "metadata": {},
   "outputs": [],
   "source": [
    "%load_ext autoreload\n",
    "%autoreload 2\n",
    "\n",
    "import warnings\n",
    "warnings.filterwarnings('ignore')\n",
    "\n",
    "def import_sys():\n",
    "    import sys\n",
    "    sys.path.append('..')\n",
    "import_sys()\n",
    "\n",
    "import logging\n",
    "logging.basicConfig(level=logging.INFO)\n",
    "logger = logging.getLogger(__name__)  # pylint: disable=invalid-name\n"
   ]
  },
  {
   "cell_type": "code",
   "execution_count": 2,
   "id": "7d78798d-2057-4c18-9072-81eb3d58b15f",
   "metadata": {},
   "outputs": [
    {
     "name": "stderr",
     "output_type": "stream",
     "text": [
      "WARNING:errudite.utils.file_utils:Local path not yet exist, but still parsed: /Users/gyuhoshim/errudite/tutorials/caches/vocab.pkl\n",
      "WARNING:errudite.processor.spacy_annotator:(2, 'No such file or directory')\n"
     ]
    }
   ],
   "source": [
    "import pandas as pd\n",
    "from tqdm import tqdm\n",
    "\n",
    "from overrides import overrides\n",
    "\n",
    "from errudite.io import DatasetReader\n",
    "from errudite.utils import normalize_file_path, accuracy_score\n",
    "from errudite.targets.instance import Instance\n",
    "from errudite.targets.target import Target\n",
    "from errudite.targets.label import Label, PredefinedLabel"
   ]
  },
  {
   "cell_type": "code",
   "execution_count": 3,
   "id": "61c520bd-1aed-456f-abbf-9441a0efcf68",
   "metadata": {},
   "outputs": [
    {
     "name": "stderr",
     "output_type": "stream",
     "text": [
      "INFO:pytorch_pretrained_bert.modeling:Better speed can be achieved with apex installed from https://www.github.com/nvidia/apex .\n",
      "INFO:pytorch_transformers.modeling_bert:Better speed can be achieved with apex installed from https://www.github.com/nvidia/apex .\n",
      "INFO:pytorch_transformers.modeling_xlnet:Better speed can be achieved with apex installed from https://www.github.com/nvidia/apex .\n",
      "INFO:allennlp.common.registrable:instantiating registered subclass relu of <class 'allennlp.nn.activations.Activation'>\n",
      "INFO:allennlp.common.registrable:instantiating registered subclass relu of <class 'allennlp.nn.activations.Activation'>\n",
      "INFO:allennlp.common.registrable:instantiating registered subclass relu of <class 'allennlp.nn.activations.Activation'>\n",
      "INFO:allennlp.common.registrable:instantiating registered subclass relu of <class 'allennlp.nn.activations.Activation'>\n"
     ]
    }
   ],
   "source": [
    "import pandas as pd\n",
    "from transformers import T5Tokenizer, T5ForConditionalGeneration\n",
    "import torch\n",
    "from typing import List, Dict\n",
    "import sys\n",
    "sys.path.append('..')\n",
    "from errudite.predictors.predictor import Predictor\n",
    "from errudite.targets.label import Label, PredefinedLabel\n",
    "\n",
    "class Predictor_FLAN_T5(Predictor):\n",
    "    def __init__(self, name: str, \n",
    "    model_path: str=None,\n",
    "    model_online_path: str=None,\n",
    "    description: str='',\n",
    "    model_type: str=None) -> None:\n",
    "        model = None\n",
    "        Predictor.__init__(self, name, description, model, ['accuracy', 'accuracy_PE', 'accuracy_KE', 'accuracy_LCE'])\n",
    "        \n",
    "    def predict_essay(self, essay : str) -> Dict[str,str]:\n",
    "        # Load data into pandas DataFrame\n",
    "        data_df = pd.read_excel(\"StudentEssays.xlsx\")\n",
    "\n",
    "        # Initialize T5 tokenizer and model\n",
    "        tokenizer = T5Tokenizer.from_pretrained(\"google/flan-t5-base\")\n",
    "        model = T5ForConditionalGeneration.from_pretrained(\"google/flan-t5-base\")\n",
    "\n",
    "        # Move the model to the CUDA device if available\n",
    "        if torch.cuda.is_available():\n",
    "            model.to(\"cuda\")\n",
    "\n",
    "        # Define a list of concepts to predict\n",
    "        concepts_to_predict = [\"potential energy\", \"kinetic energy\", \"Law of Conservation of Energy\"]\n",
    "\n",
    "        # Define possible outcome labels\n",
    "        outcome_labels = [\"Acceptable\", \"Unacceptable\", \"Insufficient\", \"Not Found\"]\n",
    "\n",
    "        # Create a list to store predictions as dictionaries\n",
    "        predictions_list = []\n",
    "\n",
    "        text = essay  # Assuming the text content is in column 'Essay'\n",
    "\n",
    "        # Initialize predictions dictionary for this row\n",
    "        predictions = {}\n",
    "\n",
    "        # Iterate through each concept to predict\n",
    "        for concept in concepts_to_predict:\n",
    "            # Define a template for classification\n",
    "            template = f\"According to the following essay, is the student's definition of {concept} Acceptable, Unacceptable, Insufficient, or Not Found? Only use one of these labels for outputs\\n{text}\"\n",
    "            # Prepare the input by replacing placeholders\n",
    "            formatted_input = template\n",
    "            # Tokenize and classify the text\n",
    "            input_ids = tokenizer(formatted_input, return_tensors=\"pt\", padding=True, truncation=True).input_ids.to(\"cuda\" if torch.cuda.is_available() else \"cpu\")\n",
    "            outputs = model.generate(input_ids, max_length=128)\n",
    "            decoded_output = tokenizer.decode(outputs[0], skip_special_tokens=True)  # Remove special tokens\n",
    "\n",
    "            # Store the prediction in the dictionary\n",
    "            predictions[concept] = next((label for label in outcome_labels if label.lower() in decoded_output.lower()), \"Unknown\")\n",
    "\n",
    "            if predictions[concept] == \"Unknown\":\n",
    "              print(len(decoded_output))\n",
    "              with open('output.txt', 'w') as f:\n",
    "                f.write(decoded_output)\n",
    "\n",
    "        return predictions"
   ]
  },
  {
   "cell_type": "code",
   "execution_count": 4,
   "id": "bf39acad-c66d-45e6-8ce1-6f41cc323c75",
   "metadata": {},
   "outputs": [],
   "source": [
    "@DatasetReader.register(\"STE\")\n",
    "class STEReader(DatasetReader):\n",
    "    def __init__(self, cache_folder_path: str=None) -> None:\n",
    "        super().__init__(cache_folder_path)\n",
    "        # overwrite the primary evaluation method and metric name\n",
    "        Label.set_task_evaluator(accuracy_score, 'accuracy')\n",
    "        \n",
    "    @overrides\n",
    "    def _read(self, file_path: str, lazy: bool, sample_size: int):\n",
    "        \"\"\"\n",
    "        Returns a list containing all the instances in the specified dataset.\n",
    " \n",
    "        Parameters\n",
    "        ----------\n",
    "        file_path : str\n",
    "            The path of the input data file.\n",
    "        lazy : bool, optional\n",
    "            If ``lazy==True``, only run the tokenization, does not compute the linguistic\n",
    "            features like POS, NER. By default False\n",
    "        sample_size : int, optional\n",
    "            If sample size is set, only load this many of instances, by default None\n",
    "        \n",
    "        Returns\n",
    "        -------\n",
    "        List[Instance]\n",
    "            The instance list.\n",
    "        \"\"\"\n",
    "        instances = []\n",
    "        essays = []\n",
    "        logger.info(\"Reading instances from lines in file at: %s\", file_path)\n",
    "        df = pd.read_excel(normalize_file_path(file_path), sep='\\t')\n",
    "        for idx, row in tqdm(df.iterrows()):\n",
    "            if lazy:\n",
    "                essays.append(row['Essay'])\n",
    "            else:\n",
    "                instance = self._text_to_instance(f'q:{idx}', row)\n",
    "                if instance is not None:\n",
    "                    instances.append(instance)\n",
    "                if sample_size and idx > sample_size:\n",
    "                    break\n",
    "        if lazy:\n",
    "            return { \"Essays\": essays }\n",
    "        else:\n",
    "            return instances\n",
    "    \n",
    "    @overrides\n",
    "    def _text_to_instance(self, id: str, row) -> Instance:\n",
    "        # The function that transfers raw text to instance.\n",
    "        essay = Target(qid=row['Essay_ID'], text=row['Essay'], vid=0, metas={'type': 'essays'})        # label\n",
    "        groundtruth_PE = PredefinedLabel(\n",
    "            model='groundtruth', \n",
    "            qid=row['Essay_ID'], \n",
    "            text=row['PE'], \n",
    "            vid=0, \n",
    "        )\n",
    "        groundtruth_KE = PredefinedLabel(\n",
    "            model='groundtruth', \n",
    "            qid=row['Essay_ID'], \n",
    "            text=row['KE'], \n",
    "            vid=0, \n",
    "        )\n",
    "        groundtruth_LCE = PredefinedLabel(\n",
    "            model='groundtruth', \n",
    "            qid=row['Essay_ID'], \n",
    "            text=row['LCE'], \n",
    "            vid=0, \n",
    "        )\n",
    "        return self.create_instance(row['Essay_ID'], \n",
    "            essay=essay, \n",
    "            groundtruth_PE=groundtruth_PE,\n",
    "            groundtruth_KE=groundtruth_KE,\n",
    "            groundtruth_LCE=groundtruth_LCE)"
   ]
  },
  {
   "cell_type": "code",
   "execution_count": 5,
   "id": "eb66db2d-c409-4e66-ae1c-af926a5890de",
   "metadata": {},
   "outputs": [
    {
     "name": "stderr",
     "output_type": "stream",
     "text": [
      "INFO:errudite.utils.file_utils:Errudite cache folder selected: ./ste_caches\n"
     ]
    }
   ],
   "source": [
    "from errudite.io import DatasetReader\n",
    "\n",
    "cache_folder_path = \"./ste_caches\"\n",
    "reader = DatasetReader.by_name(\"STE\")(cache_folder_path=cache_folder_path)"
   ]
  },
  {
   "cell_type": "code",
   "execution_count": 6,
   "id": "1238e312-d090-4778-8516-7aef7904c90e",
   "metadata": {},
   "outputs": [
    {
     "name": "stderr",
     "output_type": "stream",
     "text": [
      "INFO:errudite.io.dataset_reader:Reading instances from lines in file at: StudentEssays.xlsx\n",
      "INFO:__main__:Reading instances from lines in file at: StudentEssays.xlsx\n",
      "76it [00:02, 30.31it/s]\n"
     ]
    }
   ],
   "source": [
    "# read the raw data!\n",
    "instances = reader.read(\n",
    "    # The path of the input data file. We are using the first 100 rows from the SNLI dev set.\n",
    "    file_path='StudentEssays.xlsx', \n",
    "    # If sample size is set, only load this many of instances, by default None.\n",
    "    sample_size=76)"
   ]
  },
  {
   "cell_type": "code",
   "execution_count": 7,
   "id": "65b8b5db-1521-4647-a965-f39b9b59c466",
   "metadata": {},
   "outputs": [],
   "source": [
    "from typing import List, Dict\n",
    "import sys\n",
    "sys.path.append('..')\n",
    "from errudite.predictors.predictor import Predictor\n",
    "from errudite.targets.label import Label, PredefinedLabel"
   ]
  },
  {
   "cell_type": "code",
   "execution_count": 8,
   "id": "817b7b9a-4deb-4909-8291-6bf9588b23e9",
   "metadata": {},
   "outputs": [],
   "source": [
    "@Predictor.register(\"STE_FLAN_T5\")\n",
    "class PredictorSTE(Predictor_FLAN_T5):\n",
    "    def __init__(self, name: str, \n",
    "        model_path: str=None,\n",
    "        model_online_path: str=None,\n",
    "        description: str='') -> None:\n",
    "        Predictor_FLAN_T5.__init__(self, name, model_path, model_online_path, description)\n",
    "        import sys\n",
    "        sys.path.append('..')\n",
    "        from errudite.utils.evaluator import accuracy_score\n",
    "        # Second, from the metrics above, pick one that's primary, and it will be used \n",
    "        # to compute `is_incorrect()` in any label target object: primary metric < 1.\n",
    "        Label.set_task_evaluator(\n",
    "            # the evaluation function that accepts pred and groundtruths, \n",
    "            # and return a dict of metrics: { metric_name: metric_score }. \n",
    "            # This is saved as Label.task_evaluation_func.\n",
    "            task_evaluation_func=accuracy_score, \n",
    "            # The primary task metric name, ideally a key of task_evaluation_func ‘s return.\n",
    "            task_primary_metric='accuracy')\n",
    "\n",
    "    # the raw prediction function, returning the output of the model in a json format.\n",
    "    def predict(self, essay: str) -> Dict[str, str]:\n",
    "        predicted = self.predict_essay(essay)\n",
    "        return predicted\n",
    "\n",
    "    @classmethod\n",
    "    # the class method that takes `Target` inputs, and output a `Label` object.\n",
    "    def model_predict(cls, \n",
    "        predictor: Predictor, \n",
    "        essay: Target, \n",
    "        groundtruth_PE: Label, groundtruth_KE: Label, groundtruth_LCE: Label) -> 'Label':\n",
    "        answer = None\n",
    "        if not predictor:\n",
    "            return answer\n",
    "        predicted = predictor.predict(essay.get_text())\n",
    "        if not predicted:\n",
    "            return None\n",
    "        answer_PE = PredefinedLabel(\n",
    "            model=predictor.name, \n",
    "            qid=essay.qid,\n",
    "            text=predicted['potential energy'], \n",
    "            vid=max([essay.vid]))\n",
    "        answer_KE = PredefinedLabel(\n",
    "            model=predictor.name, \n",
    "            qid=essay.qid,\n",
    "            text=predicted['kinetic energy'], \n",
    "            vid=max([essay.vid]))\n",
    "        answer_LCE = PredefinedLabel(\n",
    "            model=predictor.name, \n",
    "            qid=essay.qid,\n",
    "            text=predicted['Law of Conservation of Energy'], \n",
    "            vid=max([essay.vid]))\n",
    "        answer_PE.compute_perform(groundtruths=groundtruth_PE)\n",
    "        answer_KE.compute_perform(groundtruths=groundtruth_KE)\n",
    "        answer_LCE.compute_perform(groundtruths=groundtruth_LCE)\n",
    "        return answer_PE, answer_KE, answer_LCE\n",
    "\n"
   ]
  },
  {
   "cell_type": "code",
   "execution_count": 9,
   "id": "a49e913e-9b1f-44cd-847c-264649695af6",
   "metadata": {},
   "outputs": [],
   "source": [
    "from errudite.predictors import Predictor\n",
    "model_path = \"FLAN_T5_Essay\"\n",
    "predictor = Predictor.by_name(\"STE_FLAN_T5\")(\n",
    "    name ='FLAN_T5', \n",
    "    description='Prediction created by FLAN_T5')"
   ]
  },
  {
   "cell_type": "code",
   "execution_count": 10,
   "id": "d7148ea9-16a8-4a8c-b43d-6bd115dad06b",
   "metadata": {},
   "outputs": [],
   "source": [
    "import traceback\n",
    "from typing import Union, List\n",
    "from spacy.tokens import Doc, Span, Token\n",
    "def import_sys():\n",
    "    import sys\n",
    "    sys.path.append('..')\n",
    "import_sys()\n",
    "from errudite.utils.helpers import convert_doc\n",
    "from errudite.utils.check import DSLValueError\n",
    "import logging\n",
    "logger = logging.getLogger(__name__)  # pylint: disable=invalid-name"
   ]
  },
  {
   "cell_type": "code",
   "execution_count": 13,
   "id": "c5452d69-8291-47e2-8269-a54b914d5396",
   "metadata": {},
   "outputs": [
    {
     "name": "stderr",
     "output_type": "stream",
     "text": [
      "INFO:__main__:Running predictions....\n",
      "100%|██████████| 76/76 [13:35<00:00,  9.75s/it]\n"
     ]
    }
   ],
   "source": [
    "from tqdm import tqdm \n",
    "logger.info(\"Running predictions....\") \n",
    "for instance in tqdm(instances):\n",
    "    prediction_PE, prediction_KE, prediction_LCE = Predictor.by_name(\"STE_FLAN_T5\").model_predict(\n",
    "        predictor, \n",
    "        essay = instance.essay,\n",
    "        groundtruth_PE = instance.groundtruth_PE, groundtruth_KE = instance.groundtruth_KE, groundtruth_LCE = instance.groundtruth_LCE)\n",
    "    # set the prediction\n",
    "    instance.set_entries(prediction_PE = prediction_PE, prediction_KE = prediction_KE, prediction_LCE = prediction_LCE)"
   ]
  },
  {
   "cell_type": "code",
   "execution_count": 13,
   "id": "ed9e989e-4702-4499-ac93-ac5d33856df7",
   "metadata": {},
   "outputs": [],
   "source": [
    "# print(instances[2].get_entry('essay'), \"\\n\")\n",
    "# instances[2].show_instance()"
   ]
  },
  {
   "cell_type": "code",
   "execution_count": 14,
   "id": "fc059587-52ac-47a7-ad24-03b7a436974b",
   "metadata": {},
   "outputs": [],
   "source": [
    "# ---------\n",
    "# Build the instance store hash\n",
    "from errudite.targets.instance import Instance\n",
    "instance_hash, instance_hash_rewritten, qid_hash = Instance.build_instance_hashes(instances)"
   ]
  },
  {
   "cell_type": "markdown",
   "id": "0a265e5f-802a-4b0f-b45e-ca975b5a5f70",
   "metadata": {},
   "source": [
    "## Group - Length of the Essay"
   ]
  },
  {
   "cell_type": "code",
   "execution_count": 11,
   "id": "d5e6fa3e-17f4-4060-b41f-35c5b6d3efea",
   "metadata": {},
   "outputs": [
    {
     "name": "stderr",
     "output_type": "stream",
     "text": [
      "INFO:errudite.build_blocks.wrapper:Parsed: [BinOp](>):[FuncOp(length):[ArgOp:essay]+[], 10.0]\n",
      "INFO:errudite.builts.group:Created group: length\n"
     ]
    }
   ],
   "source": [
    "from errudite.builts import Group\n",
    "from errudite.builts import Attribute\n",
    "group_length_10 = Group.create(\n",
    "    # The name of the attribute\n",
    "    name=\"length\",\n",
    "    # the description of the attribute\n",
    "    description=\"length greater than 10\",\n",
    "    # All the previously created attributes and groups \n",
    "    # can be used and queried, as long as we serve the \n",
    "    # stored attributes and groups as part of the inputs.\n",
    "    cmd=\"length(essay) > 10\",\n",
    "    attr_hash=Attribute.store_hash(),\n",
    "    group_hash=Group.store_hash()\n",
    ")"
   ]
  },
  {
   "cell_type": "code",
   "execution_count": 12,
   "id": "1621fab5-1fc1-41cf-9faf-ba3be16e4b4f",
   "metadata": {},
   "outputs": [
    {
     "ename": "ZeroDivisionError",
     "evalue": "division by zero",
     "output_type": "error",
     "traceback": [
      "\u001b[0;31m---------------------------------------------------------------------------\u001b[0m",
      "\u001b[0;31mZeroDivisionError\u001b[0m                         Traceback (most recent call last)",
      "\u001b[0;32m<ipython-input-12-c0fc59055aee>\u001b[0m in \u001b[0;36m<module>\u001b[0;34m\u001b[0m\n\u001b[1;32m      3\u001b[0m     \u001b[0mfiltered_instances\u001b[0m\u001b[0;34m=\u001b[0m\u001b[0mgroup_length_10\u001b[0m\u001b[0;34m.\u001b[0m\u001b[0mget_instances\u001b[0m\u001b[0;34m(\u001b[0m\u001b[0;34m)\u001b[0m\u001b[0;34m,\u001b[0m\u001b[0;34m\u001b[0m\u001b[0;34m\u001b[0m\u001b[0m\n\u001b[1;32m      4\u001b[0m     \u001b[0;31m# this will automatically call the default model we got\u001b[0m\u001b[0;34m\u001b[0m\u001b[0;34m\u001b[0m\u001b[0;34m\u001b[0m\u001b[0m\n\u001b[0;32m----> 5\u001b[0;31m     \u001b[0mmodel\u001b[0m\u001b[0;34m=\u001b[0m\u001b[0;32mNone\u001b[0m\u001b[0;34m\u001b[0m\u001b[0;34m\u001b[0m\u001b[0m\n\u001b[0m\u001b[1;32m      6\u001b[0m )\n",
      "\u001b[0;32m~/errudite/errudite/builts/group.py\u001b[0m in \u001b[0;36meval_stats\u001b[0;34m(cls, filtered_instances, instance_hash, instance_hash_rewritten, model)\u001b[0m\n\u001b[1;32m    352\u001b[0m             },\n\u001b[1;32m    353\u001b[0m             'stats': {\n\u001b[0;32m--> 354\u001b[0;31m                 \u001b[0;34m'coverage'\u001b[0m\u001b[0;34m:\u001b[0m \u001b[0;34m(\u001b[0m\u001b[0mcount_correct\u001b[0m \u001b[0;34m+\u001b[0m \u001b[0mcount_incorrect\u001b[0m\u001b[0;34m)\u001b[0m \u001b[0;34m/\u001b[0m \u001b[0mTOTAL_SIZE\u001b[0m\u001b[0;34m,\u001b[0m\u001b[0;34m\u001b[0m\u001b[0;34m\u001b[0m\u001b[0m\n\u001b[0m\u001b[1;32m    355\u001b[0m                 \u001b[0;34m'error_coverage'\u001b[0m\u001b[0;34m:\u001b[0m \u001b[0mcount_incorrect\u001b[0m \u001b[0;34m/\u001b[0m \u001b[0mlen\u001b[0m\u001b[0;34m(\u001b[0m\u001b[0mERROR_INSTANCES\u001b[0m\u001b[0;34m)\u001b[0m \u001b[0;32mif\u001b[0m \u001b[0mERROR_INSTANCES\u001b[0m \u001b[0;32melse\u001b[0m \u001b[0;36m0\u001b[0m\u001b[0;34m,\u001b[0m\u001b[0;34m\u001b[0m\u001b[0;34m\u001b[0m\u001b[0m\n\u001b[1;32m    356\u001b[0m                 \u001b[0;34m'local_error_rate'\u001b[0m\u001b[0;34m:\u001b[0m \u001b[0mcount_incorrect\u001b[0m \u001b[0;34m/\u001b[0m \u001b[0mlen\u001b[0m\u001b[0;34m(\u001b[0m\u001b[0mfiltered_instances\u001b[0m\u001b[0;34m)\u001b[0m \u001b[0;32mif\u001b[0m \u001b[0mfiltered_instances\u001b[0m \u001b[0;32melse\u001b[0m \u001b[0;36m0\u001b[0m\u001b[0;34m,\u001b[0m\u001b[0;34m\u001b[0m\u001b[0;34m\u001b[0m\u001b[0m\n",
      "\u001b[0;31mZeroDivisionError\u001b[0m: division by zero"
     ]
    }
   ],
   "source": [
    "# some general stats on groups\n",
    "Group.eval_stats(\n",
    "    filtered_instances=group_length_10.get_instances(),\n",
    "    # this will automatically call the default model we got\n",
    "    model=None\n",
    ")"
   ]
  },
  {
   "cell_type": "code",
   "execution_count": 57,
   "id": "9b2aff03-fef9-4532-a4f4-88794b46a55a",
   "metadata": {},
   "outputs": [
    {
     "name": "stderr",
     "output_type": "stream",
     "text": [
      "INFO:errudite.build_blocks.wrapper:Parsed: [BinOp](>):[FuncOp(length):[ArgOp:essay]+[], 200.0]\n",
      "WARNING:errudite.utils.store:Storing length in Group: Overwritting name already in use.\n",
      "INFO:errudite.builts.group:Created group: length\n"
     ]
    }
   ],
   "source": [
    "from errudite.builts import Group\n",
    "from errudite.builts import Attribute\n",
    "group_length_200 = Group.create(\n",
    "    # The name of the attribute\n",
    "    name=\"length\",\n",
    "    # the description of the attribute\n",
    "    description=\"length greater than 200\",\n",
    "    # All the previously created attributes and groups \n",
    "    # can be used and queried, as long as we serve the \n",
    "    # stored attributes and groups as part of the inputs.\n",
    "    cmd=\"length(essay) > 200\",\n",
    "    attr_hash=Attribute.store_hash(),\n",
    "    group_hash=Group.store_hash()\n",
    ")"
   ]
  },
  {
   "cell_type": "code",
   "execution_count": 58,
   "id": "695f1117-3559-4b65-b72c-6a7d3eb8a8c7",
   "metadata": {},
   "outputs": [
    {
     "data": {
      "application/vnd.vegalite.v3+json": {
       "$schema": "https://vega.github.io/schema/vega-lite/v3.2.1.json",
       "config": {
        "mark": {
         "tooltip": null
        },
        "view": {
         "height": 300,
         "width": 400
        }
       },
       "data": {
        "name": "data-87efc58a8a092b594f6a8f3054723e42"
       },
       "datasets": {
        "data-87efc58a8a092b594f6a8f3054723e42": [
         {
          "correctness": "correct",
          "count": 1,
          "model": "FLAN_T5"
         },
         {
          "correctness": "incorrect",
          "count": 32,
          "model": "FLAN_T5"
         }
        ]
       },
       "encoding": {
        "color": {
         "field": "correctness",
         "scale": {
          "domain": [
           "correct",
           "incorrect"
          ]
         },
         "type": "nominal"
        },
        "tooltip": [
         {
          "field": "model",
          "type": "nominal"
         },
         {
          "field": "count",
          "type": "quantitative"
         },
         {
          "field": "correctness",
          "type": "nominal"
         }
        ],
        "x": {
         "field": "count",
         "stack": "zero",
         "type": "quantitative"
        },
        "y": {
         "field": "model",
         "type": "nominal"
        }
       },
       "mark": "bar",
       "width": 100
      },
      "image/png": "[encoded data removed]",
      "text/plain": [
       "<VegaLite 3 object>\n",
       "\n",
       "If you see this message, it means the renderer has not been properly enabled\n",
       "for the frontend that you are using. For more information, see\n",
       "https://altair-viz.github.io/user_guide/troubleshooting.html\n"
      ]
     },
     "execution_count": 58,
     "metadata": {},
     "output_type": "execute_result"
    }
   ],
   "source": [
    "group_length_200.visualize_models(models=[\"FLAN_T5\"])"
   ]
  },
  {
   "cell_type": "code",
   "execution_count": 59,
   "id": "5bab1e70-a8de-496a-9090-f38031bacedc",
   "metadata": {},
   "outputs": [
    {
     "data": {
      "text/plain": [
       "{'counts': {'correct': 1, 'incorrect': 32},\n",
       " 'stats': {'coverage': 0.4342105263157895,\n",
       "  'error_coverage': 0.4383561643835616,\n",
       "  'local_error_rate': 0.9696969696969697,\n",
       "  'global_error_rate': 0.42105263157894735}}"
      ]
     },
     "execution_count": 59,
     "metadata": {},
     "output_type": "execute_result"
    }
   ],
   "source": [
    "# some general stats on groups\n",
    "Group.eval_stats(\n",
    "    filtered_instances=group_length_200.get_instances(),\n",
    "    # this will automatically call the default model we got\n",
    "    model=None\n",
    ")"
   ]
  },
  {
   "cell_type": "markdown",
   "id": "c57cc436-1628-43f2-88ba-188e08fd988b",
   "metadata": {},
   "source": [
    "## Group - Quantitative Value"
   ]
  },
  {
   "cell_type": "code",
   "execution_count": 26,
   "id": "afc39405-e8e4-4241-9e59-d6446adc8e9b",
   "metadata": {},
   "outputs": [
    {
     "name": "stderr",
     "output_type": "stream",
     "text": [
      "WARNING:errudite.utils.registrable:Register contains_quantity as PrimFunc: Overwritting name already in use for contains_quantity.\n"
     ]
    }
   ],
   "source": [
    "from errudite.build_blocks import PrimFunc\n",
    "from errudite.build_blocks.prim_funcs.linguistic import linguistic\n",
    "\n",
    "@PrimFunc.register()\n",
    "def contains_quantity(docs: Union['Target', Span]) -> bool:\n",
    "    \"\"\"\n",
    "    Detect the presence of quantity entities in the essay.\n",
    "    quantity entity: measurements or counts.\n",
    "    \"\"\"\n",
    "    # Use the linguistic function to extract entity types\n",
    "    entities = linguistic(docs, label='ent_type')\n",
    "    # print(entities)\n",
    "    # print(docs)\n",
    "    contains='QUANTITY' in entities\n",
    "    # Check if 'bottom' or 'top' is present in the extracted entity types\n",
    "    #print(contains)\n",
    "    return contains\n"
   ]
  },
  {
   "cell_type": "code",
   "execution_count": 27,
   "id": "6632b3dc-6b29-4cd8-8cc8-c09858031a48",
   "metadata": {},
   "outputs": [
    {
     "name": "stderr",
     "output_type": "stream",
     "text": [
      "INFO:errudite.build_blocks.wrapper:Parsed: FuncOp(contains_quantity):[ArgOp:essay]+[]\n",
      "WARNING:errudite.utils.store:Storing quantity_entities in Attribute: Overwritting name already in use.\n",
      "INFO:errudite.builts.attribute:Created attr: quantity_entities\n",
      "INFO:errudite.build_blocks.wrapper:Parsed: [BinOp](==):[[BuildBlockOp](attr):quantity_entities, True]\n",
      "WARNING:errudite.utils.store:Storing quantity in Group: Overwritting name already in use.\n",
      "INFO:errudite.builts.group:Created group: quantity\n"
     ]
    },
    {
     "name": "stdout",
     "output_type": "stream",
     "text": [
      "<class 'spacy.tokens.doc.Doc'>\n",
      "<class 'spacy.tokens.doc.Doc'>\n",
      "<class 'spacy.tokens.doc.Doc'>\n",
      "<class 'spacy.tokens.doc.Doc'>\n",
      "<class 'spacy.tokens.doc.Doc'>\n",
      "<class 'spacy.tokens.doc.Doc'>\n",
      "<class 'spacy.tokens.doc.Doc'>\n",
      "<class 'spacy.tokens.doc.Doc'>\n",
      "<class 'spacy.tokens.doc.Doc'>\n",
      "<class 'spacy.tokens.doc.Doc'>\n",
      "<class 'spacy.tokens.doc.Doc'>\n",
      "<class 'spacy.tokens.doc.Doc'>\n",
      "<class 'spacy.tokens.doc.Doc'>\n",
      "<class 'spacy.tokens.doc.Doc'>\n",
      "<class 'spacy.tokens.doc.Doc'>\n",
      "<class 'spacy.tokens.doc.Doc'>\n",
      "<class 'spacy.tokens.doc.Doc'>\n",
      "<class 'spacy.tokens.doc.Doc'>\n",
      "<class 'spacy.tokens.doc.Doc'>\n",
      "<class 'spacy.tokens.doc.Doc'>\n",
      "<class 'spacy.tokens.doc.Doc'>\n",
      "<class 'spacy.tokens.doc.Doc'>\n",
      "<class 'spacy.tokens.doc.Doc'>\n",
      "<class 'spacy.tokens.doc.Doc'>\n",
      "<class 'spacy.tokens.doc.Doc'>\n",
      "<class 'spacy.tokens.doc.Doc'>\n",
      "<class 'spacy.tokens.doc.Doc'>\n",
      "<class 'spacy.tokens.doc.Doc'>\n",
      "<class 'spacy.tokens.doc.Doc'>\n",
      "<class 'spacy.tokens.doc.Doc'>\n",
      "<class 'spacy.tokens.doc.Doc'>\n",
      "<class 'spacy.tokens.doc.Doc'>\n",
      "<class 'spacy.tokens.doc.Doc'>\n",
      "<class 'spacy.tokens.doc.Doc'>\n",
      "<class 'spacy.tokens.doc.Doc'>\n",
      "<class 'spacy.tokens.doc.Doc'>\n",
      "<class 'spacy.tokens.doc.Doc'>\n",
      "<class 'spacy.tokens.doc.Doc'>\n",
      "<class 'spacy.tokens.doc.Doc'>\n",
      "<class 'spacy.tokens.doc.Doc'>\n",
      "<class 'spacy.tokens.doc.Doc'>\n",
      "<class 'spacy.tokens.doc.Doc'>\n",
      "<class 'spacy.tokens.doc.Doc'>\n",
      "<class 'spacy.tokens.doc.Doc'>\n",
      "<class 'spacy.tokens.doc.Doc'>\n",
      "<class 'spacy.tokens.doc.Doc'>\n",
      "<class 'spacy.tokens.doc.Doc'>\n",
      "<class 'spacy.tokens.doc.Doc'>\n",
      "<class 'spacy.tokens.doc.Doc'>\n",
      "<class 'spacy.tokens.doc.Doc'>\n",
      "<class 'spacy.tokens.doc.Doc'>\n",
      "<class 'spacy.tokens.doc.Doc'>\n",
      "<class 'spacy.tokens.doc.Doc'>\n",
      "<class 'spacy.tokens.doc.Doc'>\n",
      "<class 'spacy.tokens.doc.Doc'>\n",
      "<class 'spacy.tokens.doc.Doc'>\n",
      "<class 'spacy.tokens.doc.Doc'>\n",
      "<class 'spacy.tokens.doc.Doc'>\n",
      "<class 'spacy.tokens.doc.Doc'>\n",
      "<class 'spacy.tokens.doc.Doc'>\n",
      "<class 'spacy.tokens.doc.Doc'>\n",
      "<class 'spacy.tokens.doc.Doc'>\n",
      "<class 'spacy.tokens.doc.Doc'>\n",
      "<class 'spacy.tokens.doc.Doc'>\n",
      "<class 'spacy.tokens.doc.Doc'>\n",
      "<class 'spacy.tokens.doc.Doc'>\n",
      "<class 'spacy.tokens.doc.Doc'>\n",
      "<class 'spacy.tokens.doc.Doc'>\n",
      "<class 'spacy.tokens.doc.Doc'>\n",
      "<class 'spacy.tokens.doc.Doc'>\n",
      "<class 'spacy.tokens.doc.Doc'>\n",
      "<class 'spacy.tokens.doc.Doc'>\n",
      "<class 'spacy.tokens.doc.Doc'>\n",
      "<class 'spacy.tokens.doc.Doc'>\n",
      "<class 'spacy.tokens.doc.Doc'>\n",
      "<class 'spacy.tokens.doc.Doc'>\n"
     ]
    },
    {
     "data": {
      "text/plain": [
       "[Group](quantity): \n",
       "\tCMD\t: attr:quantity_entities == TRUE\n",
       "\tCOUNT\t: 49"
      ]
     },
     "execution_count": 27,
     "metadata": {},
     "output_type": "execute_result"
    }
   ],
   "source": [
    "from errudite.builts import Attribute, Group\n",
    "\n",
    "# Create an attribute based on the location function\n",
    "attr = Attribute.create(\n",
    "    name=\"quantity_entities\",\n",
    "    description=\"Presence of quantity entities in the essay\",\n",
    "    cmd=\"contains_quantity(essay)\"\n",
    ")\n",
    "\n",
    "# Create a group that checks for the presence of location entities\n",
    "quantity_group = Group.create(\n",
    "    name=\"quantity\",\n",
    "    description=\"quantity entity detected\",\n",
    "    cmd=\"attr:quantity_entities == TRUE\",\n",
    "    attr_hash=Attribute.store_hash(),\n",
    "    group_hash=Group.store_hash()\n",
    ")\n",
    "quantity_group"
   ]
  },
  {
   "cell_type": "code",
   "execution_count": 28,
   "id": "f3e8a8bf-ef12-44fb-90e9-bb3b4622a1c8",
   "metadata": {},
   "outputs": [
    {
     "name": "stdout",
     "output_type": "stream",
     "text": [
      "{'predictor': 'FLAN_T5', 'perform': {'accuracy': 0.0, 'accuracy_PE': 0.40816326530612246, 'accuracy_KE': 0.3469387755102041, 'accuracy_LCE': 0.30612244897959184}}\n"
     ]
    }
   ],
   "source": [
    "count_group_list = []\n",
    "\n",
    "for key in quantity_group.get_instances():\n",
    "    count_group_list.append(Instance.get(key))\n",
    "\n",
    "predictor.evaluate_performance(count_group_list)\n",
    "print({\"predictor\": predictor.name, \"perform\": predictor.perform })"
   ]
  },
  {
   "cell_type": "code",
   "execution_count": 31,
   "id": "4df2381c-c05f-41c5-b812-cab823ee2894",
   "metadata": {},
   "outputs": [],
   "source": [
    "from errudite.build_blocks import PrimFunc\n",
    "from errudite.build_blocks.prim_funcs.linguistic import linguistic\n",
    "\n",
    "@PrimFunc.register()\n",
    "def contains_ordinal(docs: Union['Target', Span]) -> bool:\n",
    "    \"\"\"\n",
    "    Detect the presence of ordinal entities in the essay.\n",
    "    ordinal entity: measurements or counts.\n",
    "    \"\"\"\n",
    "    # Use the linguistic function to extract entity types\n",
    "    entities = linguistic(docs, label='ent_type')\n",
    "    # print(entities)\n",
    "    # print(docs)\n",
    "    contains='ORDINAL' in entities\n",
    "    # Check if 'bottom' or 'top' is present in the extracted entity types\n",
    "    #print(contains)\n",
    "    return contains\n"
   ]
  },
  {
   "cell_type": "code",
   "execution_count": 32,
   "id": "1a361063-14be-4218-800d-b0a51f0d2225",
   "metadata": {},
   "outputs": [
    {
     "name": "stderr",
     "output_type": "stream",
     "text": [
      "INFO:errudite.build_blocks.wrapper:Parsed: FuncOp(contains_ordinal):[ArgOp:essay]+[]\n",
      "INFO:errudite.builts.attribute:Created attr: ordinal_entities\n",
      "INFO:errudite.build_blocks.wrapper:Parsed: [BinOp](==):[[BuildBlockOp](attr):ordinal_entities, True]\n",
      "INFO:errudite.builts.group:Created group: ordinal\n"
     ]
    },
    {
     "name": "stdout",
     "output_type": "stream",
     "text": [
      "<class 'spacy.tokens.doc.Doc'>\n",
      "<class 'spacy.tokens.doc.Doc'>\n",
      "<class 'spacy.tokens.doc.Doc'>\n",
      "<class 'spacy.tokens.doc.Doc'>\n",
      "<class 'spacy.tokens.doc.Doc'>\n",
      "<class 'spacy.tokens.doc.Doc'>\n",
      "<class 'spacy.tokens.doc.Doc'>\n",
      "<class 'spacy.tokens.doc.Doc'>\n",
      "<class 'spacy.tokens.doc.Doc'>\n",
      "<class 'spacy.tokens.doc.Doc'>\n",
      "<class 'spacy.tokens.doc.Doc'>\n",
      "<class 'spacy.tokens.doc.Doc'>\n",
      "<class 'spacy.tokens.doc.Doc'>\n",
      "<class 'spacy.tokens.doc.Doc'>\n",
      "<class 'spacy.tokens.doc.Doc'>\n",
      "<class 'spacy.tokens.doc.Doc'>\n",
      "<class 'spacy.tokens.doc.Doc'>\n",
      "<class 'spacy.tokens.doc.Doc'>\n",
      "<class 'spacy.tokens.doc.Doc'>\n",
      "<class 'spacy.tokens.doc.Doc'>\n",
      "<class 'spacy.tokens.doc.Doc'>\n",
      "<class 'spacy.tokens.doc.Doc'>\n",
      "<class 'spacy.tokens.doc.Doc'>\n",
      "<class 'spacy.tokens.doc.Doc'>\n",
      "<class 'spacy.tokens.doc.Doc'>\n",
      "<class 'spacy.tokens.doc.Doc'>\n",
      "<class 'spacy.tokens.doc.Doc'>\n",
      "<class 'spacy.tokens.doc.Doc'>\n",
      "<class 'spacy.tokens.doc.Doc'>\n",
      "<class 'spacy.tokens.doc.Doc'>\n",
      "<class 'spacy.tokens.doc.Doc'>\n",
      "<class 'spacy.tokens.doc.Doc'>\n",
      "<class 'spacy.tokens.doc.Doc'>\n",
      "<class 'spacy.tokens.doc.Doc'>\n",
      "<class 'spacy.tokens.doc.Doc'>\n",
      "<class 'spacy.tokens.doc.Doc'>\n",
      "<class 'spacy.tokens.doc.Doc'>\n",
      "<class 'spacy.tokens.doc.Doc'>\n",
      "<class 'spacy.tokens.doc.Doc'>\n",
      "<class 'spacy.tokens.doc.Doc'>\n",
      "<class 'spacy.tokens.doc.Doc'>\n",
      "<class 'spacy.tokens.doc.Doc'>\n",
      "<class 'spacy.tokens.doc.Doc'>\n",
      "<class 'spacy.tokens.doc.Doc'>\n",
      "<class 'spacy.tokens.doc.Doc'>\n",
      "<class 'spacy.tokens.doc.Doc'>\n",
      "<class 'spacy.tokens.doc.Doc'>\n",
      "<class 'spacy.tokens.doc.Doc'>\n",
      "<class 'spacy.tokens.doc.Doc'>\n",
      "<class 'spacy.tokens.doc.Doc'>\n",
      "<class 'spacy.tokens.doc.Doc'>\n",
      "<class 'spacy.tokens.doc.Doc'>\n",
      "<class 'spacy.tokens.doc.Doc'>\n",
      "<class 'spacy.tokens.doc.Doc'>\n",
      "<class 'spacy.tokens.doc.Doc'>\n",
      "<class 'spacy.tokens.doc.Doc'>\n",
      "<class 'spacy.tokens.doc.Doc'>\n",
      "<class 'spacy.tokens.doc.Doc'>\n",
      "<class 'spacy.tokens.doc.Doc'>\n",
      "<class 'spacy.tokens.doc.Doc'>\n",
      "<class 'spacy.tokens.doc.Doc'>\n",
      "<class 'spacy.tokens.doc.Doc'>\n",
      "<class 'spacy.tokens.doc.Doc'>\n",
      "<class 'spacy.tokens.doc.Doc'>\n",
      "<class 'spacy.tokens.doc.Doc'>\n",
      "<class 'spacy.tokens.doc.Doc'>\n",
      "<class 'spacy.tokens.doc.Doc'>\n",
      "<class 'spacy.tokens.doc.Doc'>\n",
      "<class 'spacy.tokens.doc.Doc'>\n",
      "<class 'spacy.tokens.doc.Doc'>\n",
      "<class 'spacy.tokens.doc.Doc'>\n",
      "<class 'spacy.tokens.doc.Doc'>\n",
      "<class 'spacy.tokens.doc.Doc'>\n",
      "<class 'spacy.tokens.doc.Doc'>\n",
      "<class 'spacy.tokens.doc.Doc'>\n",
      "<class 'spacy.tokens.doc.Doc'>\n"
     ]
    },
    {
     "data": {
      "text/plain": [
       "[Group](quantity): \n",
       "\tCMD\t: attr:quantity_entities == TRUE\n",
       "\tCOUNT\t: 49"
      ]
     },
     "execution_count": 32,
     "metadata": {},
     "output_type": "execute_result"
    }
   ],
   "source": [
    "from errudite.builts import Attribute, Group\n",
    "\n",
    "# Create an attribute based on the location function\n",
    "attr = Attribute.create(\n",
    "    name=\"ordinal_entities\",\n",
    "    description=\"Presence of ordinal entities in the essay\",\n",
    "    cmd=\"contains_ordinal(essay)\"\n",
    ")\n",
    "\n",
    "# Create a group that checks for the presence of ordinal entities\n",
    "ordinal_group = Group.create(\n",
    "    name=\"ordinal\",\n",
    "    description=\"ordinal entity detected\",\n",
    "    cmd=\"attr:ordinal_entities == TRUE\",\n",
    "    attr_hash=Attribute.store_hash(),\n",
    "    group_hash=Group.store_hash()\n",
    ")\n",
    "quantity_group"
   ]
  },
  {
   "cell_type": "code",
   "execution_count": 33,
   "id": "a269c7e6-1fcf-42f6-9d54-40937d14759b",
   "metadata": {},
   "outputs": [
    {
     "name": "stdout",
     "output_type": "stream",
     "text": [
      "{'predictor': 'FLAN_T5', 'perform': {'accuracy': 0.0, 'accuracy_PE': 0.35714285714285715, 'accuracy_KE': 0.2857142857142857, 'accuracy_LCE': 0.2857142857142857}}\n"
     ]
    }
   ],
   "source": [
    "count_group_list = []\n",
    "\n",
    "for key in ordinal_group.get_instances():\n",
    "    count_group_list.append(Instance.get(key))\n",
    "\n",
    "predictor.evaluate_performance(count_group_list)\n",
    "print({\"predictor\": predictor.name, \"perform\": predictor.perform })"
   ]
  },
  {
   "cell_type": "code",
   "execution_count": 42,
   "id": "201923b0-16ab-496e-9654-42cdff99d186",
   "metadata": {},
   "outputs": [
    {
     "name": "stderr",
     "output_type": "stream",
     "text": [
      "WARNING:errudite.utils.registrable:Register contains_cardinal as PrimFunc: Overwritting name already in use for contains_cardinal.\n"
     ]
    }
   ],
   "source": [
    "from errudite.build_blocks import PrimFunc\n",
    "from errudite.build_blocks.prim_funcs.linguistic import linguistic\n",
    "\n",
    "@PrimFunc.register()\n",
    "def contains_cardinal(docs: Union['Target', Span]) -> bool:\n",
    "    \"\"\"\n",
    "    Detect the presence of quantity entities in the essay.\n",
    "    quantity entity: measurements or counts.\n",
    "    \"\"\"\n",
    "    # Use the linguistic function to extract entity types\n",
    "    entities = linguistic(docs, label='ent_type')\n",
    "    print(entities)\n",
    "    #print(docs)\n",
    "    contains='CARDINAL' in entities\n",
    "    # Check if 'bottom' or 'top' is present in the extracted entity types\n",
    "    #print(contains)\n",
    "    return contains\n"
   ]
  },
  {
   "cell_type": "code",
   "execution_count": 43,
   "id": "f41ce6ac-2e37-4c7e-a118-76e2cd10310c",
   "metadata": {},
   "outputs": [
    {
     "name": "stderr",
     "output_type": "stream",
     "text": [
      "INFO:errudite.build_blocks.wrapper:Parsed: FuncOp(contains_cardinal):[ArgOp:essay]+[]\n",
      "WARNING:errudite.utils.store:Storing cardinal_entities in Attribute: Overwritting name already in use.\n",
      "INFO:errudite.builts.attribute:Created attr: cardinal_entities\n",
      "INFO:errudite.build_blocks.wrapper:Parsed: [BinOp](==):[[BuildBlockOp](attr):cardinal_entities, True]\n",
      "WARNING:errudite.utils.store:Storing cardinal in Group: Overwritting name already in use.\n",
      "INFO:errudite.builts.group:Created group: cardinal\n"
     ]
    },
    {
     "name": "stdout",
     "output_type": "stream",
     "text": [
      "<class 'spacy.tokens.doc.Doc'>\n",
      "['', '', '', '', '', '', '', '', 'QUANTITY', 'QUANTITY', '', '', '', '', '', '', '', '', '', '', '', '', '', '', '', '', '', '', '', '', '', '', '', '', '', '', '', '', '', '', '', '', '', '', '', '', '', '', '', '', '', '', '', '', '', '', '', '', 'GPE', '', '', '', '', 'ORG', '', '', '', '', '', '', '', '', '', 'QUANTITY', 'QUANTITY', '', '', '', '', '', '', '', '', '', '', '', '', '', '', '', '', '', '', '', '', '', '', '', '', '', '', '', '', '', '', '', '', 'LAW', 'LAW', 'LAW', 'LAW', '', '', '', '', '', '', '', '', '', '', '', '', '', '', '', '', '', '', '', '', '', '', '', '', '', '', '', '', '', '', '', '', '', 'ORG', 'ORG', 'ORG', '', '', '', '', '', '', '', '', '', '', '', '', '', '', '', '', '', '', '', 'CARDINAL', '', '', '', '', '', '', '', '', '', '', '', '', '', '', '', '', '', '', '', '', '', '', '', '', '', '', 'QUANTITY', 'QUANTITY', '', '', '', '', '', '', '', '', '', '', '', '', '', '', '', '', '', '', '', '', '', '', '', '', '', '', '', '', '', '', '', '', '', '', '', '', '', '', '', '', '', '', '', '', '', '', '', '', '', '', '', '', '', '', '', '', '', '', '', '', '', '', '', '', '', '', '']\n",
      "<class 'spacy.tokens.doc.Doc'>\n",
      "['', '', '', '', '', '', '', '', '', '', '', '', '', '', '', '', '', '', '', '', '', '', '', '', '', '', '', '', '', '', '', '', '', '', '', '', '', '', '', '', '', '', '', '', '', '', '', '', '', '', '', '', '', '', '', 'QUANTITY', 'QUANTITY', '', '', '', '', '', '', 'PERSON', '', '', '', '', '', '', '', '', '', '', '', '', '', '', '', '', '', '', 'CARDINAL', '', '', '', '', '', '', '', '', '', '', '', '', '', '', '', '', '', '', '', '', '', '', '', '', '', '', '', '', '', '', '', '', '', '', '', '', '', '', '', '', '', '', '', '', '', '', '', '', '', '', '', '', '', '', '', '', '', '', '', '', '', '', '', '', '', '', '', '', '', '', '']\n",
      "<class 'spacy.tokens.doc.Doc'>\n",
      "['', '', '', '', '', '', '', '', '', '', '', '', '', '', '', '', '', '', '', '', '', '', '', '', '', '', '', '', '', '', '', '', '', '', 'CARDINAL', '', '', '', '', '', '', '', '', '', '', '', '', '', '', '', '', '', '', '', '', '', '', '', '', '', '', '', '', '', '', '', '', '', 'QUANTITY', 'QUANTITY', '', '', '', '', '', '', '', '', '', 'GPE', '', '', '', '', '', '', '', '', '', '', '', '', '', '', '', '', '', '', '', '', '', '', '', '', '', '', '', '', '', '', '', '', '', '', '', '', '', '', '', '', '', '', '', '', '', '', '', '', '', '', '', '', '', '', '', '', '', '', '', '', '', '', '', '', '', '', '', '', '', '', '', '', '', '', '', '', '', '', '', '', '', '', '', '', '', '', '', '', '', '', '', '', '', '', '', '', '', '', '', '', '', 'QUANTITY', 'QUANTITY', 'QUANTITY', 'QUANTITY', '', '', '', '', '', '', '', '', '', '', '', '', '', '', '', '', '', '', '', '', '', '', '', '', '', '', '', '', 'GPE', '', '', '', '', '', '', '', '', '', '', '', '', '', '', '', '', '', '', '', '', '']\n",
      "<class 'spacy.tokens.doc.Doc'>\n",
      "['', '', '', '', '', '', '', '', '', 'CARDINAL', '', '', '', '', '', '', '', '', '', '', '', '', '', '', '', '', '', '', 'CARDINAL', '', '', '', '', '', '', '', '', '', '', '', '', '', '', '', '', '', '', '', '', '', '', '', '', '', '', '', '', '', '', '', '', '', '', '', '', '', '', '', '', '', '', '', '', '', 'LAW', 'LAW', 'LAW', 'LAW', 'LAW', 'LAW', '', '', '', '', '', '', '', '', '', '', '', '', '', '', '', '', '', '', '', '', '', '', '', '', '', '', '', '', '', '', '', '', '', '', '', '', '', '', '', '', '', '', '', '', '', '', '', '', '', '', '', '', '', '', '', '', '', '', '', '', '', '', '', '', '', '', '', '', '', '', '', '', '', '', '', '', '', '', '', '', '', '', '', '', '', '', '', '', '', '']\n",
      "<class 'spacy.tokens.doc.Doc'>\n",
      "['', '', '', '', '', '', '', '', '', '', '', '', '', '', 'ORG', '', '', '', '', '', '', '', '', '', '', '', '', '', '', '', '', '', '', '', '', '', '', '', '', '', '', '', '', '', '', '', '', '', '', '', '', '', '', '', '', '', '', '', '', '', '', '', '', '', '', '', '', '', '', '', '', '', '', '', '', '', '', '', '', '', '', '', '', '', '', '', '', '', '', '', '', '', '', '', '', '', '', '', '', '', '', '', '', '', '', '', '', '', '', '', '', '']\n",
      "<class 'spacy.tokens.doc.Doc'>\n",
      "['', '', '', '', '', '', '', '', '', 'CARDINAL', '', '', '', '', '', '', '', '', '', '', '', '', '', '', '', '', '', '', '', '', '', '', '', '', '', '', '', '', '', '', '', '', '', '', '', '', '', '', '', '', '', '', '', '', '', '', '', '', '', '', '', '', '', '', '', '', '', '', '', '', '', '', '', '', '', '', '', '', '', '', 'ORG', 'ORG', 'ORG', '', '', '', '', 'ORG', 'ORG', '', '', '', '', '', '', '', 'ORG', 'ORG', 'ORG', '', '', 'ORG', 'ORG', 'ORG', '', '', '', '', '', 'ORG', 'ORG', '', '', '', '', '', '', '', '', '', '', '', '', '', '', '', '', '', '', '', '', '', '', '', '', '', '', 'GPE', '', '', '', '', '', '', '', '', '', '', '', '', '', '', '', '', '', '', '', '', '', '', '', '', '', '', '', '', '', '', '', '', '', '', '', '', '', '', '', '', '', '', '', '', '', '', '', '', '', 'CARDINAL', '', '', '', '', '', '', '', '', '', '', '', '', '', '', '', '', '', '', '', '', '', '', '', '', '', '', '', '', '', '', '', '', '', '', '', '', '', '', '', '', '', '', '', '', '', '', '', '', '', '', '', '', '', '', '', '', '', '', '', '', '', '']\n",
      "<class 'spacy.tokens.doc.Doc'>\n",
      "['', '', '', '', '', '', '', '', '', '', '', '', '', '', '', '', '', '', '', '', '', '', '', '', '', '', '', '', '', '', '', '', '', '', '', '', '', '', '', '', '', '', '', '', '', 'CARDINAL', '', '', '', '', '', '', '', '', '', '', '', '', '', '', '', '', '', '', '', '', '', '', '', '', '', '', '', '', '', '', '', '', '', '', '', '', '', '', '', '', '', '', '', '', '', '', '', '', '', '', 'LAW', 'LAW', 'LAW', 'LAW', 'LAW', 'LAW', '', '', '', '', '', '', '', '', '', '', '', '', '', '', '', '', '', '', '', '', '', '', '', '', '', '', '', '', '', '', '', '', '', '', '', '', '', '', '', '', '', '', '', '', '', '', '', '', '', '', '', '', '', 'QUANTITY', 'QUANTITY', '', '', '', '', '', '', '', '', '', '', '', 'ORDINAL', '', '', '', '', '', '', '', '', '', '', '', '', '', '', '', '', '', '', '', '', '', '', '', '', '', '', '', '', '', '', '', '', '', '', '', '', '', '', '', '', '', '', '', '', '', '', '', '', '', '', '', '', '', '', '', '', '', '', '', '', '', '', '', '', '', '', '', '', '', '', '', '', '', 'CARDINAL', '', '', '', '', '', '', '', '', '', '', '', '', '', '', '', '', '', '', '', '', '', '', '', '', '', '', '', '', '', '', '', '', '', '', '', '', '', '', '', '', '', '', '', '', '', '', '', '', '', '', '', '', '', '', '', '', '', '', '', '', '', '', '', '', '', '', '', '', '', '']\n",
      "<class 'spacy.tokens.doc.Doc'>\n",
      "['', '', '', '', '', '', '', '', '', '', '', '', '', '', '', '', '', '', '', '', '', '', '', '', '', '', '', '', '', '', '', '', '', '', '', '', '', '', 'CARDINAL', 'ORG', '', '', '', '', '', '', '', '', '', '', '', '', '', '', '', '', '', '', '', '', '', '', '', '', '', '', '', '', '', '', '', '', '', '', '', '', '', '', '', '', '', '', '', '', '', '', '', '', '', '', '', '', '', '', '', '', '', '', '', '', '', '', '', '', '', '', '', '', '', '', '', '', '', '', '', '', '', '', '', 'CARDINAL', '', '', '', '', '', '', '', '', '', '', '', '', 'CARDINAL', '', '', '', '', '', '', '', '', '', '', '', '', '', '', '', '', '', '', '', '', '', '', '']\n",
      "<class 'spacy.tokens.doc.Doc'>\n",
      "['', '', '', '', '', '', '', '', '', '', '', '', '', '', '', '', '', '', '', '', '', '', '', '', '', '', '', '', '', '', '', '', '', '', '', '', '', '', '', '', '', '', 'QUANTITY', 'QUANTITY', '', '', '', '', '', '', '', '', '', '', '', '', '', '', '', '', '', '', '', '', '', '', '', '', '', '', '', '', '', '', '', '', '', '', '', '', '', '', 'CARDINAL', 'CARDINAL', 'CARDINAL', 'CARDINAL', '', '', '', '', '', '', 'ORG', '', '', '', '', '', '', '', '', '', '', 'PRODUCT', '', '', '', '', '', '', '', '', '', '', '', '', '', '', '', '', '', '', '', '', '', '', '', '', '', '', '', '', '', '', '', '', '', '', '', '', '', '', '', '', '', '', '', '', '', 'TIME', 'TIME', 'TIME', 'TIME', '', '', '', '', '', '', '', '', '', '', '', '', '', '', '', '', '', '', '', '', '', '', '', '', '', '', '', '', '', '', '', '', '', '', '', '', '', '', '', '', '', '', '', '', '', '', '', '', '', '', '', '', 'ORG', '', '', '', '', '', '', '', '', '', '', '', '', '', '', '', '', '', '', '', '', '', '', '', '', '', '', '', '', '', '', '', '', '', '', '', '', '', '', '', '', '', '', '', '', '', '', '', '', '', '', '', '', '', '', '', '', '', '', '', '', '', '', '', '', '', '', '', '', '', '', '', '', '', '', '', '', '', '', '', '', '', '', '', '', '', '', '', '', '', '', '', 'ORG', '', '', '', '', '', '', '', '', '', '', '', '', '', '', '', '', '', '', '', '', '', '', '', '', '', '', '', '', '', '', '', '', '', '', '', '', '', '', '', '', '', '', '', '', '', '', '', '', '', '', '', 'QUANTITY', 'QUANTITY', '', '', '', '', '', '', '', '', '', '', '', '', '', '', '', '', '', '', '', '', '', '', '', '', '', '', '', '', '', '', '', '', '', '', '', '', '', '', '', '', '', '', '', '', '', '', '', '', '', '', '', '', '', '', '', '', '', '', '', '', '', '', '', '', '', '', '', '', '', '', '', '', '', '', '', '', '', '', '', '', '', '', '', '', '', '', '', '', '', '', '', '', '', '', '', '', '', '', '', '']\n",
      "<class 'spacy.tokens.doc.Doc'>\n",
      "['', '', '', '', '', '', '', '', '', '', '', '', '', '', '', '', '', '', '', '', '', '', 'GPE', '', '', '', 'PERSON', '', '', '', '', '', '', '', '', '', '', '', '', '', '', '', '', '', '', '', '', '', '', '', '', '', '', '', '', '', '', '', '', '', '', '', '', '', '', '', '', '', '', '', '', '', '', '', '', '', '', '', '', '', '', '', '', '', '', '', '', '', '', '', '', '', '', '', '', '', '', '', '', '', '', '', '', '', '', '', '', '', '', '', '', '', 'QUANTITY', 'QUANTITY', '', '', '', '', '', '', '', '', '', '', '', '', '', '', '', '', '', '', '', '', '', '', '', '', '', '', '', '', '', '', '', '', '', '', '', '', '', '', '', '', '', '', '', '', '', '', '', '', '', '', '', '', '', '', '', '', 'CARDINAL', 'CARDINAL', '', '', '', '', '', '', '', '', '', '', '', '', '', '', '', '', '', '', '', '', '', '', '', '', '', '', '', '', '', '', '', '', '', '', '', '', '', '', '', '', '', '', '', '', '', '', '', '', '', '', '', '', '', '', '', '', '', '', '', '', '', '', '', '', '', '', '', '', '', '', '', '', '', '', '', '', '', '', '', '', '', '', '', '', '', '', '', 'QUANTITY', 'QUANTITY', '', '', '', '', '', '', '', '', '', '', '', '', '', '', '', '', '', '', '', '', '', '', '', '', '', '', '', '', '', '', '', '', '', '', '', '', 'QUANTITY', 'QUANTITY', '', '', '', '', '', '', '', '', '', '', '', '', '', '', '', '', '', '', '', '', '', '', '', '', '', '', '', '', '', '', '', '', '', '', '', '', '', '', '', '', '', '', '', '', '', '', '', '', '', '', '', '', '', '', '', '', '', '', '', '', '', '', '', '', '', '', '', '', '', '', '', '', '', '', '', '', '', '', '', '', '', '', '', '', '', '', '', '', '', '', '', '', '', '', '', '', '', '', '', '', '', '', '', '', '', '', '', '', '', '', '', '', '', '', '', '', '', '', '', '', '', '', '', '', '', '', '', '', '', '', '', '', '', '', '']\n",
      "<class 'spacy.tokens.doc.Doc'>\n",
      "['', '', '', '', '', '', '', '', '', '', '', '', '', '', '', '', '', '', '', '', '', '', '', '', '', '', '', '', '', '', '', '', '', '', '', '', '', '', '', '', 'CARDINAL', '', '', 'CARDINAL', '', '', '', '', '', '', '', '', '', 'QUANTITY', 'QUANTITY', '', '', '', '', '', '', '', '', '', '', '', '', '', '', '', '', '', '', '', '', '', '', '', '', '', '', '', '', '', '', '', '', '', '', '', '', '', '', '', '', '', '', '', '', '', '', '', '', '', '', '', '', '', '', '', '', '', '', '', '', '', '', '', '']\n",
      "<class 'spacy.tokens.doc.Doc'>\n",
      "['', '', '', '', 'QUANTITY', 'QUANTITY', '', '', '', '', '', '', '', '', '', '', '', '', '', '', '', '', '', '', '', '', '', '', '', '', '', '', '', '', '', '', '', '', '', 'CARDINAL', '', '', '', '', '', '', '', '', '', '', '', '', '', '', '', '', '', '', '', '', '', '', '', '', '', '', '', '', '', '', '', '', '', '', '', '', '', 'PERSON', 'PERSON', '', 'CARDINAL', '', '', '', '', '', '', '', '', '', '', '', '', '', '', '', '', '', '', '', '', '', '', '', '', '', '', '', '', '', '', '', '', '', '', '', '', '', '', '', '', '', '', '', '', '', '', '', '', '', '', '', '', '', '', '', '', '', '', '', '', '', '', '', '', '', '', '', '', '', '', '', '', '', '', '', '', 'CARDINAL', '', '', '', '', '', '', '', 'QUANTITY', 'QUANTITY', '', '', '', '', '', '', '', '', '', '', '', '', '', '', '', '', '', 'CARDINAL', '']\n",
      "<class 'spacy.tokens.doc.Doc'>\n",
      "['', '', '', '', '', '', '', '', '', '', '', '', '', '', '', '', '', '', '', '', '', '', '', '', '', '', '', '', '', '', '', '', '', '', '', '', '', '', '', '', '', 'CARDINAL', '', '', '', '', '', '', '', '', '', '', '', '', '', '', '', '', '', 'PERSON', '', '', '', '', '', '', '', '', '', '', '', '', '', '', '', '', '', '', '', '', '', '', '', '', '', '', '', '', '', '', '', '', '', '', '', '', '', '', '', '', '', '', '', 'ORG', 'ORG', '', '', '', 'ORG', 'ORG', '', '', 'ORG', 'ORG', '', '', 'ORG', 'ORG', '', '', 'ORG', 'ORG', '', '', '', '', '', '', '', '', '', '', '', '', '', 'ORG', 'ORG', '', '', '', 'ORG', 'ORG', '', '', '', '', 'ORG', 'ORG', '', '', '', '', '', '', '', '', '', '', '', '', '', '', '', '', 'ORG', 'ORG', '', '']\n",
      "<class 'spacy.tokens.doc.Doc'>\n",
      "['', '', '', '', '', '', 'ORG', '', '', '', '', 'ORG', '', '', '', '', '', '', '', '', '', '', '', '', 'ORG', '', '', '', '', '', '', '', '', '', '', '', '', '', '', '', '', '', '', '', '', '', '', '', '', '', '', '', '', '', '', '', '', '', '', '', '', '', '', '', '', '', '', '', '', '', '', '', '', 'GPE', '', '', 'ORG', '', '', '', '', '', '', '', '', '', '', '', 'GPE', '', '', '', '', '', '', '', '', '', '', '', '', '', '', '', '', '', '', 'PERSON', 'PERSON', '', '', '', '', '', '', '', '', '', '', '', '', '', 'GPE', '', 'GPE', '', '', '', '', '', '', '', '', '', '', '', '', '', '', '', '', '', '', '', '', '', '', '', '', '', '', '', '', '', '', '', '', '', '', '', '', '', '', '', '', '', '', '', '', '', '', '', '', '', '', '', '', '', '', '', '', '', '', '', '', '', '', '', '', '', '', '', '', '', '', '', '', '', '', '', '', '', '', '', '', '', '', '', '', '', '', '', 'ORG', '', '', '', '', 'ORG', '', 'ORG', '', '', 'ORG', '', '', '', '', '', '', '', '', 'GPE', '', 'GPE', '', '', '', '', '', '', '', '', '', '', '', '', '', '', '', '', '', '', '', '', '', '', '', '', '', '', '', '', '', '', '', '', 'ORG', '', '', '', '', '', '', '', '', 'ORG', '', '', '', '', '', '', '', '', '', '', '', '', '', '', '', '', '', '', '', '', '', '', '', '', '', '', '', '', '', '', '', '', 'ORG', '', '', '', '', '', '', '', '', '', '', '', '', '', '', '', '', '', '', '', '', '', 'ORG', '', '', '', '', '', '']\n",
      "<class 'spacy.tokens.doc.Doc'>\n",
      "['', '', '', '', '', '', '', '', '', '', '', '', '', '', '', '', '', '', '', '', '', '', '', '', '', '', '', '', '', '', '', '', '', '', '', 'QUANTITY', 'QUANTITY', '', '', '', '', '', '', '', '', '', '', '', '', '', '', '', '', '', '', '', '', '', '', '', '', '', '', '', '', '', '', '', '', '', '', '', '', 'QUANTITY', 'QUANTITY', '', '', '', '', '', '', '', '', '', '', '', '', '', '', '', '', '', '', '', '', '', '', '', '', '', '', '', '', '', '', '', '', '', '', '', '', '', '', '', '', '', '', '', '', '', '', '', '', '', '', '', '', '', '', '', '', '', '', '', '', '', '', '', '', '', '', '', '', '', '', '', '', '', '', '', '', '', '', '', '', '', '', '', '', '', '', '', '', '', '', '', '', '', '', '', '']\n",
      "<class 'spacy.tokens.doc.Doc'>\n",
      "['', '', '', '', '', '', '', '', '', '', '', '', '', '', '', '', '', '', '', '', '', '', '', '', '', '', '', '', '', '', '', '', '', '', '', '', '', '', '', '', '', '', '', '', '', '', '', '', '', '', '', '', '', '', '', '', '', '', '', '', '', '', '', '', '', '', '', '', '', '', '', '', '', '', '', '', '', '', '', '', '', '', '', '', '', '', '', '', '', '', '', '', '', '', '', '', '', '', '', '', '', '', '', '', '', '', '', '', '', '', '', '', '', '', '', '', '', '', '', '', '', '', '', '', '', '', '', '', '', '', '', '', '', '', '', '', '', '', '', '', '', '', '', '', '', '', '', '', '', '', '', '', '', '', '', '', '', '', '', '', '', '', '', '', '', '', '', '', '', '', '', '', '', '', '', '', '', '', '', '', '', '', 'CARDINAL', '']\n",
      "<class 'spacy.tokens.doc.Doc'>\n",
      "['', '', '', '', '', '', '', '', '', '', '', '', '', '', '', '', '', '', '', '', '', '', '', '', '', '', '', '', '', '', '', '', '', '', '', '', '', '', '', '', '', '', '', '', '', 'ORG', 'ORG', '', '', '', '', '', '', '', '', '', '', '', '', '', '', '', '', '', '', '', '', '', '', '', '', '', '', '', '', '', '', '', '', '', '', '', 'QUANTITY', 'QUANTITY', '', '', '', '', '', '', '', '', '', '', '', '', '', '', '', '', '', '', '', '', '', '', '', '', '', '', '', '', '', '', '', '', '', '', '', '', '', '', '', '', '', '', '', '', '', '', '', '', '', '', '', '', '', '', '', '']\n",
      "<class 'spacy.tokens.doc.Doc'>\n",
      "['', '', '', '', '', '', '', '', '', '', 'ORDINAL', '', '', '', '', '', '', '', '', '', '', '', '', '', '', '', '', '', '', '', 'CARDINAL', '', '', '', '', '', '', '', '', '', '', '', '', '', '', '', '', '', '', '', '', '', '', '', '', '', '', '', '', '', '', '', '', '', '', '', '', '', '', '', '', '', '', '', '', '', '', '', '', '', '', '', '', '', '', '', 'QUANTITY', 'QUANTITY', '', '', '', '', '', '', '', '', '', '', 'GPE', '', '', '', '', '', '', '', '', '', '', '', '', '', '', '', '', '', '', '', '', '', '', '', '', '', '', '', '', '', '', '', '', '', '', '', '', '', '', '', '', '', '', '', '', 'CARDINAL', '', '', '', '', '', '', '', '', '', '', '', '', '', '', '', '', '', '', '', '', '', '', '', '', '', '', '', '', '', '', '', '', '', '', '', '', '', '', '', '', '', '', '', '', '', '', '', '', '', '', '', '', '', '', '', '', '', '', '', '', '', '', '', '', '', '', '', '', '', '', '', '', '', '', '', '', '', '', '', 'GPE', '', '', '', '', '', '', '', 'GPE', '', '', 'CARDINAL', '', '', '', '', '', '', '', '', '', '', '', '', '', '', '', '', '', '', '', '', '', '', '', '', '', 'CARDINAL', '', '', '']\n",
      "<class 'spacy.tokens.doc.Doc'>\n",
      "['', '', '', '', '', '', '', '', '', '', '', 'QUANTITY', 'QUANTITY', '', '', '', '', '', '', '', '', '', '', '', '', '', '', '', '', '', '', '', '', '', '', '', '', '', '', '', '', '', '', 'CARDINAL', '', '', '', '', '', '', '', '', '', '', '', '', '', '', '', '', '', '', '', '', '', '', '', '', '', '', '', '', '', 'LAW', 'LAW', 'LAW', 'LAW', 'LAW', 'LAW', '', '', '', '', '', '', '', '', '', '', '', '', '', '', '', '', '', '', '', '', '', '', '', '', '', '', 'ORG', 'ORG', '', '', '', '', '', 'QUANTITY', 'QUANTITY', '', '', '', '', '', '', '', '', '', '', '', '', '', '', '', '', '', '', '', '', '', '', '', '', '', '', '', '', '', '', '', '', '', '', '', '', '', '', '', '', '', '', '', '', '', '', '', '', '', '', '', '', '', '', '', '', '', '', '', '', '', '', '', '', '', 'PERSON', '', '', '', '', '', '', '', '', '', 'QUANTITY', 'QUANTITY', '', '', '', '', '', '', '', '', '', '', '', '', '', '', '', '', '', '', 'LAW', 'LAW', 'LAW', 'LAW', 'LAW', 'LAW', '']\n",
      "<class 'spacy.tokens.doc.Doc'>\n",
      "['', '', '', '', '', '', '', 'QUANTITY', 'QUANTITY', '', '', '', '', '', '', '', '', '', '', '', '', '', '', '', '', '', '', '', '', '', '', '', '', '', '', '', '', '', '', '', '', '', '', '', '', '', '', 'QUANTITY', 'QUANTITY', '', '', '', '', '', '', '', '', '', '', '', '', '', '', '', '', '', '', '', '', '', '', '', '', '', '', '', '', '', '', '', '', '', '', '', '', '', '', '', '', '', '', '', '', '', '', '', '', '', '', '', '', '', '', '', '', '', '', '', '', '', '', '', '', '', '', '', '', '', '', '', '', '', '', '', '', '', '', '', '', '', '', '', '', '', '', '', '', '', '', '', '', '', '', '', '', '', '', '', '', '', '', '', '', '', '', '', '', '', '', '', '', '', '', '', '', '', '', '', '', '', '', '', '', '', '']\n",
      "<class 'spacy.tokens.doc.Doc'>\n",
      "['', '', '', '', 'ORDINAL', '', '', '', '', '', '', '', '', '', '', '', '', '', '', '', '', '', '', '', '', '', '', '', '', '', '', '', '', '', '', '', '', '', '', '', '', '', '', '', '', '', 'ORG', '', '', '', '', '', '', '', 'ORG', '', '', '', '', '', '', '', '', '', '', '', '', '', '', 'QUANTITY', 'QUANTITY', '', '', '', '', '', '', '', '', 'CARDINAL', '', '', '', '', '', '', '', '', '', '', 'NORP', '', '', 'CARDINAL', 'ORG', '', '', '', '', '', '', '', '', '', '', '', '', '', '', '', '', '', '', '', '', '', '', '', '', '', '', '', '', '', '', '', '', '', '', '', '', '', '', '', '', '', '', '', '', 'CARDINAL', 'CARDINAL', '', '', '', '', '', '', '', '', '', '', '', '', '', '', '', '', '', '', '', '', '', '', '', '', '', '', '', '', '']\n",
      "<class 'spacy.tokens.doc.Doc'>\n",
      "['', '', '', '', '', '', '', '', '', '', '', '', '', '', '', '', '', '', '', '', '', '', '', '', '', '', 'CARDINAL', '', '', '', '', '', 'CARDINAL', 'CARDINAL', '', '', '', '', '', '', '', '', '', '', '', '', '', '', '', '', '', '', '', '', '', '', '', '', '', '', '', '', '', '', '', '', '', '', '', '', '', '', '', '', '', '', '', '', '', '', '', '', '', '', '', '', '', '', '', '', '', '', '', '', '', '', '', '', '', '', '', '', '', '', '', '', 'CARDINAL', '', '', '', '', '', '', '', '', '', '', '', '', '', '', '', '', '', '', '', '', '', '', '', '', '', '', '', '', '', '', '', '', '', '', '', '', '', '', 'CARDINAL', '', '', '', '', '', '', '', '', '', '', 'CARDINAL', '', '', '', '', '', '', '', '', '', '', '', '', '', '', '', '', '', '', '', '', 'GPE', '']\n",
      "<class 'spacy.tokens.doc.Doc'>\n",
      "['', '', '', '', 'QUANTITY', 'QUANTITY', '', '', '', '', 'QUANTITY', 'QUANTITY', '', '', '', '', '', '', '', '', '', '', '', '', '', '', '', '', '', '', '', '', '', '', '', '', '', '', '', '', '', '', '', '', '', '', '', '', '', '', '', '', '', '', '', '', '', '', '', '', '', '', '', '', '', '', '', '', '', '', '', '', '', '', '', '', '', '', '', '', '', '', '', '', '', '', '', '', '', '', '', '', '', '', '', '', '', '', '', '', '', '', '', '', '', '', '', '', '', '', '', '', '', '', '', '', '', '', '', '', '', '', '', '', '', '', '', '', 'QUANTITY', 'QUANTITY', '', '', '', 'ORG', '', '', '', '', '', '', '', '', 'CARDINAL', 'GPE', '', '', '', '', '', '', '', '', '', 'NORP', '', '', '', '', '', '', 'CARDINAL', '', '', '', '', '', '', 'DATE', '']\n",
      "<class 'spacy.tokens.doc.Doc'>\n",
      "['', '', '', '', '', '', '', '', '', '', '', 'QUANTITY', 'QUANTITY', '', '', '', '', '', '', '', '', '', '', '', '', '', '', '', '', '', '', '', '', '', '', '', '', '', '', '', '', '', '', '', '', '', '', '', '', '', '', '', '', '', '', '', '', '', '', '', '', '', '', '', '', '', '', '', '', '', '', '', '', '', '', '', '', '', '', '', '', '', '', '', '', '', '', '', '', '', '', '', '', '', '', '', '', '', '', '', '', '', '', '', '', '', '', '', '', '', '', '', '', '', '', '', '', '', '', '', '', '', '', '', '', '', '', '', '', '', '', '', '', '', '', '', '', '', '', '', '', '', '', '', '', '', '', '', '', '', '', '', '', '', '', '', '', '', '', '', '', '', '', '', '', '', '', '', '', '', '', 'PRODUCT', '', '', '', '', '', '', '', '', '', '', '', '', '', '', '', '', '', '', '', '', '', '', '', '', '', '', '', '', '', '', '', '', '', '', '', '', '', 'CARDINAL', '', '', '', '', '', '', '', '', '', '', '', '', '', '', '', 'QUANTITY', 'QUANTITY', '', '', '', '', '', '', '', '', '', '', '', '', '', '', '', '', '', '', '', '', '', '', '', '', '', '', '', '', '', '', '', '', '', '', '', '', '', '', '', '', '', '', '', '', '', '', '', '', '', '', 'QUANTITY', 'QUANTITY', '', '', 'LAW', 'LAW', 'LAW', 'LAW', 'LAW', 'LAW', '', '', '', '', '', '', '', '', '', '', '', '', '', '', '', '', 'CARDINAL', '', '', '', '', '', '', '', '', 'WORK_OF_ART', 'WORK_OF_ART', 'WORK_OF_ART', 'WORK_OF_ART', 'WORK_OF_ART', 'WORK_OF_ART', '', '', '', '', '', '', 'QUANTITY', 'QUANTITY', '', '', '', '', '', '', '', '', '', '', '', '', '', '', '', '', '', '', '', '', '', '', '', '', '', '', '', '', '', '', '', '', '', '', '', '', '', '', '', '', '', '', '', '', '', '', '', '', '', '', '', '', '', '', '', '', '', '', '', '', '', '', '', '', '', '', '', '', '', '', '', '', '', '', '', '', '', '', '', '', '', '', '', '', '', '', '', '', '', '', '', 'LAW', 'LAW', 'LAW', 'LAW', 'LAW', 'LAW', '', '']\n",
      "<class 'spacy.tokens.doc.Doc'>\n",
      "['', '', '', '', '', '', '', '', '', '', '', '', '', 'QUANTITY', 'QUANTITY', '', '', '', '', '', '', '', '', '', '', '', '', '', '', '', '', '', '', '', '', '', '', '', '', 'ORG', 'ORG', '', '', '', '', '', '', '', '', '', '', '', '', '', '', '', '', '', '', '', '', '', '', 'ORG', '', '', '', '', '', '', '', '', '', '', '', '', '', '', '', '', '', 'ORG', 'ORG', 'ORG', 'ORG', '', '', '', '', '', '', '', '', '', '', '', '', '', '', '', '', '', '', '', '', '', '', '', '', '', '', '', '', '', '', '', '', '', '', '', '', '', '', '', '', '', '', '', '', '', 'PERSON', '', '', '', '', '', '', '', '', '', '', '', 'ORG', 'ORG', 'ORG', '', '', '', '', '', '', '', '', 'ORG', 'ORG', 'ORG', 'ORG', '', '', '', '', '', 'LAW', 'LAW', 'LAW', 'LAW', 'LAW', 'LAW', '', '', '', '', '', '', '', '', '', '']\n",
      "<class 'spacy.tokens.doc.Doc'>\n",
      "['', '', '', '', '', '', '', '', '', '', '', '', '', '', '', '', 'ORG', 'ORG', '', '', '', '', '', '', '', '', '', '', '', '', '', '', '', '', '', '', '', '', '', '', '', '', '', '', '', '', '', '', '', '', '', '', '', '', '', '', '', '', '', '', '', '', '', '', '', '', '', '', '', '', '', '', '', '', '', '', '', '', '', '', '', '', '', '', '', '', '', '', '', '', '', '', '', '', '', '']\n",
      "<class 'spacy.tokens.doc.Doc'>\n",
      "['', '', '', '', 'ORDINAL', '', '', '', '', '', '', '', '', '', '', '', '', '', '', '', '', '', '', '', '', '', '', '', '', '', '', '', '', '', '', '', '', '', '', '', '', '', '', '', '', 'ORG', 'ORG', '', '', '', '', '', '', '', '', 'ORG', '', '', '', '', '', '', '', '', '', '', 'ORG', 'ORG', '', '', '', '', '', '', '', '', '', '', '', '', '', '', 'ORG', '', '', '', '', '', '', '', '', '', '', '', '', '', '', '', '', '', '', '', '', '', '', '', '', '', '', '', '', '', '', '', '', '', '', '', '', '', '', '', '', '', '', '', '', '', '', '', '', '', '', '', '', '', '', '', '', '', '', '', '', '', '', '', '', '', '', '', '', '', '', '', '', '', '', '']\n",
      "<class 'spacy.tokens.doc.Doc'>\n",
      "['', '', '', '', '', '', '', '', '', '', '', '', '', '', '', '', '', '', '', '', '', '', '', '', '', '', 'PERSON', '', 'PERSON', '', '', '', 'CARDINAL', '', '', '', '', '', '', '', '', '', '', '', '', '', '', '', '', '', '', 'QUANTITY', 'QUANTITY', '', '', '', '', '', '', '', '', '', '', 'CARDINAL', '', '', '', '', '', '', '', '', '', '', '', '', '', '', '', 'CARDINAL', '', '', '', '', '', '', '', '', '', '', '', '', '', '', '', '', '', '', 'PRODUCT', '', '', '', '', '', '', '', 'CARDINAL', '', 'ORG', '', '', '', '', '', 'QUANTITY', 'QUANTITY', '', '', '', '', '', '', '', '', 'QUANTITY', 'QUANTITY', '', '', '', '', '', '', '', '', '', '', '', '', '', '', '', '', '', '', '', '', '', '', '', '', '', '', '', '', '', '', '', '', '', '', '', '', '', '', '', '', '', '', '', '', '', '', '', '', '', '', '', '', '', '', '', '', '', '', '', '', '', '', '', '', '', '', '', '', '', '', '', '', '', '', '', '', '', '', '', '', '', '', '', '', 'CARDINAL', 'NORP', '', '', '', '', '', 'ORG', '', '', '', '', '', '', '', '', '', '', 'QUANTITY', 'QUANTITY', '', '', '', '', '', '', '', '', '', '', '', '', '', '', '', '', '', '']\n",
      "<class 'spacy.tokens.doc.Doc'>\n",
      "['', '', '', '', '', '', '', '', '', '', '', '', '', '', '', '', '', '', '', '', '', '', '', '', '', '', '', '', '', '', '', '', '', '', '', '', '', '', '', '', '', '', '', '', '', '', '', '', '', '', '', '', '', '', '', '', '', '', '', '', '', '', '', '', '', '', '', '', '', '', '', '', '', '', '', '', '', '', '', '', '', '', '', '', '', '', '', '']\n",
      "<class 'spacy.tokens.doc.Doc'>\n",
      "['', '', '', '', '', '', '', '', '', '', '', '', '', '', '', '', '', '', '', '', '', '', '', '', '', '', '', '', '', '', '', '', '', '', '', '', '', '', '', '', '', '', '', '', '', '', '', '', '', '', '', '', '', '', '', '', '', '', '', '', '', '', '', '', '', '', '', '', '', '', '', '', '', '', '', '', '', '', '', '', '', '', '', '', '', '', '', '', '', '', '', '', '', '', '', '', '', '', '', '', '', '', '', '', '', '', '', '', '', '', '', '', '', '', '', '', 'ORDINAL', '', '', '', '', '', '', '', '', '', '', '', '', '', '', '', '', '', '', '', '', '', '', '', '', '', '', '', '', '', '', '', '', '', '', '', '', '', '', '', '', '', '', '', '', '', '', '', '', '', '', '', '', '', '', '', '', '', '', '', '', '', '', '', '', '', '', '', '', '', '', '', '', '', '', '', '', '', '', '', '', '', '', '', '', '', '', '', '', '', '', '', '', '', '', 'CARDINAL', '', '', '', '', '', '', '', '', '', '', '', '', '', '', '', '', '', '', '', '', '', '', '', '', '', '', '', '', '', '', '', '', '', '', '', '', '', '', '', '', '', '', '', '', '', 'CARDINAL', '', '', '', '', '', '', '', '', '', '', '', '', '', '', '', '', '', '', '', '', '', '', '', '', '', '', '', '', '', '', '', '', '', '', '', '', '', '', '', '', '', '', '', '', '', '', '', '', '', '', '', '', '', '', '', '', '', '', '', '', '']\n",
      "<class 'spacy.tokens.doc.Doc'>\n",
      "['', '', '', '', '', '', '', '', '', '', '', '', '', '', '', '', '', '', '', '', '', '', '', '', '', '', '', '', '', '', '', '', '', '', '', 'CARDINAL', '', '', '', '', '', '', '', '', '', '', '', '', '', '', '', '', '', '', '', '', '', '', '', 'QUANTITY', 'QUANTITY', '', '', '', '', '', '', '', '', '', '', '', '', '', '', '', '', '', '', '', '', '', '', '', '', '', '', '', '', '', '', '', '', '', '', '', '', '', '', '', '', '', '', '', '', '', '', '', '', '', '', '', '', '', '', '', '', '', '', '', '', '', '', '', '', '', '', '', '', '', '', '', '', '', '', '', '', '', '', '', '', '', '', '', '', '', '', '', '', '', '', '', '', '', '', '', '', '', '', '', '', '', '', 'QUANTITY', 'QUANTITY', '', '', '', '', '', '', '', '', '', '', '', '', '', '', '', '', '', '', '', '', '', '', '', '', '', '', '', '', '', '', '', '', '', '', '', '', '', '', '', '', '', '', '', '', '', '', '', '', '', '', 'ORDINAL', '', '', '', '', '', '', '', '', '', '', '', '', '', '', 'ORDINAL', '', '', '', 'ORDINAL', '', '', '', '', '', 'CARDINAL', '', '', '', '', '', '', '', '', '', '', '', '', '', '', '', '', '', '', '', '', 'ORDINAL', '', '', '', '', '', '', '', '', '', '', '', 'ORDINAL', '', '', '', '', '', '', '', '', '', '', '', '', '', '', '', '', '', '', '', '', '', '', '', '', '', '', '', '', '', '', '', '', '', '', '', '', '', '', '', '', '', '', '', '', '', '', '', '', '', '', '', '', '', '', '', '', '', '', '', '', '', '', '']\n",
      "<class 'spacy.tokens.doc.Doc'>\n",
      "['', '', '', '', '', '', '', '', '', '', '', '', '', '', '', '', '', '', '', '', '', '', '', '', '', '', '', '', '', '', '', '', '', '', '', '', '', '', '', 'QUANTITY', 'QUANTITY', '', '', '', '', '', '', '', '', '', '', '', '', '', '', '', '', '', '', '', '', '', '', '', '', '', '', '', '', '', '', '', '', '', '', '', '', '', '', '', '', '', '', '', '', '', '', '', '', '', '', '', '', '', '', '', '', '', '', '', '', '', '', '', '', '', '', '', '', '', '', '', '', '', '', '', '', '', '', '', '', '', '', '', '', '', '', '', '', '', '', '', '', '', '', '', '', '', '', '', '', '', '', '', '', '', '', '', '', '', '', '', '', '', '', '', '', '', '', '', '', '', '', '', '', '', '', '', '', '', '', '', '', '', '', '', '', '', '', '', '', '', '', '', '', '', '', '', '', '', '', '', '', '', 'ORDINAL', '', '', '', '', '', '', '', '', '', '', '', '', '', 'CARDINAL', '', '', '', '', '', '', '', '', '', '', '', '', '', '', '', '', '', '', '', '', '', '', '', '', '', '', '', '', '', '', '', '', '', '', '', '', '', '', '', '', '', '', '', '', '', '', '', '', '', '', '', '', '', '', '', '', '', '', '', '', '', '', '', '', '', '', '', '', '', '', '', '', '', '', '', '', '', '', '', '', '', '', '', '', '', '', '', '', '', '', '', '', '', '', '', '', '', '', '', '', '', '', '', '', '', '', '', '', '', '', '', '', '', '', '', '', '', '', '', '', '', '', '', '', '', '', '', '', '', '', '', '', '', '', '', '', '', '', '', '', '', '', '', '', '', '', '', '', '', '', '', '', '', '', '', '', '', '', '', '', '', '', '', '', '', '']\n",
      "<class 'spacy.tokens.doc.Doc'>\n",
      "['', '', '', '', '', '', '', 'CARDINAL', '', '', '', '', '', '', '', '', '', '', '', '', '', '', '', '', '', '', '', '', '', '', '', '', '', '', '', '', '', '', '', '', '', '', '', '', '', '', '', '', '', '', '', '', '', '', '', '', '', '', '', '', '', '', '', '', '', '', '', '', 'QUANTITY', 'QUANTITY', '', '', '', '', '', '', '', '', '', '', '', '', '', '', '', '', '', '', '', '', '', '', '', '', '', '', '', '', '', 'GPE', '', '', '', '', '', '', '', '', '', '', '', '', '', '', '', '', '', '', '', '', '', '', '', '', '', '', '', '', '', '', '', '', '', '', '', '', '', '', '', '', '', '', '', '', '', '', '', '', '', '', '', '', '', '', '', '', '', '', '', '', '', '', 'GPE', '', '', '', '', '', '', '', '', '', '', '', 'GPE', '', '', '', '', '', '', '', '', '', '', '', '', '', '', '', '', '', '', '', '', '', '', '', '', '', '', '', '', '', '', '', '', '', '', '', '', '', '', '', '', '', '', '', '', '', '', '', '', '', '', '']\n",
      "<class 'spacy.tokens.doc.Doc'>\n",
      "['', '', '', '', '', 'PRODUCT', 'PRODUCT', 'PRODUCT', 'PRODUCT', 'QUANTITY', 'QUANTITY', '', '', '', '', '', '', '', 'WORK_OF_ART', 'WORK_OF_ART', '', '', '', '', '', 'ORG', 'ORG', '', '', '', '', '', '', '', '', 'QUANTITY', 'QUANTITY', '', '', '', 'CARDINAL', '', '', '', '', '', '', '', '', '', 'QUANTITY', 'QUANTITY', 'QUANTITY', '', '', 'CARDINAL', '', '', '', '', '', '', '', '', '', '', '', '', '', '', '', 'QUANTITY', 'QUANTITY', '', '', '', '', '', '', '', '', 'QUANTITY', 'QUANTITY', '', '', '', '', '', 'ORG', 'ORG', '', '', '', '', '', '', '', '', '', '', '', '', 'QUANTITY', 'QUANTITY', '', '', '', '', '', '', '', 'CARDINAL', 'PERSON', 'PERSON', '', '', '', '', 'ORG', '', '', '', '', '', '', '', '', '', '', '', '', '', '', '', 'ORG', '', '', '', '', '', '', '', '', '', '', '', '', '', '', '', '', '', '', '', '', '', '', '', '', '', '', '', '', '', '', '', '', '', '', 'CARDINAL', '', '', '', '', '', '', '', '', '', '', 'CARDINAL', '', '', '', '', '', '', '', '', '', '', '', '', 'CARDINAL', '', '', '', '', '', '', '', '', '', '', '', '', '', '', '', '', '', '', '', '', '', '', '', '', '', '', '', '', '', '', '', '']\n",
      "<class 'spacy.tokens.doc.Doc'>\n",
      "['', '', '', '', '', '', '', '', '', '', '', '', '', '', '', '', '', '', '', '', '', '', '', '', '', '', '', '', '', 'CARDINAL', '', '', '', '', '', '', '', '', '', '', '', '', '', '', '', '', '', '', '', '', '', '', '', '', '', '', '', '', '', '', '', '', '', '', '', '', '', '', '', '', '', '', '', '', '', '', '', '', '', '', '', '', '', '', '', '', '', '', 'CARDINAL', '', '', '', '', '', '', '', '', '', '', '', '', '', '', '', '', '', '', '', '', '', '', '', '', '', '', '', '', '', '', '', '', '', '', '', '', '', '', '', '', '', '', '', '', '', '', '', 'CARDINAL', '', '', '', '', '', '', '', '', '', '', '', '', '', '', '', '', '', '', '', '', '', '', '', '', '', '', '', '', '', '', '', '', '', '', '', '', '', '', '', '', '', '', '', '', '', '', '', '', '', '', '', '', '', '', '', '', '', '', '', '', '', '', '', '', '', '', '', '', '', '', '', '', '', '', '', '', '', '', '', '', '', '', '', '', '', '', '', '', '', '', '', '', '', '', '', '', '', '', '', '', '', 'ORDINAL', '', '', '', '', '', '', '', '', '', '', '', '', '', '', '', '', '', '', '', '', '', '', '', '', '', '', '', '', '', '', '', '', '', '', '', '', '', '', '', '', '', '', '', '', '', '', '', '', '', '', '', '', '', '', '', '', '', '', '', '', '', '', '', '', '', '', '', '', '', '', '', '', '', '', '', '', '', '', '', '', '', '', '', '', '', '', '', '', '', '', '', '', '', '', '', '', '', '', '', '', '', '', '', '', '', '', '', '', '', '', '', '', '', '', '', '', '', '', '', '', '']\n",
      "<class 'spacy.tokens.doc.Doc'>\n",
      "['', '', '', '', '', '', '', '', '', '', '', '', '', '', '', '', '', '', '', '', '', '', '', '', '', '', '', '', '', '', '', '', '', 'QUANTITY', 'QUANTITY', '', '', '', '', '', '', '', '', '', '', '', '', '', '', '', '', '', '', '', '', '', '', '', '', '', '', 'QUANTITY', 'QUANTITY', '', '', '', '', '', '', '', '', '', '', '', '', '', '', '', '', 'CARDINAL', '', '', '', '', '', '', '', '', '', '', '', '', '', '', '', '', 'QUANTITY', 'QUANTITY', '', '', '', '', '', '', '', '', '', 'QUANTITY', 'QUANTITY', '', '', '', '', '', '', '', '', '', '', '', '', '', '', '', '', '', '', '', 'PERCENT', 'PERCENT', '', '', '', '', '', '', '', '', '', '', '', '', '', '', '', '', 'QUANTITY', 'QUANTITY', '', '', '', '', '', '', '', '', '', '', '', '', '', '', '', '', '', '', '', 'CARDINAL', '', '', '', '', '', '', '', '', '', '', '', '', '', '', '', '', '', '', '', '', '', '', '', '', '', '', '', '', '', '', '', '', '', '', '', '', '', '', '', '', '', '', '', '', '', '', '', '', '', '', '', '', '', '', '', '', '', '', '', '', '', 'CARDINAL', 'CARDINAL', '', '', '']\n",
      "<class 'spacy.tokens.doc.Doc'>\n",
      "['', '', '', '', '', '', '', '', '', '', '', '', '', '', '', '', 'PRODUCT', '', '', '', '', '', '', '', '', '', '', '', '', 'CARDINAL', '', '', '', '', '', '', '', '', '', '', '', '', '', '', '', '', '', '', '', '', '', '', '', '', '', '', '', '', '', '', '', '', '', '', '', '', '', '', '', '', '', '', '', '', '', '', '', '', '', '', '', '', '', '', '', '', '', 'ORG', 'ORG', '', '', '', '', '', '', '', '', '', '', '', '', '', '', '', '', '', 'CARDINAL', '', '', '', '', '', '', '', '', '', '', '', '', '', '', '', '', '', '', 'CARDINAL', '', '', '', '', '', '', '', '', '', '', '', '', '', '', '', '', '', '', '', '', '', '', '', '', 'CARDINAL', '', '', '', '', '', '', '', '', 'ORG', '', '', 'PERSON', '', '', '', 'PERSON', '', '', '', '', '', '', '', '', '', '']\n",
      "<class 'spacy.tokens.doc.Doc'>\n",
      "['', '', '', '', '', 'ORG', '', '', '', '', 'ORG', '', '', '', '', '', '', '', '', '', '', '', '', '', '', '', '', '', '', '', '', '', '', '', '', '', '', '', '', '', '', '', '', '', '', '', '', '', '', '', '', '', '', '', '', '', '', '', '', '', '', '', '', 'GPE', '', '', 'ORG', '', '', '', '', '', '', '', '', '', '', '', 'GPE', '', '', '', '', '', '', '', '', '', '', '', '', '', '', '', '', '', '', '', 'PERSON', 'PERSON', '', '', '', '', '', '', '', '', '', '', '', '', '', '', '', '', '', '', '', '', '', '', '', '', '', '', '', '', '', '', '', '', '', '', '', '', '', '', '', '', '', '', '', '', '', '', '', '', '', '', '', '', '', '', '', '', 'ORG', '', '', '', '', 'ORG', '', '', '', '', '', '', '', '', 'GPE', '', 'ORG', '', '', '', '', '', '', '', '', '', '', '', '', '', '', '', '', '', '', '', '', '', '', '', '', '', '', '', '', '', '', '', '', '', 'ORG', '', '', '', '', '', '', '', '', 'ORG', '', '', '', '', '', '', '', '', '', '', '', '', '', '', '', '', '', '', '', '', '', '', '', '', '', '', '', '', '', '', '', '', '', '', '', '', '', '', '', '', '', '', '', '', '', 'PERSON', '', '', '', '', '', '']\n",
      "<class 'spacy.tokens.doc.Doc'>\n",
      "['', '', '', '', '', '', '', '', '', '', '', '', '', '', '', '', '', '', '', '', '', '', '', '', '', '', '', '', '', '', '', '', '', '', '', '', '', '', '', '', 'QUANTITY', 'QUANTITY', '', '', '', '', '', '', '', '', '', '', '', '', '', '', '', '', '', '', '', '', '', '', '', '', '', '', '', '', '', '', '', '', '', '', '', '', '', '', '', '', '', '', '', '', '', '', '', '', '', '', '', '', '', '', '', '', '', '', '', '', '', '', '', '', '', '', '', '', '', '', '', '', '', '', '', '', '', '', '', '', '', '', '', '', '', '', '', '', '', '', '', '', '', '']\n",
      "<class 'spacy.tokens.doc.Doc'>\n",
      "['', '', '', '', '', '', '', '', '', '', '', '', '', '', '', '', '', '', '', '', '', '', '', '', '', '', '', '', '', '', '', '', '', '', '', '', '', '', '', '', '', '', '', '', '', '', '', '', '', '', '', '', '', '', '', '', '', '', '', '', '', '', '', '', '', '', '', '', '', '', '', '', '', '', '', '', '', '', '', '', '', '', '', '', '', '', '', '', '', '', '', '', '', '', '', '', '', '', '', '', '', '', '', '', '', '', '', '', '', '', '', '', '', '', '', '', '', '', '', '', '', '', '', '', '', '', '', '', '', '', '', '', '', '', '', '', '', '', '', '', '', '', '', '', '', '', '', '', '', '', '', '', '', '', '', '', '', '', '', '', '', '', '', '', '', '', '', '', '', '', '', '', '', '', '', '', '', '', '', '', '', '', '', '', '', '', '', '', '', '', '', '', '', '', '', '', '', '', '', '', '', '', '', '', '', '', '', '', '', '', '', '', '', '', '', '', '', '', '', '', '', '', '', '', '', '', '', '', '', '', '', '', 'CARDINAL', '', '']\n",
      "<class 'spacy.tokens.doc.Doc'>\n",
      "['', '', '', '', '', '', '', '', '', '', '', '', '', '', '', '', '', '', '', '', '', '', '', '', '', '', '', '', '', '', '', '', '', '', '', '', '', '', '', '', '', '', '', '', '', '', 'QUANTITY', 'QUANTITY', '', '', '', '', '', '', '', '', '', '', '', '', '', '', '', '', '', '', '', '', '', '', '', '', '', '', '', '', '', '', '', '', '', '', '', '', '', '', '', '', '', '', '', '', '', '', '', '', '', '', '', '', '', '', '', '', '', '', '', '', '', '', '', '', '', '', '', '', '', 'QUANTITY', 'QUANTITY', '', '', '', '', '', '', '', '', '', '', '', '', '', '', '', '', '', '', '', '', '', '']\n",
      "<class 'spacy.tokens.doc.Doc'>\n",
      "['', '', '', '', '', '', '', '', '', 'CARDINAL', '', '', '', '', '', '', '', '', '', '', '', '', '', '', '', '', '', '', '', '', '', '', '', '', '', '', '', '', '', '', '', '', '', '', '', '', '', '', '', '', '', '', '', '', '', '', '', 'QUANTITY', 'QUANTITY', '', '', '', '', '', '', '', '', '', '', '', '', '', '', '', '', '', '', '', '', '', '', '', '', '', '', '', '', 'GPE', '', '', '', '', '', '', '', '', '', '', '', '', '', '', '', '', '', '', '', '', '', '', '', '', '', '', '', '', '', '', '', '', '', '', '', '', '', '', '', '', '', '', '', '', '', '', '', '', '', '', '', '', '', '', '', '', '', '', '', '', '', '', '', '', '', '', '', '', '', '', '', '', '', '', '', '', '', '', 'CARDINAL', '', '', '', '', '', '', '', '', '', '', '', '', '', '', '', '', '', '', '', '', '', '', '', '', '', '', '', '']\n",
      "<class 'spacy.tokens.doc.Doc'>\n",
      "['', '', '', '', '', 'CARDINAL', '', '', '', '', 'QUANTITY', 'QUANTITY', '', '', '', '', '', '', '', '', '', '', '', '', '', '', '', '', '', '', '', '', '', '', '', '', '', '', '', '', '', '', '', '', '', '', '', '', '', '', '', '', '', '', '', '', '', '', '', '', '', '', '', '', '', '', '', '', '', '', '', '', '', '', '', '', '', '', '', 'LAW', 'LAW', 'LAW', 'LAW', 'LAW', 'LAW', '', '', '', '', '', '', '', '', '', '', '', '', '', '', '', '', '', '', '', '', '', '', '', '', '', '', '', '', '', '', '', '', '', '', '', '', '', '', '', '', '', '', '', '', '', '', '', '', '', '', '', '', '', '', '', '', '', '', '', '', '', '', '', '', '', '', '', '', 'QUANTITY', 'QUANTITY', '', '', '', '', '', '', '', '', '', '', '', '', '', '', '', '', '', '', 'LAW', 'LAW', 'LAW', 'LAW', 'LAW', 'LAW', '']\n",
      "<class 'spacy.tokens.doc.Doc'>\n",
      "['', '', '', '', '', '', '', 'QUANTITY', 'QUANTITY', '', '', '', '', '', '', '', '', '', '', '', '', '', '', '', '', '', '', '', '', '', '', '', 'QUANTITY', 'QUANTITY', '', '', '', '', '', '', '', '', '', '', '', '', '', '', '', '', '', '', '', '', '', '', '', '', '', '', '', '', '', '', '', '', '', '', '', '', '', '', '', '', '', '', '', '', '', '', '', '', 'QUANTITY', 'QUANTITY', '', '', '', '', '', '', '', '', '', '', '', '', '', '', '', '', '', '', '', '', '', '', '', '', '', '', '', '', '', '', '', '', '', '', '', '', '', '', '', '', '', '', '', '', '', '', '', '', '', '', '', '']\n",
      "<class 'spacy.tokens.doc.Doc'>\n",
      "['', '', '', '', '', '', '', '', '', '', '', '', '', '', '', '', '', '', '', '', 'CARDINAL', '', '', '', '', '', '', '', '', '', '', '', '', '', '', '', '', '', '', '', '', '', '', '', '', '', '', '', '', '', '', '', '', '', '', '', '', 'QUANTITY', 'QUANTITY', '', '', '', '', '', '', '', '', '', '', '', '', '', '', '', '', '', '', '', '', '', '', 'CARDINAL', '', '', '', '', '', '', '', '', '', '', '', '', '', '', '', '', '', '', '', '', '', '', '', '', '', '', '', '']\n",
      "<class 'spacy.tokens.doc.Doc'>\n",
      "['', '', '', '', '', '', '', '', '', '', '', '', '', '', '', '', '', '', '', '', '', '', '', '', '', '', '', '', '', '', '', 'CARDINAL', '', '', '', '', '', '', '', '', '', '', '', '', '', '', '', '', '', '', '', '', 'CARDINAL', '', '', '', '', '', '', '', '', '', '', '', '', '', '', '', 'ORG', '', '', '', '', '', '', '', '', '', '', '', '', '', '', '', '', '', 'CARDINAL', '', '', '', '', '', '', '', '', '', '', '', '', '', '', '', '', '', '', '', '', '', '', '', '', '', 'CARDINAL', '', '', '', '', '', '', '', '', '', '', '', '', '', 'CARDINAL', '', '', '', '', '', '', '', '', '', '', 'QUANTITY', 'QUANTITY', 'QUANTITY', 'QUANTITY', 'QUANTITY', 'QUANTITY', '', '', '', '', '', '', '', '', '', '', '', '', '', '', '', '', '', '', '', '', '', 'CARDINAL', '', '', '', '', '', '', '', '', '', '', '', '']\n",
      "<class 'spacy.tokens.doc.Doc'>\n",
      "['', '', '', '', '', '', '', '', '', '', '', '', '', 'CARDINAL', '', '', '', '', '', '', '', '', '', '', '', '', '', '', '', '', '', '', '', '', '', 'CARDINAL', 'ORG', '', '', 'CARDINAL', 'NORP', '', '', '', '', '', '', '', '', '', '', '', '', '', '', '', '', '', '', '', '', '', '', '', '', '', '', '', '', '', '', '', '', '', '', '', '', '', '', '', '', '', '', '', '', '', 'LAW', 'LAW', 'LAW', 'LAW', '', '', '', '', '', '', '', '', '', '', '', '', '', '', '', '', '', '', '', '', '', '', '', '', '', '', '', '', '']\n",
      "<class 'spacy.tokens.doc.Doc'>\n",
      "['', '', '', '', '', '', '', '', '', '', '', '', '', '', 'QUANTITY', 'QUANTITY', 'QUANTITY', '', '', '', '', '', '', '', '', '', '', '', '', '', '', '', '', '', '', '', '', '', '', '', '', '', '', '', '', '', '', '', '', '', '', 'CARDINAL', '', '', '', '', '', '', '', '', '', '', '', '', '', '', '', '', '', '', '', '', '', '', '', '', '', '', '', '', '', '', '', '', '', '', '', '', '', '', '', '', '', '', '', '', '', '', '', '', '', 'CARDINAL', '', '', '', '', '', '', '', '', '', '', '', '', '', '', '', '', '', '', '', '', '', '', '', 'CARDINAL', 'CARDINAL', '', '', '', '', '', '', '', '', '', '', '', '', '', '', '', '', '', '', '', '', '', '', '', '', '', '', '', '', '', '', '', '', '', '', '', 'ORG', 'ORG', '', '', '', '', '', '', '', '', '', '', '', '', '', '']\n",
      "<class 'spacy.tokens.doc.Doc'>\n",
      "['', '', '', '', '', '', '', '', '', '', 'CARDINAL', '', '', '', '', '', '', '', '', 'CARDINAL', '', '', '', '', '', '', '', '', '', '', '', '', '', '', '', '', 'CARDINAL', '', '', '', '', '', '', '', '', '', '', '', '', '', '', '', '', 'CARDINAL', '', '', '', '', '', '', '', '', '', '', '', '', '', '', '', '', '', '', '', '', '', '', '', 'ORG', 'ORG', 'ORG', '', '', '', '', '', '', '', '', '', '', '', '', '', '', '', '', '', '', '', '', '', '', '', '', '', '', '', '', '', '', '', '', '', '', '', '', '', '', '', '', '', '', '', '', '', '', '', '', '', '', '', '', '', '', '', '', '', '', '', '', '', '', '', '']\n",
      "<class 'spacy.tokens.doc.Doc'>\n",
      "['', '', '', '', '', '', '', '', 'QUANTITY', 'QUANTITY', '', '', 'CARDINAL', '', '', '', '', '', '', '', '', '', '', '', '', '', 'CARDINAL', '', '', '', '', '', '', '', '', '', '', 'CARDINAL', '', '', '', '', '', '', '', '', '', '', 'GPE', '', '', '', 'CARDINAL', '', '', '', '', '', '', '', 'PRODUCT', '', '', '', '', '', '', '', '', '', '', '', '', '', '', '', '', '', '', '', '', '', 'GPE', '', '', '', '', '', 'PRODUCT', 'PRODUCT', 'PRODUCT', '', '', '', '', '', '', '', '', '', '', '', '', '', '', '', '', '', '', '', '', '', '', '', '', '', '', '', '', '', '', '', 'CARDINAL', '', '', '', '', '', '', '', '', '', '', '', '', '', '', '', '', '', '', '', '', '', 'CARDINAL', '', '', '', '', '', '', '', '', '', '', '', '', '', '', '', '', '', '', 'CARDINAL', 'CARDINAL', '', '', '', '', '', 'GPE', '', '']\n",
      "<class 'spacy.tokens.doc.Doc'>\n",
      "['', '', '', '', '', '', '', '', 'QUANTITY', 'QUANTITY', '', '', '', '', '', 'QUANTITY', 'QUANTITY', 'QUANTITY', 'QUANTITY', 'QUANTITY', '', '', '', '', '', '', '', '', '', '', '', '', '', '', '', '', '', '', '', '', '', '', '', 'CARDINAL', '', '', '', '', '', '', '', '', '', '', '', '', '', '', '', '', 'CARDINAL', '', '', '', '', '', '', '', '', '', '', '', '', '', '', '', '', 'CARDINAL', '', '', '', '', '', '', '', 'CARDINAL', '', '', '', '', '', '', '', '', 'CARDINAL', '', '', '', '', '', '', '', '', '', '', '', '', '', '', '', '', 'CARDINAL', '', '', 'CARDINAL', '', 'CARDINAL', '', '', '', '', '', '', '', '', '', '', '', 'PERCENT', 'PERCENT', '', '', 'CARDINAL', '']\n",
      "<class 'spacy.tokens.doc.Doc'>\n",
      "['', '', '', '', '', '', '', '', '', '', '', '', '', '', '', '', '', '', 'CARDINAL', '', '', '', '', '', '', '', '', '', '', '', '', '', '', '', '', '', 'PRODUCT', '', '', '', '', '', '', '', '', '', '', '', '', '', '', '', '', '', '', '', '', '', '', '', '', '', '', '', '', '', '', '', '', '', '', '', '', '', '', '', '', '', '', '', 'GPE', '', '', '', '', '', '', '', '', '', '', '', '', '', '', '', '', '', '', '', '', '', '', '', '', '', '', '', '', '', '', '', '', '', '', '', '', '', '', '', '', '', '', '', '', '', '', '', '', '', '', '', '', '', '', '', '', '', '', '', '', '', '', '', '', '', '', '', '', '', '', '', 'PERSON', '', '', '', '', '', '', '', '', '', '', '', '', '', '', '', '', '', '', '', '', '', '', '', '', '', '', '', '', '', '', '', '', '']\n",
      "<class 'spacy.tokens.doc.Doc'>\n",
      "['', '', '', '', '', '', '', '', '', '', '', '', '', '', 'QUANTITY', 'QUANTITY', '', '', '', '', '', '', '', '', '', '', '', '', '', '', '', '', '', '', '', '', '', '', '', '', '', '', '', '', '', '', '', '', '', '', 'CARDINAL', '', '', '', '', '', '', '', '', '', '', '', '', '', '', '', '', '', '', '', '', '', '', '', '', '', '', '', '', '', '', '', '', '', '', '', '', '', '', '', '', '', '', '', '', '', '', '', '', '', '', '', '', '', '', '', 'CARDINAL', '', '', '', '', '', '', '', '', '', '', '', '', '', '', '', '', '', '', '', '', '', '', '', '', '', '', '', '', '', 'CARDINAL', '', '', '', '', '', '', '', '', '', '', '', '', '', '', '', '', '', '', '', '', '', '', '', '', '', '', '', '', '', '', '', '', '', '', '', '', '', '', '', '', '', '', '', '', '', '', '', '', '', '', '', '', '', '', '', '', '', '', '', '', '', '', '']\n",
      "<class 'spacy.tokens.doc.Doc'>\n",
      "['', '', '', '', '', '', '', '', '', '', '', '', '', '', '', '', '', '', '', '', '', '', '', '', '', '', '', '', '', '', '', '', '', '', '', '', '', '', '', '', '', '', '', '', '', '', '', '', '', '', '', '', '', '', '', '', '', '', '', '', '', '', '', '', '', '', '', '', '', '', '', '', '', '', '', '', '', '', '', '', '', 'CARDINAL', '', '', '', '', '', '', '', '', '', '', '', '', '', '', '', '', '', '', '', '', '', '', '', '', '', '', '', '', '', '', '', '', '', '', '', '', '', '', '', '', '', '', '', '', 'PRODUCT', '', '', '', '', 'ORG', '', '', '', '', '', '', '', '', '', '', '', '', '', '', '', '', '', '', '', '', '', '', '', '', '', '', '', '', '', '', '', '', '', '', '', '', '', '', '', '', '', '', 'ORG', '', '', '', '', '', 'GPE', '', '', '', '', '', '', '', '', '', '', '', '', '', '', '', '', '', '', '', '', '', '', '', '', '', '', '', '', '', '', '', '', '', '', '', '', '', '', '', '', '', 'CARDINAL', '', 'CARDINAL', '', '', '', 'PERSON', '', '', '', '', '', '', '', '', '', '', '', '', '', '', '', '', '', '', '', '', '', '', '', '', '', '', 'CARDINAL', '', '', '', '', '', '', '', '', '', '', '', '', '', '', '', '', 'CARDINAL', '', '', '', 'PERSON', '', '', '', '', '', '', '', '', 'CARDINAL', '', '', '', 'PERSON', '', '', '', '', '', '', '', '', 'CARDINAL', '', '', '', '']\n",
      "<class 'spacy.tokens.doc.Doc'>\n",
      "['', '', '', '', '', '', '', '', '', '', 'QUANTITY', 'QUANTITY', '', '', '', '', '', '', '', '', '', '', '', '', '', 'QUANTITY', 'QUANTITY', '', '', '', '', '', '', '', '', '', '', '', '', '', '', '', '', '', '', '', '', '', '', '', '', '', '', '', '', '', '', 'QUANTITY', 'QUANTITY', '', '', '', '', '', '', '', '', '', '', '', '', '', 'QUANTITY', 'QUANTITY', '', '', '', '', '', '', '', '', '', 'CARDINAL', '', '', '', 'QUANTITY', 'QUANTITY', '', '', '', '', '', '', '', '', '', '', '', '', '', '', '', '', '', '', '', '', '', '', '', '', '', '', '', '', '', 'QUANTITY', 'QUANTITY', '', '', '', '', '', 'ORDINAL', '', '', '', '', '', '', '', '', '', '', '', '', '', '', '', '', '', '', '', '', '', '', '', '', '', '', '', '', '', '', '', '', '', '', '', '', '', '', '', '', '', '', '', '', '', '', '', '', '', '', '', '', '', '', '', '', '', '', '', '', '', '', '', '', '', '', '', '', '', '', '', '']\n",
      "<class 'spacy.tokens.doc.Doc'>\n",
      "['', '', '', '', '', '', 'QUANTITY', 'QUANTITY', '', '', '', 'ORG', '', '', 'CARDINAL', '', '', '', '', '', 'CARDINAL', '', '', '', '', '', '', '', '', '', '', '', '', '', '', '', '', '', 'QUANTITY', 'QUANTITY', '', '', '', '', '', '', '', '', '', '', '', '', '', '', '', '', '', '', '', '', '', '', '', 'QUANTITY', 'QUANTITY', 'QUANTITY', 'QUANTITY', 'QUANTITY', '', '', '', '', '', '', '', '', '', '', '', '', '', '', '', '', '', '', '', '', '', '', '', '', '', '', '', '', '', '', '', '', '', '', '', '', '', '', '', '', '', '', '', '', '', '', '', '', '', '', '', '', '', '', '', '', '', '', 'CARDINAL', '', '', '', '', '', '', '', '', '', '', '', '', '', '', '', '', '', '', '', '', '', '', '', '', '', '', '', '', '', '', '', '', '', '', '', '', '', '', '', '', 'ORG', 'ORG', '', '', '', '', '', '', '', '', '', '', '', '', '', '', '', '', '', '', 'ORG', 'ORG', '', '', '', '', '', '', '', '', '', '', '', '', '', '', '', '', '', '', '', '', 'CARDINAL', '', '', '', '', '', '', '', '', '', '', '', '', '', '', '', '', '', '', '', '', '', '', '', '', '', '', '', '', '', '', '', '', '', '', '']\n",
      "<class 'spacy.tokens.doc.Doc'>\n",
      "['ORDINAL', '', '', '', '', '', '', '', '', '', '', '', '', '', '', '', '', '', '', '', '', '', '', '', '', '', '', '', '', '', '', '', '', '', '', '', '', '', 'ORDINAL', '', '', '', '', '', 'QUANTITY', 'QUANTITY', 'QUANTITY', 'QUANTITY', '', '', '', '', '', '', '', '', '', '', '', '', '', '', '', '', 'QUANTITY', 'QUANTITY', 'QUANTITY', '', '', '', '', '', '', '', 'CARDINAL', '', '', 'PERSON', 'PERSON', 'PERSON', '', '', '', '', '', '', '', '', '', '', '', '', '', '', '', '', '', '', '', '', '', '', '', '', '', '', 'PERSON', '', '', '', '', '', '', '', '', '', '', '', '', '', '', '', '', '', '', '', '', '', '', '', '', '', '', '', '', '', '', '', '', '', '', '', '', '', '', '', 'CARDINAL', '', '', '', '', '', '', '', '', '', '', '', '', '', '', '', '', '', '', '', '', '', '', '', '', '', '', '', '', '', '', '', '', '', '', '', '', 'ORDINAL', '', '', '', '', '', '', '', '', '', '', '', '', '', '', '', '', '', '', '', '', '', '', '', '', '', '', '', '', '', '', '']\n",
      "<class 'spacy.tokens.doc.Doc'>\n",
      "['', '', '', '', '', 'PRODUCT', 'PRODUCT', 'PRODUCT', 'PRODUCT', 'QUANTITY', 'QUANTITY', '', '', '', '', '', '', '', 'WORK_OF_ART', 'WORK_OF_ART', '', '', '', '', '', 'ORG', 'ORG', '', '', '', '', '', '', '', '', '', 'ORG', '', '', '', '', '', 'QUANTITY', 'QUANTITY', '', '', '', 'CARDINAL', '', '', '', '', '', '', '', '', '', 'QUANTITY', 'QUANTITY', '', '', 'CARDINAL', '', '', '', '', '', '', '', '', '', '', '', 'QUANTITY', 'QUANTITY', '', '', '', 'CARDINAL', '', '', '', '', '', '', '', '', '', '', 'CARDINAL', '', '', '', '', '', '', '', '', '', '', '', '', '', '', '', '', '', 'ORG', 'ORG', 'ORG', 'ORG', '', '', '', '', 'PRODUCT', 'PRODUCT', 'PRODUCT', '', 'QUANTITY', 'QUANTITY', '', '', '', '', '', 'ORG', 'ORG', '', '', '', '', '', '', '', '', '', '', '', '', '', '', '', '', 'QUANTITY', 'QUANTITY', '', '', '', '', '', '', '', 'CARDINAL', '', '', '', '', '', '', '', 'QUANTITY', 'QUANTITY', '', '', 'GPE', '', '', '', '', 'CARDINAL', 'PERSON', 'PERSON', '', '', '', '', 'ORG', '', '', '', '', '', '', '', '', '', '', '', '', '', '', '', '', '', '', '', '', 'PERSON', 'PERSON', '', '', '', '', '', '', '', '', '', 'ORG', '', '', 'CARDINAL', '', '', '', '', '', '', '', '', '', '', '', 'ORG', '', '', '', '', '', '', '', '', '', '', '', '', '', '', '', '', '', '', '', '', '', '', '', '', '', 'CARDINAL', '', '', '', '', '', '', '', '', '', '', 'CARDINAL', '', '', '', '', '', '', '', '', '', '', '', 'CARDINAL', '', '']\n",
      "<class 'spacy.tokens.doc.Doc'>\n",
      "['', '', '', '', '', '', '', '', '', '', '', '', '', '', '', 'ORG', 'ORG', 'ORG', '', '', 'ORG', '', '', '', '', '', '', '', '', '', 'GPE', '', '', '', '', '', '', '', '', '', '', '', '', '', '', '', '', '', '', '', '', '', '', '', '', '', '', '', '', '', '', '', '', 'PERSON', '', '', '', '', '', '', '', '', '', '', '', '', '', '', '', '', '', '', '', '', '', '', '', '', '', '', '', '', '', '', '', '', '', '', 'CARDINAL', '', '', '', '', '', '', '', '', '', '', '', '', '', '', '', '', '', '', '', '', '', '', '', '', '', '', '', '', '', '', '', '', '', '', '', '', '', '', 'PERSON', 'PERSON', '', '', '', '', '', '', '', 'PERSON', '', '', '', '', '', '', '', '', '', '', '', '', '', '', '', '', '', '', '', '', '', '', '', '', '', '', '', '', 'PERSON', '', '', 'CARDINAL', '', '', '', '', '', '', '', '', '', '', '', '', '', '', '', '', '', '', '', '', '', '', '', 'GPE', '', '', '', '', '', '', '', '', '', '', '', '', '', '', '', '', '', '', '', '', '', '', '', '', '', '', '', '', '', '', '', '', '', '', '', '', '', '', '', '', '', '', '', '', '', '', '', '', '', '', '', '', '', '', '', '', '', '', '', '', '', '', '', '', '', '', '', '', '', '', '', '', '', '', '', '', '']\n",
      "<class 'spacy.tokens.doc.Doc'>\n",
      "['ORDINAL', '', '', '', '', '', '', '', '', '', '', '', 'QUANTITY', 'QUANTITY', '', '', '', '', '', '', 'ORG', 'ORG', '', 'ORG', 'ORG', 'ORG', '', '', '', 'CARDINAL', '', '', '', '', '', 'ORG', 'ORG', 'ORG', '', '', '', '', '', '', '', '', '', '', '', '', '', 'LAW', 'LAW', 'LAW', 'LAW', 'LAW', 'LAW', '', '', '', '', '', '', '', '', '', '', '', '', '', '', '', 'ORG', 'ORG', 'ORG', '', 'ORG', 'ORG', 'ORG', '', '', '', '', '', '', '', 'CARDINAL', '', '', '', '', '', '', '', '', '', '', '', '', '', 'CARDINAL', '', '', '', '', '', '', '', '', '', '', '', '', '', '', '', '', '', '', 'CARDINAL', '', '', '', '', '', '', '', '', '', '', '', 'ORDINAL', '', '', 'ORG', 'ORG', 'ORG', '', '', '', '', '', '', '', '', 'CARDINAL', '', '', '', '', '', '', '', '', '', '', '', '', '', '', '', '', '', '', '', '', '', '', '', '', '', '', '', '', '', '', '', '', '', '', '', 'ORG', 'ORG', '', '', '', '', '', '', '', '', '', '', '', '', '', '', '', '', '', '', '', '', '', '', '', '', '', '', '', '', '', '', 'ORG', 'ORG', 'ORG', '', '', '', '', '', '', '', '', '', '', '', '', '', '', '', '', '', '', '', '', '', '', '', '']\n",
      "<class 'spacy.tokens.doc.Doc'>\n",
      "['', '', '', '', '', '', '', 'PERSON', '', '', '', '', '', '', '', '', '', '', '', '', '', '', '', '', '', '', '', '', '', '', '', '', '', '', '', '', '', '', '', '', '', '', '', '', '', '', '', '', '', '', '', '', '', '', 'CARDINAL', '', '', '', '', '', '', '', '', '', 'CARDINAL', '', '', '', '', '', '', '', '', '', '', '', '', '', '', '', '', '', '', '', '', '', '', '', '', '', '', '', '', '', '', '', '', '', '', '', '', '', '', '', '', '', '', '', '', '', '', '', '', '', '', '', '', '', '', '', '', '', '', '', '', '', '', '', '', '', '', '', '', '', '', '', '', '', 'CARDINAL', '', '', '', '', '', '', '', '', '', '', '', '', '', '', '', '', '', '', '', '', '', '', '', '', '', '', '', '', '', '', '', '', '', '', '', '', '', '', '', '', '', '', '', '']\n",
      "<class 'spacy.tokens.doc.Doc'>\n",
      "['', '', '', '', '', '', '', '', '', '', '', '', '', '', '', 'CARDINAL', '', '', '', '', '', '', '', '', '', 'QUANTITY', 'QUANTITY', '', '', '', '', '', 'CARDINAL', '', '', '', '', '', '', 'CARDINAL', '', '', '', '', 'ORG', 'ORG', '', 'CARDINAL', '', '', '', '', '', '', '', '', '', '', '', '', '', '', '', '', '', '', '', 'CARDINAL', '', '', '', 'CARDINAL', '', '', '', '', '', '', '', '', '', '', '', '', '', '', '', '', '', '', '', '', '', '', '', '', '', '', '', '', '', '', '', '', '', '', '', '', 'PRODUCT', '', '', '', '', '', '', '', '', '', '', '', '', '', '', '', '', '', '', '', '', '', '', '', '', '', '', '', '', '', '', '', '', '', '', '', '', '', '', '', '', '', '', '', '', '', '', '', '', '', '', '', '', '', '', '', '', '', '', '', '', '', '', '', '', 'GPE', '', '', '', '', 'GPE', '', '', '', '', '', '', '', '', '', '', '', '', '', '', 'GPE', '', '', '', '', '', '', '', '', '', '', '', '', '', '', '', 'GPE', '', 'GPE', '', '', '', '', '', '', '', '', '', 'GPE', '', '', '', '', '', '', '', '', '', '', '', '', '', '', '', '', '', '', '', '', '', '', '', '', '', '', '', '', '', '', 'PRODUCT', '', '', '', '', '', '', '', '', '', '', '', '', '', '', '', '', '', '', '', '', '', '', '', '', '', '', '', '', '', '', '', '', '', '', '', '', '', '', '', '', '', '', '', '', '', '', '', '', '', '', '', '', 'CARDINAL', '', '', '', '', 'PRODUCT', '', '', '', '', '', '', '', '', '', '', '', '', '', '', '', '', '', '', '', '', '', '', '', '', '', '', 'PRODUCT', '', '', '', '', '', '', '', '', '', '', '', 'CARDINAL', '', 'CARDINAL', '', 'CARDINAL', '', '', '', '', '', '', '', '', '', '', '', '', '', '', '', '', '', '', '', '', '', '', '', '', '', '', '', '', '', 'PRODUCT', '', '', '', '', '', '', '', '', '', '', '', '', '', '', '', '', '', '', '', '', '', '', '', '', 'CARDINAL', '', 'CARDINAL', '', 'CARDINAL', '', '', 'CARDINAL', '', '', '', '', '', 'CARDINAL', '', '', '', '', '', '', '', '', '', '', 'GPE', '', '', '', '', '', '', '', '', '', '', '', '', 'GPE', '', '', '', '', '', '', '', '', '', '', '', '', '', '', '', '', '', '', '', '', '', '', '', '', '', '', '', '', '', '', '', '', '', '', '', '', '', '', '', '', '', '', '', '', '', '', '', '', '', '', '', '', '', '', '', '', '', '', '', '', '', '', '', '', '', '', '', '', '', '', '', '', '', '', '', '', '', '']\n",
      "<class 'spacy.tokens.doc.Doc'>\n",
      "['', '', '', '', '', '', '', '', '', '', '', '', '', 'PRODUCT', '', '', '', '', '', '', '', '', '', '', '', '', '', '', '', '', '', '', '', '', '', '', '', 'QUANTITY', 'QUANTITY', '', '', '', '', '', '', '', '', '', '', '', '', '', '', '', '', '', '', '', '', '', '', '', '', '', '', '', '', '', '', '', '', '', '', '', '', '', '', '', 'PERCENT', 'PERCENT', '', 'ORG', 'ORG', '', '', '', '', 'ORG', 'ORG', '', '', '', '', '', '', '', '', '', '', '', '', '', '', '', '', '', '', '', '', '', '', '', '', '', '', '', '', '', '', '', '', '', '', '', '', '', '', '', '', '', '', '', '', '', '', '', '', '', '', '', '', '', '', '', '', '', 'PERSON', '', '', '', '', '', '', '', '', '', '', '', '', '', 'PERSON', '', '', '', '', '', '', '', '', '', '', '', '', '', '', '', '', '', '', '', '', '', '', '', '', '', '', '', '', '', '', '', '', '', '', '', '', '', '', '', '', '', '', '', '', '', '', 'ORG', '', '', 'PERSON', '', '', '', 'PERSON', '', '', '', '', '', '', '', '', '', '', '']\n",
      "<class 'spacy.tokens.doc.Doc'>\n",
      "['', 'ORDINAL', '', '', '', '', '', '', '', '', '', '', 'QUANTITY', 'QUANTITY', '', '', '', '', '', '', '', '', '', '', '', '', '', '', '', '', '', 'ORG', 'ORG', '', '', '', '', '', '', '', '', '', '', '', '', '', '', 'GPE', '', '', '', '', '', '', '', 'LAW', 'LAW', 'LAW', 'LAW', '', '', '', '', '', '', '', '', '', '', '', '', '', '', '', '', '', '', '', '', '', '', '', '', '', '', '', '', '', '', '', '', '', '', '', 'CARDINAL', '', '', '', '', 'CARDINAL', '', '', '', '', '', '', '', '', 'CARDINAL', '', '', '', '', '', '', '', '', '', '', '', '', '', '', '', '', '', '', '', '', '', '', '', '', '', '', '', '', '', '', '', '', '', '', '', '', '', '', '', '', 'CARDINAL', '', '', '', '', '', '', '']\n",
      "<class 'spacy.tokens.doc.Doc'>\n",
      "['QUANTITY', 'QUANTITY', '', '', '', '', '', '', '', '', '', '', '', '', '', '', '', 'QUANTITY', 'QUANTITY', '', '', '', '', '', '', '', '', '', '', '', '', '', '', '', '', '', '', '', '', '', '', '', '', '', '', '', '', '', '', '', '', '', '', '', '', '', '', '', '', '', '', '', '', '', '', 'QUANTITY', 'QUANTITY', '', '', '', '', '', 'QUANTITY', 'QUANTITY', '', '', '', '', '', '', '', '', '', '', '', '', '', '', 'CARDINAL', '', '', '', '', '', '', '', '', 'CARDINAL', 'CARDINAL', '', '', '', '', '', '', '', '', '', '', '', '', '', '', 'QUANTITY', 'QUANTITY', '', '', '', '', '', '', '', '', '', '', '', '', '', '', '', '', '', '', '', '', '', 'GPE', '', '', '', '', '', '', '', '', '', '', '', '', '', '', '', '', '', '', '', '', 'QUANTITY', 'QUANTITY', '', '', '', '', '', '', '', '', '', '', 'ORDINAL', '', '', '', '', '', '', '', '', '', '', '', '', '', '', '', '', '', '', '', '', '', '', '', '', '', 'CARDINAL', '', '', '', 'CARDINAL', '', '', '', '', 'ORG', '', '', '', '', '', '', '', '', '', '', '', '', '', '', '', '', '', '', '', '', '', '', '', '', '', '', '', '', '', '', '', 'CARDINAL', '', '', 'CARDINAL', '', '', 'CARDINAL', '', '', '', 'CARDINAL', 'PERSON', 'PERSON', '', '', 'ORG', '', '', '', '', '', '', '', '', '', '', 'CARDINAL', '', '', '', '', '', '', 'ORG', '', 'CARDINAL', '', '', '', '', 'ORG', '', '', '', '', '', '', '', '', 'ORG', '', '', '', '', '', '', '', '', '', 'CARDINAL', '', '', 'CARDINAL', '', '', 'CARDINAL', '', '', '', 'CARDINAL', 'PERSON', 'PERSON', '', 'LAW', 'LAW', 'LAW', 'LAW', 'LAW', 'LAW', '', '', '', '', '', '', '', '', '', '', '', '', '', '', '', '', '', '', '', '', '', '', '', '', '', '', '', '', '', '', '', '', '', '', '', '', '', '', '', '', '', '', '', '', '', '', '', '', '', '', '', '', '', '', '', '', '', '', '', '', '', '', 'CARDINAL', '', '', '', '', '', '', '', '', '', '', 'CARDINAL', '', '', '', '', '', '', '', '', 'CARDINAL', '', '', '', '', '', '', '', '', '', '', 'CARDINAL', '', '', '', '', '', '', '', '', '', '', 'CARDINAL', '', '', '', '', '', '', '', '', '', '', '', '', '', '', '', '', '', 'CARDINAL', '', '', '', '', '', '', '', '', 'CARDINAL', '', '', '', '', '', '', '', '', '', '', '', '', '', '', '', '', '', '', '', '', '', 'LAW', 'LAW', 'LAW', 'LAW', 'LAW', '', '', '', '', '', '', '', '', '', '', '', '', '', '', '', '', '', '', '', '', '', '', '', '', '', '', '', '', '', '', '', '', '', '', '', '', '', '', '', '', '', '']\n",
      "<class 'spacy.tokens.doc.Doc'>\n",
      "['', 'CARDINAL', '', '', '', '', '', '', '', '', '', '', '', 'QUANTITY', 'QUANTITY', '', '', '', '', '', '', '', '', '', '', '', '', '', '', 'QUANTITY', 'QUANTITY', '', '', '', '', '', '', '', '', '', '', '', '', '', '', '', '', '', '', '', '', '', '', '', '', '', '', '', '', '', '', '', 'GPE', '', '', '', '', '', '', '', '', '', '', '', '', '', '', '', '', '', '', '', '', '', '', '', '', '', '', '', '', '', 'CARDINAL', '', '', '', '', '', '', '', '', '', '', '', 'GPE', '', '', '', '', '', '', '', '', '', '', '', 'CARDINAL', '', '', '', '', '', '', '', '', '', '', '', '', '', '', '', '', '', '', '', '', '', '', '', '', '', '', '', '', '', '', '', '', '', '', '', '', '', '', '', '', '', '', '', '', '', '', '', '', '', '', '', '', '', '', '', '', '', '', '', '', '', '', '', '', '', '', '', '', '', '', '', '', '', '', '', '', '', '', '', '', '', '', '', '', '', '', '']\n",
      "<class 'spacy.tokens.doc.Doc'>\n",
      "['', '', '', '', '', 'QUANTITY', 'QUANTITY', '', '', '', '', '', '', '', '', '', '', '', '', '', '', '', '', '', '', '', '', '', '', '', '', '', '', '', 'QUANTITY', 'QUANTITY', '', '', '', '', '', '', '', '', '', '', '', '', '', '', '', '', 'CARDINAL', '', '', '', '', '', '', '', '', '', '', '', '', '', '', '', '', '', '', '', '', '', '', '', '', '', '', '', '', '', '', '', '', '', '', '', '', '', '', '', '', '', '', '', 'CARDINAL', '', '', '', '', '', '', '', 'ORG', '', '', '', '', '', 'CARDINAL', '', '', '', '', '', '', 'GPE', '', 'GPE', '', '', '', '', '', '', '', '', '', '', '', '', '', '', '', '', '', '', '', '', '', '', '', '', '', '', 'PERCENT', 'PERCENT', '', '', '', '', '', '', '', '', '', '', '', '', '', '', '', '', '', '', '', '', '', '', '', '', '', '', '', '', '', '', '', '', '', 'CARDINAL', '', '', '', '', '', '', 'CARDINAL', '', '', '', '', '', '', '', '', '', '', '', '', '', '', '', '', '', '', '', '', '']\n",
      "<class 'spacy.tokens.doc.Doc'>\n",
      "['', '', '', '', '', '', '', '', '', '', '', '', '', '', '', '', '', '', '', '', '', '', '', '', '', '', '', '', '', '', '', '', '', '', '', '', '', '', '', 'ORG', 'ORG', '', '', '', 'CARDINAL', '', '', '', '', '', '', '', '', '', '', '', '', '', '', '', '', '', '', '', '', '', '', '', '', 'CARDINAL', '', '', '', '', '', '', '', '', '', '', '', '', '', '', '', '', '', '', '', '', '', '', '', '', 'PERSON', '', 'CARDINAL', '', '', '', '', '', '', 'CARDINAL', '', '', '', '', '', '', '', '', '', '', '', '', 'CARDINAL', '', '', '', '', '', '', '', '', '', '', '', '', '', '', '', '', '', 'CARDINAL', '', '', '', '', '', '', '', '', '']\n",
      "<class 'spacy.tokens.doc.Doc'>\n",
      "['', '', '', '', 'QUANTITY', 'QUANTITY', '', '', '', '', '', '', '', '', '', '', 'GPE', '', '', 'CARDINAL', '', '', '', '', '', '', '', '', '', '', '', 'CARDINAL', '', '', '', '', '', '', '', '', '', '', '', '', '', '', '', '', '', '', '', '', '', '', '', '', '', '', '', '', '', '', '', '', '', '', '', '', '', 'CARDINAL', '', '', '', '', '', '', '', '', '', '', '', '', '', '', '', '', '', '', 'GPE', '', 'CARDINAL', '', '', '', '', '', '', '', '', '', '', '', '', '', '', '', '', '', '', 'CARDINAL', '', '', '', '', 'PRODUCT', '', '', '', '', '', '', '', '', '', '', '', '', '', '', '', '', '', '', '', '', 'CARDINAL', '', '', '', '', '', '', '', '', 'CARDINAL', '', '', '', '', '', '', '', '', '', '', '', '', '', '', '', '', '', '', 'CARDINAL', '', '', '', '', '', '', '', '', '', '', '', '', '', '', '', '', '', '', '', '', '', '', '', '', '', '', '', '', '', '', '', '', '', '', '', '', '', '', '', '', '', '', '', '', '', '', '', '', '', '', '', '', '', '', '', '', '']\n",
      "<class 'spacy.tokens.doc.Doc'>\n",
      "['', '', '', '', '', '', '', '', '', '', '', '', '', '', '', '', '', '', '', '', '', '', '', '', '', '', '', '', '', '', '', '', '', '', '', '', '', '', '', '', '', '', '', '', '', '', '', '', '', '', '', '', '', '', '', 'ORG', '', '', '', '', '', '', '', '', '', '', '', '', '', '', '', '', '', '', '', '', '', '', '', '', '', '', '', '', '', '', '', '', '', '', '', '', '', '', '', '', '', '', '', '', '', '', '', '', '', '', '', '', '', '', '', '', '', '', '', '', '', '', '', '', '', '', '', '', '', '', '', '', '', '', '', '', '', '', '', '', '', '', '', '', '', '', '', '', '', '', '', '', '', '', '', '', '', '', '', '', '', '', '', '', 'CARDINAL', '', '', '', '', '', '', '', '', '', '', '', '', '', '', '', '', '', '', '', '', '', '', '', '', '', '', '', '', '', '', '', '', 'CARDINAL', '', '', '', '', '', '', '', '', '', '', '', '', '', '', '', '', '', '', '', '', '', '', '', '', '', '', '', '', '', '', '', '', '', '', '', '', '', '', '', '', '', '', '', '', '', '', '', '', '', '', '', '', '', '', '', '', '', '', '', '', '', '', '', '', '', '', '', '', '', '', '', '', '', '', '', '', '', '', '', '', '', '', '', '', '', '', '', '', '', '', '', '', '', '', '', '', '', '', '', '', '', '', '', '', '', '', '', '', '', '', '', '', '', '', '', '', '', '', '', '', '', '', '', '', '', '', '', '', '', '', '', '', '', '', '', '', '', '', '', '', '', '', 'NORP', '', '', '', '', 'ORDINAL', '', '', '', '', '', '', '', '', '', '', '', '', '', '', '', '', '', '', '', '', '', '', '', '', '', '', '', '', '', '', '', '', '', '', '', '', '', '', '', '', '', '', '', '', '', '', '', '', '', '', '', '', '', '', '', '', '', '', '', '', '', '', '', '', '', '', '', '', '', '', '', '', '', '', '', '', '', '', '', '', '', '', '', '', '', '', '', '', '', '', '', '', '', '', '', '', '', '', '', '', '', '', '', '', '', '', '', '', '', '', '', '', '', '', '', '', '', '', '', '', '', '']\n",
      "<class 'spacy.tokens.doc.Doc'>\n",
      "['', '', '', '', '', '', '', '', 'QUANTITY', 'QUANTITY', '', '', '', '', '', '', '', 'QUANTITY', 'QUANTITY', '', '', '', '', '', '', '', '', '', '', '', '', '', '', '', 'QUANTITY', 'QUANTITY', '', '', '', '', '', '', '', '', '', '', 'CARDINAL', '', '', '', '', '', '', '', 'ORG', 'ORG', 'ORG', '', '', '', '', 'CARDINAL', '', '', '', '', '', '', '', '', '', '', '', '', '', '', '', '', 'CARDINAL', '', '', '', '', '', '', '', '', '', '', '', '', '', '', '', '', '', '', '', '', '', '', '', '', '', 'CARDINAL', '', '', '', '', '', '', '', '', '', '', '', '', '', '', '', '', '', '', '', '', '', '', '', '', '', '', '', 'CARDINAL', '', '', '', '', '', '', '', '', '', '', '', '', '', '', '', '', '', '', '', '', '', '', '', '', '', '', '', '', '', '', '', '', '', '', '', '', '', '', '', '', '', '', '', '', '', '', '', '', '', '', '', '', '', '', '', '', '', '', '', '', '']\n",
      "<class 'spacy.tokens.doc.Doc'>\n",
      "['', '', '', 'PERSON', '', '', '', '', '', '', '', '', '', '', '', '', '', '', '', '', '', '', '', '', '', '', '', '', '', '', 'ORG', '', '', '', '', '', '', '', '', 'CARDINAL', '', '', '', '', '', '', '', '', '', '', '', '', '', '', '', '', '', '', '', '', '', '', '', '', '', '', 'ORG', 'ORG', '', '', '', '', '', '', '', '', '', '', '', '', 'CARDINAL', '', '', '', '', '', '', '', '', '', '', '', '', '', '', '', '', '', '', '', '', '', '', '', '', '', '', '', '', '', '', '', '', '', '', '', '', 'CARDINAL', '', '', '', '', '', '', '', '', '', '', '', '', '', '', '', '', '', '', '', '', '', '', '', '', '', '', '', '', '', '', '', '', '', '', '', '', '', '', '', '', '', '', '', '', '']\n",
      "<class 'spacy.tokens.doc.Doc'>\n",
      "['', '', '', '', '', '', '', '', '', '', '', '', '', '', '', '', 'CARDINAL', '', '', '', '', '', '', '', '', '', '', '', '', '', '', '', '', '', '', '', '', '', '', '', '', '', '', '', '', '', '', '', '', '', '', '', '', '', '', '', '', '', '', '', '', '', '', '', '', '', '', 'CARDINAL', '', '', '', '', '', '', '', '', '', '', '', '', '', '', '', '', '', '', '', '', '', '', '', '', '', '', '', '', '', '', '', '', '', '', '', '', '', '', '', '', '', '', '', '', '', '', '', '', '', '', '', '', '', '', '', '', '', '', '', '', '', '', '', '', '', '', '', '', '', '', '', '', '', '', '', '', '', '', '', '', '', '', '']\n",
      "<class 'spacy.tokens.doc.Doc'>\n",
      "['', '', '', '', '', '', '', '', '', '', '', '', '', '', '', '', '', '', '', '', '', '', '', '', '', '', '', '', '', '', '', '', '', '', '', '', '', '', '', '', '', '', '', '', '', '', '', '', '', '', '', '', '', '', '', '', '', '', '', '', '', '', '', '', '', '', '', '', '', '', '', '', '', '', '', '', '', '', '', '', '', '', '', '', '', '', '', '', '', '', 'GPE', '', '', '', '', '', '', '', '', '', '', '', '', '', '', '', '', '', '', '', '', '', '', '', '', '', '', '', '', '', '', '', '', '', '', '', '', '', '', '', '', '', '', '', '', '', '', '', '', '', '', '', '', '', '', '', '', '', '', '', '', '', '', '', '', '', '', '', '', '', '', '', '', '', '', '', '', '', '', '', '', '', '', '', '']\n",
      "<class 'spacy.tokens.doc.Doc'>\n",
      "['', '', '', '', '', 'QUANTITY', 'QUANTITY', '', '', '', '', '', '', '', '', '', '', '', '', '', '', '', 'PERSON', 'PERSON', '', '', '', '', '', '', '', '', '', '', '', '', '', '', '', '', '', '', '', '', '', '', '', '', 'CARDINAL', '', '', '', '', '', '', '', '', '', '', '', '', '', '', '', '', '', '', '', '', '', '', '', '', '', '', '', '', '', '', '', '', '', '', '', '', '', '', '', '', '', '', '', '', '', '', '', '', '', '', 'PRODUCT', '', '', '', '', '', '', '', '', '', '', '', '', 'CARDINAL', '', '', '', '', '', '', '', '', '', '', '', '', '', '', '', '', '', '', '', '', '', '', '', '', '', '', '', '', '', '', '', '', '', '', '', '', '', '', '', 'GPE', '', 'GPE', '', '', '', '', '', '', '', '', '', '', '', '', '', '', '', '', '', '', 'PERSON', '', '', '', '', '']\n",
      "<class 'spacy.tokens.doc.Doc'>\n",
      "['', '', '', '', '', '', '', '', '', 'QUANTITY', 'QUANTITY', '', '', '', '', '', '', '', '', '', '', '', '', '', '', '', '', '', '', '', '', '', '', '', '', '', '', '', '', '', '', '', '', '', '', '', '', '', '', '', '', '', '', '', '', '', '', '', '', '', '', '', '', '', '', 'CARDINAL', '', '', '', '', '', '', '', '', '', '', '', '', '', '', '', '', '', '', '', '', '', '', '', '', '', '', '', '', '', '', '', '', '', 'GPE', '', '', '', '', '', '', '', '', '', '', '', '', '', '', '', '', '', '', '', '', '', '', '', '', '', '', '', '', '', '', 'PRODUCT', '', '', '', '', '', '', '', '', '', '', '', '', '', '', '', '', '', '', '', '', '', '', '', '', '', '', '', '', '', '', '', '', '', '', 'PRODUCT', '', '', '', '', '', '', 'GPE', '', '', '', '', '', '', '', 'GPE', '', '', 'CARDINAL', '']\n"
     ]
    },
    {
     "data": {
      "text/plain": [
       "[Group](quantity): \n",
       "\tCMD\t: attr:quantity_entities == TRUE\n",
       "\tCOUNT\t: 49"
      ]
     },
     "execution_count": 43,
     "metadata": {},
     "output_type": "execute_result"
    }
   ],
   "source": [
    "from errudite.builts import Attribute, Group\n",
    "\n",
    "# Create an attribute based on the location function\n",
    "attr = Attribute.create(\n",
    "    name=\"cardinal_entities\",\n",
    "    description=\"Presence of cardinal entities in the essay\",\n",
    "    cmd=\"contains_cardinal(essay)\"\n",
    ")\n",
    "\n",
    "# Create a group that checks for the presence of location entities\n",
    "cardinal_group = Group.create(\n",
    "    name=\"cardinal\",\n",
    "    description=\"cardinal entity detected\",\n",
    "    cmd=\"attr:cardinal_entities == TRUE\",\n",
    "    attr_hash=Attribute.store_hash(),\n",
    "    group_hash=Group.store_hash()\n",
    ")\n",
    "quantity_group"
   ]
  },
  {
   "cell_type": "code",
   "execution_count": 37,
   "id": "d10e1b62-d5a6-481c-b08b-e19b46507810",
   "metadata": {},
   "outputs": [
    {
     "name": "stdout",
     "output_type": "stream",
     "text": [
      "{'predictor': 'FLAN_T5', 'perform': {'accuracy': 0.0, 'accuracy_PE': 0.40816326530612246, 'accuracy_KE': 0.3469387755102041, 'accuracy_LCE': 0.30612244897959184}}\n"
     ]
    }
   ],
   "source": [
    "count_group_list = []\n",
    "\n",
    "for key in quantity_group.get_instances():\n",
    "    count_group_list.append(Instance.get(key))\n",
    "\n",
    "predictor.evaluate_performance(count_group_list)\n",
    "print({\"predictor\": predictor.name, \"perform\": predictor.perform })"
   ]
  },
  {
   "cell_type": "markdown",
   "id": "370054a7-bffc-45d9-9d22-79f356b75f57",
   "metadata": {},
   "source": [
    "## Group - Number of Adjectives"
   ]
  },
  {
   "cell_type": "code",
   "execution_count": 21,
   "id": "14fe4f4e-bfbf-4029-b856-ccecb16bfc07",
   "metadata": {},
   "outputs": [],
   "source": [
    "from errudite.build_blocks import PrimFunc\n",
    "from errudite.build_blocks.prim_funcs.linguistic import STRING\n",
    "import spacy\n",
    "nlp = spacy.load(\"en_core_web_sm\")\n",
    "\n",
    "\n",
    "@PrimFunc.register()\n",
    "def num_adjectives(target: 'Target') -> int:\n",
    "    \"\"\"\n",
    "    Count the number of adjectives in a given target.\n",
    "    \"\"\"\n",
    "    try:\n",
    "        # Access the tokens associated with the Target\n",
    "        #print(STRING(target))\n",
    "        #tokens = STRING(target).tokens\n",
    "        doc = nlp(STRING(target))\n",
    "        adjectives = [token for token in doc if token.pos_ == \"ADJ\"]\n",
    "        return len(adjectives)\n",
    "    except Exception as e:\n",
    "        ex = Exception(f\"Unknown exception from [num_adjectives]: {e}\")\n",
    "        raise ex\n",
    "\n",
    "\n"
   ]
  },
  {
   "cell_type": "code",
   "execution_count": 26,
   "id": "87912299-83c3-45ef-9fd0-9db9fa4d559b",
   "metadata": {},
   "outputs": [
    {
     "name": "stderr",
     "output_type": "stream",
     "text": [
      "INFO:errudite.build_blocks.wrapper:Parsed: FuncOp(num_adjectives):[ArgOp:essay]+[]\n",
      "WARNING:errudite.utils.store:Storing num_adjectives_in_essay in Attribute: Overwritting name already in use.\n",
      "INFO:errudite.builts.attribute:Created attr: num_adjectives_in_essay\n",
      "INFO:errudite.build_blocks.wrapper:Parsed: [BinOp](>):[[BuildBlockOp](attr):num_adjectives_in_essay, 30.0]\n",
      "WARNING:errudite.utils.store:Storing adjective_count_group in Group: Overwritting name already in use.\n",
      "INFO:errudite.builts.group:Created group: adjective_count_group\n"
     ]
    },
    {
     "data": {
      "text/plain": [
       "[Group](adjective_count_group): \n",
       "\tCMD\t: attr:num_adjectives_in_essay > 30\n",
       "\tCOUNT\t: 3"
      ]
     },
     "execution_count": 26,
     "metadata": {},
     "output_type": "execute_result"
    }
   ],
   "source": [
    "from errudite.builts import Attribute, Group\n",
    "\n",
    "# Assuming you have already defined the PrimFunc num_adjectives\n",
    "\n",
    "# Create an attribute that counts the adjectives among essay targets\n",
    "attr = Attribute.create(\n",
    "    name=\"num_adjectives_in_essay\",\n",
    "    description=\"Number of adjectives among essay targets\",\n",
    "    cmd=\"num_adjectives(essay)\"\n",
    ")\n",
    "\n",
    "\n",
    "# Create a group to check if there are more than 5 adjectives in the essay\n",
    "adj_count_group = Group.create(\n",
    "    name=\"adjective_count_group\",\n",
    "    description=\"Group for counting adjectives in the essay\",\n",
    "    cmd=\"attr:num_adjectives_in_essay > 30\",\n",
    "    attr_hash=Attribute.store_hash(),\n",
    "    group_hash=Group.store_hash()\n",
    ")\n",
    "\n",
    "# You can now use the 'group' to check if there are more than 5 adjectives in your essay targets.\n",
    "adj_count_group"
   ]
  },
  {
   "cell_type": "code",
   "execution_count": 27,
   "id": "8614a58d-9819-4b27-b661-1a01387a0366",
   "metadata": {},
   "outputs": [
    {
     "name": "stdout",
     "output_type": "stream",
     "text": [
      "{'predictor': 'FLAN_T5', 'perform': {'accuracy': 0.0, 'accuracy_PE': 0.3333333333333333, 'accuracy_KE': 0.0, 'accuracy_LCE': 0.3333333333333333}}\n"
     ]
    }
   ],
   "source": [
    "count_group_list = []\n",
    "for key in adj_count_group.get_instances():\n",
    "    count_group_list.append(Instance.get(key))\n",
    "\n",
    "predictor.evaluate_performance(count_group_list)\n",
    "print({\"predictor\": predictor.name, \"perform\": predictor.perform })"
   ]
  },
  {
   "cell_type": "markdown",
   "id": "c5d2823c-b761-48b7-9d0f-c03a3a76f7a3",
   "metadata": {},
   "source": [
    "## Group - Number of Verbs"
   ]
  },
  {
   "cell_type": "code",
   "execution_count": 28,
   "id": "2653177b-95bc-4b17-9fc5-8677093aab5c",
   "metadata": {},
   "outputs": [],
   "source": [
    "from errudite.build_blocks import PrimFunc\n",
    "from errudite.build_blocks.prim_funcs.linguistic import STRING\n",
    "import spacy\n",
    "nlp = spacy.load(\"en_core_web_sm\")\n",
    "\n",
    "\n",
    "@PrimFunc.register()\n",
    "def num_verbs(target: 'Target') -> int:\n",
    "    \"\"\"\n",
    "    Count the number of verbs in a given target.\n",
    "    \"\"\"\n",
    "    try:\n",
    "        # Access the tokens associated with the Target\n",
    "        #print(STRING(target))\n",
    "        #tokens = STRING(target).tokens\n",
    "        doc = nlp(STRING(target))\n",
    "        adjectives = [token for token in doc if token.pos_ == \"VERB\"]\n",
    "        return len(adjectives)\n",
    "    except Exception as e:\n",
    "        ex = Exception(f\"Unknown exception from [num_adjectives]: {e}\")\n",
    "        raise ex\n",
    "\n",
    "\n"
   ]
  },
  {
   "cell_type": "code",
   "execution_count": 35,
   "id": "fdc6119f-d7a5-43cb-b7a6-9d4509a41a0f",
   "metadata": {},
   "outputs": [
    {
     "name": "stderr",
     "output_type": "stream",
     "text": [
      "INFO:errudite.build_blocks.wrapper:Parsed: FuncOp(num_verbs):[ArgOp:essay]+[]\n",
      "WARNING:errudite.utils.store:Storing num_verbs_in_essay in Attribute: Overwritting name already in use.\n",
      "INFO:errudite.builts.attribute:Created attr: num_verbs_in_essay\n",
      "INFO:errudite.build_blocks.wrapper:Parsed: [BinOp](>):[[BuildBlockOp](attr):num_verbs_in_essay, 40.0]\n",
      "WARNING:errudite.utils.store:Storing verb_count_group in Group: Overwritting name already in use.\n",
      "INFO:errudite.builts.group:Created group: verb_count_group\n"
     ]
    },
    {
     "data": {
      "text/plain": [
       "[Group](verb_count_group): \n",
       "\tCMD\t: attr:num_verbs_in_essay > 40\n",
       "\tCOUNT\t: 20"
      ]
     },
     "execution_count": 35,
     "metadata": {},
     "output_type": "execute_result"
    }
   ],
   "source": [
    "from errudite.builts import Attribute, Group\n",
    "\n",
    "# Assuming you have already defined the PrimFunc num_adjectives\n",
    "\n",
    "# Create an attribute that counts the adjectives among essay targets\n",
    "attr = Attribute.create(\n",
    "    name=\"num_verbs_in_essay\",\n",
    "    description=\"Number of verbs among essay targets\",\n",
    "    cmd=\"num_verbs(essay)\"\n",
    ")\n",
    "\n",
    "\n",
    "# Create a group to check if there are more than 20 verbs in the essay\n",
    "verb_count_group = Group.create(\n",
    "    name=\"verb_count_group\",\n",
    "    description=\"Group for counting verbs in the essay\",\n",
    "    cmd=\"attr:num_verbs_in_essay > 40\",\n",
    "    attr_hash=Attribute.store_hash(),\n",
    "    group_hash=Group.store_hash()\n",
    ")\n",
    "\n",
    "# You can now use the 'group' to check if there are more than 5 adjectives in your essay targets.\n",
    "verb_count_group"
   ]
  },
  {
   "cell_type": "code",
   "execution_count": 36,
   "id": "ce245fe3-f4a2-4c5c-91a6-86425954a0aa",
   "metadata": {},
   "outputs": [
    {
     "name": "stdout",
     "output_type": "stream",
     "text": [
      "{'predictor': 'FLAN_T5', 'perform': {'accuracy': 0.05, 'accuracy_PE': 0.5, 'accuracy_KE': 0.5, 'accuracy_LCE': 0.25}}\n"
     ]
    }
   ],
   "source": [
    "count_group_list = []\n",
    "for key in verb_count_group.get_instances():\n",
    "    count_group_list.append(Instance.get(key))\n",
    "\n",
    "predictor.evaluate_performance(count_group_list)\n",
    "print({\"predictor\": predictor.name, \"perform\": predictor.perform })"
   ]
  },
  {
   "cell_type": "code",
   "execution_count": 77,
   "id": "467298ad-7cfd-4f58-a17c-d0df232dc2d3",
   "metadata": {},
   "outputs": [
    {
     "data": {
      "text/plain": [
       "{'counts': {'correct': 3, 'incorrect': 73},\n",
       " 'stats': {'coverage': 1.0,\n",
       "  'error_coverage': 1.0,\n",
       "  'local_error_rate': 0.9605263157894737,\n",
       "  'global_error_rate': 0.9605263157894737}}"
      ]
     },
     "execution_count": 77,
     "metadata": {},
     "output_type": "execute_result"
    }
   ],
   "source": [
    "# # some general stats on groups\n",
    "# Group.eval_stats(\n",
    "#     filtered_instances=adj_count_group.get_instances(),\n",
    "#     # this will automatically call the default model we got\n",
    "#     model=None\n",
    "# )"
   ]
  },
  {
   "cell_type": "markdown",
   "id": "f7404c2e-3f89-4151-9fd4-a9392fcaa2cf",
   "metadata": {},
   "source": [
    "## Group - Number of Nouns"
   ]
  },
  {
   "cell_type": "code",
   "execution_count": 43,
   "id": "9c00866d-b798-4b22-8560-bd18cee887c5",
   "metadata": {},
   "outputs": [
    {
     "name": "stderr",
     "output_type": "stream",
     "text": [
      "WARNING:errudite.utils.registrable:Register num_verbs as PrimFunc: Overwritting name already in use for num_verbs.\n"
     ]
    }
   ],
   "source": [
    "from errudite.build_blocks import PrimFunc\n",
    "from errudite.build_blocks.prim_funcs.linguistic import STRING\n",
    "import spacy\n",
    "nlp = spacy.load(\"en_core_web_sm\")\n",
    "\n",
    "\n",
    "@PrimFunc.register()\n",
    "def num_verbs(target: 'Target') -> int:\n",
    "    \"\"\"\n",
    "    Count the number of verbs in a given target.\n",
    "    \"\"\"\n",
    "    try:\n",
    "        # Access the tokens associated with the Target\n",
    "        #print(STRING(target))\n",
    "        #tokens = STRING(target).tokens\n",
    "        doc = nlp(STRING(target))\n",
    "        adjectives = [token for token in doc if token.pos_ == \"NOUN\"]\n",
    "        return len(adjectives)\n",
    "    except Exception as e:\n",
    "        ex = Exception(f\"Unknown exception from [num_adjectives]: {e}\")\n",
    "        raise ex\n",
    "\n",
    "\n"
   ]
  },
  {
   "cell_type": "code",
   "execution_count": 53,
   "id": "b21f8c20-1c7f-4fb3-b783-e7b10baf3b03",
   "metadata": {},
   "outputs": [
    {
     "name": "stderr",
     "output_type": "stream",
     "text": [
      "INFO:errudite.build_blocks.wrapper:Parsed: FuncOp(num_verbs):[ArgOp:essay]+[]\n",
      "WARNING:errudite.utils.store:Storing num_verbs_in_essay in Attribute: Overwritting name already in use.\n",
      "INFO:errudite.builts.attribute:Created attr: num_verbs_in_essay\n",
      "INFO:errudite.build_blocks.wrapper:Parsed: [BinOp](>):[[BuildBlockOp](attr):num_verbs_in_essay, 20.0]\n",
      "WARNING:errudite.utils.store:Storing verb_count_group in Group: Overwritting name already in use.\n",
      "INFO:errudite.builts.group:Created group: verb_count_group\n"
     ]
    },
    {
     "data": {
      "text/plain": [
       "[Group](verb_count_group): \n",
       "\tCMD\t: attr:num_verbs_in_essay > 20\n",
       "\tCOUNT\t: 75"
      ]
     },
     "execution_count": 53,
     "metadata": {},
     "output_type": "execute_result"
    }
   ],
   "source": [
    "from errudite.builts import Attribute, Group\n",
    "\n",
    "# Assuming you have already defined the PrimFunc num_adjectives\n",
    "\n",
    "# Create an attribute that counts the adjectives among essay targets\n",
    "attr = Attribute.create(\n",
    "    name=\"num_verbs_in_essay\",\n",
    "    description=\"Number of verbs among essay targets\",\n",
    "    cmd=\"num_verbs(essay)\"\n",
    ")\n",
    "\n",
    "\n",
    "# Create a group to check if there are more than 20 verbs in the essay\n",
    "verb_count_group = Group.create(\n",
    "    name=\"verb_count_group\",\n",
    "    description=\"Group for counting verbs in the essay\",\n",
    "    cmd=\"attr:num_verbs_in_essay > 20\",\n",
    "    attr_hash=Attribute.store_hash(),\n",
    "    group_hash=Group.store_hash()\n",
    ")\n",
    "\n",
    "# You can now use the 'group' to check if there are more than 5 adjectives in your essay targets.\n",
    "verb_count_group"
   ]
  },
  {
   "cell_type": "code",
   "execution_count": 54,
   "id": "01baf8ab-2486-4c49-b079-b872f39f344d",
   "metadata": {},
   "outputs": [
    {
     "name": "stdout",
     "output_type": "stream",
     "text": [
      "{'predictor': 'FLAN_T5', 'perform': {'accuracy': 0.04, 'accuracy_PE': 0.5466666666666666, 'accuracy_KE': 0.4, 'accuracy_LCE': 0.26666666666666666}}\n"
     ]
    }
   ],
   "source": [
    "count_group_list = []\n",
    "for key in verb_count_group.get_instances():\n",
    "    count_group_list.append(Instance.get(key))\n",
    "\n",
    "predictor.evaluate_performance(count_group_list)\n",
    "print({\"predictor\": predictor.name, \"perform\": predictor.perform })"
   ]
  },
  {
   "cell_type": "markdown",
   "id": "cf6d6051-b8ea-4153-af0f-ec5737378fd9",
   "metadata": {},
   "source": [
    "## Group - Contains Location Entity"
   ]
  },
  {
   "cell_type": "code",
   "execution_count": null,
   "id": "e872a5bf-f3e8-4ad3-952f-6ebbf394c006",
   "metadata": {},
   "outputs": [],
   "source": [
    "from errudite.build_blocks import PrimFunc\n",
    "from errudite.build_blocks.prim_funcs.linguistic import STRING\n",
    "import spacy\n",
    "nlp = spacy.load(\"en_core_web_sm\")\n",
    "\n",
    "\n",
    "@PrimFunc.register()\n",
    "def contains_loc(target: 'Target') -> int:\n",
    "    \"\"\"\n",
    "    Detect the presence of location entities ('bottom' or 'top') in the essay.\n",
    "    \"\"\"\n",
    "    try:\n",
    "        # Access the tokens associated with the Target\n",
    "        target_str=STRING(target)\n",
    "        #tokens = STRING(target).tokens\n",
    "        if \"bottom\" in target_str or \"top\" in target_str:\n",
    "            return True\n",
    "    except Exception as e:\n",
    "        ex = Exception(f\"Unknown exception from [num_adjectives]: {e}\")\n",
    "        raise ex\n",
    "\n"
   ]
  },
  {
   "cell_type": "code",
   "execution_count": null,
   "id": "bbfe46cf-9069-42de-8532-922ccd391d8b",
   "metadata": {},
   "outputs": [],
   "source": [
    "from errudite.builts import Attribute, Group\n",
    "\n",
    "# Assuming you have already defined the PrimFunc num_adjectives\n",
    "\n",
    "# Create an attribute that counts the adjectives among essay targets\n",
    "attr = Attribute.create(\n",
    "    name=\"contains_loc_in_essay\",\n",
    "    description=\"Number of locations among essay targets\",\n",
    "    cmd=\"contains_loc(essay)\"\n",
    ")\n",
    "\n",
    "\n",
    "# Create a group to check if there are more than 5 adjectives in the essay\n",
    "contains_loc_group = Group.create(\n",
    "    name=\"adjective_count_group\",\n",
    "    description=\"Group for counting locations in the essay\",\n",
    "    cmd=\"attr:contains_loc_in_essay==TRUE \",\n",
    "    attr_hash=Attribute.store_hash(),\n",
    "    group_hash=Group.store_hash()\n",
    ")\n",
    "\n",
    "# You can now use the 'group' to check if there are more than 5 adjectives in your essay targets.\n",
    "contains_loc_group"
   ]
  },
  {
   "cell_type": "code",
   "execution_count": null,
   "id": "61edc720-683c-490f-a8d0-f6385b5d091e",
   "metadata": {},
   "outputs": [],
   "source": [
    "# some general stats on groups\n",
    "Group.eval_stats(\n",
    "    filtered_instances=contains_loc_group.get_instances(),\n",
    "    # this will automatically call the default model we got\n",
    "    model=None\n",
    ")"
   ]
  },
  {
   "cell_type": "code",
   "execution_count": null,
   "id": "f174c74c-f70b-453a-b2cc-172a18ab1ab7",
   "metadata": {},
   "outputs": [],
   "source": [
    "contains_loc_group.visualize_models(models=[\"FLAN_T5\"])"
   ]
  },
  {
   "cell_type": "code",
   "execution_count": 15,
   "id": "ffaea9ff-7fed-4086-b1ee-4ba226cfab30",
   "metadata": {},
   "outputs": [],
   "source": [
    "from errudite.build_blocks import PrimFunc\n",
    "from errudite.build_blocks.prim_funcs.linguistic import STRING\n",
    "import spacy\n",
    "nlp = spacy.load(\"en_core_web_sm\")\n",
    "\n",
    "\n",
    "@PrimFunc.register()\n",
    "def contains_loc(target: 'Target') -> int:\n",
    "    \"\"\"\n",
    "    Detect the presence of location entities ('bottom' or 'top') in the essay.\n",
    "    \"\"\"\n",
    "    try:\n",
    "        # Access the tokens associated with the Target\n",
    "        answer_type(target)\n",
    "        #target_str=STRING(target)\n",
    "        #tokens = STRING(target).tokens\n",
    "        #if \"bottom\" in target_str or \"top\" in target_str:\n",
    "         #   return True\n",
    "    except Exception as e:\n",
    "        ex = Exception(f\"Unknown exception from [num_adjectives]: {e}\")\n",
    "        raise ex\n",
    "\n"
   ]
  },
  {
   "cell_type": "code",
   "execution_count": 16,
   "id": "49c4a685-dd86-4420-9bdc-fb6c8da9a8d6",
   "metadata": {},
   "outputs": [
    {
     "name": "stderr",
     "output_type": "stream",
     "text": [
      "INFO:errudite.build_blocks.wrapper:Parsed: FuncOp(contains_loc):[ArgOp:essay]+[]\n",
      "INFO:errudite.builts.attribute:Created attr: contains_loc_in_essay\n",
      "INFO:errudite.build_blocks.wrapper:Parsed: [BinOp](==):[[BuildBlockOp](attr):contains_loc_in_essay, True]\n",
      "INFO:errudite.builts.group:Created group: adjective_count_group\n"
     ]
    },
    {
     "name": "stdout",
     "output_type": "stream",
     "text": [
      "[Target] [InstanceKey(qid='L24-RCFinal proposal, L3b8-23_RCFinal proposal, & L3b8-08_RCFinal proposal', vid=0)]\n",
      "The initial hill height that I choose was 45 meters because we wanted it to be the tallest height as possible so it would have the most potential energy. I choose this height because it will have more potential energy to go all over the rollercoaster. During the initial drop, most of the js of PE will be transforming into K.E.E with the loss of heat. \n",
      "\n",
      "I choose 25 meters hill height because the car would have less kinetic energy when going down hill into the stopping point. We could not make the hill taller than the initial drop because of the Law of Conservation of energy, which says energy cannot be created or destroyed. The hill will be good because they are still using energy from the initial drop. The final part of the Pacific Coaster is the stopping portion, ending in water. Potential energy was tranformed into heat energy, instead of K.E.The car will also have a lot more potential energy than a bigger car with a smaller mass. \n",
      "\n",
      "The car mass that I choose was 25kg. I choose this car mass because it won’t be so difficult to take the car to the top of the initial drop and our car had the greatest mass, so that these was the most potential energy as possible. There will not be an increase in speed, even if mass increases because speed increases with an increase in drop height.\n",
      "\n",
      "[Target] [InstanceKey(qid='L3b8-21_RCFinal proposal', vid=0)]\n",
      "We chose a height of .8 meters because it is a large drop that has enough potential energy to go through the entire rollercoaster. While testing to find the best drop height we learned that if you increase the height, the amount of potential energy also increases. We took a height of .2 meters and the potential energy was .6 Joules. Then we took a height of .4 meters and we saw that the potential energy increased to 1.2 Joules. This was how we discovered an increase in height gives you a higher potential energy. When you have friction on the initial drop, the potential energy at the top of the hill will NOT equal the kenetic energy at the bottom of the drop. This is because energy is being lost due to heat energy. This drop is an important part of the rollercoaster.\n",
      "[Target] [InstanceKey(qid='L23-RCFinal proposal, L22-RCFinal proposal, L3b8-22_RCFinal proposal, L3b8-20_RCFinal proposal, & L3b8-19_RCFinal', vid=0)]\n",
      "The initial drop must be the highest point of your roller coaster. It will be where all of the energy must be created in the form of Potential energy. A height of 90m would be just right because the initial drop can help the car to go over the hills with enough potential energy. I propose that we should make the roller coasters drop 90 meters tall because the roller coaster needs a lot of KE to go through the rest of the roller coaster. During initial drop, the increasing height increases potential energy at the top of hill and kinetic energy at the bottom of hill. When we increase the initial drop height the car has a faster speed so it'll be able to travel farther.\n",
      "\n",
      "The hill of the roller coaster is another critical part. It must be a smaller height than the initial drop to have enough energy to go up the hill. The hill can be .80 meter or less because it can’t be more than .89 meter because the potential energy would be transformed to kinetic energy with the loss of heat.  The hill has this height, the car will have enough Kinetic energy to get it over the hill. When increasing height and mass in car lift, potential energy increased.\n",
      "[Target] [InstanceKey(qid='L21-RCFinal proposal & L3b8-24_RCFinal proposal', vid=0)]\n",
      "The initial drop height that I have chosen is 35m long, enough height for the riders. I chose this height for the initial drop because 35m wasn’t too long or too short. If the height of the initial drop is low, than won’t have enough potential energy (PE) and the passengers would probably get stuck between the initial drop and the hill. \n",
      "\n",
      "The Law of Conservation of Energy says that no energy can made or destroyed. So the initial drop had  to have more than enough Potential energy to get over the loop and hills. Potential energy will be less due to  heat. The car would have 4.802J Potential energy but some will be  transformed to heat. If the hill was the same height as the hill or close to the hill height it would not be ideal because the car lost energy. It was transformed to heat energy. \n",
      "[Target] [InstanceKey(qid='L3b8-17_RCFinal proposal', vid=0)]\n",
      "For our initial drop the height was .77m. PE=mass*height*98. PE is related to the mass and height. The law of conservation of energy states that energy can’t be made or destroyed. Some of the energy turns into heat energy or different energies. If you add all the energies up they should still equal the starting energy. Our hill height was .5m. It was that height because if it was higher than the drop (.77m) then it wouldn’t have enough energy to get up. It couldn’t be .77m because it loses some energy. \n",
      "[Target] [InstanceKey(qid='L3b8-16_RCFinal proposal & UG_ENGM-RC74', vid=0)]\n",
      "For our initial drop we chose a height of 0.95 m because we wanted the most potential energy we could possibly get. The drop converts all the stored potential energy into kinetic energy, giving it enough speed for the people to get thrill and enjoy. The more potential energy you have, the more energy you will have for the rest of the ride, which was our goal. In the initial drop, we took the Potential Energy and transformed it to Kinetic Energy. At the top, there is no Kinetic Energy because all the Potential Energy has yet to transform into Kinetic Energy. The higher the initial drop height got, the more potential energy you had.  Also, all the potential energy had transformed into Kinetic energy. Also, when the mass went up, so did the potential energy. This means, the more mass you have, the more potential energy you will have. Also, mass doesn’t affect speed.\n",
      "\n",
      "The Hill It has a height of 0.42m. to give the thrill to the people, by slowing down the ride while going up, and speeding it back up when it goes down. The principle involved is again the energy principle, as kinetic energy is partially converted into potential energy while going up and then this potential energy is again converted into kinetic energy. \n",
      "[Target] [InstanceKey(qid='L3b8-15_RCFinal proposal & UG_ENGM-RC63 ', vid=0)]\n",
      "When designing a roller coaster, you want to have a high initial drop. If the height of the initial drop is .65 meter, there will be more potential energy. To be exact, in the simulation, the potential energy was 3.9 joules. When the car moves down the drop, the potential energy is transformed into kinetic energy. But, in the real world, some kinetic energy will be lost to heat energy, but the total amount of energy is the same. This is because of the Law of Conservation of Energy. This law states that energy cannot be created or destroyed. Since the mass is small, this also affects the total energy. This is because more mass means more potential energy and kinetic energy.\n",
      "\n",
      "After this is over, we bring them back up a hill of 0.56 meters, just slightly lower than the initial hill. When they first begin dropping, they will feel a thrill. At the top of the hill, they will experience  the feeling of weightlessness. They wont stay up there long before being shot back down the hill, reaching a fast speed. Finally, after traveling a short distance the brakes will be added to the cart and it will come to a stop, which will give the riders one last feeling of force. Despite all these amazing features, we believe that the best aspect of our design is the fact that it is completely frictionless, so after the drop, no more energy needs to be added to the cart, making it very environmental and economical friendly. The combination of all these thrills will give the riders an experience they will never forget.\n",
      "[Target] [InstanceKey(qid='L3b8-14_RCFinal proposal', vid=0)]\n",
      "For the car lift we decided that the car would be .4 kg in weight. The height is 1 m. We chose this height because it gave us the most potential energy to work with which was 3.8 Joules. We wanted as much potential energy as possible so that we knew it would make it over all the hills and through all the loops. Because of the Law of Conservation of Energy, which states that energy can’t be created or destroyed, the car still has the same amount of energy at the bottom as it did al the top of the drop. At the top of the drop, the car had 3.8 Joules of potential energy. At the end the car still has 3.8 Joules of energy, but instead of being in a useable form, it is in the unusable form of heat energy.\n",
      "[Target] [InstanceKey(qid='L3b8-13_RCFinal proposal', vid=0)]\n",
      "        I am here to tell you about our rollercoaster design that is called the lolly pop. This roller coaster is the best. Tostart the roller coaster is the initial drop. It will be using a cart that is 5 grams, so their is enough mass to keep the car on track. Right at the top of the initial drop it will hold the cart just so it is at al most 80º Then hold it for 3 to 5 second to make it more intresting The Force used to pull the cart from the bottom to the Top will have to be big enough so it can pull it all the way back threw the track so people can rid it again\n",
      "        The inetial drop like I said the height is .77 meters high Then it will hold at The top for 3 to 5 seconds When it drops it will lossen the pully lines so it will feel like you’r falling  out of the The sky. Whem the cart is droped it will still stay in contact with the track so it does not go off the track and not make it safe at the Bottom it will be a gradual ride to a flat section. \n",
      "        On the hill the hill will not have way to much presure on the people on the ride so they would get supper hurt or even die. the hills height will be .5 meters high and have it be in like a black hole leading up to it then fly down the other side of the hill Then Their will be a slight flat section going to the loop. \n",
      "        Right when you get to the loop Their will be the track that has the end of the loop where you go from when you start To get on the loop and then when you get off the loop it will kinda be like a train changing lanes to go a different direction. The loop height will be .24 meters in height and diamiter ad when it gets to the loop it will have enough volocity To keep it from getting stuck at the top then falling out then not making it safe. \n",
      "        When The cart is don with the loop the caret will be stoping in ashort amount of timeThe amount of energy will be all taken away when it comes to the landing strip and that will be a section  When They get to a complete stop The cart will go back to the begaing but fast. I hope you like our desige\n",
      "\n",
      "[Target] [InstanceKey(qid='L3b8-11_RCFinal proposal', vid=0)]\n",
      "My company and I have been working very hard on a design for you. We have the great rollar coaster called Hoppolia! This is Icelandic for jumping in puddlies.\n",
      "\n",
      "We will have an elevator for people to get to the top. This will be efficient, because many people can fit on one elevator. Elevators are also very safe, because people can’t fall out and they have good speed. To spice the elevator up we can decorate it very creepy + have scary music play!\n",
      "\n",
      "Initial drop: To make sure our coaster can be fast we have the drop at 97 meters. It won’t take a lot of energy. The hight is good, because there will be gravity forces pushing down on people to keep them in there car. People will love this part not just for the stomach flip felling, but also the high speed! This rollar coaster will go about 30 m/s^2.\n",
      "\n",
      "loop: The loop is always everyone’s favorite part! This loop will be like no other! It will be so much fun no one know what hit them! There will be some room between the initial drop + the loop to slow things down. By the time it hits the loop it will be totally epic! This part will be coast cost effective because it is less expensive to buy. The loop diamiter will be 35 meters.\n",
      "\n",
      "hill: My hill is ment to give the riders that last stomach drop give the coaster the energy it needs to end the ride. The hight of the hill hight will be 27 meters high. This hight will be best to push it to the end + to make it fun! This is not to fast but fast enough. The car will still be going fairly fast from the loop, so rides can look forward to the fast hill too!\n",
      "\n",
      "At the end of the coaster, there will be water to stop in! No one will be expecting it, so its a nice surprise at the end! It won’t be like they drop into a tank of water, it’s just like a push to slow it down.  This is a good way to stop, because water will make it stop sooner!\n",
      "\n",
      "We hope you like your perpocil!,.\n",
      "\n",
      "[Target] [InstanceKey(qid='L3b8-02_RCFinal proposal & L3b7-16_RCFinal', vid=0)]\n",
      "In group we decided to have an initial drop of .77 meters, because it had enough potential energy. We decided to do this because energy can be created or destroyed. Next, We decided to go with two hills and one loop. Our hill which we concluded would be 50 meters. We did this because when the roller coaster rolls down the initial drop it only has a certain amount of potential energy, and when it goes up the hill we will lose some potenial energy. The energy we loose will turn into heat energy. Through our testing, we found that a car with leoss mass would be easier. \n",
      "[Target] [InstanceKey(qid='L216_RCFinal Proposal  & L215_RCFinal Proposal', vid=0)]\n",
      "The car mass is 0.5kg which is the perfect mass. We do not want to include a heavy car mass to the roller coaster, because it would include more energy. The initial drop height is 1.0m; it’s the right amount for the rollercoaster car to drop safely and enought height for the potential energy to conver to kinetic energy. We should not start out with the height limit. Hill Height is 30 m, because the hill should be smaller than the initial drop height, so it can accomplish getting on the other side. The hill gives the rollercoaster car will enough potential energy. My rollercoaster blueprint might be a perfect idea because it has the right amount of mass, the right hill height, the right hill which is gradual and the correct measurement of the initial drop. The car mass is 0.5 which is the right amount for a 1 meter initial drop height height. Final dimensions: Potential and  Kinetic Energy is summed up into 2 J\n",
      "[Target] [InstanceKey(qid='L214_RCFinal Proposal & L3b8-12_RCFinal proposal', vid=0)]\n",
      "Car mass: 80- I choose this mass because is the right one because if it if more mass the Car would be heavier and it won’t go up the hill of the initial drop. Initial drop height: 1,000 meters- I choose this height for the initial drop because this is the right measurement. \n",
      "Hill height: 80- I choose this height because when the car comes from the initial drop it has enough speed to go to the top of the hill. \n",
      "The car is connected to the conveyor belt which lowers the amount of Potential Energy being transferred into Heat Energy. More Potential Energy means more Kinetic Energy. More Kinetic Energy means more speed. The drop starts out with a larger number of Potential Energy. All that Potential Energy is eventually turned into Kinetic Energy, and since there is a lot of Potential energy, there is a lot of Kinetic Energy.\n",
      "\n",
      "[Target] [InstanceKey(qid=' \\nL3b8-10 RC Proposal \\n', vid=0)]\n",
      "When the initial height increases the PE will increase and the KE increases. If you increase the car mass then the amount of Potential energy and kinetic energy will also increase. We choose the drop height to be .8m because then it will have enough energy to go over .7m hill and a loop with a radius .2m. \n",
      "The greater the drop height the greater the PE, and KE. When the height was .2m there was .8J of PE at the top but there we increased the height to .4m the PE at the top was 1.6 J. We choose this drop height because the greater the drop height the greater PE and KE. When we choose .8 meters to be our drop height to make it fun but also safe. When we did .8 m in the simulation with a mass of .4kg it didn’t go over 40 m/s/s. Because the law of conversation of energy says that energy cannot be created or destroyed we had to choose appropriate drop height to get it over the hills and around the loop. When the car goes down the drop the Potiental energy is changed to KE because PE= m*h*9.8 and KE=m*1/2*v^2. As the hill height increases PE, KE increases. The hill height is higher than the initial drop then it will not have enough energy to make it over the hill. If you increase the hill height the PE increases at the top and so does the KE at the bottom. We choose a hill height of .7m because our drop height was .8m. There would only be KE at the bottom of the rollarcoaster because KE = m*1/2 *v.^2 and it has nothing to do with height but PE = m*h*. 9.8 so that is why PE i effected by height.\n",
      "\n",
      "[Target] [InstanceKey(qid='L3b8-09 RC Proposal  &L3b8-03_RCFinal proposal', vid=0)]\n",
      "The mass of the car must be low enough to get up the hill, but high enough to provide extra energy for the drop on the other side. By putting our car at 50kg and the initial drop height on the is .7 meters it sets enough kinetic energy to put the car through the rest of the ride. \n",
      "        After the initial drop the car moves into the .4 meter loop height. As the car goes up the loop and up the hill, the potential energy is increasing. As it is going down the initial drop, comes out of the loop, and goes down the hill, the kinetic energy was increasing.We noticed that as height would increase the energy  gained. At the base, there is only kinetic energy due to the potential energy being converted to kinetic energy. But at the top of the hill, there is replenished potential energy to use.\n",
      "[Target] [InstanceKey(qid='L3b8-07 RC Proposal', vid=0)]\n",
      "We made our initial drop, which was .77m high, we chose this height because it caused the car to have a lot of potential energy, which is measured in joules. I also knew that when you increase the drop height, you increase the potential energy, which increases the kinetic energy at the end of the drop. A lot of kinetic energy means a lot of motion, which is why our initial drop starts a fun ride. The .77m of potential energy turns into kinetic energy and heat energy.\n",
      "After the initial drop comes our hill and loop. We chose to make our hill height .5m high. In my simulation, I tested different hill heights. I found out that if the height is the same or higher than the initial drop height, than the car will not move it over the hill. Therefore, .5m was the perfect height and at the end of the hill It’s potential energy then became 0. \n",
      "[Target] [InstanceKey(qid='L3b8-06 RC Proposal', vid=0)]\n",
      "The rollercoasting will be using potential as well as kinetic energy. The potential energy will be at the start of the initial height + the kinetic energy will be all throughout the time when the coaster car is moving. In our trials as Drop Increased the pe increased as well as speed. The coaster car will have enough energy so that the coaster car is able to get to the top of the hill. My initial drop is 0.97 meters in height.The initial drop will be using potential + kinetic energy as well. The potential energy will be at the top of the initial drop right before the coaster car starts to go down the initial drop. The kinetic energy will be throughout the whole time the coaster car is moving. \n",
      "[Target] [InstanceKey(qid='L3b8-05 RC Proposal ', vid=0)]\n",
      "Our rollercoaster has came to a final design proposal. First of all, lets start at the initial drop. We decided to make the car be lifted up 90m. This height is good because the car will have a good amount of potential energy that will allow the car to get over the hill. Another reason we chose a high initial drop height is when height increases, there is an increase in speed. the mass of our car is 50kg. The initial drop is perfect because the amount of Kinetic energy at the bottom isn’t too close to the amount of potential energy at the top. The potential energy that doesn’t change into kinetic energy turns into heat energy. The initial drop is also good because the drop height is 90m high. If we would’ve made the initial drop any higher it would’ve been too much because as the height of the initial drop or the mass of the car  raises the potential energy raises too. This happens because the formula for potential energy is mass x height x gravity. The initial drop has the amount of potential energy changing into kinetic energy doesn’t have a big difference in the number of Juoles. this happens because the formula for Kinetic energy is 1/2 x m x v^2. The next part to our rollercoasters is the hill and loop. The height we chose for the hill was 50m tall\n",
      "\n",
      "[Target] [InstanceKey(qid='L3b8-04 RC Proposal', vid=0)]\n",
      "Our group decided to lift our car to a height of 0.9 meters using a conveyor belt method. We chose this mass because more mass means more potential energy. This can be proven by the formula for potential energy which is 9.8 x mass x height. This is also why we chose to have a high initial drop height. The reason we want more potential energy is because of the Law of Conservation of Energy. This states that energy can’t be created or destroyed in a system. We didn’t want our mass to be too heavy. Initial Drop The initial drop height is 0.9 meters, a high height to increase the potential energy. Kinetic energy is velocity^2x1/2xmass. So, if mass stays constant and kinetic energy increases, velocity must increase. We get this kinetic energy because potential energy turns into kinetic energy. But, since our roller coaster does not have friction all potential energy turns into kinetic, making it faster. \n",
      "\n",
      "Hill/loop\n",
      "We chose a hill height of 0.5 meters. We chose this height because the hill can’t be taller than the initial drop according to the Law of Conservation of Energy.\n",
      "[Target] [InstanceKey(qid='L3b8-01 RC Proposal', vid=0)]\n",
      "The mass of the car would be 50 kg. I decided on this mass because with more mass, you get more potential energy because mass x height x acceleration due to gravity equals potential energy. The car would have to make it up the 100 meter tall initial drop. I chose this height because it is large enough to get a large amount of potential energy-going back to the formula for potential energy. The car’s potential energy will turn into kinetic energy, but the systems total amount of energy will always be the same according to the law of conservation of energy. Loss of kinetic energy will cause the car to slow down. The car will not go all the way back up  the other side of the U because at the top of the U the car will have a certain number of joules of potential energy. The car will get kinetic energy as it starts to move down the U. \n",
      "[Target] [InstanceKey(qid='\\nL3b7-29_RCFinal proposal, L3b7-23_RCFinal, & UG_ENGM-RC76', vid=0)]\n",
      "The drop is the first step of our rollar coaster. For the initial drop height was .98 meters because it built a lot of Potential energy and transferred that to kinetic energy when going down. When you have a steep drop it has more Potential energy at the top to change into Kinetic energy when it is going down. The coaster car has a mass of 0.5kg. On the top the Potential energy was 2.5 Joules, + on the bottom of the drop the Kienetic energy was 2.5 Joules. Both the energys at the top and bottom are still the same though due to the law of conservation of energy .  \n",
      "\n",
      "I also gave the hill some height differences. For the hill, I decided to put the height to about 0.3m to give some height difference so that there would be enough speed to go over the hill and also would give the customers more thrill through speed.\n",
      "[Target] [InstanceKey(qid='\\nL3b7-24_RCFinal', vid=0)]\n",
      "the drop height is .8 m high and the car is .2 kg. Potential energy is turned into kinetic energy. The potential energy is 1.6 J at the top but only 1.5 J at the bottom. The formula for kinetic energy is KE: m*v^v^2*½. Since the velocity is smaller the total kinetic energy will be smaller because of the formula. The law of conservation of energy states that energy cannot be created or destroyed. Because of this law that extra .1 J of energy turns into heat energy because it cannot just disappear. The hill height is 7.5 m. The hill height must be less than the initial drop height or else there will not be enough energy built up to get the car over the hill. At the top of the hill there is 1.5 J of potential energy and at the bottom there is 1.4 J kinetic energy. If there was no friction the potential energy would be the same as the amount of KE.\n",
      "[Target] [InstanceKey(qid='L3b7-22_RCFinal & L3b7-23_RCFinal', vid=0)]\n",
      "The car will weigh 50 kilograms. The lift stands 95 meters tall. The car gains potential energy as it climbs. This energy has the potential of being used at the climax of the lift. It will be used. Since the height of the lift is so tall we made the car have less mass. The car’s next step is the drop.  As the car makes its way down, the potential energy is converted into kinetic energy, its active energy that is moving the car. As the car goes down, all potential energy is converted into kinetic energy when there is no friction.\n",
      "\n",
      "The hill is another part of the ride. It is 0.35 meters tall. The Potential energy at the top of the hill was two Joules. Potential energy was calculated by mass*height*g. The Kienetic energy at the hill base was 2.9 Joules. This was calculated by 1/2*mass*velocity^2.\n",
      "[Target] [InstanceKey(qid=' L3b7-21_RCFinal', vid=0)]\n",
      "In my roller coaster, I made the initial drop height 0.96 meters tall. I choose this height because it is very tall, giving the car a lot of potential energy. Potential energy is the amount of stored energy an object can use. Potential energy can be converted into kenetic energy, which is the amount of energy an object has in motion. Therefore, if you have a lot of potential energy, you will also get a lot of kenetic energy. This also means that if a rollercoaster has no height, it has no potential energy and if the rollercoaster is not moving, it has no kienetic energy. So, before the rollercoaster goes up the initial drop, it has potential energy or kenetic energy. At the top of the initial drop, it has potential energy but not kenetic energy. You can determine how much potential energy the rollercoaster has by using the formula PE=m•g•h (PE=potential energy, m=mass, g=9.8(acceleration due to gravity) and h=height of hill.) If you use this formula, you will find out that my rollercoaster has 0.083 Jewls of energy at the top of the initial drop. (My mass was 0.00866 kilograms.) This rule applies to all parts of the rollercoaster. Another reason we chose a high initial drop height is when height increases, there is an increase in speed.\n",
      "        After the rollercoaster goes down the initial drop.  I choose the hill height of 0.32 meters because of the Law of Conservation of Energy. This law says that energy can’t be created or destroyed. \n",
      "I used two things to stop the rollercoaster: friction and the Law of Concervation of Energy. I used an incline of 0.16 meters tall at the very end of the rollercoaster so that the rollercoaster will go up the incline and fall back because it won’t have enough energy to make it all the way to the top. I chose this method of stopping because it doesn’t require a lot of track to stop. \n",
      "        In conclusion, my rollercoaster has a lot of potential energy when it has a lot of mass and height and a lot of kienetic energy when it is in motion. My rollercoaster follows the Law of Concervation of Energy.\n",
      "\n",
      "[Target] [InstanceKey(qid=' L3b7-20_RCFinal', vid=0)]\n",
      "My design began with a initial drop. I selected a mass of 0.00866kg for the car. I selected a height of .96 meters for my car lift. This way my car can have more potential Energy (PE= m• g • h). By having more potential energy, it means that more can be transformed into kienetic Energy. So, as a result more of the potential energy will turn into kinetic energy, Rather than Heat Energy.  \n",
      "         Being that the height of my roller coaster is so highheight, it creates more potential energy, because there is more height. my roller coaster has 0.00815J of energy that can be used later on during roller coaster. After the Initial drop my roller coaster ended with about the same amount of Joules of Energy. All the energy forms added up to 0.00815 Joules of Energy. This is stated in the Law of Conservation of Energy, that no energy can be created or destroyed. \n",
      "[Target] [InstanceKey(qid=' L3b7-19_RCFinal', vid=0)]\n",
      "My drop will be .9m tall. As the inclined plane lifts there is more Potenial Energy. But as all of this happens kienetic energy will stay the same, because roallar coaster is gaining energy not using it. We then chose .5kg for the car mass. The initial drop will have the car go down the hill of .9m. As the car is going down the potencial energy isn changing in kenetic energy. But not all the energy changes to kienetic, some goes to heat energy\n",
      "[Target] [InstanceKey(qid=' L3b7-17_RCFinal', vid=0)]\n",
      "Initial drop:\n",
      "        First comes the initial drop which was height of .9m. We made it this height also because we would then have enough energy to go through the entire ride. At the top of the initial drop we had Potential Energy of 4.4j. When increasing height, potential Energy will increase too because of the formula, mass•height•gravity=Potential Energy. So increasing any one of those variables will cause the possible energy, Potential, to increase. Same with decreasing also with changing of height speed will change as well. Once you go down the initial drop you will go over the hill of .5m. Lastly, is the car stopping point. It stoped because there wasn’t enough energy to get over the hill. This is because of the conservation of energy, energy cant be created not destroyed.\n",
      "\n",
      "[Target] [InstanceKey(qid='\\nL3b7-10_RCFinal & L3b5-22_RCFinal', vid=0)]\n",
      "We made the car heavier so that it could make it through because more mass= more potential energy according to this: Potential Energy= Mass • Height • Acceleration (this is 9.8) due to gravity. You see, originally we were going to have the coaster car weigh 0.2 kilograms, which would only give the coaster car to have 3.321 more Joules of energy, which definetly helps. The amount of kinetic energy was 4.2 Joules at the bottom of the drop. The potential energy at the top of the hill is 3.1Joules. the kinetic energy to be at 3. Joules.\n",
      "\n",
      "It will be 0.8 meters of the top of the drop, and 0.8 meters from start to the bottom of the highest point. Next, the car will go down it’s initial drop. Because the height is so high but the mass is so high, they will mostly balance out to the cars potential energy making it rise a little. The car will then go faster. It rises due to kinetic energy, which is converted from potential energy. As I said before, potential energy would be higher, around 3.1 Joules, because of the drop’s height. For instance, in a height with a 0.4 meter drop height, the potential energy was around 1.6 Joules, so less with a lesser height.\n",
      "[Target] [InstanceKey(qid='L3b5-21_RCFinal', vid=0)]\n",
      "The car mass we selected is .027kg.  A small car mass has less potential and kinetic energy, but we can counteract that by increasing the initial drop height. We selected a lift height of .87 m. This gives the car enough potential energy to make it through the ride.The drop height of the roller coaster is .87m.the drop has a lot of potential energy, which is converted to kinetic energy and used to go down the initial drop.\n",
      "\n",
      "[Target] [InstanceKey(qid='UG_ENGM-RC79', vid=0)]\n",
      "I am writing this letter to communicate my ideas regarding the roller coaster you want to build for your park. This roller coaster will consist of the highest point followed by a drop back to the lowest point and then a small hill which makes the ride fun. The ride proposed is fun as the big differences in height from the falls make people feel adrenaline therefore, they will feel different but in a good way. Also, it is safe as there are friction controllers on the ride to make the cart slow down whenever it is reaching high points so that it stays on track and safe. \n",
      "The first part of the track is the initial drop, which is a the maximum height. The car at the top is positions to go down the ramp. At this point the potential energy is at its maximum which means that the cart must have not be moving. So, once the cart slides, it goes down the drop. This makes it safer for everyone as it avoids risks of going out of the ride. Then, at the bottom the cart is at its maximum kinetic energy and 0 potential as it is at ground level. Then, there is a hill where the cart reaches a maximum height lower than the previous one. In this part the cart slows down as it reaches the maximum height were its kinetic energy is 0 again. And as it rolls down, it loses all of its potential energy and regains the kinetic. Finally, the cart slow down rapidly without hurting anybody as the cart slows down without breaking forcefully. \n",
      "For this reasons, the ride seems completely safe and adequate for people to ride it and enjoy it.\n",
      "\n",
      "[Target] [InstanceKey(qid='UG_ENGM-RC84', vid=0)]\n",
      "This is the roller coaster design that I have created. This roller coaster has an initial drop along with a hill before it comes to a stop. It has an initial height of 1m and is enough to build the feeling of suspense just before the ride drops down. The cart has a mass of 0.5kg and I specifically choose this because it is not to heavy or too light. That way, the customers will not feel as if they are going to get thrown out of the ride. \n",
      "At the lift of the ride. The following energy principle can be seen below. The formula gives the value that the kinetic energy is directly proportional to the potential energy. All kinetic energy as it is going to the highest point at the lift will be converted to potential energy. At the highest point, the potential energy is equivalent to 5J.  At the drop point, the customers would scream and yell the most. The potential energy is being converted to kinetic energy at this instance. This means that the roller coaster will speed up as you are going down the track. The kinetic energy gained from the first height allows the cart to obtain enough energy for it to pass through the first hill. The first hill has a height of 0.43m. To make sure that the cart passes through this height.\n",
      "        The kinetic energy achieved from the first drop must be bigger than the potential energy required for the first hill. If the energy is not enough, then the roller coaster will not be able to get over the height of the hill. The customers should feel as if they are inside a plane experiencing bumpiness as the the roller coaster is going up and down. This should be a great design for the amusement park ride. \n",
      "\n",
      "[Target] [InstanceKey(qid='UG_ENGM-RC89', vid=0)]\n",
      "I have recently designed a rollercoaster for your park to benefit your visitors. It involves a drop and a hill. For the mass of the cart,  I chose the mass of the cart to be 0.5 kg so it would not be too massive to prevent passengers from riding, but not to light to the point where the cart travels too fast the flies off the track. \n",
      "\n",
      "The beginning part of the coaster consists of a track at the top of an initial drop. The cart reaches the top- a safe height that also allows for fast speeds. The higher the cart is placed, the more potential energy is has that can be transformed into kinetic energy which makes the cart travel faster. This height is large enough for a very fast speed but is still safe for the riders. As the car drops, all of the cart’s potential energy turns into kinetic energy that speeds up the cart. The cart goes down the track making it one of the more exciting parts of the ride. \n",
      "\n",
      "The third part of the track involves a curve and a hill, which is 0.4 m high, the cart climbs and then goes over. This part of the track is frictionless so the cart can move faster without being slowed down. This allows the kinetic energy of the cart coming down the initial drop to be transformed into potential energy as the cart climbs the hill. This gained potential energy will immediately be turned into kinetic energy as the cart slides back down the final hill, increasing the speed of the cart, and making it a fun, fast-paced ride. No friction could be a concern because the cart could go to fast This is compensated by the height of the hill. As the hill gets higher, the chances of the cart reaching these dangerous speeds would be less. To implement this coaster in your amusement park, a large scale-up would be needed to create this simulation on a real, much larger scale. \n",
      "\n",
      "[Target] [InstanceKey(qid='UG_ENGM-RC93', vid=0)]\n",
      "The roller coaster ride is divided into four parts to ensure that the passengers experience thrills. The design centers around allowing the passengers to experience the extreme drops. Using only potential and kinetic energy, the car is given enough kinetic and potential energy initially to carry it through the whole ride. The car will sit at the top of an initial drop that is 100 meteres high and then is allowed to fall down the slope of the initial drop.  As it rolls down the slope, the potential energy is converted into KE. As it reaches the bottom of the drop, though, the riders to experience the most thrilling aspect of the ride, and the kinetic energy of the car will carry it along the to the end. The car slows down as it approaches a small hill. At the peak, the converts most of its energy into PE. Then, it quickly accelerates downhill, turing back into KE for the passengers. After reaching the bottom of the hill, the car will slow down and stop to allow the passengers to get out. Thank you for reaching out to our design firm, and we hope greatly that our design provides you only with satisfaction.\n",
      "\n",
      "[Target] [InstanceKey(qid='L1c3-12_RC', vid=0)]\n",
      "Our firm suggests to use the Car Mass of 0.4 kg. The reasoning behind our choice of Car Mass is the reasonable amount of Potential Energy (pe). For example, a 0.4 kg mass resulted in 3.9 J of pe. A greater Car Mass of 0.8 kg  resulted in 7.8 J of pe. For all of these trials we used a lift height of 1 meter. We suggest an Initial Drop Height of 1 meter. In our trials as Drop Increased the pe increased. For instance, with a Drop Height of 0.4 meters the Initial PE and final ke were 3.9 J. Equal initial pe and final KE showed the law of conservation of energy. As the hill height increased, the PE increased at the hill top. Our chosen hill height was safer than a lower hill height, because the speed at the top was less. For example, a hill height of 0.6 (m) results in a hill top PE of 2.3 J . The PE of this lower hill is slightly less at 1.2 J. The ke at hill base was also similar due to the lack of friction (3.9J), as was (the) ke at hill top (1.6J).\n",
      "[Target] [InstanceKey(qid='L1c2-13_RC', vid=0)]\n",
      "The first thing we had to decide was the mass and the lift height. Our team decided on a mass of .74kg and a lift height of 1m. We chose that mass because we didn't want it to be too heavy because then it wouldn't be able to make it over the loops. When mass was .2kg the Potential energy at the top was 2J, and then we increased the mass to .4kg the potential energy increased to 3.9J. The mass of .74kg isn't too high to be unsafe because if Potential energy was too high the car would go down the hill with too much force. The next thing we decided on was the initial drop height, and our company chose 1m. Both potential energy, at the top, and kinetic energy, at the bottom, increased with a higher height. They increased by 2J every time the height went up by .2m. The total energy is the Potential energy plus the Kinetic energy, so that also increased. Potential energy is highest at the top of the drop because it's energy at rest. Kinetic energy is highest at the bottom because it's energy at motion. Energy can't be created or destroyed but can change it's form. The third thing the team decided on was the hill height. We chose a height of .62m. We wanted to make it high for more fun, but if it was any heigher the car wouldn't have enough energy to make it over. If our hill height was heigher than the initial drop there's mo way the car would make it over. The car wouldn't have energy to make it over a hill heigher than the initial drop because since energy cannot be created the amount of energy you have from the initial drop will stay the for the hill. you can't create more energy to get over a higher hill.\n",
      "[Target] [InstanceKey(qid='L1c3-02_RC & L3b5-17_RC', vid=0)]\n",
      "My proposal will include these elements: car mass and the height of the he initial drop, and the hill height.  Car mass:  My corporation decided to use 0.5kg for the mass of the car. This is why. When the car mass increased, potential energy increased. When the car mass [0.4kg] increased, the potential energy was 3.9J. When my corporation changed the car mass to 0.8, we found out that the was potential energy was 7.8J. My corporation decided to use 0.5kg because, we didn’t want it to be 0.8kg because it would be harder to get it up the hill. The initial drop provides the kinetic energy 100%, required to get the car over the hill, and to the gate. Its one meter tall, so having a tall height means more potential energy at the top. The total energy was 4.9 Joules. Having more energy means you can have more to the rollercoaster because it has more energy to lose.The initial drop is fun because of the high height. The height of the hill is .18meters. The hill is near the end of the ride, so at the top of the hill the potential energy is only 1 joule.\n",
      "\n",
      "[Target] [InstanceKey(qid='L1c3-20_RC', vid=0)]\n",
      "My firm chose .6 kg for our mass because a mass of .6 kg will have P.E. increase compared to other masses and the resulting potential energies;1.6j 3.1j 4.7j 63. in the simulation you can see the right calculations for the car but in the Real world your wont be able to see calculations but you can see it in 3-D. Our lift height is .8. If we set our mass for .6kg then it will make the Kinetic Energy 4.7j, and Potential Energy is 0j. My firm chose .8m for our initial drop because total energy increased to 7.8 j. I noticed in all the trials, the distance was infinate. P.E at the top is 6.3 j which is larger than (1.6j 3.1j. 4.7j). The next topic the firm chose was the hill. We picked 0.69 for our hill height. I noticed that P.E at top K.E at top and K.E at bottem were the same through all the trials. \n",
      "[Target] [InstanceKey(qid='L3b8-10_RCFinal Proposal', vid=0)]\n",
      "When the height increases the PE will increase and the KE increases. If you increase the car mass then the amount of potential energy and kinetic energy increases. We choose the drop height to be .8m because then it will have enough energy to go over .7m hill. The greater the initial drop height, the greater the PE, and KE. When the height was .2m there was .8J of PE at the top. But there we increased the height to .4m the PE at the top was 1.6 J. We choose this drop height because the greater the drop height the greater the speed. Because the law of conversation of energy says that energy can not be created or destroyed, we had to choose a aporiate drop height to get it over the hills. When the car goes down the drop the Potiental energy is changed to KE. \n",
      "\n",
      "As the hill height increases, PE and KE increases. It the hill height is higher then the initial drop then it will not have enough speed to make it over the hill. If you increase the hill height the PE increases at the top and so does the KE at the bottom. We choose a hill height of .7m because our drop height was .8m. There would only be KE at the bottom of the rollarcoaster because the formula shows that it has nothing to do with height, but PE was effected by height. \n",
      "\n",
      "[Target] [InstanceKey(qid='L3b8-09_RCFinal proposal', vid=0)]\n",
      "The mass of the car must be low enough to get up the hill, but high enough to provide extra energy for the drop on the other side. In our Initial drop experiments, we made height as 60 meters because it sets enough speed, kinetic energy to over the hill. We made the hill the same size as our initial drop because we want to make it go over the hill. At the base, there is only kinetic energy due to the potential energy being burned off. But at the top of the hill, there is replenished potential energy to use. In the stopping section, it burns off kinetic energy and the potential energy it gains is burned off in the sandy stopping zone. \n",
      "[Target] [InstanceKey(qid='L3b8-07_RCFinal proposal', vid=0)]\n",
      "In my car lift, our initial drop height is .77m. The height isn’t too high and our car mass isn’t too high. Next, we made our initial drop, which was .77m high. We chose this height because it caused the car to have a lot of potential energy, which is measured in joules. I also knew that when you increase the drop height, you increase the potential energy, which increases the kinetic energy at the end of the drop. A lot of kinetic energy means a lot of motion. The .77m of potential energy turns into kinetic energy and heat energy. The speed increases when your going down the drop. The car gains speed. \n",
      "        After the initial drop comes our hill. We chose to make our hill height .5m high. In my simulation, I tested different hill heights. I found out that if the height is the same or higher than the initial drop height, than the car will not move it over the hill. Therefore, .5m was the perfect height for the car rolls over. Finally, we created our stopping part of our roller coaster. When the car has completely stopped, it’s potential energy then became zero. \n",
      "\n",
      "[Target] [InstanceKey(qid='L3b8-06_RCFinal proposal', vid=0)]\n",
      "The car lift will be using potential as well as kinetic energy. The potential energy will be at the start of the car lift + the kinetic energy will be all throughout the time when the coaster car is moving. My car lift is 0.97 meters in height. The initial drop will be using potential + kinetic energy as well. The potential energy will be at the top of the initial drop right before the coaster car starts to go down the initial drop. The kinetic energy will be throughout the whole time the coaster car is moving. Next, I will be talking about the hill. The hill is 0.27 meters in height.  During the hill, it has enough energy  to get the coaster car over the hill.\n",
      "[Target] [InstanceKey(qid='L3b8-05_RCFinal proposal', vid=0)]\n",
      "We decided to make the car be lifted up 90m. The car of this height will have a good amount of potential energy. If the height of the initial drop increases, then the speed of the car will be greater. The car lift is efficient because here mass of our car is 50kg which means that the potential energy  is high. The potential and kinetic energy increases as mass increases. For the initial drop, the amount of Kinetic energy at the bottom is close to the amount of potential energy at the top. The potential energy that doesn’t change into kinetic energy turns into heat energy. This happens because our roller coaster has friction. As the height of the initial drop or the mass of the car raises the potential energy raises too. The next part to our rollercoasters is the hill. The height we chose for the hill was 50m tall. The final part of our roller coaster is the stopping section. The car comes into the stopping section with a relatively high speed.\n",
      "[Target] [InstanceKey(qid='L3b8-04_RCFinal proposal', vid=0)]\n",
      "Our initial drop height is 0.9 and the mass is 0.5 kilograms. We chose this mass because more mass means more potential energy and more height means more potential energy. This is also why we chose to have a high initial drop height. This is another reason we chose a high initial drop height. When height increases, there is an increase in speed.The reason we want more potential energy is because of the Law of Conservation of Energy. This states that energy can’t be created or destroyed in a system. Also, mass doesn’t affect speed.We get this kinetic energy because potential energy turns into kinetic energy. But, since our roller coaster is efficient, there isn’t a lot of friction, and almost all potential energy turns into kinetic. We chose a hill height of 0.5 meters. We chose this height because the hill can’t be taller than the initial drop according to the Law of Conservation of Energy. \n",
      "[Target] [InstanceKey(qid='L3b8-01_RCFinal proposal', vid=0)]\n",
      "The mass of the car would be 50 kg. I decided on this mass because with more mass, you get more potential energy. The car would start on a 100 meter tall initial drop. I chose this height because it is large enough to get a large amount of potential energy. Another reason to have this height is the speed it produces, with more height an object will have more speed. The hill height is 14 meters. In the stopping, the friction will make the car’s kinetic energy turn into heat energy, but the systems total amount of energy will always be the same according to the law of conservation of energy. Loss of kinetic energy will cause the car to slow down. \n",
      "[Target] [InstanceKey(qid='L3b7-15_RCFinal proposal/L3b7-25_RCFinal proposal', vid=0)]\n",
      "The initial drop is one of the most important parts of the roller coaster. Our initial drop height is 0.9 m because if it is any higher, then we would have greater speed. It controls the speed in which the car will be going for the rest of the track. Our mass was 0.5 kg because if we would have had a higher mass, then the kinetic energy will be greater. Our hill height was 0.3 m because if it was smaller, then we would have the car go over the hill. The hill is what helps slow down the car.\n",
      "[Target] [InstanceKey(qid='L3b7-11_RCFinal proposal/L3b7-06_RCFinal proposal', vid=0)]\n",
      "Our group designed a roller coaster with a car lift and drop of .6 meters, a hill height of .35 meters. The initial drop starts at the height of 0.6m causes a very large amount of potential energy. The car has a mass of .5kg and has 2.9 joules of potential energy for it to make it through the coaster. The car’s kinetic energy at the bottom is a little less than the potential energy at the top, 2.9 joules.So some energy is transformed into heat. The potential energy was changed to kinetic energy during the drop. My hill is 0.35m high. At the top of the hill, the car has 1.7 joules of potential energy. at the bottom it has a little less than 2.9 joules, because of friction. The stopping section of the roller coaster is a flat section with a friction level of 2.5. It slowed down and come to a complete stop.\n",
      "\n",
      "[Target] [InstanceKey(qid='L3b5-20_RCFinal Proposal', vid=0)]\n",
      "My initial drop is .75 meters. It has a potential energy of 4.9 Joules. When the car reaches the bottom of the initial drop, its kinetic energy will be very close to 4.9 Joules. Although 4.9 Joules was the reading in our simulation, real world friction will cause it to be slightly less. The hill height is only .18 meters high to make the car go over it. The next section of the coaster is the stopping section. The Law of Conservation of energy states that energy cannot be created or destroyed.. Therefore, it was just turned into less useful forms- such as heat and sound.\n",
      "\n",
      "[Target] [InstanceKey(qid='L3b5-18_RCFinal Proposal/L3b5-17_RCFinal proposal', vid=0)]\n",
      "The top of my rollercoaster is fun because of its high height. Its one hundred meters tall, so you know there will be a big drop coming. Also, having a tall height means more potential energy at the top and more work. The total energy were 4.9 Joules. Having more energy means you can have more to the rollercoaster because it has more energy to lose. It will have a high speed.\n",
      "        The hill has a shorter height so you go over it at a higher speed. The hill height is 75m. The hill is near the end of the ride, so at the top of the hill the potential energy is only 1 joule. The higher hill height gives a higher speed. Through all of this the car mass was .5 kg. We chose this mass so that we could generate a good amount of Potential Energy at the top, but still have an easy time stopping it. \n",
      "\n",
      "[Target] [InstanceKey(qid='L1c3-26_RCFinal proposal', vid=0)]\n",
      "We chose .4kg for the car mass, and 1m for the initial drop. We chose 1m, so the car has enough energy to get over the hill. We chose 1m for the initial drop height. There’s 3.9J PE at the top, and 3.9 J KE at the bottom. The last of conservation of energy states that energy can’t be created or destroyed so on the Initial Drop this ride will have 3.9J of energy. Our company chose .6m for the hill height. The hill needed to be shorter than the Initial drop so the car would have enough energy to get over the hill. If the hill was any shorter than the Initial drop so the car would have enough speed to get over the hill. \n",
      "[Target] [InstanceKey(qid='L1c3-25_RCFinal proposal', vid=0)]\n",
      "My company choose are car mass to be 0.25 kg. Reason 1, is that it is heavy enough to stay on tracks. Reason 2 with the mass staying at .25 kg lift stay a 2.5 J through the whole simulation. My company choose are I.D. height to be 1m. The reason is that are P.E. will stay the same at the top until it goes down the drop, and when it reaches the bottom the K.E. will be the same as the P.E. PE is the energy of position and the higher an object is, the more energy it has stored. My company choose are hill height to be .55m. Reason 1 we choose this number because we had it to be small enough so it could go over the hill. Reason 2 .55m is in the middle so its not too low and not too high and it’s almost half of the size of the I.D. height.\n",
      "[Target] [InstanceKey(qid='L1c3-24_RCFinal proposal', vid=0)]\n",
      "For the mass of the car we chose 0.4 kg. Unlike the other masses 0.6 kg and 0.8 kg because they fell off when they were going down the drop because their was too much speed. The initial drop height is 1m. It would make the car go fast. When we tested other heights (0.8m) and it was not efficient when we tested it. \n",
      "\n",
      "The hill is 0.6 m tall. Since the drop was 1 m we had to choose something smaller than 1 m otherwise it wouldn’t have enough energy to get over the hill. We tested 0.8 m and 0.6 m. 0.8 m hardly made it over the hill. It was also 100% efficient at 0.6 m.\n",
      "[Target] [InstanceKey(qid='L1c3-22_RCFinal proposal', vid=0)]\n",
      "My firm chose our car mass to be .25 kg Our Firm chose our lift height to be 1 m because it allows the car to have enough energy to get through some obstacles. The P.E. is 2.5J, but it doesn’t allow the car to do much, but the tallness of the drop helps with getting to places. As the car goes down the drop, some energy turns into heat. That make less K.E.. That is fixed by the height of the drop. Mass doen’t affect speed no matter what height.  Our firm chose the hill height to be .55 m because it slows down the car enough but still keep the speed high enough. The mass being heavier (.2kg, .4kg, .6kg) doesn’t affect the distance in the stop area. The I.D. height does though. The drop height decreasing (.85 m, .7 m, .55 m) changes the stop distance (.54 m, .56 m, .36 m).\n",
      "[Target] [InstanceKey(qid='L1c3-18_RCFinal proposal', vid=0)]\n",
      "The car mass level we have decided is best for your roller coaster is 0.6 kg. This specific mass was chosen because based on the experiments we created. It has enough potential energy and kinetic energy. The initial drop/lift height level we chose which is 1 m. This specific initial drop/ lift height was chosen because if the height is less than or the same height as the hill height (.9-0 m) the car will either not be able to make it over the hill or it will have dangerous levels of speed. This obviously leaves 1 m the best initial drop height.\n",
      "\n",
      "Also, the hill height will be important as well. The hill height we chose for your roller coaster is 0.6 m. This height was chosen because as stated before, if the initial drop height is the same as the hill height then the car won’t be able to make it over the hill. And we decided that if the hill height is only .2m less than the initial drop. This leaves .6 m the best choice.\n",
      "\n",
      "[Target] [InstanceKey(qid='L1c3-17_RCFinal proposal ', vid=0)]\n",
      "The car mass I chose was .6kg. I chose .6kg because it is not too heavy (.7kg-1kg). The mass is also not to low (.5kg-.1kg). In the simulation the car would always go over the hill no matter what the mass (.1kg-1kg). In a simulation I did (.2kg-8kg) each time it worked and went up the hill. The initial drop height is 1m because it is the highest you can go. You could have your hill taller because as long as it’s not bigger then the initial drop it will work. When the car is at the too of the initial drop the P.E. is full. The K.E at the top of the initial drop is empty because the object is not in motion. In the simulation all you had to do was change the height (0.1m- 1m). In the experiment we found that as P.E increased (2j-7.8j). K.E. stayed the same (0j).        \n",
      "        The hill height is .6m because it’s not as tall as the initial drop but it’s still tall enough. P.E at the top of the hill top increased (1.2 j- 4.6 j). K.E at the base of the hill stayed the same (1.2j). P.E at the hill top (hill shape) stayed the same (1.2 j). P.E at the hill top (hill shape) stayed the same (4.7 j). K.E at the hill top stayed the same (1.2 j). K.E at the hill base stayed the same (5.9 j).\n",
      "\n",
      "[Target] [InstanceKey(qid='L1c3-16_RCFinal proposal', vid=0)]\n",
      "My group and I chose the car mass to be 0.6 kg. The heavier the mass, the more potential energy it has. 0.6 kg is the best because it wouldn’t go too fast and it wouldn’t be too slow. My group and I have chosen the initial drop height to be 1 meter. When we did the tests, none of the manipulated variables was 1 meters. We decided to put the initial drop up one more level to 1 meter. To make sure that it is safe, my group and I tested it with the simulation. My group and I chose the hill height to be 0.8 meters for a few reasons. First of all, we tried to make the hill smaller then the initial drop. The results of that ( we tried .4 m) were bad because the speed was too high. Then we had the hill be .6 meters. But that wasn’t;t too good. Then we tried .8 meters which had an red flags for the speed. That made us decide that this was best.\n",
      "[Target] [InstanceKey(qid='L1c3-15_RCFinal proposal/L1c3-19_RCFinal proposal', vid=0)]\n",
      "\n",
      "The car mass chosen is 0.4kg, and the ID height was 1m. The height was 1m because it needs to be higher than all other peaks. The mass was chosen as 0.4 kg because it was a median number and worked the best in the experiments. We chose a medium mass. When we did 0.8kg and 0.6kg, it took a lot to go over the hill. We tested out mass and what would be a good enough mass for the car and decided to go along with .4 kg for mass because if it was bigger it would have too much weight and not enough speed. \n",
      "\n",
      "The initial drop height of 1m was chosen because it gives enough speed to go over the track. It wouldn’t be to high so that it would go over the maximum speed limit.  When the car goes up, it gains Potential Energy because as it stops at the initial drop it is at it’s greatest and goes down while Kinetic Energy goes up when the car goes down the drop. The hills will be shorter than the initial drop. 0.6m was the chosen hill height. My group thought that the hill hiehgt should be a little bit lower then the drop so that the car can have enough energy to go over.\n",
      "[Target] [InstanceKey(qid='L1c3-13_RCFinal proposal', vid=0)]\n",
      "First of all, we chose .6kg (kilograms) as the roller coaster mass. The main reason I choose .6kg for the car mass is that it did not cause speed beyond limitation. Secondly of all, we choose 1 m (meter) for the initial drop height. The potential energy on top of this drop is 5.9 J (jewels) creating a total energy of 5.9 (there’s no Kineric of heat energy here.) more then enough energy to go over our big hill, but we’ll get to that later. The Kinetic energy at the bottom of the drop will be 5.2J (jewels). Due to the friction on our drop (in the real world) some of the kinetic energy will be changed to heat energy. 0.7 J (jewels), the heat energy will be useless to you, on the drop, so keeping it to a minimum would be wise! We hope you like our height choice. Third of all, we choose .7 for our hill height, which is smaller than the initial drop height. We hope you understand and agree with our hill choices.\n",
      "[Target] [InstanceKey(qid='L1c3-12_RCFinal proposal', vid=0)]\n",
      "Our firm suggests to use the Car Mass of 0.4 kg. The reasoning behind our choice of Car Mass is the reasonable amount of Potential Energy (pe). The more mass the more PE. For example, a 0.4 kg mass resulted in 3.9 J of pe. A greater Car Mass of 0.8 kg resulted in 7.8 J of pe. Compared to the lowest Car Mass of 0.2 kg with the pe 2 J, our chosen car mass had a greater of 3.9 J.It won’t fly off the tracks like the decreased mass.\n",
      "\n",
      "Next we will discuss the Initial Drop Height. We suggest an Initial Drop Height of 1 meter. In our trials as Drop Increased the pe increased as well as speed. For instance, with a Drop Height of 0.4 meters the Initial PE and final ke were 3.9 J. When drop height was doubled to 0.8 meters, initial PE and final yes were 7.8 J. Equal initial pe and final KE showed the law of conservation of energy. The final speed did not change with different car masses. \n",
      "\n",
      "Hill Height will be discussed next. We suggest using the Hill height of 0.5 (m). As the hill height increased, the PE increased at the hill top. The speed at the hill top decreased with greater hill height. For example, a hill height of 0.6 (m) results in a hill top PE of 2.3 J. The PE of this lower hill is slightly less at 1.2 J\n",
      "\n",
      "[Target] [InstanceKey(qid='L1c3-11_RCFinal proposal', vid=0)]\n",
      "We chose our car mass to be .25 kg because we can make it down the I.D Fast and have PE and when The car gets to the bottom the KE is there and then the car goes up to the top of our hill. Our car mass is perfect for the roller coaster that we have. When we tried .3 Kg it was too low and the car went off the track, and we tried to increase mass and the car did not make it up the hill. We made our lift height 1 M because that was the max. and that helped with the car to be able to go over the hill through the tracks and still be able to slow down.\n",
      "\n",
      "We made our initial drop Height 1 M because that was the max. Height. That helped us make it through the hills and through all the obstacles. We chose .25 kg for our car mass because it fits well with I.D height (1m) and it helps go down the ID fast and exidily and efficiently and safely.  We also tried for our I.D height .55 M and that caused everything to increase except for speed.\n",
      "\n",
      "We chose our hill height to be .5 m because it was easier for our car (.25 kg) to make it over easily. We tried to increase our hill height and we tried a different mass (car) and we couldn’t make it over and we decreased it and it went over the hill too fast.\n",
      "\n",
      "[Target] [InstanceKey(qid='L1c3-10_RCFinal proposal', vid=0)]\n",
      "First of all the mass my company decided for the car is 0.4 kg. The next part of your Rollar Coaster is the Initial Drop. We picked 1 m for the height of the Initial Drop. We picked this height because of the height of the hill. The Law of Conservation of Energy states tha energy is neither created nor destroyed, only transfered. This relates to the Rollar Coaster because the Potential Energy at the top of the hill is 3.9 J. This is enough energy to make it over the hill which is 0.5 m. We also picked this height because of the speed at the bottem of the hill which is 4.43 m/s. Also the K.E. Is 3.9J. \n",
      "\n",
      "The third part of the Rollar Coaster is the hill. We made the hill 0.5 m tall. We made it this height so it would be tall enough to be fun, but short enough so the car can get over it. \n",
      "\n",
      "The last part of your Rollar Coaster was the long stretch that would bring the car to a stop. The stopping distance isn’t effected by mass, but height does. As the height of the Initial Drop increases, so does the distance the car goes. This is because there is more potential energy if the height increases. \n",
      "\n",
      "[Target] [InstanceKey(qid='L1c3-09_RCFinal proposal\\n', vid=0)]\n",
      "Hello, our business has chosen .5 Kg for the car mass. If the car mass is too high, the potential energy will also be high. but if the car mass is too low, it does not have enough potential energy. With .2kg mass, potential energy was 2. With .8Kg mass, potential energy was also 7.8j.\n",
      "\n",
      "Our business chose .8m for the drop height. We chose this because if height was too low, like .2m, the car couldn’t make it over any hills, potential energy and work are both only 1j. When height is .8m, work and potential energy are both 3.9j. At drop height being .8m, Final kinetic energy at the bottom was 7.8j. With .2m height, final kinetic energy was 2j. Our buisness chose .7m hill height. When hill height was .9m, the car did not make it over the hill, it just stopped halfway up. \n",
      "\n",
      "[Target] [InstanceKey(qid='L1c3-08_RCFinal proposal', vid=0)]\n",
      "To start off with, our firm chose .6kg as a car mass. One of the reasons is that during the experiments, 2 kg as a car mass reached 2 J for potential energy,.4 kg had 3.9 J for potential energy & .8 had 7.8 J as a potential energy, so for an extra experiment, the car mass of .6 had reached 5.9 J , and 5.9 J seemed to be the perfect number, as the level would be high enough to make it up the hill, and not to take up more money for more track, because it takes P.E. to make it up the hill, as potential energy goes down, kinetic energy goes up, as kinetic energy is the energy of a moving object, an potential energy is the energy an object something potentially has, and since, as the law of conservation proves, since energy cannot be created, nor destroyed, only transferred, P.E. is transferred to become K.E. and with not friction, like in the simulation, k.E. and P.E. would be equal, but adding friction, like in the real life experiments, P.E. and K.K. will be different, so as some of the K.E. is ‘lost’ shall we say, (Not literally, as I said that energy cannot be destroyed, nor created) then it’ll take more P.E. to make it up the hill, but not so much as to have to add more track for it to stop, because adding more track is costly.\n",
      "        The firm chose for the initial drop height to be .8 m, and here’s why. You see, two things can affect the P.E. needed for it to make it up the hill, the car mass, and the lift height. Now, the initial drop affects the P.E. about the same as car mass does, for example, 0.2m=2J, 0.4m=3.9J, 0.6m=5.9J, and 0.8m=7.8J. Did you notice a pattern? It’s the same for mass except it’s kg instead of m, so basically, initial drop affects P.E. just as much as car mass does, but when both are considered, they can create a bigger number, after all, 5+5 is 10, not 5. Anyways, we chose 0.8 as an initial drop, (Let’s label it I.D from now one.) because, it’ll give us enough P.E to make it over the hill, like with the car, plus, in this, we kept and eye on speed, mostly because mass has no effect on speed so we didn’t mention that ; but height affects speed and a high level of speed can be dangerous. For the hill, the firm chose the height to be .6 m as it allowed the car to go over the hill.\n",
      "\n",
      "[Target] [InstanceKey(qid='L1c3-07_RCFinal proposal / L1c3-20_RCFinal proposal', vid=0)]\n",
      "The mass my firm choose was .6kg because .6 kg will have P.E. increase (1.6j 3.1j 4.7j 63.j)-top. It is also  because the way our heights are, so if we choose a 1 kg mass and a .8m hill height the car stops at the very top. And that is somewhat frightening for passengers.  So we set our mass for .6kg then it will make our efficiency level 100% because Kenetic Energy was 4.7j, and Potential Energy is 0j. Our initial drop height is .7m that is Average, And if we had .6m drop height our car would not have enouigh energy to get over the hill, while on contrary if we had .8m drop height our car would accel the speed limit on the coaster. Our Hill height is at .6m. We chose this height because our initial Drop height .7m and if we put our hill height at the .7m initial drop height our car will never get over the hill, And if we put it at .5m-4m than our car will exceed the speed limit. I noticed that P.E at top K.E at top and K.E at bottem were the same through all the trials. \n",
      "\n",
      "[Target] [InstanceKey(qid='L1c3-06_RCFinal proposal', vid=0)]\n",
      "\n",
      "First of all we chose a car with a mass of 0.6 kg. Next my firm choose an initial drop height of .8m. this height has a Potential Energy of 7.8j and a final kinetic energy of 7.8j without friction. The initial PE and final ke are the same because the Law of Conservation of energy states that energy can’t be created nor destroyed only changed so the Pe slowly changes completely in to ke. \n",
      "\n",
      "Next comes the hill. For the hill height we chose 0.6m. We chose 0.6m because with the initial drop height at 0.8m and the friction of real life the hill could have been a little taller but not much, also with it taller It was way too slow and just barely made it over the hill. So we felt 0.6m was a good choice. \n",
      "\n",
      "[Target] [InstanceKey(qid='L1c3-04_RCFinal proposal', vid=0)]\n",
      "0.4 kg. would be the best amount for car mass. To start off with, 0.4 kg would be the best mass for the car because, since the car is lighter than .8 kg. Also, since the initial drop height isn’t too high, you don’t have to decrease the mass anymore. Also, the car is 0.4 kg, which is heavier than 0.2 kg. So at the top of the initial drop, the car will have 3.9 J for the initial potential energy instead of only 2 J. Mass does not affect speed so this doesn’t play a role. 0.4 kg for the car mass doesn’t take as much energy as heavier car masses. And the increased car mass increases KE( the energy of motion), so the car will go fast and create a thrilling experience.\n",
      "\n",
      "One meter would be the best height for the initial drop. First of all, the increased height increases potential energy. So the potential energy at the top of the initial drop with a height of 1m would be 9.8 J. This amount of PE is greater than the .2m height, the .4m height, the .6m height, and the .8m height. The potential energy for those heights were 2 J, 3.9 J, 5.9 J, and 7.8 J. Also, the KE at the bottom of the drop was increased also for 1 m as the height. The KE was 9.8 J. This amount of KE is greater than the other heights. The KE at the bottom of those hill heights was only 2 J, 3.9 J, 5.9 J, and 7.9 J. Lastly, the Law of Conservation of Energy states that energy cannot be created nor destroyed but can be transfered to different dorms. This relates to the initial drop height because the height needs to be tall enough so the car has enough energy to go over the hill. If the initial drop height was increased any more, the car would go to fast.\n",
      "\n",
      "0.5 m would be the best height for the hill. One reason this height is the best is because 0.5 m is not tall than the initial drop height (1m) so the car has enough energy (about 4 J) to make it over the hill. If the hill was taller, say, 1m, and the initial drop was also 1m, than the car wouldn’t be able to make it over the hill. This also is related to Law of Conservation of Energy because energy cannot be created in the car to go over the hill. The initial drop builds up energy in the car, but if the car doesn’t have enough energy, it cannot be created.\n",
      "\n",
      "[Target] [InstanceKey(qid='L1c3-03_RCFinal proposal', vid=0)]\n",
      "\n",
      "1 m was chosen as the drop height because the car is 0.4 kg so it doesn’t take as much work to get to the top. 0.4 kg was chosen as the car mass because throughout the ride the speed is not too much or too little. Another reason is that there is not too much ke or PE going up and down and on the hill is not weighted down. So much that it can’t make it over. \n",
      "\n",
      "The chosen drop height is 1m. As the car goes down the drop it gains KE, if it gains ke it goes faster the drop is 1 m because if it was any lower it’s slower. As the height of the initial drop increases so does the ke at the bottom well as speed. The chosen height of the hill is .5m. The potential energy at the top of the hill is not too great for it and the ke off the other side is just right so the car can be stopped. rt enough for the car to stop and for expenses to be reasonable.\n",
      "\n",
      "[Target] [InstanceKey(qid='L1c3-02_RCFinal proposal/L1c3-05_RCFinal proposal', vid=0)]\n",
      "My corporation decided to use 0.5kg for the mass of the car. This is why. When the car mass increased, the potential energy increased. When the car mass [0.4kg] increased, the potential energy was 3.9J. When my corporation changed the car mass to 0.8, we found out that the potential energy was 7.8J.  The mass can’t be that big because then there will be a lot of energy trying to pull the car up.\n",
      "\n",
      "For the initial drop height my team choose 1m because in previous trials we tried 0.2m-0.8m. then we tried 1m and through each trial the K.E., P.E. and total energy, were the same. So basically it doesn’t matter what the height is. The initial drop provides the kinetic energy 100%, required to have enough energy to get the car over the hill, and to the gate. This would give the car enough energy to go over a hill that is 0.6m high. My corporation chose 0.6m for the hill height. It could not be higher than the initial drop to go over the track. \n",
      "[Target] [InstanceKey(qid='L1c2-25_RCFinal proposal/L1c3-14_RCFinal proposal', vid=0)]\n",
      "The car mass we chose was .74 kg. We chose this because it is in the upper- middle range of mass. This means that the car isn’t to heavy and colapse the track. For our Initial Drop height we chose 1 m. It has enough potential energy and also gives the car enough speed to get over the hill.  If the height were 0.6m the car would never make it up the hill if there was friction.\n",
      "\n",
      "We chose .62 for our hill height. Height is 0.62m because if the height was 0.7m then it would barely make it over the hill. At 0.8m the car wouldn’t make it over the hill at all. If the height was 0.5 m it exceeds the speed safety limit. \n",
      "\n",
      "[Target] [InstanceKey(qid='L1c2-23_RCFinal proposal', vid=0)]\n",
      "The mass chosen was 0.5 kg because it has a good amount of potential energy (P.E.) at 3.9 J which is created by going up the lift height of 0.8m which gives enough time for an amount of energy that will carry the car over the lift. We found greater mass means more energy. \n",
      "        The initial drop height (I.D.) chosen was 0.8 m. The company chose this height because it is high enough to reach a  good amount of P.E. at 3.9 J which will create a speed to go over the track, but with the kinetic energy of 3.9 J, that the P.E. from the drop  transferred into, the riders are safe from going off track. Unlike the height of 0.6m which only has a potential energy of 2.9 J, it has more potential energy when it is higher.\n",
      "        The hill height chosen was 0.43 m. We chose this because it coincides well. Since an object in motion stays in motion, the car won’t change speed going over the hill and could easily stop or fly off track which this height prevents. Also if the hill is too high the car won’t make it over. \n",
      "\n",
      "[Target] [InstanceKey(qid='L1c2-13_RCFinal proposal', vid=0)]\n",
      "The first thing we had to decide was the mass. Our team decided on a mass of .74kg. We chose that mass because we didn't want it to be too heavy because then it wouldn't be able to make it over the loops. When mass was .2kg the Potential energy at the top was 2J, and then we increased the mass to .4kg the potential energy increased to 3.9J. The mass of .74kg isn't too high to be unsafe because if Potential energy was too high the car would go down the hill. When the lift height increased by .2m the potential energy increased at the same rate as it did for mass. There will not be an increase in speed, even if mass increases because speed increases with an increase in drop height. With a mass of .74kg and a height of 1m the car will be able to make it over a surface with friction. \n",
      "        The next thing we decided on was the initial drop height, and our company chose 1m. With a higher height the car will go faster. Both potential energy, at the top, and kinetic energy, at the bottom, increased with a higher height. They increased by 2J every time the height went up by .2m. The total energy is the Potential energy plus the Kinetic energy, so that also increased. Potential energy is highest at the top of the drop because it's energy at rest. Kinetic energy is highest at the bottom because it's energy at motion. Energy can't be created or destroyed but can change it's form. When there's friction it creates heat so if there was Friction on the drop then potential energy would stay the same since friction doesn't affect it. Friction would decrease Kinetic energy. \n",
      "        The third thing the team decided on was the hill height. We chose a height of .62m. We wanted to make it high for more fun, but if it was any heigher the car wouldn't have enough energy to make it over. If our hill height was heigher than the initial drop there's mo way the car would make it over. The car wouldn't have energy to make it over a hill heigher than the initial drop because since energy cannot be created the amount of energy you have from the initial drop will stay the for the hill. you can't create more energy to get over a higher hill. \n",
      "\n",
      "[Target] [InstanceKey(qid='L3b6-12_RCFinal proposal/L1c2-11_RCFinal proposal', vid=0)]\n",
      "The car we chose has a mass of 0.5 kg.  If the car mass is 0.3 kg, the roller coaster will still be just as fun as if the mass was 1kg because mass does not affect speed. The height is 60m tall. .For the height of the Initial Drop, the company chose 1m to maximize the charectoristics you asked for. The potential energy at the top is 2.9J. It won’t get you sick going up it but it might when you go down  it. The initial drop starts out with 2.9 J of potensial energy which by the end it will have about  2.4J left for the loop and the hill. \n",
      "\t\n",
      "\tThe  hill is 40m tall and has low friction so it will make it through the whole hill. It will have 2J of potential energy at the top of the hill. It will also have 1J  of kinetic energy at the top and have 2.9J of kinetic energy at the bottom due to friction that turns into heat energy. \n",
      "\n",
      "[Target] [InstanceKey(qid='L3b6-11_RCFinal proposal/L1c2-12_RCFinal proposal', vid=0)]\n",
      "\n",
      "For the Gonzales family we chose .6 meters for our height for the initial height. Our height and mass of the car .5kg sets the amount of PE for the rest of our track which is 2.9 joules. The more height and mass there is, the more potential energy at the top and kinetic energy at the bottom.\n",
      "        Our Initial Drop height we chose was .8m.Our initial drop starting out with 2.9 joules of potential energy waiting to turn into kinetic energy. As you go down you lose some of the kinetic energy to heat energy. On our next part we have a gradual hill. 2 joules of potential energy to use at the top. We choose a height of .43m because when we tried to make a hill higher than the initial drop, there was not enough energy for the car to make it over.\n",
      "\n",
      "[Target] [InstanceKey(qid='L1c2-02_RCFinal proposal/L1c3-23_RCFinal proposal\\n', vid=0)]\n",
      "For mass, .74kg was chosen.The initial drop height was chosen to be 1m. The amount of potential energy is 7.3J. This is on the higher end for potential energy, which gives it enough speed to get over the hill. The amount of kinetic energy is 7.3J. \n",
      "        Then for the initial drop height, it was chosen to be 1m. This height gave a higher speed compared to a lower height. It also has more potential energy and kinetic energy compared to a lower height.\n",
      "        When choosing the hill height, the final height ended up as .62m.In the hands on experiments. If we made the hill taller than .62m, and it was higher than the drop, the car would not have enough energy to make it over the hill. \n",
      "\n",
      "[Target] [InstanceKey(qid='L1c1-23_RCFinal proposal/L1c2-01_RCFinal proposal', vid=0)]\n",
      "My team put our car mass at .50kg because if mass was at .70 it wouldn’t be ideal. It seems to go over every hill that we choose. If we increased to .5kg or decreased it to .3kg, it wouldn’t go over the hill or have to much acceleration go down the hill. he initial drop is the most important part of the roller coaster, because that’s were the car is going to start it’s adventure and where P.E. is starting. My group chose .75m for the Initial drop height. We chose .75m because if the height of the initial drop was small, such as .40m then it might not have enough energy. My group chose our hill height to be .60m. We put our hill height at .60m because then one the way down the hill, the car get’s enough energy and speed to get up the next hill. \n",
      "[Target] [InstanceKey(qid='L1c1-22_RCFinal proposal/L1c1-21_RCFinal proposal/L1c1-20_RCFinal proposal', vid=0)]\n",
      "My team and I choose 0.2 kg car mass because that way it will be fun because when mass increases so does P.E.  The mass is in the middle and it has enough pe to get over another hill. For the initial drop, we chose 1m for height because it will have a lot of potential energy and the speed will be really high. The energy in the initial drop gains by speed. P.E. at the top of the drop is full but when it goes down it decreases. KE increases when P.E. goes down.\n",
      "\n",
      "For the hill height and shape we chose 0.4 m because it should be lower than the initial drop. Energy could not be created or destroyed as Law of Energy Conservation said, our hill height will make sure the car to go through the hill. KE and P.E. are at the top and the bottom. If there was friction there will be not Pe or Ke be-cause friction.\n",
      "[Target] [InstanceKey(qid='L1c1-16_RCFinal proposal/L1c1-19_RCFinal proposal', vid=0)]\n",
      "The car mass we choose for the car is 0.6 kg. , and potential energy is 1.2J, so that means the roller coaster will work more efficiently. We wanted to have a higher mass and intial drop height because that makes more potential energy for the ride based on the formula. For our initial drop height, we put it at 1m. Potential energy is the amount of stored energy you have for the rest of the ride. The height we choose is very high so the car gets a lot of K.E. It helps the car get really fast at the beginning to go over the .6 m hill height. So when the height of the hill increases the amount of P.E. decreases by .72. Our hill height was put at .60m. The more mass you have on a car, the more speed you will have going down the hill. The P.E. at the top .8J and the K.E. at top is .8 J which means K.E. At base 1.6 J. \n",
      "[Target] [InstanceKey(qid='L21-RCFinal proposal & L3b8-24_RCFinal proposal', vid=0)]\n",
      "The initial drop height that I have chosen is 35m long, enough height for the riders. I chose this height for the initial drop because 35m wasn’t too long or too short. If the height of the initial drop is low, than won’t have enough potential energy (PE) and the passengers would probably get stuck between the initial drop and the hill. \n",
      "\n",
      "The Law of Conservation of Energy says that no energy can made or destroyed. So the initial drop had  to have more than enough Potential energy to get over the loop and hills. Potential energy will be less due to  heat. The car would have 4.802J Potential energy but some will be  transformed to heat. If the hill was the same height as the hill or close to the hill height it would not be ideal because the car lost energy. It was transformed to heat energy. \n",
      "[Target] [InstanceKey(qid='L3b8-17_RCFinal proposal', vid=0)]\n",
      "For our initial drop the height was .77m. PE=mass*height*98. PE is related to the mass and height. The law of conservation of energy states that energy can’t be made or destroyed. Some of the energy turns into heat energy or different energies. If you add all the energies up they should still equal the starting energy. Our hill height was .5m. It was that height because if it was higher than the drop (.77m) then it wouldn’t have enough energy to get up. It couldn’t be .77m because it loses some energy. \n",
      "[Target] [InstanceKey(qid='L3b8-02_RCFinal proposal & L3b7-16_RCFinal', vid=0)]\n",
      "In group we decided to have an initial drop of .77 meters, because it had enough potential energy. We decided to do this because energy can be created or destroyed. Next, We decided to go with two hills and one loop. Our hill which we concluded would be 50 meters. We did this because when the roller coaster rolls down the initial drop it only has a certain amount of potential energy, and when it goes up the hill we will lose some potenial energy. The energy we loose will turn into heat energy. Through our testing, we found that a car with leoss mass would be easier. \n",
      "[Target] [InstanceKey(qid='L216_RCFinal Proposal  & L215_RCFinal Proposal', vid=0)]\n",
      "The car mass is 0.5kg which is the perfect mass. We do not want to include a heavy car mass to the roller coaster, because it would include more energy. The initial drop height is 1.0m; it’s the right amount for the rollercoaster car to drop safely and enought height for the potential energy to conver to kinetic energy. We should not start out with the height limit. Hill Height is 30 m, because the hill should be smaller than the initial drop height, so it can accomplish getting on the other side. The hill gives the rollercoaster car will enough potential energy. My rollercoaster blueprint might be a perfect idea because it has the right amount of mass, the right hill height, the right hill which is gradual and the correct measurement of the initial drop. The car mass is 0.5 which is the right amount for a 1 meter initial drop height height. Final dimensions: Potential and  Kinetic Energy is summed up into 2 J\n",
      "[Target] [InstanceKey(qid='L3b8-07 RC Proposal', vid=0)]\n",
      "We made our initial drop, which was .77m high, we chose this height because it caused the car to have a lot of potential energy, which is measured in joules. I also knew that when you increase the drop height, you increase the potential energy, which increases the kinetic energy at the end of the drop. A lot of kinetic energy means a lot of motion, which is why our initial drop starts a fun ride. The .77m of potential energy turns into kinetic energy and heat energy.\n",
      "After the initial drop comes our hill and loop. We chose to make our hill height .5m high. In my simulation, I tested different hill heights. I found out that if the height is the same or higher than the initial drop height, than the car will not move it over the hill. Therefore, .5m was the perfect height and at the end of the hill It’s potential energy then became 0. \n",
      "[Target] [InstanceKey(qid='L3b8-04 RC Proposal', vid=0)]\n",
      "Our group decided to lift our car to a height of 0.9 meters using a conveyor belt method. We chose this mass because more mass means more potential energy. This can be proven by the formula for potential energy which is 9.8 x mass x height. This is also why we chose to have a high initial drop height. The reason we want more potential energy is because of the Law of Conservation of Energy. This states that energy can’t be created or destroyed in a system. We didn’t want our mass to be too heavy. Initial Drop The initial drop height is 0.9 meters, a high height to increase the potential energy. Kinetic energy is velocity^2x1/2xmass. So, if mass stays constant and kinetic energy increases, velocity must increase. We get this kinetic energy because potential energy turns into kinetic energy. But, since our roller coaster does not have friction all potential energy turns into kinetic, making it faster. \n",
      "\n",
      "Hill/loop\n",
      "We chose a hill height of 0.5 meters. We chose this height because the hill can’t be taller than the initial drop according to the Law of Conservation of Energy.\n",
      "[Target] [InstanceKey(qid=' L3b7-20_RCFinal', vid=0)]\n",
      "My design began with a initial drop. I selected a mass of 0.00866kg for the car. I selected a height of .96 meters for my car lift. This way my car can have more potential Energy (PE= m• g • h). By having more potential energy, it means that more can be transformed into kienetic Energy. So, as a result more of the potential energy will turn into kinetic energy, Rather than Heat Energy.  \n",
      "         Being that the height of my roller coaster is so highheight, it creates more potential energy, because there is more height. my roller coaster has 0.00815J of energy that can be used later on during roller coaster. After the Initial drop my roller coaster ended with about the same amount of Joules of Energy. All the energy forms added up to 0.00815 Joules of Energy. This is stated in the Law of Conservation of Energy, that no energy can be created or destroyed. \n",
      "[Target] [InstanceKey(qid=' L3b7-19_RCFinal', vid=0)]\n",
      "My drop will be .9m tall. As the inclined plane lifts there is more Potenial Energy. But as all of this happens kienetic energy will stay the same, because roallar coaster is gaining energy not using it. We then chose .5kg for the car mass. The initial drop will have the car go down the hill of .9m. As the car is going down the potencial energy isn changing in kenetic energy. But not all the energy changes to kienetic, some goes to heat energy\n",
      "[Target] [InstanceKey(qid='L3b5-21_RCFinal', vid=0)]\n",
      "The car mass we selected is .027kg.  A small car mass has less potential and kinetic energy, but we can counteract that by increasing the initial drop height. We selected a lift height of .87 m. This gives the car enough potential energy to make it through the ride.The drop height of the roller coaster is .87m.the drop has a lot of potential energy, which is converted to kinetic energy and used to go down the initial drop.\n",
      "\n",
      "[Target] [InstanceKey(qid='L3b8-04_RCFinal proposal', vid=0)]\n",
      "Our initial drop height is 0.9 and the mass is 0.5 kilograms. We chose this mass because more mass means more potential energy and more height means more potential energy. This is also why we chose to have a high initial drop height. This is another reason we chose a high initial drop height. When height increases, there is an increase in speed.The reason we want more potential energy is because of the Law of Conservation of Energy. This states that energy can’t be created or destroyed in a system. Also, mass doesn’t affect speed.We get this kinetic energy because potential energy turns into kinetic energy. But, since our roller coaster is efficient, there isn’t a lot of friction, and almost all potential energy turns into kinetic. We chose a hill height of 0.5 meters. We chose this height because the hill can’t be taller than the initial drop according to the Law of Conservation of Energy. \n",
      "[Target] [InstanceKey(qid='L3b7-15_RCFinal proposal/L3b7-25_RCFinal proposal', vid=0)]\n",
      "The initial drop is one of the most important parts of the roller coaster. Our initial drop height is 0.9 m because if it is any higher, then we would have greater speed. It controls the speed in which the car will be going for the rest of the track. Our mass was 0.5 kg because if we would have had a higher mass, then the kinetic energy will be greater. Our hill height was 0.3 m because if it was smaller, then we would have the car go over the hill. The hill is what helps slow down the car.\n",
      "[Target] [InstanceKey(qid='L1c3-24_RCFinal proposal', vid=0)]\n",
      "For the mass of the car we chose 0.4 kg. Unlike the other masses 0.6 kg and 0.8 kg because they fell off when they were going down the drop because their was too much speed. The initial drop height is 1m. It would make the car go fast. When we tested other heights (0.8m) and it was not efficient when we tested it. \n",
      "\n",
      "The hill is 0.6 m tall. Since the drop was 1 m we had to choose something smaller than 1 m otherwise it wouldn’t have enough energy to get over the hill. We tested 0.8 m and 0.6 m. 0.8 m hardly made it over the hill. It was also 100% efficient at 0.6 m.\n",
      "[Target] [InstanceKey(qid='L1c3-18_RCFinal proposal', vid=0)]\n",
      "The car mass level we have decided is best for your roller coaster is 0.6 kg. This specific mass was chosen because based on the experiments we created. It has enough potential energy and kinetic energy. The initial drop/lift height level we chose which is 1 m. This specific initial drop/ lift height was chosen because if the height is less than or the same height as the hill height (.9-0 m) the car will either not be able to make it over the hill or it will have dangerous levels of speed. This obviously leaves 1 m the best initial drop height.\n",
      "\n",
      "Also, the hill height will be important as well. The hill height we chose for your roller coaster is 0.6 m. This height was chosen because as stated before, if the initial drop height is the same as the hill height then the car won’t be able to make it over the hill. And we decided that if the hill height is only .2m less than the initial drop. This leaves .6 m the best choice.\n",
      "\n",
      "[Target] [InstanceKey(qid='L1c3-16_RCFinal proposal', vid=0)]\n",
      "My group and I chose the car mass to be 0.6 kg. The heavier the mass, the more potential energy it has. 0.6 kg is the best because it wouldn’t go too fast and it wouldn’t be too slow. My group and I have chosen the initial drop height to be 1 meter. When we did the tests, none of the manipulated variables was 1 meters. We decided to put the initial drop up one more level to 1 meter. To make sure that it is safe, my group and I tested it with the simulation. My group and I chose the hill height to be 0.8 meters for a few reasons. First of all, we tried to make the hill smaller then the initial drop. The results of that ( we tried .4 m) were bad because the speed was too high. Then we had the hill be .6 meters. But that wasn’t;t too good. Then we tried .8 meters which had an red flags for the speed. That made us decide that this was best.\n",
      "[Target] [InstanceKey(qid='L1c3-06_RCFinal proposal', vid=0)]\n",
      "\n",
      "First of all we chose a car with a mass of 0.6 kg. Next my firm choose an initial drop height of .8m. this height has a Potential Energy of 7.8j and a final kinetic energy of 7.8j without friction. The initial PE and final ke are the same because the Law of Conservation of energy states that energy can’t be created nor destroyed only changed so the Pe slowly changes completely in to ke. \n",
      "\n",
      "Next comes the hill. For the hill height we chose 0.6m. We chose 0.6m because with the initial drop height at 0.8m and the friction of real life the hill could have been a little taller but not much, also with it taller It was way too slow and just barely made it over the hill. So we felt 0.6m was a good choice. \n",
      "\n",
      "[Target] [InstanceKey(qid='L1c3-02_RCFinal proposal/L1c3-05_RCFinal proposal', vid=0)]\n",
      "My corporation decided to use 0.5kg for the mass of the car. This is why. When the car mass increased, the potential energy increased. When the car mass [0.4kg] increased, the potential energy was 3.9J. When my corporation changed the car mass to 0.8, we found out that the potential energy was 7.8J.  The mass can’t be that big because then there will be a lot of energy trying to pull the car up.\n",
      "\n",
      "For the initial drop height my team choose 1m because in previous trials we tried 0.2m-0.8m. then we tried 1m and through each trial the K.E., P.E. and total energy, were the same. So basically it doesn’t matter what the height is. The initial drop provides the kinetic energy 100%, required to have enough energy to get the car over the hill, and to the gate. This would give the car enough energy to go over a hill that is 0.6m high. My corporation chose 0.6m for the hill height. It could not be higher than the initial drop to go over the track. \n",
      "[Target] [InstanceKey(qid='L1c2-25_RCFinal proposal/L1c3-14_RCFinal proposal', vid=0)]\n",
      "The car mass we chose was .74 kg. We chose this because it is in the upper- middle range of mass. This means that the car isn’t to heavy and colapse the track. For our Initial Drop height we chose 1 m. It has enough potential energy and also gives the car enough speed to get over the hill.  If the height were 0.6m the car would never make it up the hill if there was friction.\n",
      "\n",
      "We chose .62 for our hill height. Height is 0.62m because if the height was 0.7m then it would barely make it over the hill. At 0.8m the car wouldn’t make it over the hill at all. If the height was 0.5 m it exceeds the speed safety limit. \n",
      "\n",
      "[Target] [InstanceKey(qid='L1c2-02_RCFinal proposal/L1c3-23_RCFinal proposal\\n', vid=0)]\n",
      "For mass, .74kg was chosen.The initial drop height was chosen to be 1m. The amount of potential energy is 7.3J. This is on the higher end for potential energy, which gives it enough speed to get over the hill. The amount of kinetic energy is 7.3J. \n",
      "        Then for the initial drop height, it was chosen to be 1m. This height gave a higher speed compared to a lower height. It also has more potential energy and kinetic energy compared to a lower height.\n",
      "        When choosing the hill height, the final height ended up as .62m.In the hands on experiments. If we made the hill taller than .62m, and it was higher than the drop, the car would not have enough energy to make it over the hill. \n",
      "\n",
      "[Target] [InstanceKey(qid='L1c1-23_RCFinal proposal/L1c2-01_RCFinal proposal', vid=0)]\n",
      "My team put our car mass at .50kg because if mass was at .70 it wouldn’t be ideal. It seems to go over every hill that we choose. If we increased to .5kg or decreased it to .3kg, it wouldn’t go over the hill or have to much acceleration go down the hill. he initial drop is the most important part of the roller coaster, because that’s were the car is going to start it’s adventure and where P.E. is starting. My group chose .75m for the Initial drop height. We chose .75m because if the height of the initial drop was small, such as .40m then it might not have enough energy. My group chose our hill height to be .60m. We put our hill height at .60m because then one the way down the hill, the car get’s enough energy and speed to get up the next hill. \n"
     ]
    },
    {
     "data": {
      "text/plain": [
       "[Group](adjective_count_group): \n",
       "\tCMD\t: attr:contains_loc_in_essay==TRUE \n",
       "\tCOUNT\t: 57"
      ]
     },
     "execution_count": 16,
     "metadata": {},
     "output_type": "execute_result"
    }
   ],
   "source": [
    "from errudite.builts import Attribute, Group\n",
    "\n",
    "# Assuming you have already defined the PrimFunc num_adjectives\n",
    "\n",
    "# Create an attribute that counts the adjectives among essay targets\n",
    "attr = Attribute.create(\n",
    "    name=\"contains_loc_in_essay\",\n",
    "    description=\"Number of adjectives among essay targets\",\n",
    "    cmd=\"contains_loc(essay)\"\n",
    ")\n",
    "\n",
    "\n",
    "# Create a group to check if there are more than 5 adjectives in the essay\n",
    "contains_loc_group = Group.create(\n",
    "    name=\"adjective_count_group\",\n",
    "    description=\"Group for counting adjectives in the essay\",\n",
    "    cmd=\"attr:contains_loc_in_essay==TRUE \",\n",
    "    attr_hash=Attribute.store_hash(),\n",
    "    group_hash=Group.store_hash()\n",
    ")\n",
    "\n",
    "# You can now use the 'group' to check if there are more than 5 adjectives in your essay targets.\n",
    "contains_loc_group"
   ]
  },
  {
   "cell_type": "code",
   "execution_count": 17,
   "id": "007f6178-58c9-4169-9245-87f730a4e163",
   "metadata": {},
   "outputs": [
    {
     "ename": "NameError",
     "evalue": "name 'verb_count_group' is not defined",
     "output_type": "error",
     "traceback": [
      "\u001b[0;31m---------------------------------------------------------------------------\u001b[0m",
      "\u001b[0;31mNameError\u001b[0m                                 Traceback (most recent call last)",
      "\u001b[0;32m<ipython-input-17-48c6ff880706>\u001b[0m in \u001b[0;36m<module>\u001b[0;34m\u001b[0m\n\u001b[1;32m      1\u001b[0m \u001b[0mcount_group_list\u001b[0m \u001b[0;34m=\u001b[0m \u001b[0;34m[\u001b[0m\u001b[0;34m]\u001b[0m\u001b[0;34m\u001b[0m\u001b[0;34m\u001b[0m\u001b[0m\n\u001b[0;32m----> 2\u001b[0;31m \u001b[0;32mfor\u001b[0m \u001b[0mkey\u001b[0m \u001b[0;32min\u001b[0m \u001b[0mverb_count_group\u001b[0m\u001b[0;34m.\u001b[0m\u001b[0mget_instances\u001b[0m\u001b[0;34m(\u001b[0m\u001b[0;34m)\u001b[0m\u001b[0;34m:\u001b[0m\u001b[0;34m\u001b[0m\u001b[0;34m\u001b[0m\u001b[0m\n\u001b[0m\u001b[1;32m      3\u001b[0m     \u001b[0mcount_group_list\u001b[0m\u001b[0;34m.\u001b[0m\u001b[0mappend\u001b[0m\u001b[0;34m(\u001b[0m\u001b[0mInstance\u001b[0m\u001b[0;34m.\u001b[0m\u001b[0mget\u001b[0m\u001b[0;34m(\u001b[0m\u001b[0mkey\u001b[0m\u001b[0;34m)\u001b[0m\u001b[0;34m)\u001b[0m\u001b[0;34m\u001b[0m\u001b[0;34m\u001b[0m\u001b[0m\n\u001b[1;32m      4\u001b[0m \u001b[0;34m\u001b[0m\u001b[0m\n\u001b[1;32m      5\u001b[0m \u001b[0mpredictor\u001b[0m\u001b[0;34m.\u001b[0m\u001b[0mevaluate_performance\u001b[0m\u001b[0;34m(\u001b[0m\u001b[0mcount_group_list\u001b[0m\u001b[0;34m)\u001b[0m\u001b[0;34m\u001b[0m\u001b[0;34m\u001b[0m\u001b[0m\n",
      "\u001b[0;31mNameError\u001b[0m: name 'verb_count_group' is not defined"
     ]
    }
   ],
   "source": [
    "count_group_list = []\n",
    "for key in verb_count_group.get_instances():\n",
    "    count_group_list.append(Instance.get(key))\n",
    "\n",
    "predictor.evaluate_performance(count_group_list)\n",
    "print({\"predictor\": predictor.name, \"perform\": predictor.perform })"
   ]
  },
  {
   "cell_type": "code",
   "execution_count": null,
   "id": "cce84ae6-f146-4a12-8453-9b6b0e9c2d15",
   "metadata": {},
   "outputs": [],
   "source": []
  }
 ],
 "metadata": {
  "kernelspec": {
   "display_name": "Python 3",
   "language": "python",
   "name": "python3"
  },
  "language_info": {
   "codemirror_mode": {
    "name": "ipython",
    "version": 3
   },
   "file_extension": ".py",
   "mimetype": "text/x-python",
   "name": "python",
   "nbconvert_exporter": "python",
   "pygments_lexer": "ipython3",
   "version": "3.6.13"
  }
 },
 "nbformat": 4,
 "nbformat_minor": 5
}
