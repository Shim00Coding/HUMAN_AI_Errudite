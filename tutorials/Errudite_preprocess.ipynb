{
 "cells": [
  {
   "cell_type": "code",
   "execution_count": 1,
   "id": "af67263c",
   "metadata": {},
   "outputs": [],
   "source": [
    "%load_ext autoreload\n",
    "%autoreload 2\n",
    "\n",
    "import warnings\n",
    "warnings.filterwarnings('ignore')\n",
    "\n",
    "def import_sys():\n",
    "    import sys\n",
    "    sys.path.append('..')\n",
    "import_sys()\n",
    "\n",
    "import logging\n",
    "logging.basicConfig(level=logging.INFO)\n",
    "logger = logging.getLogger(__name__)  # pylint: disable=invalid-name"
   ]
  },
  {
   "cell_type": "code",
   "execution_count": 2,
   "id": "31b762f6",
   "metadata": {},
   "outputs": [
    {
     "name": "stdout",
     "output_type": "stream",
     "text": [
      "<module 'errudite' from '/Users/gyuhoshim/errudite/errudite/__init__.py'>\n"
     ]
    }
   ],
   "source": [
    "import errudite\n",
    "print(errudite)"
   ]
  },
  {
   "cell_type": "code",
   "execution_count": 3,
   "id": "7c4fa8e5",
   "metadata": {},
   "outputs": [
    {
     "name": "stderr",
     "output_type": "stream",
     "text": [
      "WARNING:errudite.utils.file_utils:Local path not yet exist, but still parsed: /Users/gyuhoshim/errudite/tutorials/caches/vocab.pkl\n",
      "WARNING:errudite.processor.spacy_annotator:(2, 'No such file or directory')\n"
     ]
    }
   ],
   "source": [
    "import pandas as pd\n",
    "from tqdm import tqdm\n",
    "\n",
    "from overrides import overrides\n",
    "\n",
    "from errudite.io import DatasetReader\n",
    "from errudite.utils import normalize_file_path, accuracy_score\n",
    "from errudite.targets.instance import Instance\n",
    "from errudite.targets.target import Target\n",
    "from errudite.targets.label import Label, PredefinedLabel"
   ]
  },
  {
   "cell_type": "code",
   "execution_count": 4,
   "id": "0473ebfe",
   "metadata": {},
   "outputs": [],
   "source": [
    "#!pip install transformers==4.3.0"
   ]
  },
  {
   "cell_type": "code",
   "execution_count": 5,
   "id": "3c7a8629",
   "metadata": {},
   "outputs": [],
   "source": [
    "#!pip install sentencepiece"
   ]
  },
  {
   "cell_type": "code",
   "execution_count": 6,
   "id": "ff37c82e",
   "metadata": {},
   "outputs": [],
   "source": [
    "#!pip install accelerate"
   ]
  },
  {
   "cell_type": "code",
   "execution_count": 7,
   "id": "d27a8ae7",
   "metadata": {},
   "outputs": [],
   "source": [
    "#!pip install  xlrd==1.1.0"
   ]
  },
  {
   "cell_type": "code",
   "execution_count": 8,
   "id": "1a7d7493",
   "metadata": {},
   "outputs": [],
   "source": [
    "#!pip install --upgrade ipywidgets"
   ]
  },
  {
   "cell_type": "code",
   "execution_count": 9,
   "id": "859aa828",
   "metadata": {},
   "outputs": [
    {
     "name": "stderr",
     "output_type": "stream",
     "text": [
      "INFO:pytorch_pretrained_bert.modeling:Better speed can be achieved with apex installed from https://www.github.com/nvidia/apex .\n",
      "INFO:pytorch_transformers.modeling_bert:Better speed can be achieved with apex installed from https://www.github.com/nvidia/apex .\n",
      "INFO:pytorch_transformers.modeling_xlnet:Better speed can be achieved with apex installed from https://www.github.com/nvidia/apex .\n",
      "INFO:allennlp.common.registrable:instantiating registered subclass relu of <class 'allennlp.nn.activations.Activation'>\n",
      "INFO:allennlp.common.registrable:instantiating registered subclass relu of <class 'allennlp.nn.activations.Activation'>\n",
      "INFO:allennlp.common.registrable:instantiating registered subclass relu of <class 'allennlp.nn.activations.Activation'>\n",
      "INFO:allennlp.common.registrable:instantiating registered subclass relu of <class 'allennlp.nn.activations.Activation'>\n"
     ]
    }
   ],
   "source": [
    "import pandas as pd\n",
    "from transformers import T5Tokenizer, T5ForConditionalGeneration\n",
    "import torch\n",
    "from typing import List, Dict\n",
    "import sys\n",
    "sys.path.append('..')\n",
    "from errudite.predictors.predictor import Predictor\n",
    "from errudite.targets.label import Label, PredefinedLabel\n",
    "\n",
    "class Predictor_FLAN_T5(Predictor):\n",
    "    def __init__(self, name: str, \n",
    "    model_path: str=None,\n",
    "    model_online_path: str=None,\n",
    "    description: str='',\n",
    "    model_type: str=None) -> None:\n",
    "        model = None\n",
    "        Predictor.__init__(self, name, description, model, ['accuracy', 'accuracy_PE_Acceptable', 'accuracy_PE_Unacceptable', 'accuracy_PE_Insufficient', 'accuracy_PE_NotFound'\n",
    "                                                            ,'accuracy_KE_Acceptable', 'accuracy_KE_Unacceptable', 'accuracy_KE_Insufficient', 'accuracy_KE_NotFound',\n",
    "                                                           'accuracy_LCE_Acceptable', 'accuracy_LCE_Unacceptable', 'accuracy_LCE_Insufficient', 'accuracy_LCE_NotFound'])\n",
    "        \n",
    "    def predict_essay(self, essay : str) -> Dict[str,str]:\n",
    "        # Load data into pandas DataFrame\n",
    "        data_df = pd.read_excel(\"StudentEssays.xlsx\")\n",
    "\n",
    "        # Initialize T5 tokenizer and model\n",
    "        tokenizer = T5Tokenizer.from_pretrained(\"google/flan-t5-base\")\n",
    "        model = T5ForConditionalGeneration.from_pretrained(\"google/flan-t5-base\")\n",
    "\n",
    "        # Move the model to the CUDA device if available\n",
    "        if torch.cuda.is_available():\n",
    "            model.to(\"cuda\")\n",
    "\n",
    "        # Define a list of concepts to predict\n",
    "        concepts_to_predict = [\"potential energy\", \"kinetic energy\", \"Law of Conservation of Energy\"]\n",
    "\n",
    "        # Define possible outcome labels\n",
    "        outcome_labels = [\"Acceptable\", \"Unacceptable\", \"Insufficient\", \"Not Found\"]\n",
    "\n",
    "        # Create a list to store predictions as dictionaries\n",
    "        predictions_list = []\n",
    "\n",
    "        text = essay  # Assuming the text content is in column 'Essay'\n",
    "\n",
    "        # Initialize predictions dictionary for this row\n",
    "        predictions = {}\n",
    "\n",
    "        # Iterate through each concept to predict\n",
    "        for concept in concepts_to_predict:\n",
    "            # Define a template for classification\n",
    "            template = f\"According to the following essay, is the student's definition of {concept} Acceptable, Unacceptable, Insufficient, or Not Found? Only use one of these labels for outputs\\n{text}\"\n",
    "            # Prepare the input by replacing placeholders\n",
    "            formatted_input = template\n",
    "            # Tokenize and classify the text\n",
    "            input_ids = tokenizer(formatted_input, return_tensors=\"pt\", padding=True, truncation=True).input_ids.to(\"cuda\" if torch.cuda.is_available() else \"cpu\")\n",
    "            outputs = model.generate(input_ids, max_length=128)\n",
    "            decoded_output = tokenizer.decode(outputs[0], skip_special_tokens=True)  # Remove special tokens\n",
    "\n",
    "            # Store the prediction in the dictionary\n",
    "            predictions[concept] = next((label for label in outcome_labels if label.lower() in decoded_output.lower()), \"Unknown\")\n",
    "\n",
    "            if predictions[concept] == \"Unknown\":\n",
    "              print(len(decoded_output))\n",
    "              with open('output.txt', 'w') as f:\n",
    "                f.write(decoded_output)\n",
    "\n",
    "        return predictions"
   ]
  },
  {
   "cell_type": "markdown",
   "id": "93c3c018",
   "metadata": {},
   "source": [
    "## 1. DatasetReader"
   ]
  },
  {
   "cell_type": "code",
   "execution_count": 10,
   "id": "180d5970",
   "metadata": {},
   "outputs": [],
   "source": [
    "@DatasetReader.register(\"STE\")\n",
    "class STEReader(DatasetReader):\n",
    "    def __init__(self, cache_folder_path: str=None) -> None:\n",
    "        super().__init__(cache_folder_path)\n",
    "        # overwrite the primary evaluation method and metric name\n",
    "        Label.set_task_evaluator(accuracy_score, 'accuracy')\n",
    "        \n",
    "    @overrides\n",
    "    def _read(self, file_path: str, lazy: bool, sample_size: int):\n",
    "        \"\"\"\n",
    "        Returns a list containing all the instances in the specified dataset.\n",
    " \n",
    "        Parameters\n",
    "        ----------\n",
    "        file_path : str\n",
    "            The path of the input data file.\n",
    "        lazy : bool, optional\n",
    "            If ``lazy==True``, only run the tokenization, does not compute the linguistic\n",
    "            features like POS, NER. By default False\n",
    "        sample_size : int, optional\n",
    "            If sample size is set, only load this many of instances, by default None\n",
    "        \n",
    "        Returns\n",
    "        -------\n",
    "        List[Instance]\n",
    "            The instance list.\n",
    "        \"\"\"\n",
    "        instances = []\n",
    "        essays = []\n",
    "        logger.info(\"Reading instances from lines in file at: %s\", file_path)\n",
    "        df = pd.read_excel(normalize_file_path(file_path), sep='\\t')\n",
    "        for idx, row in tqdm(df.iterrows()):\n",
    "            if lazy:\n",
    "                essays.append(row['Essay'])\n",
    "            else:\n",
    "                instance = self._text_to_instance(f'q:{idx}', row)\n",
    "                if instance is not None:\n",
    "                    instances.append(instance)\n",
    "                if sample_size and idx > sample_size:\n",
    "                    break\n",
    "        if lazy:\n",
    "            return { \"Essays\": essays }\n",
    "        else:\n",
    "            return instances\n",
    "    \n",
    "    @overrides\n",
    "    def _text_to_instance(self, id: str, row) -> Instance:\n",
    "        # The function that transfers raw text to instance.\n",
    "        essay = Target(qid=row['Essay_ID'], text=row['Essay'], vid=0, metas={'type': 'essays'})        # label\n",
    "        groundtruth_PE = PredefinedLabel(\n",
    "            model='groundtruth', \n",
    "            qid=row['Essay_ID'], \n",
    "            text=row['PE'], \n",
    "            vid=0, \n",
    "        )\n",
    "        groundtruth_KE = PredefinedLabel(\n",
    "            model='groundtruth', \n",
    "            qid=row['Essay_ID'], \n",
    "            text=row['KE'], \n",
    "            vid=0, \n",
    "        )\n",
    "        groundtruth_LCE = PredefinedLabel(\n",
    "            model='groundtruth', \n",
    "            qid=row['Essay_ID'], \n",
    "            text=row['LCE'], \n",
    "            vid=0, \n",
    "        )\n",
    "        return self.create_instance(row['Essay_ID'], \n",
    "            essay=essay, \n",
    "            groundtruth_PE=groundtruth_PE,\n",
    "            groundtruth_KE=groundtruth_KE,\n",
    "            groundtruth_LCE=groundtruth_LCE)"
   ]
  },
  {
   "cell_type": "code",
   "execution_count": 11,
   "id": "6e496da8",
   "metadata": {},
   "outputs": [
    {
     "name": "stderr",
     "output_type": "stream",
     "text": [
      "INFO:errudite.utils.file_utils:Errudite cache folder selected: ./ste_caches\n"
     ]
    }
   ],
   "source": [
    "from errudite.io import DatasetReader\n",
    "\n",
    "cache_folder_path = \"./ste_caches\"\n",
    "reader = DatasetReader.by_name(\"STE\")(cache_folder_path=cache_folder_path)"
   ]
  },
  {
   "cell_type": "code",
   "execution_count": 12,
   "id": "69a5458b",
   "metadata": {},
   "outputs": [
    {
     "name": "stderr",
     "output_type": "stream",
     "text": [
      "INFO:errudite.io.dataset_reader:Reading instances from lines in file at: StudentEssays.xlsx\n",
      "INFO:__main__:Reading instances from lines in file at: StudentEssays.xlsx\n",
      "76it [00:02, 30.09it/s]\n"
     ]
    }
   ],
   "source": [
    "# read the raw data!\n",
    "instances = reader.read(\n",
    "    # The path of the input data file. We are using the first 100 rows from the SNLI dev set.\n",
    "    file_path='StudentEssays.xlsx', \n",
    "    # If sample size is set, only load this many of instances, by default None.\n",
    "    sample_size=76)"
   ]
  },
  {
   "cell_type": "code",
   "execution_count": 13,
   "id": "c1a30b4d",
   "metadata": {},
   "outputs": [],
   "source": [
    "#instances"
   ]
  },
  {
   "cell_type": "markdown",
   "id": "3756929f",
   "metadata": {},
   "source": [
    "## 2. Predictor"
   ]
  },
  {
   "cell_type": "code",
   "execution_count": 14,
   "id": "edcd3c2b",
   "metadata": {},
   "outputs": [],
   "source": [
    "from typing import List, Dict\n",
    "import sys\n",
    "sys.path.append('..')\n",
    "from errudite.predictors.predictor import Predictor\n",
    "from errudite.targets.label import Label, PredefinedLabel"
   ]
  },
  {
   "cell_type": "code",
   "execution_count": 15,
   "id": "e62062dd",
   "metadata": {},
   "outputs": [],
   "source": [
    "@Predictor.register(\"STE_FLAN_T5\")\n",
    "class PredictorSTE(Predictor_FLAN_T5):\n",
    "    def __init__(self, name: str, \n",
    "        model_path: str=None,\n",
    "        model_online_path: str=None,\n",
    "        description: str='') -> None:\n",
    "        Predictor_FLAN_T5.__init__(self, name, model_path, model_online_path, description)\n",
    "        import sys\n",
    "        sys.path.append('..')\n",
    "        from errudite.utils.evaluator import accuracy_score\n",
    "        # Second, from the metrics above, pick one that's primary, and it will be used \n",
    "        # to compute `is_incorrect()` in any label target object: primary metric < 1.\n",
    "        Label.set_task_evaluator(\n",
    "            # the evaluation function that accepts pred and groundtruths, \n",
    "            # and return a dict of metrics: { metric_name: metric_score }. \n",
    "            # This is saved as Label.task_evaluation_func.\n",
    "            task_evaluation_func=accuracy_score, \n",
    "            # The primary task metric name, ideally a key of task_evaluation_func ‘s return.\n",
    "            task_primary_metric='accuracy')\n",
    "\n",
    "    # the raw prediction function, returning the output of the model in a json format.\n",
    "    def predict(self, essay: str) -> Dict[str, str]:\n",
    "        predicted = self.predict_essay(essay)\n",
    "        return predicted\n",
    "\n",
    "    @classmethod\n",
    "    # the class method that takes `Target` inputs, and output a `Label` object.\n",
    "    def model_predict(cls, \n",
    "        predictor: Predictor, \n",
    "        essay: Target, \n",
    "        groundtruth_PE: Label, groundtruth_KE: Label, groundtruth_LCE: Label) -> 'Label':\n",
    "        answer = None\n",
    "        if not predictor:\n",
    "            return answer\n",
    "        predicted = predictor.predict(essay.get_text())\n",
    "        if not predicted:\n",
    "            return None\n",
    "        answer_PE = PredefinedLabel(\n",
    "            model=predictor.name, \n",
    "            qid=essay.qid,\n",
    "            text=predicted['potential energy'], \n",
    "            vid=max([essay.vid]))\n",
    "        answer_KE = PredefinedLabel(\n",
    "            model=predictor.name, \n",
    "            qid=essay.qid,\n",
    "            text=predicted['kinetic energy'], \n",
    "            vid=max([essay.vid]))\n",
    "        answer_LCE = PredefinedLabel(\n",
    "            model=predictor.name, \n",
    "            qid=essay.qid,\n",
    "            text=predicted['Law of Conservation of Energy'], \n",
    "            vid=max([essay.vid]))\n",
    "        answer_PE.compute_perform(groundtruths=groundtruth_PE)\n",
    "        answer_KE.compute_perform(groundtruths=groundtruth_KE)\n",
    "        answer_LCE.compute_perform(groundtruths=groundtruth_LCE)\n",
    "        return answer_PE, answer_KE, answer_LCE\n",
    "\n"
   ]
  },
  {
   "cell_type": "code",
   "execution_count": 16,
   "id": "75b930a9",
   "metadata": {},
   "outputs": [],
   "source": [
    "from errudite.predictors import Predictor\n",
    "model_path = \"FLAN_T5_Essay\"\n",
    "predictor = Predictor.by_name(\"STE_FLAN_T5\")(\n",
    "    name ='FLAN_T5', \n",
    "    description='Prediction created by FLAN_T5')"
   ]
  },
  {
   "cell_type": "code",
   "execution_count": null,
   "id": "31aec055",
   "metadata": {},
   "outputs": [
    {
     "name": "stderr",
     "output_type": "stream",
     "text": [
      "INFO:__main__:Running predictions....\n",
      " 82%|████████▏ | 62/76 [18:07<09:06, 39.01s/it]"
     ]
    }
   ],
   "source": [
    "from tqdm import tqdm \n",
    "logger.info(\"Running predictions....\") \n",
    "for instance in tqdm(instances):\n",
    "    prediction_PE, prediction_KE, prediction_LCE = Predictor.by_name(\"STE_FLAN_T5\").model_predict(\n",
    "        predictor, \n",
    "        essay = instance.essay,\n",
    "        groundtruth_PE = instance.groundtruth_PE, groundtruth_KE = instance.groundtruth_KE, groundtruth_LCE = instance.groundtruth_LCE)\n",
    "    # set the prediction\n",
    "    instance.set_entries(prediction_PE = prediction_PE, prediction_KE = prediction_KE, prediction_LCE = prediction_LCE)"
   ]
  },
  {
   "cell_type": "code",
   "execution_count": null,
   "id": "1acc398c",
   "metadata": {},
   "outputs": [],
   "source": [
    "print(instances[2].get_entry('essay'), \"\\n\")\n",
    "instances[2].show_instance()"
   ]
  },
  {
   "cell_type": "code",
   "execution_count": null,
   "id": "890221fc",
   "metadata": {},
   "outputs": [],
   "source": [
    "predictor.evaluate_performance(instances)\n",
    "print({\"predictor\": predictor.name, \"perform\": predictor.perform })"
   ]
  },
  {
   "cell_type": "code",
   "execution_count": null,
   "id": "21f2dd7a",
   "metadata": {},
   "outputs": [],
   "source": [
    "# ---------\n",
    "# Build the instance store hash\n",
    "from errudite.targets.instance import Instance\n",
    "instance_hash, instance_hash_rewritten, qid_hash = Instance.build_instance_hashes(instances)"
   ]
  },
  {
   "cell_type": "code",
   "execution_count": null,
   "id": "adfa6dff",
   "metadata": {},
   "outputs": [],
   "source": [
    "print(instances[2].is_incorrect(model = 'FLAN_T5'), \"\\n\")"
   ]
  },
  {
   "cell_type": "code",
   "execution_count": null,
   "id": "733c4047",
   "metadata": {},
   "outputs": [],
   "source": [
    "from errudite.builts import Group\n",
    "from errudite.builts import Attribute\n",
    "group_length_10 = Group.create(\n",
    "    # The name of the attribute\n",
    "    name=\"length\",\n",
    "    # the description of the attribute\n",
    "    description=\"length greater than 10\",\n",
    "    # All the previously created attributes and groups \n",
    "    # can be used and queried, as long as we serve the \n",
    "    # stored attributes and groups as part of the inputs.\n",
    "    cmd=\"length(essay) > 10\",\n",
    "    attr_hash=Attribute.store_hash(),\n",
    "    group_hash=Group.store_hash()\n",
    ")"
   ]
  },
  {
   "cell_type": "code",
   "execution_count": null,
   "id": "44371e61",
   "metadata": {},
   "outputs": [],
   "source": [
    "group_length_10.visualize_models(models=[\"FLAN_T5\"])"
   ]
  },
  {
   "cell_type": "code",
   "execution_count": null,
   "id": "4eef304e",
   "metadata": {},
   "outputs": [],
   "source": [
    "# some general stats on groups\n",
    "Group.eval_stats(\n",
    "    filtered_instances=group_length_10.get_instances(),\n",
    "    # this will automatically call the default model we got\n",
    "    model=None\n",
    ")"
   ]
  },
  {
   "cell_type": "code",
   "execution_count": null,
   "id": "988e6ec4",
   "metadata": {},
   "outputs": [],
   "source": [
    "from errudite.builts import Group\n",
    "from errudite.builts import Attribute\n",
    "group_length_200 = Group.create(\n",
    "    # The name of the attribute\n",
    "    name=\"length\",\n",
    "    # the description of the attribute\n",
    "    description=\"length greater than 200\",\n",
    "    # All the previously created attributes and groups \n",
    "    # can be used and queried, as long as we serve the \n",
    "    # stored attributes and groups as part of the inputs.\n",
    "    cmd=\"length(essay) > 200\",\n",
    "    attr_hash=Attribute.store_hash(),\n",
    "    group_hash=Group.store_hash()\n",
    ")"
   ]
  },
  {
   "cell_type": "code",
   "execution_count": null,
   "id": "f806ad71",
   "metadata": {},
   "outputs": [],
   "source": [
    "group_length_200.visualize_models(models=[\"FLAN_T5\"])"
   ]
  },
  {
   "cell_type": "code",
   "execution_count": null,
   "id": "6e8d21e9",
   "metadata": {},
   "outputs": [],
   "source": [
    "# some general stats on groups\n",
    "Group.eval_stats(\n",
    "    filtered_instances=group_length_200.get_instances(),\n",
    "    # this will automatically call the default model we got\n",
    "    model=None\n",
    ")"
   ]
  },
  {
   "cell_type": "markdown",
   "id": "48ebfcd8",
   "metadata": {},
   "source": [
    "REWRITES!!"
   ]
  },
  {
   "cell_type": "code",
   "execution_count": null,
   "id": "a1c13dae",
   "metadata": {},
   "outputs": [],
   "source": [
    "from errudite.rewrites import Rewrite\n",
    "rewrite_rest_motion = Rewrite.create_with_cmd(\n",
    "    from_cmd='rest', \n",
    "    to_cmd= 'motion', \n",
    "    target_cmd= 'essay'\n",
    ")"
   ]
  },
  {
   "cell_type": "code",
   "execution_count": null,
   "id": "33a8e756",
   "metadata": {},
   "outputs": [],
   "source": [
    "from errudite.targets.instance import Instance\n",
    "from errudite.targets.target import Target\n",
    "from tqdm import tqdm\n",
    "\n",
    "rewrite_rest_var=[]\n",
    "\n",
    "for key in tqdm(group_length_10.get_instances()):\n",
    "#for key in tqdm(instances):\n",
    "    \"\"\"\n",
    "    This function returns a named tuple, with rid and the \n",
    "    rewritten text of the instance intended target. \n",
    "    If the instance cannot be rewritten, return None.\n",
    "    \"\"\"\n",
    "    instance = Instance.get(key)\n",
    "    rewritten_output = rewrite_rest_motion.rewrite_one_instance(instance)\n",
    "    if not rewritten_output:\n",
    "        rewrite_rest_var.append(instance)\n",
    "        continue\n",
    "    entries = {}\n",
    "    # compute the vid automatically\n",
    "    vid = len(Instance.qid_hash[instance.qid])\n",
    "    # init the instance \n",
    "    rewritten_instance = Instance(\n",
    "        qid=instance.qid, vid=vid, rid=rewrite_rest_motion.rid)\n",
    "    for e in instance.entries:\n",
    "        if e in rewrite_rest_motion.target_cmd:\n",
    "            # automatically create a new Target for the \n",
    "            # rewritten part.\n",
    "            entry = Target(\n",
    "                qid=instance.qid, \n",
    "                text=rewritten_output.text, \n",
    "                vid=vid, \n",
    "                metas=instance.get_entry(e).metas)\n",
    "        else:\n",
    "            # Otherwise, use the original target\n",
    "            entry = instance.get_entry(e)\n",
    "        # save all the entries\n",
    "        rewritten_instance.set_entries(**{e: entry})\n",
    "    # run the prediction\n",
    "    prediction_PE, prediction_KE, prediction_LCE = Predictor.by_name(\"STE_FLAN_T5\").model_predict(\n",
    "        predictor, \n",
    "        essay = rewritten_instance.get_entry('essay'),\n",
    "        groundtruth_PE = instance.groundtruth_PE, groundtruth_KE = instance.groundtruth_KE, groundtruth_LCE = instance.groundtruth_LCE)\n",
    "    # save the prediction\n",
    "    rewritten_instance.set_entries(prediction_PE = prediction_PE, prediction_KE = prediction_KE, prediction_LCE = prediction_LCE)\n",
    "    rewrite_rest_var.append(rewritten_instance)\n",
    "    # set the rewritten key into the rewrite\n",
    "    rewrite_rest_motion.add_instance(rewritten_instance.key())\n",
    "    # save into the Instance hashes\n",
    "    #print(rewritten_instance)\n",
    "    Instance.save(rewritten_instance)"
   ]
  },
  {
   "cell_type": "code",
   "execution_count": null,
   "id": "5d61d4d2",
   "metadata": {},
   "outputs": [],
   "source": [
    "predictor.evaluate_performance(instances)\n",
    "print({\"predictor\": predictor.name, \"perform\": predictor.perform })"
   ]
  },
  {
   "cell_type": "code",
   "execution_count": null,
   "id": "41b3424d",
   "metadata": {},
   "outputs": [],
   "source": [
    "predictor.evaluate_performance(rewrite_rest_var)\n",
    "print({\"predictor\": predictor.name, \"perform\": predictor.perform })"
   ]
  },
  {
   "cell_type": "code",
   "execution_count": null,
   "id": "bfe9d5ff",
   "metadata": {},
   "outputs": [],
   "source": [
    "from errudite.rewrites import Rewrite\n",
    "rewrite_ke = Rewrite.create_with_cmd(\n",
    "    from_cmd='kinetic energy', \n",
    "    to_cmd= '#', \n",
    "    target_cmd= 'essay'\n",
    ")"
   ]
  },
  {
   "cell_type": "code",
   "execution_count": null,
   "id": "ad9709d6",
   "metadata": {},
   "outputs": [],
   "source": [
    "from errudite.targets.instance import Instance\n",
    "from errudite.targets.target import Target\n",
    "from tqdm import tqdm\n",
    "\n",
    "rewrite_ke_var=[]\n",
    "\n",
    "for key in tqdm(group_length_10.get_instances()):\n",
    "#for key in tqdm(instances):\n",
    "    \"\"\"\n",
    "    This function returns a named tuple, with rid and the \n",
    "    rewritten text of the instance intended target. \n",
    "    If the instance cannot be rewritten, return None.\n",
    "    \"\"\"\n",
    "    instance = Instance.get(key)\n",
    "    rewritten_output = rewrite_ke.rewrite_one_instance(instance)\n",
    "    if not rewritten_output:\n",
    "        rewrite_ke_var.append(instance)\n",
    "        continue\n",
    "    entries = {}\n",
    "    # compute the vid automatically\n",
    "    vid = len(Instance.qid_hash[instance.qid])\n",
    "    # init the instance \n",
    "    rewritten_instance = Instance(\n",
    "        qid=instance.qid, vid=vid, rid=rewrite_ke.rid)\n",
    "    for e in instance.entries:\n",
    "        if e in rewrite_ke.target_cmd:\n",
    "            # automatically create a new Target for the \n",
    "            # rewritten part.\n",
    "            entry = Target(\n",
    "                qid=instance.qid, \n",
    "                text=rewritten_output.text, \n",
    "                vid=vid, \n",
    "                metas=instance.get_entry(e).metas)\n",
    "        else:\n",
    "            # Otherwise, use the original target\n",
    "            entry = instance.get_entry(e)\n",
    "        # save all the entries\n",
    "        rewritten_instance.set_entries(**{e: entry})\n",
    "    # run the prediction\n",
    "    prediction_PE, prediction_KE, prediction_LCE = Predictor.by_name(\"STE_FLAN_T5\").model_predict(\n",
    "        predictor, \n",
    "        essay = rewritten_instance.get_entry('essay'),\n",
    "        groundtruth_PE = instance.groundtruth_PE, groundtruth_KE = instance.groundtruth_KE, groundtruth_LCE = instance.groundtruth_LCE)\n",
    "    # save the prediction\n",
    "    rewritten_instance.set_entries(prediction_PE = prediction_PE, prediction_KE = prediction_KE, prediction_LCE = prediction_LCE)\n",
    "    rewrite_ke_var.append(rewritten_instance)\n",
    "    # set the rewritten key into the rewrite\n",
    "    rewrite_ke.add_instance(rewritten_instance.key())\n",
    "    # save into the Instance hashes\n",
    "    #print(rewritten_instance)\n",
    "    Instance.save(rewritten_instance)"
   ]
  },
  {
   "cell_type": "code",
   "execution_count": null,
   "id": "a3901217",
   "metadata": {},
   "outputs": [],
   "source": [
    "predictor.evaluate_performance(instances)\n",
    "print({\"predictor\": predictor.name, \"perform\": predictor.perform })"
   ]
  },
  {
   "cell_type": "code",
   "execution_count": null,
   "id": "53f6f0ba",
   "metadata": {},
   "outputs": [],
   "source": [
    "predictor.evaluate_performance(rewrite_ke_var)\n",
    "print({\"predictor\": predictor.name, \"perform\": predictor.perform })"
   ]
  },
  {
   "cell_type": "code",
   "execution_count": null,
   "id": "84d0c987",
   "metadata": {},
   "outputs": [],
   "source": [
    "#rewrite_rest_motion.visualize_models(models=[\"FLAN_T5\"])"
   ]
  },
  {
   "cell_type": "code",
   "execution_count": null,
   "id": "f1bafc4e",
   "metadata": {},
   "outputs": [],
   "source": [
    "from errudite.rewrites import Rewrite\n",
    "rewrite_top_bottom = Rewrite.create_with_cmd(\n",
    "    from_cmd='top', \n",
    "    to_cmd= 'bottom', \n",
    "    target_cmd= 'essay'\n",
    ")"
   ]
  },
  {
   "cell_type": "code",
   "execution_count": null,
   "id": "7dee54e1",
   "metadata": {},
   "outputs": [],
   "source": [
    "from errudite.targets.instance import Instance\n",
    "from errudite.targets.target import Target\n",
    "from tqdm import tqdm\n",
    "\n",
    "rewrite_tb_var=[]\n",
    "\n",
    "for key in tqdm(group_length_10.get_instances()):\n",
    "    \"\"\"\n",
    "    This function returns a named tuple, with rid and the \n",
    "    rewritten text of the instance intended target. \n",
    "    If the instance cannot be rewritten, return None.\n",
    "    \"\"\"\n",
    "    instance = Instance.get(key)\n",
    "    rewritten_output = rewrite_top_bottom.rewrite_one_instance(instance)\n",
    "    if not rewritten_output:\n",
    "        rewrite_tb_var.append(instance)\n",
    "        continue\n",
    "    entries = {}\n",
    "    # compute the vid automatically\n",
    "    vid = len(Instance.qid_hash[instance.qid])\n",
    "    # init the instance \n",
    "    rewritten_instance = Instance(\n",
    "        qid=instance.qid, vid=vid, rid=rewrite_top_bottom.rid)\n",
    "    for e in instance.entries:\n",
    "        if e in rewrite_top_bottom.target_cmd:\n",
    "            # automatically create a new Target for the \n",
    "            # rewritten part.\n",
    "            entry = Target(\n",
    "                qid=instance.qid, \n",
    "                text=rewritten_output.text, \n",
    "                vid=vid, \n",
    "                metas=instance.get_entry(e).metas)\n",
    "        else:\n",
    "            # Otherwise, use the original target\n",
    "            entry = instance.get_entry(e)\n",
    "        # save all the entries\n",
    "        rewritten_instance.set_entries(**{e: entry})\n",
    "    # run the prediction\n",
    "    prediction_PE, prediction_KE, prediction_LCE = Predictor.by_name(\"STE_FLAN_T5\").model_predict(\n",
    "        predictor, \n",
    "        essay = rewritten_instance.get_entry('essay'),\n",
    "        groundtruth_PE = instance.groundtruth_PE, groundtruth_KE = instance.groundtruth_KE, groundtruth_LCE = instance.groundtruth_LCE)\n",
    "    # save the prediction\n",
    "    rewritten_instance.set_entries(prediction_PE = prediction_PE, prediction_KE = prediction_KE, prediction_LCE = prediction_LCE)\n",
    "    rewrite_tb_var.append(rewritten_instance)\n",
    "    # set the rewritten key into the rewrite\n",
    "    rewrite_top_bottom.add_instance(rewritten_instance.key())\n",
    "    \n",
    "    # save into the Instance hashes\n",
    "    Instance.save(rewritten_instance)"
   ]
  },
  {
   "cell_type": "code",
   "execution_count": null,
   "id": "003ebb55",
   "metadata": {},
   "outputs": [],
   "source": [
    "predictor.evaluate_performance(instances)\n",
    "print({\"predictor\": predictor.name, \"perform\": predictor.perform })"
   ]
  },
  {
   "cell_type": "code",
   "execution_count": null,
   "id": "c0411a18",
   "metadata": {},
   "outputs": [],
   "source": [
    "predictor.evaluate_performance(rewrite_tb_var)\n",
    "print({\"predictor\": predictor.name, \"perform\": predictor.perform })"
   ]
  },
  {
   "cell_type": "code",
   "execution_count": null,
   "id": "c7670407",
   "metadata": {},
   "outputs": [],
   "source": [
    "from errudite.rewrites import Rewrite\n",
    "rewrite_car_stone = Rewrite.create_with_cmd(\n",
    "    from_cmd='car', \n",
    "    to_cmd= 'stone', \n",
    "    target_cmd= 'essay'\n",
    ")"
   ]
  },
  {
   "cell_type": "code",
   "execution_count": null,
   "id": "661205a5",
   "metadata": {},
   "outputs": [],
   "source": [
    "from errudite.targets.instance import Instance\n",
    "from errudite.targets.target import Target\n",
    "from tqdm import tqdm\n",
    "\n",
    "rewrite_car_var=[]\n",
    "\n",
    "for key in tqdm(group_length_10.get_instances()):\n",
    "    \"\"\"\n",
    "    This function returns a named tuple, with rid and the \n",
    "    rewritten text of the instance intended target. \n",
    "    If the instance cannot be rewritten, return None.\n",
    "    \"\"\"\n",
    "    instance = Instance.get(key)\n",
    "    rewritten_output = rewrite_car_stone.rewrite_one_instance(instance)\n",
    "    if not rewritten_output:\n",
    "        rewrite_car_var.append(instance)\n",
    "        continue\n",
    "    entries = {}\n",
    "    # compute the vid automatically\n",
    "    vid = len(Instance.qid_hash[instance.qid])\n",
    "    # init the instance \n",
    "    rewritten_instance = Instance(\n",
    "        qid=instance.qid, vid=vid, rid=rewrite_car_stone.rid)\n",
    "    for e in instance.entries:\n",
    "        if e in rewrite_car_stone.target_cmd:\n",
    "            # automatically create a new Target for the \n",
    "            # rewritten part.\n",
    "            entry = Target(\n",
    "                qid=instance.qid, \n",
    "                text=rewritten_output.text, \n",
    "                vid=vid, \n",
    "                metas=instance.get_entry(e).metas)\n",
    "        else:\n",
    "            # Otherwise, use the original target\n",
    "            entry = instance.get_entry(e)\n",
    "        # save all the entries\n",
    "        rewritten_instance.set_entries(**{e: entry})\n",
    "    # run the prediction\n",
    "    prediction_PE, prediction_KE, prediction_LCE = Predictor.by_name(\"STE_FLAN_T5\").model_predict(\n",
    "        predictor, \n",
    "        essay = rewritten_instance.get_entry('essay'),\n",
    "        groundtruth_PE = instance.groundtruth_PE, groundtruth_KE = instance.groundtruth_KE, groundtruth_LCE = instance.groundtruth_LCE)\n",
    "    # save the prediction\n",
    "    rewritten_instance.set_entries(prediction_PE = prediction_PE, prediction_KE = prediction_KE, prediction_LCE = prediction_LCE)\n",
    "    rewrite_car_var.append(rewritten_instance)\n",
    "    # set the rewritten key into the rewrite\n",
    "    rewrite_car_stone.add_instance(rewritten_instance.key())\n",
    "    \n",
    "    # save into the Instance hashes\n",
    "    Instance.save(rewritten_instance)"
   ]
  },
  {
   "cell_type": "code",
   "execution_count": null,
   "id": "3ec39d08",
   "metadata": {},
   "outputs": [],
   "source": [
    "predictor.evaluate_performance(instances)\n",
    "print({\"predictor\": predictor.name, \"perform\": predictor.perform })"
   ]
  },
  {
   "cell_type": "code",
   "execution_count": null,
   "id": "3ad80637",
   "metadata": {},
   "outputs": [],
   "source": [
    "predictor.evaluate_performance(rewrite_car_var)\n",
    "print({\"predictor\": predictor.name, \"perform\": predictor.perform })"
   ]
  },
  {
   "cell_type": "code",
   "execution_count": null,
   "id": "b366ea0b",
   "metadata": {},
   "outputs": [],
   "source": [
    "from errudite.rewrites import Rewrite\n",
    "rewrite_not_blank = Rewrite.create_with_cmd(\n",
    "    from_cmd='not', \n",
    "    to_cmd= ' ', \n",
    "    target_cmd= 'essay'\n",
    ")"
   ]
  },
  {
   "cell_type": "code",
   "execution_count": null,
   "id": "3a2ae275",
   "metadata": {},
   "outputs": [],
   "source": [
    "from errudite.targets.instance import Instance\n",
    "from errudite.targets.target import Target\n",
    "from tqdm import tqdm\n",
    "\n",
    "rewrite_not_var=[]\n",
    "\n",
    "for key in tqdm(group_length_10.get_instances()):\n",
    "    \"\"\"\n",
    "    This function returns a named tuple, with rid and the \n",
    "    rewritten text of the instance intended target. \n",
    "    If the instance cannot be rewritten, return None.\n",
    "    \"\"\"\n",
    "    instance = Instance.get(key)\n",
    "    rewritten_output = rewrite_not_blank.rewrite_one_instance(instance)\n",
    "    if not rewritten_output:\n",
    "        rewrite_not_var.append(instance)\n",
    "        continue\n",
    "    entries = {}\n",
    "    # compute the vid automatically\n",
    "    vid = len(Instance.qid_hash[instance.qid])\n",
    "    # init the instance \n",
    "    rewritten_instance = Instance(\n",
    "        qid=instance.qid, vid=vid, rid=rewrite_not_blank.rid)\n",
    "    for e in instance.entries:\n",
    "        if e in rewrite_not_blank.target_cmd:\n",
    "            # automatically create a new Target for the \n",
    "            # rewritten part.\n",
    "            entry = Target(\n",
    "                qid=instance.qid, \n",
    "                text=rewritten_output.text, \n",
    "                vid=vid, \n",
    "                metas=instance.get_entry(e).metas)\n",
    "        else:\n",
    "            # Otherwise, use the original target\n",
    "            entry = instance.get_entry(e)\n",
    "        # save all the entries\n",
    "        rewritten_instance.set_entries(**{e: entry})\n",
    "    # run the prediction\n",
    "    prediction_PE, prediction_KE, prediction_LCE = Predictor.by_name(\"STE_FLAN_T5\").model_predict(\n",
    "        predictor, \n",
    "        essay = rewritten_instance.get_entry('essay'),\n",
    "        groundtruth_PE = instance.groundtruth_PE, groundtruth_KE = instance.groundtruth_KE, groundtruth_LCE = instance.groundtruth_LCE)\n",
    "    # save the prediction\n",
    "    rewritten_instance.set_entries(prediction_PE = prediction_PE, prediction_KE = prediction_KE, prediction_LCE = prediction_LCE)\n",
    "    rewrite_not_var.append(rewritten_instance)\n",
    "    # set the rewritten key into the rewrite\n",
    "    rewrite_not_blank.add_instance(rewritten_instance.key())\n",
    "    \n",
    "    # save into the Instance hashes\n",
    "    Instance.save(rewritten_instance)"
   ]
  },
  {
   "cell_type": "code",
   "execution_count": null,
   "id": "a934e247",
   "metadata": {},
   "outputs": [],
   "source": [
    "predictor.evaluate_performance(instances)\n",
    "print({\"predictor\": predictor.name, \"perform\": predictor.perform })"
   ]
  },
  {
   "cell_type": "code",
   "execution_count": null,
   "id": "d6abc1a2",
   "metadata": {},
   "outputs": [],
   "source": [
    "predictor.evaluate_performance(rewrite_not_var)\n",
    "print({\"predictor\": predictor.name, \"perform\": predictor.perform })"
   ]
  },
  {
   "cell_type": "code",
   "execution_count": null,
   "id": "c150da51",
   "metadata": {},
   "outputs": [],
   "source": [
    "from errudite.rewrites import Rewrite\n",
    "rewrite_is = Rewrite.create_with_cmd(\n",
    "    from_cmd='is', \n",
    "    to_cmd= 'is not', \n",
    "    target_cmd= 'essay'\n",
    ")"
   ]
  },
  {
   "cell_type": "code",
   "execution_count": null,
   "id": "d902d145",
   "metadata": {},
   "outputs": [],
   "source": [
    "from errudite.targets.instance import Instance\n",
    "from errudite.targets.target import Target\n",
    "from tqdm import tqdm\n",
    "\n",
    "rewrite_is_var=[]\n",
    "\n",
    "for key in tqdm(group_length_10.get_instances()):\n",
    "    \"\"\"\n",
    "    This function returns a named tuple, with rid and the \n",
    "    rewritten text of the instance intended target. \n",
    "    If the instance cannot be rewritten, return None.\n",
    "    \"\"\"\n",
    "    instance = Instance.get(key)\n",
    "    rewritten_output = rewrite_is.rewrite_one_instance(instance)\n",
    "    if not rewritten_output:\n",
    "        rewrite_is_var.append(instance)\n",
    "        continue\n",
    "    entries = {}\n",
    "    # compute the vid automatically\n",
    "    vid = len(Instance.qid_hash[instance.qid])\n",
    "    # init the instance \n",
    "    rewritten_instance = Instance(\n",
    "        qid=instance.qid, vid=vid, rid=rewrite_is.rid)\n",
    "    for e in instance.entries:\n",
    "        if e in rewrite_is.target_cmd:\n",
    "            # automatically create a new Target for the \n",
    "            # rewritten part.\n",
    "            entry = Target(\n",
    "                qid=instance.qid, \n",
    "                text=rewritten_output.text, \n",
    "                vid=vid, \n",
    "                metas=instance.get_entry(e).metas)\n",
    "        else:\n",
    "            # Otherwise, use the original target\n",
    "            entry = instance.get_entry(e)\n",
    "        # save all the entries\n",
    "        rewritten_instance.set_entries(**{e: entry})\n",
    "    # run the prediction\n",
    "    prediction_PE, prediction_KE, prediction_LCE = Predictor.by_name(\"STE_FLAN_T5\").model_predict(\n",
    "        predictor, \n",
    "        essay = rewritten_instance.get_entry('essay'),\n",
    "        groundtruth_PE = instance.groundtruth_PE, groundtruth_KE = instance.groundtruth_KE, groundtruth_LCE = instance.groundtruth_LCE)\n",
    "    # save the prediction\n",
    "    rewritten_instance.set_entries(prediction_PE = prediction_PE, prediction_KE = prediction_KE, prediction_LCE = prediction_LCE)\n",
    "    rewrite_is_var.append(rewritten_instance)\n",
    "    # set the rewritten key into the rewrite\n",
    "    rewrite_is.add_instance(rewritten_instance.key())\n",
    "    \n",
    "    # save into the Instance hashes\n",
    "    Instance.save(rewritten_instance)"
   ]
  },
  {
   "cell_type": "code",
   "execution_count": null,
   "id": "74ed1bdc",
   "metadata": {},
   "outputs": [],
   "source": [
    "predictor.evaluate_performance(instances)\n",
    "print({\"predictor\": predictor.name, \"perform\": predictor.perform })"
   ]
  },
  {
   "cell_type": "code",
   "execution_count": null,
   "id": "6fa73b38",
   "metadata": {},
   "outputs": [],
   "source": [
    "predictor.evaluate_performance(rewrite_is_var)\n",
    "print({\"predictor\": predictor.name, \"perform\": predictor.perform })"
   ]
  },
  {
   "cell_type": "code",
   "execution_count": null,
   "id": "2ffae868",
   "metadata": {},
   "outputs": [],
   "source": [
    "from errudite.rewrites import Rewrite\n",
    "rewrite_created = Rewrite.create_with_cmd(\n",
    "    from_cmd='created', \n",
    "    to_cmd= '#', \n",
    "    target_cmd= 'essay'\n",
    ")"
   ]
  },
  {
   "cell_type": "code",
   "execution_count": null,
   "id": "fc8f5ec9",
   "metadata": {},
   "outputs": [],
   "source": [
    "from errudite.targets.instance import Instance\n",
    "from errudite.targets.target import Target\n",
    "from tqdm import tqdm\n",
    "\n",
    "rewrite_created_var=[]\n",
    "\n",
    "for key in tqdm(group_length_10.get_instances()):\n",
    "    \"\"\"\n",
    "    This function returns a named tuple, with rid and the \n",
    "    rewritten text of the instance intended target. \n",
    "    If the instance cannot be rewritten, return None.\n",
    "    \"\"\"\n",
    "    instance = Instance.get(key)\n",
    "    rewritten_output = rewrite_created.rewrite_one_instance(instance)\n",
    "    if not rewritten_output:\n",
    "        rewrite_created_var.append(instance)\n",
    "        continue\n",
    "    entries = {}\n",
    "    # compute the vid automatically\n",
    "    vid = len(Instance.qid_hash[instance.qid])\n",
    "    # init the instance \n",
    "    rewritten_instance = Instance(\n",
    "        qid=instance.qid, vid=vid, rid=rewrite_created.rid)\n",
    "    for e in instance.entries:\n",
    "        if e in rewrite_created.target_cmd:\n",
    "            # automatically create a new Target for the \n",
    "            # rewritten part.\n",
    "            entry = Target(\n",
    "                qid=instance.qid, \n",
    "                text=rewritten_output.text, \n",
    "                vid=vid, \n",
    "                metas=instance.get_entry(e).metas)\n",
    "        else:\n",
    "            # Otherwise, use the original target\n",
    "            entry = instance.get_entry(e)\n",
    "        # save all the entries\n",
    "        rewritten_instance.set_entries(**{e: entry})\n",
    "    # run the prediction\n",
    "    prediction_PE, prediction_KE, prediction_LCE = Predictor.by_name(\"STE_FLAN_T5\").model_predict(\n",
    "        predictor, \n",
    "        essay = rewritten_instance.get_entry('essay'),\n",
    "        groundtruth_PE = instance.groundtruth_PE, groundtruth_KE = instance.groundtruth_KE, groundtruth_LCE = instance.groundtruth_LCE)\n",
    "    # save the prediction\n",
    "    rewritten_instance.set_entries(prediction_PE = prediction_PE, prediction_KE = prediction_KE, prediction_LCE = prediction_LCE)\n",
    "    rewrite_created_var.append(rewritten_instance)\n",
    "    # set the rewritten key into the rewrite\n",
    "    rewrite_created.add_instance(rewritten_instance.key())\n",
    "    \n",
    "    # save into the Instance hashes\n",
    "    Instance.save(rewritten_instance)"
   ]
  },
  {
   "cell_type": "code",
   "execution_count": null,
   "id": "abec2f9d",
   "metadata": {},
   "outputs": [],
   "source": [
    "predictor.evaluate_performance(instances)\n",
    "print({\"predictor\": predictor.name, \"perform\": predictor.perform })"
   ]
  },
  {
   "cell_type": "code",
   "execution_count": null,
   "id": "55faabec",
   "metadata": {},
   "outputs": [],
   "source": [
    "predictor.evaluate_performance(rewrite_created_var)\n",
    "print({\"predictor\": predictor.name, \"perform\": predictor.perform })"
   ]
  },
  {
   "cell_type": "code",
   "execution_count": null,
   "id": "d80e1223",
   "metadata": {},
   "outputs": [],
   "source": [
    "from errudite.rewrites import Rewrite\n",
    "rewrite_moving = Rewrite.create_with_cmd(\n",
    "    from_cmd='moving', \n",
    "    to_cmd= ' ', \n",
    "    target_cmd= 'essay'\n",
    ")"
   ]
  },
  {
   "cell_type": "code",
   "execution_count": null,
   "id": "1e2ca4d9",
   "metadata": {},
   "outputs": [],
   "source": [
    "from errudite.targets.instance import Instance\n",
    "from errudite.targets.target import Target\n",
    "from tqdm import tqdm\n",
    "\n",
    "rewrite_moving_var=[]\n",
    "\n",
    "for key in tqdm(group_length_10.get_instances()):\n",
    "    \"\"\"\n",
    "    This function returns a named tuple, with rid and the \n",
    "    rewritten text of the instance intended target. \n",
    "    If the instance cannot be rewritten, return None.\n",
    "    \"\"\"\n",
    "    instance = Instance.get(key)\n",
    "    rewritten_output = rewrite_moving.rewrite_one_instance(instance)\n",
    "    if not rewritten_output:\n",
    "        rewrite_moving_var.append(instance)\n",
    "        continue\n",
    "    entries = {}\n",
    "    # compute the vid automatically\n",
    "    vid = len(Instance.qid_hash[instance.qid])\n",
    "    # init the instance \n",
    "    rewritten_instance = Instance(\n",
    "        qid=instance.qid, vid=vid, rid=rewrite_moving.rid)\n",
    "    for e in instance.entries:\n",
    "        if e in rewrite_moving.target_cmd:\n",
    "            # automatically create a new Target for the \n",
    "            # rewritten part.\n",
    "            entry = Target(\n",
    "                qid=instance.qid, \n",
    "                text=rewritten_output.text, \n",
    "                vid=vid, \n",
    "                metas=instance.get_entry(e).metas)\n",
    "        else:\n",
    "            # Otherwise, use the original target\n",
    "            entry = instance.get_entry(e)\n",
    "        # save all the entries\n",
    "        rewritten_instance.set_entries(**{e: entry})\n",
    "    # run the prediction\n",
    "    prediction_PE, prediction_KE, prediction_LCE = Predictor.by_name(\"STE_FLAN_T5\").model_predict(\n",
    "        predictor, \n",
    "        essay = rewritten_instance.get_entry('essay'),\n",
    "        groundtruth_PE = instance.groundtruth_PE, groundtruth_KE = instance.groundtruth_KE, groundtruth_LCE = instance.groundtruth_LCE)\n",
    "    # save the prediction\n",
    "    rewritten_instance.set_entries(prediction_PE = prediction_PE, prediction_KE = prediction_KE, prediction_LCE = prediction_LCE)\n",
    "    rewrite_moving_var.append(rewritten_instance)\n",
    "    # set the rewritten key into the rewrite\n",
    "    rewrite_moving.add_instance(rewritten_instance.key())\n",
    "    \n",
    "    # save into the Instance hashes\n",
    "    Instance.save(rewritten_instance)"
   ]
  },
  {
   "cell_type": "code",
   "execution_count": null,
   "id": "7c67b0b6",
   "metadata": {},
   "outputs": [],
   "source": [
    "predictor.evaluate_performance(rewrite_moving_var)\n",
    "print({\"predictor\": predictor.name, \"perform\": predictor.perform })"
   ]
  },
  {
   "cell_type": "raw",
   "id": "9a4c9549",
   "metadata": {},
   "source": [
    "GROUPING + ATTRIBUTE"
   ]
  },
  {
   "cell_type": "code",
   "execution_count": null,
   "id": "512ead91",
   "metadata": {
    "tags": []
   },
   "outputs": [],
   "source": [
    "import traceback\n",
    "from typing import Union, List\n",
    "from spacy.tokens import Doc, Span, Token\n",
    "def import_sys():\n",
    "    import sys\n",
    "    sys.path.append('..')\n",
    "import_sys()\n",
    "from errudite.utils.helpers import convert_doc\n",
    "from errudite.utils.check import DSLValueError\n",
    "import logging\n",
    "logger = logging.getLogger(__name__)  # pylint: disable=invalid-name\n"
   ]
  },
  {
   "cell_type": "code",
   "execution_count": null,
   "id": "665dc439",
   "metadata": {},
   "outputs": [],
   "source": [
    "from errudite.build_blocks import PrimFunc\n",
    "from errudite.build_blocks.prim_funcs.linguistic import linguistic\n",
    "\n",
    "@PrimFunc.register()\n",
    "def contains_quantity(docs: Union['Target', Span]) -> bool:\n",
    "    \"\"\"\n",
    "    Detect the presence of quantity entities in the essay.\n",
    "    \"\"\"\n",
    "    # Use the linguistic function to extract entity types\n",
    "    entities = linguistic(docs, label='ent_type')\n",
    "    #print(entities)\n",
    "    contains='QUANTITY' in entities\n",
    "    # Check if 'bottom' or 'top' is present in the extracted entity types\n",
    "    #print(contains)\n",
    "    return contains\n"
   ]
  },
  {
   "cell_type": "code",
   "execution_count": null,
   "id": "b812e738",
   "metadata": {},
   "outputs": [],
   "source": [
    "from errudite.builts import Attribute, Group\n",
    "\n",
    "# Create an attribute based on the location function\n",
    "attr = Attribute.create(\n",
    "    name=\"quantity_entities\",\n",
    "    description=\"Presence of location entities in the essay\",\n",
    "    cmd=\"location(essay)\"\n",
    ")\n",
    "\n",
    "# Create a group that checks for the presence of location entities\n",
    "quantity_group = Group.create(\n",
    "    name=\"quantity\",\n",
    "    description=\"quantity entity detected\",\n",
    "    cmd=\"attr:quantity_entities == TRUE\",\n",
    "    attr_hash=Attribute.store_hash(),\n",
    "    group_hash=Group.store_hash()\n",
    ")\n",
    "quantity_group"
   ]
  },
  {
   "cell_type": "code",
   "execution_count": null,
   "id": "dd9ccf1a",
   "metadata": {},
   "outputs": [],
   "source": [
    "# some general stats on groups\n",
    "Group.eval_stats(\n",
    "    filtered_instances=quantity_group.get_instances(),\n",
    "    # this will automatically call the default model we got\n",
    "    model=None\n",
    ")"
   ]
  },
  {
   "cell_type": "code",
   "execution_count": null,
   "id": "3b63b5a4",
   "metadata": {},
   "outputs": [],
   "source": [
    "quantity_group.visualize_models(models=[\"FLAN_T5\"])"
   ]
  },
  {
   "cell_type": "code",
   "execution_count": null,
   "id": "7ddc07ab",
   "metadata": {},
   "outputs": [],
   "source": [
    "from errudite.build_blocks import PrimFunc\n",
    "from errudite.build_blocks.prim_funcs.linguistic import STRING\n",
    "import spacy\n",
    "nlp = spacy.load(\"en_core_web_sm\")\n",
    "\n",
    "\n",
    "@PrimFunc.register()\n",
    "def num_adjectives(target: 'Target') -> int:\n",
    "    \"\"\"\n",
    "    Count the number of adjectives in a given target.\n",
    "    \"\"\"\n",
    "    try:\n",
    "        # Access the tokens associated with the Target\n",
    "        #print(STRING(target))\n",
    "        #tokens = STRING(target).tokens\n",
    "        doc = nlp(STRING(target))\n",
    "        adjectives = [token for token in doc if token.pos_ == \"ADJ\"]\n",
    "        return len(adjectives)\n",
    "    except Exception as e:\n",
    "        ex = Exception(f\"Unknown exception from [num_adjectives]: {e}\")\n",
    "        raise ex\n",
    "\n",
    "\n"
   ]
  },
  {
   "cell_type": "code",
   "execution_count": null,
   "id": "60391e02",
   "metadata": {},
   "outputs": [],
   "source": [
    "from errudite.builts import Attribute, Group\n",
    "\n",
    "# Assuming you have already defined the PrimFunc num_adjectives\n",
    "\n",
    "# Create an attribute that counts the adjectives among essay targets\n",
    "attr = Attribute.create(\n",
    "    name=\"num_adjectives_in_essay\",\n",
    "    description=\"Number of adjectives among essay targets\",\n",
    "    cmd=\"num_adjectives(essay)\"\n",
    ")\n",
    "\n",
    "\n",
    "# Create a group to check if there are more than 5 adjectives in the essay\n",
    "adj_count_group = Group.create(\n",
    "    name=\"adjective_count_group\",\n",
    "    description=\"Group for counting adjectives in the essay\",\n",
    "    cmd=\"attr:num_adjectives_in_essay > 10\",\n",
    "    attr_hash=Attribute.store_hash(),\n",
    "    group_hash=Group.store_hash()\n",
    ")\n",
    "\n",
    "# You can now use the 'group' to check if there are more than 5 adjectives in your essay targets.\n",
    "adj_count_group"
   ]
  },
  {
   "cell_type": "code",
   "execution_count": null,
   "id": "99f8b936",
   "metadata": {},
   "outputs": [],
   "source": [
    "# some general stats on groups\n",
    "Group.eval_stats(\n",
    "    filtered_instances=adj_count_group.get_instances(),\n",
    "    # this will automatically call the default model we got\n",
    "    model=None\n",
    ")"
   ]
  },
  {
   "cell_type": "code",
   "execution_count": null,
   "id": "e28a98e5",
   "metadata": {},
   "outputs": [],
   "source": [
    "adj_count_group.visualize_models(models=[\"FLAN_T5\"])"
   ]
  },
  {
   "cell_type": "code",
   "execution_count": null,
   "id": "de7ec6aa",
   "metadata": {},
   "outputs": [],
   "source": [
    "from errudite.build_blocks import PrimFunc\n",
    "from errudite.build_blocks.prim_funcs.linguistic import STRING\n",
    "import spacy\n",
    "nlp = spacy.load(\"en_core_web_sm\")\n",
    "\n",
    "\n",
    "@PrimFunc.register()\n",
    "def contains_loc(target: 'Target') -> int:\n",
    "    \"\"\"\n",
    "    Detect the presence of location entities ('bottom' or 'top') in the essay.\n",
    "    \"\"\"\n",
    "    try:\n",
    "        # Access the tokens associated with the Target\n",
    "        target_str=STRING(target)\n",
    "        #tokens = STRING(target).tokens\n",
    "        if \"bottom\" in target_str or \"top\" in target_str:\n",
    "            return True\n",
    "    except Exception as e:\n",
    "        ex = Exception(f\"Unknown exception from [num_adjectives]: {e}\")\n",
    "        raise ex\n",
    "\n"
   ]
  },
  {
   "cell_type": "code",
   "execution_count": null,
   "id": "78112308",
   "metadata": {},
   "outputs": [],
   "source": [
    "from errudite.builts import Attribute, Group\n",
    "\n",
    "# Assuming you have already defined the PrimFunc num_adjectives\n",
    "\n",
    "# Create an attribute that counts the adjectives among essay targets\n",
    "attr = Attribute.create(\n",
    "    name=\"contains_loc_in_essay\",\n",
    "    description=\"Number of adjectives among essay targets\",\n",
    "    cmd=\"contains_loc(essay)\"\n",
    ")\n",
    "\n",
    "\n",
    "# Create a group to check if there are more than 5 adjectives in the essay\n",
    "contains_loc_group = Group.create(\n",
    "    name=\"adjective_count_group\",\n",
    "    description=\"Group for counting adjectives in the essay\",\n",
    "    cmd=\"attr:contains_loc_in_essay==TRUE \",\n",
    "    attr_hash=Attribute.store_hash(),\n",
    "    group_hash=Group.store_hash()\n",
    ")\n",
    "\n",
    "# You can now use the 'group' to check if there are more than 5 adjectives in your essay targets.\n",
    "contains_loc_group"
   ]
  },
  {
   "cell_type": "code",
   "execution_count": null,
   "id": "2a3b7261",
   "metadata": {},
   "outputs": [],
   "source": [
    "# some general stats on groups\n",
    "Group.eval_stats(\n",
    "    filtered_instances=contains_loc_group.get_instances(),\n",
    "    # this will automatically call the default model we got\n",
    "    model=None\n",
    ")"
   ]
  },
  {
   "cell_type": "code",
   "execution_count": null,
   "id": "2671f1be",
   "metadata": {},
   "outputs": [],
   "source": [
    "contains_loc_group.visualize_models(models=[\"FLAN_T5\"])"
   ]
  },
  {
   "cell_type": "code",
   "execution_count": null,
   "id": "7deee7c0",
   "metadata": {},
   "outputs": [],
   "source": []
  }
 ],
 "metadata": {
  "kernelspec": {
   "display_name": "Python 3",
   "language": "python",
   "name": "python3"
  },
  "language_info": {
   "codemirror_mode": {
    "name": "ipython",
    "version": 3
   },
   "file_extension": ".py",
   "mimetype": "text/x-python",
   "name": "python",
   "nbconvert_exporter": "python",
   "pygments_lexer": "ipython3",
   "version": "3.6.13"
  }
 },
 "nbformat": 4,
 "nbformat_minor": 5
}
