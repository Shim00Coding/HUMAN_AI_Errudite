{
 "cells": [
  {
   "cell_type": "code",
   "execution_count": 1,
   "id": "d739a51e-2db6-4a7e-9cb2-f2bda498ba51",
   "metadata": {},
   "outputs": [],
   "source": [
    "%load_ext autoreload\n",
    "%autoreload 2\n",
    "\n",
    "import warnings\n",
    "warnings.filterwarnings('ignore')\n",
    "\n",
    "def import_sys():\n",
    "    import sys\n",
    "    sys.path.append('..')\n",
    "import_sys()\n",
    "\n",
    "import logging\n",
    "logging.basicConfig(level=logging.INFO)\n",
    "logger = logging.getLogger(__name__)  # pylint: disable=invalid-name\n"
   ]
  },
  {
   "cell_type": "code",
   "execution_count": 2,
   "id": "7d78798d-2057-4c18-9072-81eb3d58b15f",
   "metadata": {},
   "outputs": [
    {
     "name": "stderr",
     "output_type": "stream",
     "text": [
      "WARNING:errudite.utils.file_utils:Local path not yet exist, but still parsed: /Users/gyuhoshim/errudite/tutorials/caches/vocab.pkl\n",
      "WARNING:errudite.processor.spacy_annotator:(2, 'No such file or directory')\n"
     ]
    }
   ],
   "source": [
    "import pandas as pd\n",
    "from tqdm import tqdm\n",
    "\n",
    "from overrides import overrides\n",
    "\n",
    "from errudite.io import DatasetReader\n",
    "from errudite.utils import normalize_file_path, accuracy_score\n",
    "from errudite.targets.instance import Instance\n",
    "from errudite.targets.target import Target\n",
    "from errudite.targets.label import Label, PredefinedLabel"
   ]
  },
  {
   "cell_type": "code",
   "execution_count": 3,
   "id": "61c520bd-1aed-456f-abbf-9441a0efcf68",
   "metadata": {},
   "outputs": [
    {
     "name": "stderr",
     "output_type": "stream",
     "text": [
      "INFO:pytorch_pretrained_bert.modeling:Better speed can be achieved with apex installed from https://www.github.com/nvidia/apex .\n",
      "INFO:pytorch_transformers.modeling_bert:Better speed can be achieved with apex installed from https://www.github.com/nvidia/apex .\n",
      "INFO:pytorch_transformers.modeling_xlnet:Better speed can be achieved with apex installed from https://www.github.com/nvidia/apex .\n",
      "INFO:allennlp.common.registrable:instantiating registered subclass relu of <class 'allennlp.nn.activations.Activation'>\n",
      "INFO:allennlp.common.registrable:instantiating registered subclass relu of <class 'allennlp.nn.activations.Activation'>\n",
      "INFO:allennlp.common.registrable:instantiating registered subclass relu of <class 'allennlp.nn.activations.Activation'>\n",
      "INFO:allennlp.common.registrable:instantiating registered subclass relu of <class 'allennlp.nn.activations.Activation'>\n"
     ]
    }
   ],
   "source": [
    "import pandas as pd\n",
    "from transformers import T5Tokenizer, T5ForConditionalGeneration\n",
    "import torch\n",
    "from typing import List, Dict\n",
    "import sys\n",
    "sys.path.append('..')\n",
    "from errudite.predictors.predictor import Predictor\n",
    "from errudite.targets.label import Label, PredefinedLabel\n",
    "\n",
    "class Predictor_FLAN_T5(Predictor):\n",
    "    def __init__(self, name: str, \n",
    "    model_path: str=None,\n",
    "    model_online_path: str=None,\n",
    "    description: str='',\n",
    "    model_type: str=None) -> None:\n",
    "        model = None\n",
    "        Predictor.__init__(self, name, description, model, ['accuracy', 'accuracy_PE_Acceptable', 'accuracy_PE_Unacceptable', 'accuracy_PE_Insufficient', 'accuracy_PE_NotFound'\n",
    "                                                            ,'accuracy_KE_Acceptable', 'accuracy_KE_Unacceptable', 'accuracy_KE_Insufficient', 'accuracy_KE_NotFound',\n",
    "                                                           'accuracy_LCE_Acceptable', 'accuracy_LCE_Unacceptable', 'accuracy_LCE_Insufficient', 'accuracy_LCE_NotFound'])\n",
    "        \n",
    "    def predict_essay(self, essay : str) -> Dict[str,str]:\n",
    "        # Load data into pandas DataFrame\n",
    "        data_df = pd.read_excel(\"StudentEssays.xlsx\")\n",
    "\n",
    "        # Initialize T5 tokenizer and model\n",
    "        tokenizer = T5Tokenizer.from_pretrained(\"google/flan-t5-base\")\n",
    "        model = T5ForConditionalGeneration.from_pretrained(\"google/flan-t5-base\")\n",
    "\n",
    "        # Move the model to the CUDA device if available\n",
    "        if torch.cuda.is_available():\n",
    "            model.to(\"cuda\")\n",
    "\n",
    "        # Define a list of concepts to predict\n",
    "        concepts_to_predict = [\"potential energy\", \"kinetic energy\", \"Law of Conservation of Energy\"]\n",
    "\n",
    "        # Define possible outcome labels\n",
    "        outcome_labels = [\"Acceptable\", \"Unacceptable\", \"Insufficient\", \"Not Found\"]\n",
    "\n",
    "        # Create a list to store predictions as dictionaries\n",
    "        predictions_list = []\n",
    "\n",
    "        text = essay  # Assuming the text content is in column 'Essay'\n",
    "\n",
    "        # Initialize predictions dictionary for this row\n",
    "        predictions = {}\n",
    "\n",
    "        # Iterate through each concept to predict\n",
    "        for concept in concepts_to_predict:\n",
    "            # Define a template for classification\n",
    "            template = f\"According to the following essay, is the student's definition of {concept} Acceptable, Unacceptable, Insufficient, or Not Found? Only use one of these labels for outputs\\n{text}\"\n",
    "            # Prepare the input by replacing placeholders\n",
    "            formatted_input = template\n",
    "            # Tokenize and classify the text\n",
    "            input_ids = tokenizer(formatted_input, return_tensors=\"pt\", padding=True, truncation=True).input_ids.to(\"cuda\" if torch.cuda.is_available() else \"cpu\")\n",
    "            outputs = model.generate(input_ids, max_length=128)\n",
    "            decoded_output = tokenizer.decode(outputs[0], skip_special_tokens=True)  # Remove special tokens\n",
    "\n",
    "            # Store the prediction in the dictionary\n",
    "            predictions[concept] = next((label for label in outcome_labels if label.lower() in decoded_output.lower()), \"Unknown\")\n",
    "\n",
    "            if predictions[concept] == \"Unknown\":\n",
    "              print(len(decoded_output))\n",
    "              with open('output.txt', 'w') as f:\n",
    "                f.write(decoded_output)\n",
    "\n",
    "        return predictions"
   ]
  },
  {
   "cell_type": "code",
   "execution_count": 4,
   "id": "bf39acad-c66d-45e6-8ce1-6f41cc323c75",
   "metadata": {},
   "outputs": [],
   "source": [
    "@DatasetReader.register(\"STE\")\n",
    "class STEReader(DatasetReader):\n",
    "    def __init__(self, cache_folder_path: str=None) -> None:\n",
    "        super().__init__(cache_folder_path)\n",
    "        # overwrite the primary evaluation method and metric name\n",
    "        Label.set_task_evaluator(accuracy_score, 'accuracy')\n",
    "        \n",
    "    @overrides\n",
    "    def _read(self, file_path: str, lazy: bool, sample_size: int):\n",
    "        \"\"\"\n",
    "        Returns a list containing all the instances in the specified dataset.\n",
    " \n",
    "        Parameters\n",
    "        ----------\n",
    "        file_path : str\n",
    "            The path of the input data file.\n",
    "        lazy : bool, optional\n",
    "            If ``lazy==True``, only run the tokenization, does not compute the linguistic\n",
    "            features like POS, NER. By default False\n",
    "        sample_size : int, optional\n",
    "            If sample size is set, only load this many of instances, by default None\n",
    "        \n",
    "        Returns\n",
    "        -------\n",
    "        List[Instance]\n",
    "            The instance list.\n",
    "        \"\"\"\n",
    "        instances = []\n",
    "        essays = []\n",
    "        logger.info(\"Reading instances from lines in file at: %s\", file_path)\n",
    "        df = pd.read_excel(normalize_file_path(file_path), sep='\\t')\n",
    "        for idx, row in tqdm(df.iterrows()):\n",
    "            if lazy:\n",
    "                essays.append(row['Essay'])\n",
    "            else:\n",
    "                instance = self._text_to_instance(f'q:{idx}', row)\n",
    "                if instance is not None:\n",
    "                    instances.append(instance)\n",
    "                if sample_size and idx > sample_size:\n",
    "                    break\n",
    "        if lazy:\n",
    "            return { \"Essays\": essays }\n",
    "        else:\n",
    "            return instances\n",
    "    \n",
    "    @overrides\n",
    "    def _text_to_instance(self, id: str, row) -> Instance:\n",
    "        # The function that transfers raw text to instance.\n",
    "        essay = Target(qid=row['Essay_ID'], text=row['Essay'], vid=0, metas={'type': 'essays'})        # label\n",
    "        groundtruth_PE = PredefinedLabel(\n",
    "            model='groundtruth', \n",
    "            qid=row['Essay_ID'], \n",
    "            text=row['PE'], \n",
    "            vid=0, \n",
    "        )\n",
    "        groundtruth_KE = PredefinedLabel(\n",
    "            model='groundtruth', \n",
    "            qid=row['Essay_ID'], \n",
    "            text=row['KE'], \n",
    "            vid=0, \n",
    "        )\n",
    "        groundtruth_LCE = PredefinedLabel(\n",
    "            model='groundtruth', \n",
    "            qid=row['Essay_ID'], \n",
    "            text=row['LCE'], \n",
    "            vid=0, \n",
    "        )\n",
    "        return self.create_instance(row['Essay_ID'], \n",
    "            essay=essay, \n",
    "            groundtruth_PE=groundtruth_PE,\n",
    "            groundtruth_KE=groundtruth_KE,\n",
    "            groundtruth_LCE=groundtruth_LCE)"
   ]
  },
  {
   "cell_type": "code",
   "execution_count": 5,
   "id": "eb66db2d-c409-4e66-ae1c-af926a5890de",
   "metadata": {},
   "outputs": [
    {
     "name": "stderr",
     "output_type": "stream",
     "text": [
      "INFO:errudite.utils.file_utils:Errudite cache folder selected: ./ste_caches\n"
     ]
    }
   ],
   "source": [
    "from errudite.io import DatasetReader\n",
    "\n",
    "cache_folder_path = \"./ste_caches\"\n",
    "reader = DatasetReader.by_name(\"STE\")(cache_folder_path=cache_folder_path)"
   ]
  },
  {
   "cell_type": "code",
   "execution_count": 6,
   "id": "1238e312-d090-4778-8516-7aef7904c90e",
   "metadata": {},
   "outputs": [
    {
     "name": "stderr",
     "output_type": "stream",
     "text": [
      "INFO:errudite.io.dataset_reader:Reading instances from lines in file at: StudentEssays.xlsx\n",
      "INFO:__main__:Reading instances from lines in file at: StudentEssays.xlsx\n",
      "76it [00:02, 31.54it/s]\n"
     ]
    }
   ],
   "source": [
    "# read the raw data!\n",
    "instances = reader.read(\n",
    "    # The path of the input data file. We are using the first 100 rows from the SNLI dev set.\n",
    "    file_path='StudentEssays.xlsx', \n",
    "    # If sample size is set, only load this many of instances, by default None.\n",
    "    sample_size=76)"
   ]
  },
  {
   "cell_type": "code",
   "execution_count": 7,
   "id": "65b8b5db-1521-4647-a965-f39b9b59c466",
   "metadata": {},
   "outputs": [],
   "source": [
    "from typing import List, Dict\n",
    "import sys\n",
    "sys.path.append('..')\n",
    "from errudite.predictors.predictor import Predictor\n",
    "from errudite.targets.label import Label, PredefinedLabel"
   ]
  },
  {
   "cell_type": "code",
   "execution_count": 8,
   "id": "817b7b9a-4deb-4909-8291-6bf9588b23e9",
   "metadata": {},
   "outputs": [],
   "source": [
    "@Predictor.register(\"STE_FLAN_T5\")\n",
    "class PredictorSTE(Predictor_FLAN_T5):\n",
    "    def __init__(self, name: str, \n",
    "        model_path: str=None,\n",
    "        model_online_path: str=None,\n",
    "        description: str='') -> None:\n",
    "        Predictor_FLAN_T5.__init__(self, name, model_path, model_online_path, description)\n",
    "        import sys\n",
    "        sys.path.append('..')\n",
    "        from errudite.utils.evaluator import accuracy_score\n",
    "        # Second, from the metrics above, pick one that's primary, and it will be used \n",
    "        # to compute `is_incorrect()` in any label target object: primary metric < 1.\n",
    "        Label.set_task_evaluator(\n",
    "            # the evaluation function that accepts pred and groundtruths, \n",
    "            # and return a dict of metrics: { metric_name: metric_score }. \n",
    "            # This is saved as Label.task_evaluation_func.\n",
    "            task_evaluation_func=accuracy_score, \n",
    "            # The primary task metric name, ideally a key of task_evaluation_func ‘s return.\n",
    "            task_primary_metric='accuracy')\n",
    "\n",
    "    # the raw prediction function, returning the output of the model in a json format.\n",
    "    def predict(self, essay: str) -> Dict[str, str]:\n",
    "        predicted = self.predict_essay(essay)\n",
    "        return predicted\n",
    "\n",
    "    @classmethod\n",
    "    # the class method that takes `Target` inputs, and output a `Label` object.\n",
    "    def model_predict(cls, \n",
    "        predictor: Predictor, \n",
    "        essay: Target, \n",
    "        groundtruth_PE: Label, groundtruth_KE: Label, groundtruth_LCE: Label) -> 'Label':\n",
    "        answer = None\n",
    "        if not predictor:\n",
    "            return answer\n",
    "        predicted = predictor.predict(essay.get_text())\n",
    "        if not predicted:\n",
    "            return None\n",
    "        answer_PE = PredefinedLabel(\n",
    "            model=predictor.name, \n",
    "            qid=essay.qid,\n",
    "            text=predicted['potential energy'], \n",
    "            vid=max([essay.vid]))\n",
    "        answer_KE = PredefinedLabel(\n",
    "            model=predictor.name, \n",
    "            qid=essay.qid,\n",
    "            text=predicted['kinetic energy'], \n",
    "            vid=max([essay.vid]))\n",
    "        answer_LCE = PredefinedLabel(\n",
    "            model=predictor.name, \n",
    "            qid=essay.qid,\n",
    "            text=predicted['Law of Conservation of Energy'], \n",
    "            vid=max([essay.vid]))\n",
    "        answer_PE.compute_perform(groundtruths=groundtruth_PE)\n",
    "        answer_KE.compute_perform(groundtruths=groundtruth_KE)\n",
    "        answer_LCE.compute_perform(groundtruths=groundtruth_LCE)\n",
    "        return answer_PE, answer_KE, answer_LCE\n",
    "\n"
   ]
  },
  {
   "cell_type": "code",
   "execution_count": 9,
   "id": "a49e913e-9b1f-44cd-847c-264649695af6",
   "metadata": {},
   "outputs": [],
   "source": [
    "from errudite.predictors import Predictor\n",
    "model_path = \"FLAN_T5_Essay\"\n",
    "predictor = Predictor.by_name(\"STE_FLAN_T5\")(\n",
    "    name ='FLAN_T5', \n",
    "    description='Prediction created by FLAN_T5')"
   ]
  },
  {
   "cell_type": "code",
   "execution_count": 10,
   "id": "d7148ea9-16a8-4a8c-b43d-6bd115dad06b",
   "metadata": {},
   "outputs": [],
   "source": [
    "import traceback\n",
    "from typing import Union, List\n",
    "from spacy.tokens import Doc, Span, Token\n",
    "def import_sys():\n",
    "    import sys\n",
    "    sys.path.append('..')\n",
    "import_sys()\n",
    "from errudite.utils.helpers import convert_doc\n",
    "from errudite.utils.check import DSLValueError\n",
    "import logging\n",
    "logger = logging.getLogger(__name__)  # pylint: disable=invalid-name"
   ]
  },
  {
   "cell_type": "code",
   "execution_count": 11,
   "id": "c5452d69-8291-47e2-8269-a54b914d5396",
   "metadata": {},
   "outputs": [
    {
     "name": "stderr",
     "output_type": "stream",
     "text": [
      "INFO:__main__:Running predictions....\n",
      "100%|██████████| 76/76 [13:11<00:00, 11.62s/it]\n"
     ]
    }
   ],
   "source": [
    "from tqdm import tqdm \n",
    "logger.info(\"Running predictions....\") \n",
    "for instance in tqdm(instances):\n",
    "    prediction_PE, prediction_KE, prediction_LCE = Predictor.by_name(\"STE_FLAN_T5\").model_predict(\n",
    "        predictor, \n",
    "        essay = instance.essay,\n",
    "        groundtruth_PE = instance.groundtruth_PE, groundtruth_KE = instance.groundtruth_KE, groundtruth_LCE = instance.groundtruth_LCE)\n",
    "    # set the prediction\n",
    "    instance.set_entries(prediction_PE = prediction_PE, prediction_KE = prediction_KE, prediction_LCE = prediction_LCE)"
   ]
  },
  {
   "cell_type": "code",
   "execution_count": 12,
   "id": "ed9e989e-4702-4499-ac93-ac5d33856df7",
   "metadata": {},
   "outputs": [],
   "source": [
    "# print(instances[2].get_entry('essay'), \"\\n\")\n",
    "# instances[2].show_instance()"
   ]
  },
  {
   "cell_type": "code",
   "execution_count": 16,
   "id": "fc059587-52ac-47a7-ad24-03b7a436974b",
   "metadata": {},
   "outputs": [],
   "source": [
    "# ---------\n",
    "# Build the instance store hash\n",
    "from errudite.targets.instance import Instance\n",
    "instance_hash, instance_hash_rewritten, qid_hash = Instance.build_instance_hashes(instances)"
   ]
  },
  {
   "cell_type": "code",
   "execution_count": 17,
   "id": "045345a7-6425-4e8e-ab2a-1de8eb59fa3e",
   "metadata": {},
   "outputs": [
    {
     "name": "stdout",
     "output_type": "stream",
     "text": [
      "{'predictor': 'FLAN_T5', 'perform': {'accuracy': 0.039473684210526314, 'accuracy_PE_Acceptable': 0.0, 'accuracy_PE_Unacceptable': 'None', 'accuracy_PE_Insufficient': 0.7924528301886793, 'accuracy_PE_NotFound': 0.0, 'accuracy_KE_Acceptable': 'None', 'accuracy_KE_Unacceptable': 'None', 'accuracy_KE_Insufficient': 0.6341463414634146, 'accuracy_KE_NotFound': 0.11428571428571428, 'accuracy_LCE_Acceptable': 0.2857142857142857, 'accuracy_LCE_Unacceptable': 'None', 'accuracy_LCE_Insufficient': 0.0, 'accuracy_LCE_NotFound': 0.4857142857142857}}\n"
     ]
    }
   ],
   "source": [
    "predictor.evaluate_performance(instances)\n",
    "print({\"predictor\": predictor.name, \"perform\": predictor.perform })"
   ]
  },
  {
   "cell_type": "markdown",
   "id": "0a265e5f-802a-4b0f-b45e-ca975b5a5f70",
   "metadata": {},
   "source": [
    "## Group - Length of the Essay"
   ]
  },
  {
   "cell_type": "code",
   "execution_count": 101,
   "id": "d5e6fa3e-17f4-4060-b41f-35c5b6d3efea",
   "metadata": {},
   "outputs": [
    {
     "name": "stderr",
     "output_type": "stream",
     "text": [
      "INFO:errudite.build_blocks.wrapper:Parsed: FuncOp(length):[ArgOp:essay]+[]\n",
      "WARNING:errudite.utils.store:Storing len_entities in Attribute: Overwritting name already in use.\n",
      "INFO:errudite.builts.attribute:Created attr: len_entities\n"
     ]
    },
    {
     "name": "stdout",
     "output_type": "stream",
     "text": [
      "Lower Quartile : 166.75\n",
      "median : 186.0\n",
      "Upper Quartile : 248.5\n"
     ]
    }
   ],
   "source": [
    "from errudite.builts import Group\n",
    "from errudite.builts import Attribute\n",
    "\n",
    "\n",
    "# Create an attribute based on the location function\n",
    "attr = Attribute.create(\n",
    "    name=\"len_entities\",\n",
    "    description=\"length entities in the essay\",\n",
    "    cmd=\"length(essay)\"\n",
    ")\n",
    "\n",
    "import numpy as np\n",
    "\n",
    "data=list(attr.get_instances().values())\n",
    "lower_quartile = np.percentile(data, 25)\n",
    "upper_quartile = np.percentile(data, 75)\n",
    "median=np.percentile(data, 50)\n",
    "\n",
    "\n",
    "print(\"Lower Quartile :\", lower_quartile)\n",
    "print(\"median :\",median)\n",
    "print(\"Upper Quartile :\", upper_quartile)\n",
    "\n"
   ]
  },
  {
   "cell_type": "code",
   "execution_count": 110,
   "id": "ea76d2d6-0fb5-45ae-a84c-56b478ada063",
   "metadata": {},
   "outputs": [
    {
     "name": "stderr",
     "output_type": "stream",
     "text": [
      "INFO:errudite.build_blocks.wrapper:Parsed: [BinOp](>=):[FuncOp(length):[ArgOp:essay]+[], 248.5]\n",
      "WARNING:errudite.utils.store:Storing length in Group: Overwritting name already in use.\n",
      "INFO:errudite.builts.group:Created group: length\n"
     ]
    },
    {
     "data": {
      "text/plain": [
       "[Group](length): \n",
       "\tCMD\t: length(essay) >= 248.5\n",
       "\tCOUNT\t: 19"
      ]
     },
     "execution_count": 110,
     "metadata": {},
     "output_type": "execute_result"
    }
   ],
   "source": [
    "\n",
    "len_group = Group.create(\n",
    "    # The name of the attribute\n",
    "    name=\"length\",\n",
    "    # the description of the attribute\n",
    "    description=\"length greater than 10\",\n",
    "    # All the previously created attributes and groups \n",
    "    # can be used and queried, as long as we serve the \n",
    "    # stored attributes and groups as part of the inputs.\n",
    "    cmd=\"length(essay) >= 248.5\",\n",
    "    attr_hash=Attribute.store_hash(),\n",
    "    group_hash=Group.store_hash()\n",
    ")\n",
    "\n",
    "len_group"
   ]
  },
  {
   "cell_type": "code",
   "execution_count": 111,
   "id": "6cf7fc0b-c6a5-458f-a348-d378abfe38ef",
   "metadata": {},
   "outputs": [
    {
     "name": "stdout",
     "output_type": "stream",
     "text": [
      "{'predictor': 'FLAN_T5', 'perform': {'accuracy': 0.05263157894736842, 'accuracy_PE_Acceptable': 0.0, 'accuracy_PE_Unacceptable': 'None', 'accuracy_PE_Insufficient': 0.6666666666666666, 'accuracy_PE_NotFound': 0.0, 'accuracy_KE_Acceptable': 'None', 'accuracy_KE_Unacceptable': 'None', 'accuracy_KE_Insufficient': 0.7, 'accuracy_KE_NotFound': 0.2222222222222222, 'accuracy_LCE_Acceptable': 0.3076923076923077, 'accuracy_LCE_Unacceptable': 'None', 'accuracy_LCE_Insufficient': 0.0, 'accuracy_LCE_NotFound': 0.4444444444444444}}\n"
     ]
    }
   ],
   "source": [
    "count_group_list = []\n",
    "for key in len_group.get_instances():\n",
    "    count_group_list.append(Instance.get(key))\n",
    "\n",
    "predictor.evaluate_performance(count_group_list)\n",
    "print({\"predictor\": predictor.name, \"perform\": predictor.perform })"
   ]
  },
  {
   "cell_type": "markdown",
   "id": "c57cc436-1628-43f2-88ba-188e08fd988b",
   "metadata": {},
   "source": [
    "## Group - Quantitative Value"
   ]
  },
  {
   "cell_type": "code",
   "execution_count": 23,
   "id": "afc39405-e8e4-4241-9e59-d6446adc8e9b",
   "metadata": {},
   "outputs": [],
   "source": [
    "from errudite.build_blocks import PrimFunc\n",
    "from errudite.build_blocks.prim_funcs.linguistic import linguistic\n",
    "\n",
    "@PrimFunc.register()\n",
    "def contains_quantity(docs: Union['Target', Span]) -> bool:\n",
    "    \"\"\"\n",
    "    Detect the presence of quantity entities in the essay.\n",
    "    quantity entity: measurements or counts.\n",
    "    \"\"\"\n",
    "    # Use the linguistic function to extract entity types\n",
    "    #print(docs)\n",
    "    entities = linguistic(docs, label='ent_type')\n",
    "    # print(entities)\n",
    "    # print(docs)\n",
    "    contains='QUANTITY' in entities\n",
    "\n",
    "    # Check if 'bottom' or 'top' is present in the extracted entity types\n",
    "    #print(contains)\n",
    "    return contains\n"
   ]
  },
  {
   "cell_type": "code",
   "execution_count": 24,
   "id": "6632b3dc-6b29-4cd8-8cc8-c09858031a48",
   "metadata": {},
   "outputs": [
    {
     "name": "stderr",
     "output_type": "stream",
     "text": [
      "INFO:errudite.build_blocks.wrapper:Parsed: FuncOp(contains_quantity):[ArgOp:essay]+[]\n",
      "INFO:errudite.builts.attribute:Created attr: quantity_entities\n",
      "INFO:errudite.build_blocks.wrapper:Parsed: [BinOp](==):[[BuildBlockOp](attr):quantity_entities, True]\n",
      "INFO:errudite.builts.group:Created group: quantity\n"
     ]
    },
    {
     "name": "stdout",
     "output_type": "stream",
     "text": [
      "<class 'spacy.tokens.doc.Doc'>\n",
      "<class 'spacy.tokens.doc.Doc'>\n",
      "<class 'spacy.tokens.doc.Doc'>\n",
      "<class 'spacy.tokens.doc.Doc'>\n",
      "<class 'spacy.tokens.doc.Doc'>\n",
      "<class 'spacy.tokens.doc.Doc'>\n",
      "<class 'spacy.tokens.doc.Doc'>\n",
      "<class 'spacy.tokens.doc.Doc'>\n",
      "<class 'spacy.tokens.doc.Doc'>\n",
      "<class 'spacy.tokens.doc.Doc'>\n",
      "<class 'spacy.tokens.doc.Doc'>\n",
      "<class 'spacy.tokens.doc.Doc'>\n",
      "<class 'spacy.tokens.doc.Doc'>\n",
      "<class 'spacy.tokens.doc.Doc'>\n",
      "<class 'spacy.tokens.doc.Doc'>\n",
      "<class 'spacy.tokens.doc.Doc'>\n",
      "<class 'spacy.tokens.doc.Doc'>\n",
      "<class 'spacy.tokens.doc.Doc'>\n",
      "<class 'spacy.tokens.doc.Doc'>\n",
      "<class 'spacy.tokens.doc.Doc'>\n",
      "<class 'spacy.tokens.doc.Doc'>\n",
      "<class 'spacy.tokens.doc.Doc'>\n",
      "<class 'spacy.tokens.doc.Doc'>\n",
      "<class 'spacy.tokens.doc.Doc'>\n",
      "<class 'spacy.tokens.doc.Doc'>\n",
      "<class 'spacy.tokens.doc.Doc'>\n",
      "<class 'spacy.tokens.doc.Doc'>\n",
      "<class 'spacy.tokens.doc.Doc'>\n",
      "<class 'spacy.tokens.doc.Doc'>\n",
      "<class 'spacy.tokens.doc.Doc'>\n",
      "<class 'spacy.tokens.doc.Doc'>\n",
      "<class 'spacy.tokens.doc.Doc'>\n",
      "<class 'spacy.tokens.doc.Doc'>\n",
      "<class 'spacy.tokens.doc.Doc'>\n",
      "<class 'spacy.tokens.doc.Doc'>\n",
      "<class 'spacy.tokens.doc.Doc'>\n",
      "<class 'spacy.tokens.doc.Doc'>\n",
      "<class 'spacy.tokens.doc.Doc'>\n",
      "<class 'spacy.tokens.doc.Doc'>\n",
      "<class 'spacy.tokens.doc.Doc'>\n",
      "<class 'spacy.tokens.doc.Doc'>\n",
      "<class 'spacy.tokens.doc.Doc'>\n",
      "<class 'spacy.tokens.doc.Doc'>\n",
      "<class 'spacy.tokens.doc.Doc'>\n",
      "<class 'spacy.tokens.doc.Doc'>\n",
      "<class 'spacy.tokens.doc.Doc'>\n",
      "<class 'spacy.tokens.doc.Doc'>\n",
      "<class 'spacy.tokens.doc.Doc'>\n",
      "<class 'spacy.tokens.doc.Doc'>\n",
      "<class 'spacy.tokens.doc.Doc'>\n",
      "<class 'spacy.tokens.doc.Doc'>\n",
      "<class 'spacy.tokens.doc.Doc'>\n",
      "<class 'spacy.tokens.doc.Doc'>\n",
      "<class 'spacy.tokens.doc.Doc'>\n",
      "<class 'spacy.tokens.doc.Doc'>\n",
      "<class 'spacy.tokens.doc.Doc'>\n",
      "<class 'spacy.tokens.doc.Doc'>\n",
      "<class 'spacy.tokens.doc.Doc'>\n",
      "<class 'spacy.tokens.doc.Doc'>\n",
      "<class 'spacy.tokens.doc.Doc'>\n",
      "<class 'spacy.tokens.doc.Doc'>\n",
      "<class 'spacy.tokens.doc.Doc'>\n",
      "<class 'spacy.tokens.doc.Doc'>\n",
      "<class 'spacy.tokens.doc.Doc'>\n",
      "<class 'spacy.tokens.doc.Doc'>\n",
      "<class 'spacy.tokens.doc.Doc'>\n",
      "<class 'spacy.tokens.doc.Doc'>\n",
      "<class 'spacy.tokens.doc.Doc'>\n",
      "<class 'spacy.tokens.doc.Doc'>\n",
      "<class 'spacy.tokens.doc.Doc'>\n",
      "<class 'spacy.tokens.doc.Doc'>\n",
      "<class 'spacy.tokens.doc.Doc'>\n",
      "<class 'spacy.tokens.doc.Doc'>\n",
      "<class 'spacy.tokens.doc.Doc'>\n",
      "<class 'spacy.tokens.doc.Doc'>\n",
      "<class 'spacy.tokens.doc.Doc'>\n"
     ]
    },
    {
     "data": {
      "text/plain": [
       "[Group](quantity): \n",
       "\tCMD\t: attr:quantity_entities == TRUE\n",
       "\tCOUNT\t: 49"
      ]
     },
     "execution_count": 24,
     "metadata": {},
     "output_type": "execute_result"
    }
   ],
   "source": [
    "from errudite.builts import Attribute, Group\n",
    "\n",
    "# Create an attribute based on the location function\n",
    "attr = Attribute.create(\n",
    "    name=\"quantity_entities\",\n",
    "    description=\"Presence of quantity entities in the essay\",\n",
    "    cmd=\"contains_quantity(essay)\"\n",
    ")\n",
    "\n",
    "# Create a group that checks for the presence of location entities\n",
    "quantity_group = Group.create(\n",
    "    name=\"quantity\",\n",
    "    description=\"quantity entity detected\",\n",
    "    cmd=\"attr:quantity_entities == TRUE\",\n",
    "    attr_hash=Attribute.store_hash(),\n",
    "    group_hash=Group.store_hash()\n",
    ")\n",
    "quantity_group"
   ]
  },
  {
   "cell_type": "code",
   "execution_count": null,
   "id": "4c95e422-faba-4600-bc12-d65c1a032cd3",
   "metadata": {},
   "outputs": [],
   "source": [
    "count_group_list = []\n",
    "\n",
    "for key in quantity_group.get_instances():\n",
    "    count_group_list.append(Instance.get(key))\n",
    "\n",
    "predictor.evaluate_performance(count_group_list)\n",
    "print({\"predictor\": predictor.name, \"perform\": predictor.perform })"
   ]
  },
  {
   "cell_type": "code",
   "execution_count": 66,
   "id": "6d296306-8deb-4331-a3b3-493fe93c13d6",
   "metadata": {},
   "outputs": [
    {
     "name": "stderr",
     "output_type": "stream",
     "text": [
      "WARNING:errudite.utils.registrable:Register num_quantity as PrimFunc: Overwritting name already in use for num_quantity.\n",
      "INFO:errudite.build_blocks.wrapper:Parsed: FuncOp(num_quantity):[ArgOp:essay]+[]\n",
      "WARNING:errudite.utils.store:Storing quantity_entities in Attribute: Overwritting name already in use.\n",
      "INFO:errudite.builts.attribute:Created attr: quantity_entities\n"
     ]
    },
    {
     "name": "stdout",
     "output_type": "stream",
     "text": [
      "<class 'spacy.tokens.doc.Doc'>\n",
      "<class 'spacy.tokens.doc.Doc'>\n",
      "<class 'spacy.tokens.doc.Doc'>\n",
      "<class 'spacy.tokens.doc.Doc'>\n",
      "<class 'spacy.tokens.doc.Doc'>\n",
      "<class 'spacy.tokens.doc.Doc'>\n",
      "<class 'spacy.tokens.doc.Doc'>\n",
      "<class 'spacy.tokens.doc.Doc'>\n",
      "<class 'spacy.tokens.doc.Doc'>\n",
      "<class 'spacy.tokens.doc.Doc'>\n",
      "<class 'spacy.tokens.doc.Doc'>\n",
      "<class 'spacy.tokens.doc.Doc'>\n",
      "<class 'spacy.tokens.doc.Doc'>\n",
      "<class 'spacy.tokens.doc.Doc'>\n",
      "<class 'spacy.tokens.doc.Doc'>\n",
      "<class 'spacy.tokens.doc.Doc'>\n",
      "<class 'spacy.tokens.doc.Doc'>\n",
      "<class 'spacy.tokens.doc.Doc'>\n",
      "<class 'spacy.tokens.doc.Doc'>\n",
      "<class 'spacy.tokens.doc.Doc'>\n",
      "<class 'spacy.tokens.doc.Doc'>\n",
      "<class 'spacy.tokens.doc.Doc'>\n",
      "<class 'spacy.tokens.doc.Doc'>\n",
      "<class 'spacy.tokens.doc.Doc'>\n",
      "<class 'spacy.tokens.doc.Doc'>\n",
      "<class 'spacy.tokens.doc.Doc'>\n",
      "<class 'spacy.tokens.doc.Doc'>\n",
      "<class 'spacy.tokens.doc.Doc'>\n",
      "<class 'spacy.tokens.doc.Doc'>\n",
      "<class 'spacy.tokens.doc.Doc'>\n",
      "<class 'spacy.tokens.doc.Doc'>\n",
      "<class 'spacy.tokens.doc.Doc'>\n",
      "<class 'spacy.tokens.doc.Doc'>\n",
      "<class 'spacy.tokens.doc.Doc'>\n",
      "<class 'spacy.tokens.doc.Doc'>\n",
      "<class 'spacy.tokens.doc.Doc'>\n",
      "<class 'spacy.tokens.doc.Doc'>\n",
      "<class 'spacy.tokens.doc.Doc'>\n",
      "<class 'spacy.tokens.doc.Doc'>\n",
      "<class 'spacy.tokens.doc.Doc'>\n",
      "<class 'spacy.tokens.doc.Doc'>\n",
      "<class 'spacy.tokens.doc.Doc'>\n",
      "<class 'spacy.tokens.doc.Doc'>\n",
      "<class 'spacy.tokens.doc.Doc'>\n",
      "<class 'spacy.tokens.doc.Doc'>\n",
      "<class 'spacy.tokens.doc.Doc'>\n",
      "<class 'spacy.tokens.doc.Doc'>\n",
      "<class 'spacy.tokens.doc.Doc'>\n",
      "<class 'spacy.tokens.doc.Doc'>\n",
      "<class 'spacy.tokens.doc.Doc'>\n",
      "<class 'spacy.tokens.doc.Doc'>\n",
      "<class 'spacy.tokens.doc.Doc'>\n",
      "<class 'spacy.tokens.doc.Doc'>\n",
      "<class 'spacy.tokens.doc.Doc'>\n",
      "<class 'spacy.tokens.doc.Doc'>\n",
      "<class 'spacy.tokens.doc.Doc'>\n",
      "<class 'spacy.tokens.doc.Doc'>\n",
      "<class 'spacy.tokens.doc.Doc'>\n",
      "<class 'spacy.tokens.doc.Doc'>\n",
      "<class 'spacy.tokens.doc.Doc'>\n",
      "<class 'spacy.tokens.doc.Doc'>\n",
      "<class 'spacy.tokens.doc.Doc'>\n",
      "<class 'spacy.tokens.doc.Doc'>\n",
      "<class 'spacy.tokens.doc.Doc'>\n",
      "<class 'spacy.tokens.doc.Doc'>\n",
      "<class 'spacy.tokens.doc.Doc'>\n",
      "<class 'spacy.tokens.doc.Doc'>\n",
      "<class 'spacy.tokens.doc.Doc'>\n",
      "<class 'spacy.tokens.doc.Doc'>\n",
      "<class 'spacy.tokens.doc.Doc'>\n",
      "<class 'spacy.tokens.doc.Doc'>\n",
      "<class 'spacy.tokens.doc.Doc'>\n",
      "<class 'spacy.tokens.doc.Doc'>\n",
      "<class 'spacy.tokens.doc.Doc'>\n",
      "<class 'spacy.tokens.doc.Doc'>\n",
      "<class 'spacy.tokens.doc.Doc'>\n",
      "Lower Quartile : 0.0\n",
      "median : 2.0\n",
      "Upper Quartile : 4.0\n"
     ]
    }
   ],
   "source": [
    "from errudite.build_blocks import PrimFunc\n",
    "from errudite.build_blocks.prim_funcs.linguistic import linguistic\n",
    "\n",
    "@PrimFunc.register()\n",
    "def num_quantity(docs: Union['Target', Span]) -> bool:\n",
    "    \"\"\"\n",
    "    Detect the number of quantity entities in the essay.\n",
    "    quantity entity: measurements or counts.\n",
    "    \"\"\"\n",
    "    # Use the linguistic function to extract entity types\n",
    "    #print(docs)\n",
    "    entities = linguistic(docs, label='ent_type')\n",
    "    count = entities.count('QUANTITY')\n",
    "\n",
    "    return count\n",
    "\n",
    "from errudite.builts import Attribute, Group\n",
    "\n",
    "# Create an attribute based on the location function\n",
    "attr = Attribute.create(\n",
    "    name=\"quantity_entities\",\n",
    "    description=\"number of quantity entities in the essay\",\n",
    "    cmd=\"num_quantity(essay)\"\n",
    ")\n",
    "\n",
    "import numpy as np\n",
    "\n",
    "data=list(attr.get_instances().values())\n",
    "lower_quartile = np.percentile(data, 25)\n",
    "upper_quartile = np.percentile(data, 75)\n",
    "median=np.percentile(data, 50)\n",
    "\n",
    "\n",
    "print(\"Lower Quartile :\", lower_quartile)\n",
    "print(\"median :\",median)\n",
    "print(\"Upper Quartile :\", upper_quartile)\n",
    "\n"
   ]
  },
  {
   "cell_type": "code",
   "execution_count": 86,
   "id": "0a8fe274-7c2f-4864-9cf7-e439c33ddf82",
   "metadata": {},
   "outputs": [
    {
     "name": "stderr",
     "output_type": "stream",
     "text": [
      "INFO:errudite.build_blocks.wrapper:Parsed: [BinOp](>):[[BuildBlockOp](attr):quantity_entities, 4.0]\n",
      "WARNING:errudite.utils.store:Storing num_quantity in Group: Overwritting name already in use.\n",
      "INFO:errudite.builts.group:Created group: num_quantity\n"
     ]
    },
    {
     "data": {
      "text/plain": [
       "[Group](num_quantity): \n",
       "\tCMD\t: attr:quantity_entities > 4\n",
       "\tCOUNT\t: 18"
      ]
     },
     "execution_count": 86,
     "metadata": {},
     "output_type": "execute_result"
    }
   ],
   "source": [
    "\n",
    "# Create a group that checks for the presence of location entities\n",
    "num_quantity_group = Group.create(\n",
    "    name=\"num_quantity\",\n",
    "    description=\"quantity entity detected\",\n",
    "    cmd=\"attr:quantity_entities > 4\",\n",
    "    attr_hash=Attribute.store_hash(),\n",
    "    group_hash=Group.store_hash()\n",
    ")\n",
    "\n",
    "num_quantity_group\n"
   ]
  },
  {
   "cell_type": "code",
   "execution_count": 87,
   "id": "f3e8a8bf-ef12-44fb-90e9-bb3b4622a1c8",
   "metadata": {},
   "outputs": [
    {
     "name": "stdout",
     "output_type": "stream",
     "text": [
      "{'predictor': 'FLAN_T5', 'perform': {'accuracy': 0.0, 'accuracy_PE_Acceptable': 0.0, 'accuracy_PE_Unacceptable': 'None', 'accuracy_PE_Insufficient': 0.8181818181818182, 'accuracy_PE_NotFound': 0.0, 'accuracy_KE_Acceptable': 'None', 'accuracy_KE_Unacceptable': 'None', 'accuracy_KE_Insufficient': 0.7, 'accuracy_KE_NotFound': 0.25, 'accuracy_LCE_Acceptable': 0.23529411764705882, 'accuracy_LCE_Unacceptable': 'None', 'accuracy_LCE_Insufficient': 'None', 'accuracy_LCE_NotFound': 0.625}}\n"
     ]
    }
   ],
   "source": [
    "count_group_list = []\n",
    "\n",
    "for key in num_quantity_group.get_instances():\n",
    "    count_group_list.append(Instance.get(key))\n",
    "\n",
    "predictor.evaluate_performance(count_group_list)\n",
    "print({\"predictor\": predictor.name, \"perform\": predictor.perform })"
   ]
  },
  {
   "cell_type": "code",
   "execution_count": 26,
   "id": "4df2381c-c05f-41c5-b812-cab823ee2894",
   "metadata": {},
   "outputs": [],
   "source": [
    "from errudite.build_blocks import PrimFunc\n",
    "from errudite.build_blocks.prim_funcs.linguistic import linguistic\n",
    "\n",
    "@PrimFunc.register()\n",
    "def contains_ordinal(docs: Union['Target', Span]) -> bool:\n",
    "    \"\"\"\n",
    "    Detect the presence of ordinal entities in the essay.\n",
    "    ordinal entity: measurements or counts.\n",
    "    \"\"\"\n",
    "    # Use the linguistic function to extract entity types\n",
    "    entities = linguistic(docs, label='ent_type')\n",
    "    # print(entities)\n",
    "    # print(docs)\n",
    "    contains='ORDINAL' in entities\n",
    "    # Check if 'bottom' or 'top' is present in the extracted entity types\n",
    "    #print(contains)\n",
    "    return contains\n"
   ]
  },
  {
   "cell_type": "code",
   "execution_count": 27,
   "id": "1a361063-14be-4218-800d-b0a51f0d2225",
   "metadata": {},
   "outputs": [
    {
     "name": "stderr",
     "output_type": "stream",
     "text": [
      "INFO:errudite.build_blocks.wrapper:Parsed: FuncOp(contains_ordinal):[ArgOp:essay]+[]\n",
      "INFO:errudite.builts.attribute:Created attr: ordinal_entities\n",
      "INFO:errudite.build_blocks.wrapper:Parsed: [BinOp](==):[[BuildBlockOp](attr):ordinal_entities, True]\n",
      "INFO:errudite.builts.group:Created group: ordinal\n"
     ]
    },
    {
     "name": "stdout",
     "output_type": "stream",
     "text": [
      "<class 'spacy.tokens.doc.Doc'>\n",
      "<class 'spacy.tokens.doc.Doc'>\n",
      "<class 'spacy.tokens.doc.Doc'>\n",
      "<class 'spacy.tokens.doc.Doc'>\n",
      "<class 'spacy.tokens.doc.Doc'>\n",
      "<class 'spacy.tokens.doc.Doc'>\n",
      "<class 'spacy.tokens.doc.Doc'>\n",
      "<class 'spacy.tokens.doc.Doc'>\n",
      "<class 'spacy.tokens.doc.Doc'>\n",
      "<class 'spacy.tokens.doc.Doc'>\n",
      "<class 'spacy.tokens.doc.Doc'>\n",
      "<class 'spacy.tokens.doc.Doc'>\n",
      "<class 'spacy.tokens.doc.Doc'>\n",
      "<class 'spacy.tokens.doc.Doc'>\n",
      "<class 'spacy.tokens.doc.Doc'>\n",
      "<class 'spacy.tokens.doc.Doc'>\n",
      "<class 'spacy.tokens.doc.Doc'>\n",
      "<class 'spacy.tokens.doc.Doc'>\n",
      "<class 'spacy.tokens.doc.Doc'>\n",
      "<class 'spacy.tokens.doc.Doc'>\n",
      "<class 'spacy.tokens.doc.Doc'>\n",
      "<class 'spacy.tokens.doc.Doc'>\n",
      "<class 'spacy.tokens.doc.Doc'>\n",
      "<class 'spacy.tokens.doc.Doc'>\n",
      "<class 'spacy.tokens.doc.Doc'>\n",
      "<class 'spacy.tokens.doc.Doc'>\n",
      "<class 'spacy.tokens.doc.Doc'>\n",
      "<class 'spacy.tokens.doc.Doc'>\n",
      "<class 'spacy.tokens.doc.Doc'>\n",
      "<class 'spacy.tokens.doc.Doc'>\n",
      "<class 'spacy.tokens.doc.Doc'>\n",
      "<class 'spacy.tokens.doc.Doc'>\n",
      "<class 'spacy.tokens.doc.Doc'>\n",
      "<class 'spacy.tokens.doc.Doc'>\n",
      "<class 'spacy.tokens.doc.Doc'>\n",
      "<class 'spacy.tokens.doc.Doc'>\n",
      "<class 'spacy.tokens.doc.Doc'>\n",
      "<class 'spacy.tokens.doc.Doc'>\n",
      "<class 'spacy.tokens.doc.Doc'>\n",
      "<class 'spacy.tokens.doc.Doc'>\n",
      "<class 'spacy.tokens.doc.Doc'>\n",
      "<class 'spacy.tokens.doc.Doc'>\n",
      "<class 'spacy.tokens.doc.Doc'>\n",
      "<class 'spacy.tokens.doc.Doc'>\n",
      "<class 'spacy.tokens.doc.Doc'>\n",
      "<class 'spacy.tokens.doc.Doc'>\n",
      "<class 'spacy.tokens.doc.Doc'>\n",
      "<class 'spacy.tokens.doc.Doc'>\n",
      "<class 'spacy.tokens.doc.Doc'>\n",
      "<class 'spacy.tokens.doc.Doc'>\n",
      "<class 'spacy.tokens.doc.Doc'>\n",
      "<class 'spacy.tokens.doc.Doc'>\n",
      "<class 'spacy.tokens.doc.Doc'>\n",
      "<class 'spacy.tokens.doc.Doc'>\n",
      "<class 'spacy.tokens.doc.Doc'>\n",
      "<class 'spacy.tokens.doc.Doc'>\n",
      "<class 'spacy.tokens.doc.Doc'>\n",
      "<class 'spacy.tokens.doc.Doc'>\n",
      "<class 'spacy.tokens.doc.Doc'>\n",
      "<class 'spacy.tokens.doc.Doc'>\n",
      "<class 'spacy.tokens.doc.Doc'>\n",
      "<class 'spacy.tokens.doc.Doc'>\n",
      "<class 'spacy.tokens.doc.Doc'>\n",
      "<class 'spacy.tokens.doc.Doc'>\n",
      "<class 'spacy.tokens.doc.Doc'>\n",
      "<class 'spacy.tokens.doc.Doc'>\n",
      "<class 'spacy.tokens.doc.Doc'>\n",
      "<class 'spacy.tokens.doc.Doc'>\n",
      "<class 'spacy.tokens.doc.Doc'>\n",
      "<class 'spacy.tokens.doc.Doc'>\n",
      "<class 'spacy.tokens.doc.Doc'>\n",
      "<class 'spacy.tokens.doc.Doc'>\n",
      "<class 'spacy.tokens.doc.Doc'>\n",
      "<class 'spacy.tokens.doc.Doc'>\n",
      "<class 'spacy.tokens.doc.Doc'>\n",
      "<class 'spacy.tokens.doc.Doc'>\n"
     ]
    },
    {
     "data": {
      "text/plain": [
       "[Group](quantity): \n",
       "\tCMD\t: attr:quantity_entities == TRUE\n",
       "\tCOUNT\t: 49"
      ]
     },
     "execution_count": 27,
     "metadata": {},
     "output_type": "execute_result"
    }
   ],
   "source": [
    "from errudite.builts import Attribute, Group\n",
    "\n",
    "# Create an attribute based on the location function\n",
    "attr = Attribute.create(\n",
    "    name=\"ordinal_entities\",\n",
    "    description=\"Presence of ordinal entities in the essay\",\n",
    "    cmd=\"contains_ordinal(essay)\"\n",
    ")\n",
    "\n",
    "# Create a group that checks for the presence of ordinal entities\n",
    "ordinal_group = Group.create(\n",
    "    name=\"ordinal\",\n",
    "    description=\"ordinal entity detected\",\n",
    "    cmd=\"attr:ordinal_entities == TRUE\",\n",
    "    attr_hash=Attribute.store_hash(),\n",
    "    group_hash=Group.store_hash()\n",
    ")\n",
    "quantity_group"
   ]
  },
  {
   "cell_type": "code",
   "execution_count": 24,
   "id": "a269c7e6-1fcf-42f6-9d54-40937d14759b",
   "metadata": {},
   "outputs": [
    {
     "name": "stdout",
     "output_type": "stream",
     "text": [
      "{'predictor': 'FLAN_T5', 'perform': {'accuracy': 0.0, 'accuracy_PE_Acceptable': 'None', 'accuracy_PE_Unacceptable': 'None', 'accuracy_PE_Insufficient': 0.7142857142857143, 'accuracy_PE_NotFound': 0.0, 'accuracy_KE_Acceptable': 'None', 'accuracy_KE_Unacceptable': 'None', 'accuracy_KE_Insufficient': 0.42857142857142855, 'accuracy_KE_NotFound': 0.14285714285714285, 'accuracy_LCE_Acceptable': 0.4, 'accuracy_LCE_Unacceptable': 'None', 'accuracy_LCE_Insufficient': 0.0, 'accuracy_LCE_NotFound': 0.2857142857142857}}\n"
     ]
    }
   ],
   "source": [
    "count_group_list = []\n",
    "\n",
    "for key in ordinal_group.get_instances():\n",
    "    count_group_list.append(Instance.get(key))\n",
    "\n",
    "predictor.evaluate_performance(count_group_list)\n",
    "print({\"predictor\": predictor.name, \"perform\": predictor.perform })"
   ]
  },
  {
   "cell_type": "markdown",
   "id": "370054a7-bffc-45d9-9d22-79f356b75f57",
   "metadata": {},
   "source": [
    "## Group - Number of Adjectives"
   ]
  },
  {
   "cell_type": "code",
   "execution_count": 25,
   "id": "14fe4f4e-bfbf-4029-b856-ccecb16bfc07",
   "metadata": {},
   "outputs": [],
   "source": [
    "from errudite.build_blocks import PrimFunc\n",
    "from errudite.build_blocks.prim_funcs.linguistic import STRING\n",
    "import spacy\n",
    "nlp = spacy.load(\"en_core_web_sm\")\n",
    "\n",
    "\n",
    "@PrimFunc.register()\n",
    "def num_adjectives(target: 'Target') -> int:\n",
    "    \"\"\"\n",
    "    Count the number of adjectives in a given target.\n",
    "    \"\"\"\n",
    "    try:\n",
    "        # Access the tokens associated with the Target\n",
    "        #print(STRING(target))\n",
    "        #tokens = STRING(target).tokens\n",
    "        doc = nlp(STRING(target))\n",
    "        adjectives = [token for token in doc if token.pos_ == \"ADJ\"]\n",
    "        return len(adjectives)\n",
    "    except Exception as e:\n",
    "        ex = Exception(f\"Unknown exception from [num_adjectives]: {e}\")\n",
    "        raise ex\n",
    "\n",
    "\n"
   ]
  },
  {
   "cell_type": "code",
   "execution_count": 26,
   "id": "87912299-83c3-45ef-9fd0-9db9fa4d559b",
   "metadata": {},
   "outputs": [
    {
     "name": "stderr",
     "output_type": "stream",
     "text": [
      "INFO:errudite.build_blocks.wrapper:Parsed: FuncOp(num_adjectives):[ArgOp:essay]+[]\n",
      "INFO:errudite.builts.attribute:Created attr: num_adjectives_in_essay\n",
      "INFO:errudite.build_blocks.wrapper:Parsed: [BinOp](>):[[BuildBlockOp](attr):num_adjectives_in_essay, 10.0]\n",
      "INFO:errudite.builts.group:Created group: adjective_count_group\n"
     ]
    },
    {
     "data": {
      "text/plain": [
       "[Group](adjective_count_group): \n",
       "\tCMD\t: attr:num_adjectives_in_essay > 10\n",
       "\tCOUNT\t: 61"
      ]
     },
     "execution_count": 26,
     "metadata": {},
     "output_type": "execute_result"
    }
   ],
   "source": [
    "from errudite.builts import Attribute, Group\n",
    "\n",
    "# Assuming you have already defined the PrimFunc num_adjectives\n",
    "\n",
    "# Create an attribute that counts the adjectives among essay targets\n",
    "attr = Attribute.create(\n",
    "    name=\"num_adjectives_in_essay\",\n",
    "    description=\"Number of adjectives among essay targets\",\n",
    "    cmd=\"num_adjectives(essay)\"\n",
    ")\n",
    "\n",
    "\n",
    "# Create a group to check if there are more than 5 adjectives in the essay\n",
    "adj_count_group = Group.create(\n",
    "    name=\"adjective_count_group\",\n",
    "    description=\"Group for counting adjectives in the essay\",\n",
    "    cmd=\"attr:num_adjectives_in_essay > 10\",\n",
    "    attr_hash=Attribute.store_hash(),\n",
    "    group_hash=Group.store_hash()\n",
    ")\n",
    "\n",
    "# You can now use the 'group' to check if there are more than 5 adjectives in your essay targets.\n",
    "adj_count_group"
   ]
  },
  {
   "cell_type": "code",
   "execution_count": 27,
   "id": "8614a58d-9819-4b27-b661-1a01387a0366",
   "metadata": {},
   "outputs": [
    {
     "name": "stdout",
     "output_type": "stream",
     "text": [
      "{'predictor': 'FLAN_T5', 'perform': {'accuracy': 0.03278688524590164, 'accuracy_PE_Acceptable': 0.0, 'accuracy_PE_Unacceptable': 'None', 'accuracy_PE_Insufficient': 0.8205128205128205, 'accuracy_PE_NotFound': 0.0, 'accuracy_KE_Acceptable': 'None', 'accuracy_KE_Unacceptable': 'None', 'accuracy_KE_Insufficient': 0.7096774193548387, 'accuracy_KE_NotFound': 0.13333333333333333, 'accuracy_LCE_Acceptable': 0.2682926829268293, 'accuracy_LCE_Unacceptable': 'None', 'accuracy_LCE_Insufficient': 0.0, 'accuracy_LCE_NotFound': 0.5}}\n"
     ]
    }
   ],
   "source": [
    "count_group_list = []\n",
    "for key in adj_count_group.get_instances():\n",
    "    count_group_list.append(Instance.get(key))\n",
    "\n",
    "predictor.evaluate_performance(count_group_list)\n",
    "print({\"predictor\": predictor.name, \"perform\": predictor.perform })"
   ]
  },
  {
   "cell_type": "markdown",
   "id": "c5d2823c-b761-48b7-9d0f-c03a3a76f7a3",
   "metadata": {},
   "source": [
    "## Group - Number of Verbs"
   ]
  },
  {
   "cell_type": "code",
   "execution_count": 28,
   "id": "2653177b-95bc-4b17-9fc5-8677093aab5c",
   "metadata": {},
   "outputs": [],
   "source": [
    "from errudite.build_blocks import PrimFunc\n",
    "from errudite.build_blocks.prim_funcs.linguistic import STRING\n",
    "import spacy\n",
    "nlp = spacy.load(\"en_core_web_sm\")\n",
    "\n",
    "\n",
    "@PrimFunc.register()\n",
    "def num_verbs(target: 'Target') -> int:\n",
    "    \"\"\"\n",
    "    Count the number of verbs in a given target.\n",
    "    \"\"\"\n",
    "    try:\n",
    "        # Access the tokens associated with the Target\n",
    "        #print(STRING(target))\n",
    "        #tokens = STRING(target).tokens\n",
    "        doc = nlp(STRING(target))\n",
    "        adjectives = [token for token in doc if token.pos_ == \"VERB\"]\n",
    "        return len(adjectives)\n",
    "    except Exception as e:\n",
    "        ex = Exception(f\"Unknown exception from [num_adjectives]: {e}\")\n",
    "        raise ex\n",
    "\n",
    "\n"
   ]
  },
  {
   "cell_type": "code",
   "execution_count": 29,
   "id": "fdc6119f-d7a5-43cb-b7a6-9d4509a41a0f",
   "metadata": {},
   "outputs": [
    {
     "name": "stderr",
     "output_type": "stream",
     "text": [
      "INFO:errudite.build_blocks.wrapper:Parsed: FuncOp(num_verbs):[ArgOp:essay]+[]\n",
      "INFO:errudite.builts.attribute:Created attr: num_verbs_in_essay\n",
      "INFO:errudite.build_blocks.wrapper:Parsed: [BinOp](>):[[BuildBlockOp](attr):num_verbs_in_essay, 40.0]\n",
      "INFO:errudite.builts.group:Created group: verb_count_group\n"
     ]
    },
    {
     "data": {
      "text/plain": [
       "[Group](verb_count_group): \n",
       "\tCMD\t: attr:num_verbs_in_essay > 40\n",
       "\tCOUNT\t: 20"
      ]
     },
     "execution_count": 29,
     "metadata": {},
     "output_type": "execute_result"
    }
   ],
   "source": [
    "from errudite.builts import Attribute, Group\n",
    "\n",
    "# Assuming you have already defined the PrimFunc num_adjectives\n",
    "\n",
    "# Create an attribute that counts the adjectives among essay targets\n",
    "attr = Attribute.create(\n",
    "    name=\"num_verbs_in_essay\",\n",
    "    description=\"Number of verbs among essay targets\",\n",
    "    cmd=\"num_verbs(essay)\"\n",
    ")\n",
    "\n",
    "\n",
    "# Create a group to check if there are more than 20 verbs in the essay\n",
    "verb_count_group = Group.create(\n",
    "    name=\"verb_count_group\",\n",
    "    description=\"Group for counting verbs in the essay\",\n",
    "    cmd=\"attr:num_verbs_in_essay > 40\",\n",
    "    attr_hash=Attribute.store_hash(),\n",
    "    group_hash=Group.store_hash()\n",
    ")\n",
    "\n",
    "# You can now use the 'group' to check if there are more than 5 adjectives in your essay targets.\n",
    "verb_count_group"
   ]
  },
  {
   "cell_type": "code",
   "execution_count": 30,
   "id": "ce245fe3-f4a2-4c5c-91a6-86425954a0aa",
   "metadata": {},
   "outputs": [
    {
     "name": "stdout",
     "output_type": "stream",
     "text": [
      "{'predictor': 'FLAN_T5', 'perform': {'accuracy': 0.05, 'accuracy_PE_Acceptable': 'None', 'accuracy_PE_Unacceptable': 'None', 'accuracy_PE_Insufficient': 0.7142857142857143, 'accuracy_PE_NotFound': 0.0, 'accuracy_KE_Acceptable': 'None', 'accuracy_KE_Unacceptable': 'None', 'accuracy_KE_Insufficient': 0.7272727272727273, 'accuracy_KE_NotFound': 0.2222222222222222, 'accuracy_LCE_Acceptable': 0.2857142857142857, 'accuracy_LCE_Unacceptable': 'None', 'accuracy_LCE_Insufficient': 0.0, 'accuracy_LCE_NotFound': 0.4444444444444444}}\n"
     ]
    }
   ],
   "source": [
    "count_group_list = []\n",
    "for key in verb_count_group.get_instances():\n",
    "    count_group_list.append(Instance.get(key))\n",
    "\n",
    "predictor.evaluate_performance(count_group_list)\n",
    "print({\"predictor\": predictor.name, \"perform\": predictor.perform })"
   ]
  },
  {
   "cell_type": "code",
   "execution_count": 31,
   "id": "467298ad-7cfd-4f58-a17c-d0df232dc2d3",
   "metadata": {},
   "outputs": [],
   "source": [
    "# # some general stats on groups\n",
    "# Group.eval_stats(\n",
    "#     filtered_instances=adj_count_group.get_instances(),\n",
    "#     # this will automatically call the default model we got\n",
    "#     model=None\n",
    "# )"
   ]
  },
  {
   "cell_type": "markdown",
   "id": "f7404c2e-3f89-4151-9fd4-a9392fcaa2cf",
   "metadata": {},
   "source": [
    "## Group - Number of Nouns"
   ]
  },
  {
   "cell_type": "code",
   "execution_count": 32,
   "id": "9c00866d-b798-4b22-8560-bd18cee887c5",
   "metadata": {},
   "outputs": [
    {
     "name": "stderr",
     "output_type": "stream",
     "text": [
      "WARNING:errudite.utils.registrable:Register num_verbs as PrimFunc: Overwritting name already in use for num_verbs.\n"
     ]
    }
   ],
   "source": [
    "from errudite.build_blocks import PrimFunc\n",
    "from errudite.build_blocks.prim_funcs.linguistic import STRING\n",
    "import spacy\n",
    "nlp = spacy.load(\"en_core_web_sm\")\n",
    "\n",
    "\n",
    "@PrimFunc.register()\n",
    "def num_verbs(target: 'Target') -> int:\n",
    "    \"\"\"\n",
    "    Count the number of verbs in a given target.\n",
    "    \"\"\"\n",
    "    try:\n",
    "        # Access the tokens associated with the Target\n",
    "        #print(STRING(target))\n",
    "        #tokens = STRING(target).tokens\n",
    "        doc = nlp(STRING(target))\n",
    "        adjectives = [token for token in doc if token.pos_ == \"NOUN\"]\n",
    "        return len(adjectives)\n",
    "    except Exception as e:\n",
    "        ex = Exception(f\"Unknown exception from [num_adjectives]: {e}\")\n",
    "        raise ex\n",
    "\n",
    "\n"
   ]
  },
  {
   "cell_type": "code",
   "execution_count": 115,
   "id": "b21f8c20-1c7f-4fb3-b783-e7b10baf3b03",
   "metadata": {},
   "outputs": [
    {
     "name": "stderr",
     "output_type": "stream",
     "text": [
      "INFO:errudite.build_blocks.wrapper:Parsed: FuncOp(num_verbs):[ArgOp:essay]+[]\n",
      "WARNING:errudite.utils.store:Storing num_verbs_in_essay in Attribute: Overwritting name already in use.\n",
      "INFO:errudite.builts.attribute:Created attr: num_verbs_in_essay\n",
      "INFO:errudite.build_blocks.wrapper:Parsed: [BinOp](>):[[BuildBlockOp](attr):num_verbs_in_essay, 50.0]\n",
      "WARNING:errudite.utils.store:Storing verb_count_group in Group: Overwritting name already in use.\n",
      "INFO:errudite.builts.group:Created group: verb_count_group\n"
     ]
    },
    {
     "data": {
      "text/plain": [
       "[Group](verb_count_group): \n",
       "\tCMD\t: attr:num_verbs_in_essay > 50\n",
       "\tCOUNT\t: 22"
      ]
     },
     "execution_count": 115,
     "metadata": {},
     "output_type": "execute_result"
    }
   ],
   "source": [
    "from errudite.builts import Attribute, Group\n",
    "\n",
    "# Assuming you have already defined the PrimFunc num_adjectives\n",
    "\n",
    "# Create an attribute that counts the adjectives among essay targets\n",
    "attr = Attribute.create(\n",
    "    name=\"num_verbs_in_essay\",\n",
    "    description=\"Number of verbs among essay targets\",\n",
    "    cmd=\"num_verbs(essay)\"\n",
    ")\n",
    "\n",
    "\n",
    "# Create a group to check if there are more than 20 verbs in the essay\n",
    "verb_count_group = Group.create(\n",
    "    name=\"verb_count_group\",\n",
    "    description=\"Group for counting verbs in the essay\",\n",
    "    cmd=\"attr:num_verbs_in_essay > 50\",\n",
    "    attr_hash=Attribute.store_hash(),\n",
    "    group_hash=Group.store_hash()\n",
    ")\n",
    "\n",
    "# You can now use the 'group' to check if there are more than 5 adjectives in your essay targets.\n",
    "verb_count_group"
   ]
  },
  {
   "cell_type": "code",
   "execution_count": 116,
   "id": "01baf8ab-2486-4c49-b079-b872f39f344d",
   "metadata": {},
   "outputs": [
    {
     "name": "stdout",
     "output_type": "stream",
     "text": [
      "{'predictor': 'FLAN_T5', 'perform': {'accuracy': 0.045454545454545456, 'accuracy_PE_Acceptable': 0.0, 'accuracy_PE_Unacceptable': 'None', 'accuracy_PE_Insufficient': 0.6363636363636364, 'accuracy_PE_NotFound': 0.0, 'accuracy_KE_Acceptable': 'None', 'accuracy_KE_Unacceptable': 'None', 'accuracy_KE_Insufficient': 0.6666666666666666, 'accuracy_KE_NotFound': 0.15384615384615385, 'accuracy_LCE_Acceptable': 0.25, 'accuracy_LCE_Unacceptable': 'None', 'accuracy_LCE_Insufficient': 0.0, 'accuracy_LCE_NotFound': 0.6153846153846154}}\n"
     ]
    }
   ],
   "source": [
    "count_group_list = []\n",
    "for key in verb_count_group.get_instances():\n",
    "    count_group_list.append(Instance.get(key))\n",
    "\n",
    "predictor.evaluate_performance(count_group_list)\n",
    "print({\"predictor\": predictor.name, \"perform\": predictor.perform })"
   ]
  },
  {
   "cell_type": "markdown",
   "id": "cf6d6051-b8ea-4153-af0f-ec5737378fd9",
   "metadata": {},
   "source": [
    "## Group - Contains Location Entity"
   ]
  },
  {
   "cell_type": "code",
   "execution_count": 155,
   "id": "e872a5bf-f3e8-4ad3-952f-6ebbf394c006",
   "metadata": {},
   "outputs": [
    {
     "name": "stderr",
     "output_type": "stream",
     "text": [
      "WARNING:errudite.utils.registrable:Register contains_loc as PrimFunc: Overwritting name already in use for contains_loc.\n"
     ]
    }
   ],
   "source": [
    "from errudite.build_blocks import PrimFunc\n",
    "from errudite.build_blocks.prim_funcs.linguistic import STRING\n",
    "import spacy\n",
    "nlp = spacy.load(\"en_core_web_sm\")\n",
    "\n",
    "\n",
    "@PrimFunc.register()\n",
    "def contains_loc(target: 'Target') -> int:\n",
    "    \"\"\"\n",
    "    Detect the presence of location entities ('bottom' or 'top') in the essay.\n",
    "    \"\"\"\n",
    "    try:\n",
    "        # Access the tokens associated with the Target\n",
    "        target_str=STRING(target)\n",
    "        #tokens = STRING(target).tokens\n",
    "        if \"bottom\" in target_str or \"top\" in target_str:\n",
    "            return True\n",
    "    except Exception as e:\n",
    "        ex = Exception(f\"Unknown exception from [num_adjectives]: {e}\")\n",
    "        raise ex\n",
    "\n"
   ]
  },
  {
   "cell_type": "code",
   "execution_count": 156,
   "id": "bbfe46cf-9069-42de-8532-922ccd391d8b",
   "metadata": {},
   "outputs": [
    {
     "name": "stderr",
     "output_type": "stream",
     "text": [
      "INFO:errudite.build_blocks.wrapper:Parsed: FuncOp(contains_loc):[ArgOp:essay]+[]\n",
      "WARNING:errudite.utils.store:Storing contains_loc_in_essay in Attribute: Overwritting name already in use.\n",
      "INFO:errudite.builts.attribute:Created attr: contains_loc_in_essay\n",
      "INFO:errudite.build_blocks.wrapper:Parsed: [BinOp](==):[[BuildBlockOp](attr):contains_loc_in_essay, True]\n",
      "WARNING:errudite.utils.store:Storing adjective_count_group in Group: Overwritting name already in use.\n",
      "INFO:errudite.builts.group:Created group: adjective_count_group\n"
     ]
    },
    {
     "data": {
      "text/plain": [
       "[Group](adjective_count_group): \n",
       "\tCMD\t: attr:contains_loc_in_essay==TRUE \n",
       "\tCOUNT\t: 57"
      ]
     },
     "execution_count": 156,
     "metadata": {},
     "output_type": "execute_result"
    }
   ],
   "source": [
    "from errudite.builts import Attribute, Group\n",
    "\n",
    "# Assuming you have already defined the PrimFunc num_adjectives\n",
    "\n",
    "# Create an attribute that counts the adjectives among essay targets\n",
    "attr = Attribute.create(\n",
    "    name=\"contains_loc_in_essay\",\n",
    "    description=\"Number of locations among essay targets\",\n",
    "    cmd=\"contains_loc(essay)\"\n",
    ")\n",
    "\n",
    "\n",
    "# Create a group to check if there are more than 5 adjectives in the essay\n",
    "contains_loc_group = Group.create(\n",
    "    name=\"adjective_count_group\",\n",
    "    description=\"Group for counting locations in the essay\",\n",
    "    cmd=\"attr:contains_loc_in_essay==TRUE \",\n",
    "    attr_hash=Attribute.store_hash(),\n",
    "    group_hash=Group.store_hash()\n",
    ")\n",
    "\n",
    "# You can now use the 'group' to check if there are more than 5 adjectives in your essay targets.\n",
    "contains_loc_group"
   ]
  },
  {
   "cell_type": "code",
   "execution_count": 157,
   "id": "61edc720-683c-490f-a8d0-f6385b5d091e",
   "metadata": {},
   "outputs": [
    {
     "data": {
      "text/plain": [
       "{'counts': {'correct': 3, 'incorrect': 54},\n",
       " 'stats': {'coverage': 0.75,\n",
       "  'error_coverage': 0.7397260273972602,\n",
       "  'local_error_rate': 0.9473684210526315,\n",
       "  'global_error_rate': 0.7105263157894737}}"
      ]
     },
     "execution_count": 157,
     "metadata": {},
     "output_type": "execute_result"
    }
   ],
   "source": [
    "# some general stats on groups\n",
    "Group.eval_stats(\n",
    "    filtered_instances=contains_loc_group.get_instances(),\n",
    "    # this will automatically call the default model we got\n",
    "    model=None\n",
    ")"
   ]
  },
  {
   "cell_type": "code",
   "execution_count": null,
   "id": "f174c74c-f70b-453a-b2cc-172a18ab1ab7",
   "metadata": {},
   "outputs": [],
   "source": [
    "contains_loc_group.visualize_models(models=[\"FLAN_T5\"])"
   ]
  },
  {
   "cell_type": "code",
   "execution_count": 158,
   "id": "801374cf-96b0-4b78-b7ba-f53aa0ff42e5",
   "metadata": {},
   "outputs": [
    {
     "name": "stdout",
     "output_type": "stream",
     "text": [
      "{'predictor': 'FLAN_T5', 'perform': {'accuracy': 0.05263157894736842, 'accuracy_PE_Acceptable': 0.0, 'accuracy_PE_Unacceptable': 'None', 'accuracy_PE_Insufficient': 0.825, 'accuracy_PE_NotFound': 0.0, 'accuracy_KE_Acceptable': 'None', 'accuracy_KE_Unacceptable': 'None', 'accuracy_KE_Insufficient': 0.7, 'accuracy_KE_NotFound': 0.07407407407407407, 'accuracy_LCE_Acceptable': 0.2631578947368421, 'accuracy_LCE_Unacceptable': 'None', 'accuracy_LCE_Insufficient': 0.0, 'accuracy_LCE_NotFound': 0.5185185185185185}}\n"
     ]
    }
   ],
   "source": [
    "count_group_list = []\n",
    "for key in contains_loc_group.get_instances():\n",
    "    count_group_list.append(Instance.get(key))\n",
    "\n",
    "predictor.evaluate_performance(count_group_list)\n",
    "print({\"predictor\": predictor.name, \"perform\": predictor.perform })"
   ]
  },
  {
   "cell_type": "code",
   "execution_count": 119,
   "id": "ffaea9ff-7fed-4086-b1ee-4ba226cfab30",
   "metadata": {},
   "outputs": [],
   "source": [
    "# from errudite.build_blocks import PrimFunc\n",
    "# from errudite.build_blocks.prim_funcs.linguistic import STRING\n",
    "# import spacy\n",
    "# nlp = spacy.load(\"en_core_web_sm\")\n",
    "\n",
    "\n",
    "# @PrimFunc.register()\n",
    "# def contains_loc(target: 'Target') -> int:\n",
    "#     \"\"\"\n",
    "#     Detect the presence of location entities ('bottom' or 'top') in the essay.\n",
    "#     \"\"\"\n",
    "#     try:\n",
    "#         # Access the tokens associated with the Target\n",
    "#         answer_type(target)\n",
    "#         #target_str=STRING(target)\n",
    "#         #tokens = STRING(target).tokens\n",
    "#         #if \"bottom\" in target_str or \"top\" in target_str:\n",
    "#          #   return True\n",
    "#     except Exception as e:\n",
    "#         ex = Exception(f\"Unknown exception from [num_adjectives]: {e}\")\n",
    "#         raise ex\n",
    "\n"
   ]
  },
  {
   "cell_type": "code",
   "execution_count": 120,
   "id": "49c4a685-dd86-4420-9bdc-fb6c8da9a8d6",
   "metadata": {},
   "outputs": [],
   "source": [
    "# from errudite.builts import Attribute, Group\n",
    "\n",
    "# # Assuming you have already defined the PrimFunc num_adjectives\n",
    "\n",
    "# # Create an attribute that counts the adjectives among essay targets\n",
    "# attr = Attribute.create(\n",
    "#     name=\"contains_loc_in_essay\",\n",
    "#     description=\"Number of adjectives among essay targets\",\n",
    "#     cmd=\"contains_loc(essay)\"\n",
    "# )\n",
    "\n",
    "\n",
    "# # Create a group to check if there are more than 5 adjectives in the essay\n",
    "# contains_loc_group = Group.create(\n",
    "#     name=\"adjective_count_group\",\n",
    "#     description=\"Group for counting adjectives in the essay\",\n",
    "#     cmd=\"attr:contains_loc_in_essay==TRUE \",\n",
    "#     attr_hash=Attribute.store_hash(),\n",
    "#     group_hash=Group.store_hash()\n",
    "# )\n",
    "\n",
    "# # You can now use the 'group' to check if there are more than 5 adjectives in your essay targets.\n",
    "# contains_loc_group"
   ]
  },
  {
   "cell_type": "code",
   "execution_count": 121,
   "id": "007f6178-58c9-4169-9245-87f730a4e163",
   "metadata": {},
   "outputs": [],
   "source": [
    "count_group_list = []\n",
    "for key in verb_count_group.get_instances():\n",
    "    count_group_list.append(Instance.get(key))\n",
    "\n",
    "predictor.evaluate_performance(count_group_list)\n",
    "print({\"predictor\": predictor.name, \"perform\": predictor.perform })"
   ]
  },
  {
   "cell_type": "code",
   "execution_count": 134,
   "id": "cce84ae6-f146-4a12-8453-9b6b0e9c2d15",
   "metadata": {},
   "outputs": [
    {
     "name": "stderr",
     "output_type": "stream",
     "text": [
      "WARNING:errudite.utils.registrable:Register num_assertions as PrimFunc: Overwritting name already in use for num_assertions.\n"
     ]
    }
   ],
   "source": [
    "from errudite.build_blocks import PrimFunc\n",
    "from errudite.build_blocks.prim_funcs.linguistic import STRING\n",
    "import spacy\n",
    "nlp = spacy.load(\"en_core_web_sm\")\n",
    "\n",
    "\n",
    "@PrimFunc.register()\n",
    "def num_assertions(target: 'Target') -> int:\n",
    "    \"\"\"\n",
    "    Count the number of verbs in a given target.\n",
    "    \"\"\"\n",
    "    try:\n",
    "        # Access the tokens associated with the Target\n",
    "        #print(STRING(target))\n",
    "        #tokens = STRING(target).tokens\n",
    "        doc = nlp(STRING(target))\n",
    "        # Filter statements starting with \"I believe\" or \"I think\"\n",
    "        filtered_statements = [sent.text for sent in doc.sents if sent.text.lower().startswith(\"i believe\") or sent.text.lower().startswith(\"i think\")]\n",
    "        #print(filtered_statements)\n",
    "        return filtered_statements\n",
    "    except Exception as e:\n",
    "        ex = Exception(f\"Unknown exception from [  ]: {e}\")\n",
    "        raise ex\n",
    "        \n",
    "        \n",
    "        \n",
    "\n",
    "\n",
    "\n",
    "\n"
   ]
  },
  {
   "cell_type": "code",
   "execution_count": 135,
   "id": "49af7685-fea8-406b-b178-2333e417624d",
   "metadata": {},
   "outputs": [
    {
     "name": "stderr",
     "output_type": "stream",
     "text": [
      "INFO:errudite.build_blocks.wrapper:Parsed: FuncOp(num_assertions):[ArgOp:essay]+[]\n",
      "WARNING:errudite.utils.store:Storing contains_loc_in_essay in Attribute: Overwritting name already in use.\n",
      "INFO:errudite.builts.attribute:Created attr: contains_loc_in_essay\n",
      "INFO:errudite.build_blocks.wrapper:Parsed: [BinOp](==):[[BuildBlockOp](attr):contains_loc_in_essay, True]\n",
      "WARNING:errudite.utils.store:Storing adjective_count_group in Group: Overwritting name already in use.\n",
      "INFO:errudite.builts.group:Created group: adjective_count_group\n"
     ]
    },
    {
     "data": {
      "text/plain": [
       "[Group](adjective_count_group): \n",
       "\tCMD\t: attr:contains_loc_in_essay==TRUE \n",
       "\tCOUNT\t: 0"
      ]
     },
     "execution_count": 135,
     "metadata": {},
     "output_type": "execute_result"
    }
   ],
   "source": [
    "from errudite.builts import Attribute, Group\n",
    "\n",
    "# Assuming you have already defined the PrimFunc num_adjectives\n",
    "\n",
    "# Create an attribute that counts the adjectives among essay targets\n",
    "attr = Attribute.create(\n",
    "    name=\"contains_loc_in_essay\",\n",
    "    description=\"Number of adjectives among essay targets\",\n",
    "    cmd=\"num_assertions(essay)\"\n",
    ")\n",
    "\n",
    "\n",
    "# Create a group to check if there are more than 5 adjectives in the essay\n",
    "contains_loc_group = Group.create(\n",
    "    name=\"adjective_count_group\",\n",
    "    description=\"Group for checking assertions in the essay\",\n",
    "    cmd=\"attr:contains_loc_in_essay==TRUE \",\n",
    "    attr_hash=Attribute.store_hash(),\n",
    "    group_hash=Group.store_hash()\n",
    ")\n",
    "\n",
    "# You can now use the 'group' to check if there are more than 5 adjectives in your essay targets.\n",
    "contains_loc_group"
   ]
  },
  {
   "cell_type": "code",
   "execution_count": 131,
   "id": "5a01f4cd-8980-4e2a-bdcc-d0105961383f",
   "metadata": {},
   "outputs": [
    {
     "name": "stdout",
     "output_type": "stream",
     "text": [
      "{'predictor': 'FLAN_T5', 'perform': {'accuracy': 0.045454545454545456, 'accuracy_PE_Acceptable': 0.0, 'accuracy_PE_Unacceptable': 'None', 'accuracy_PE_Insufficient': 0.6363636363636364, 'accuracy_PE_NotFound': 0.0, 'accuracy_KE_Acceptable': 'None', 'accuracy_KE_Unacceptable': 'None', 'accuracy_KE_Insufficient': 0.6666666666666666, 'accuracy_KE_NotFound': 0.15384615384615385, 'accuracy_LCE_Acceptable': 0.25, 'accuracy_LCE_Unacceptable': 'None', 'accuracy_LCE_Insufficient': 0.0, 'accuracy_LCE_NotFound': 0.6153846153846154}}\n"
     ]
    }
   ],
   "source": [
    "count_group_list = []\n",
    "for key in verb_count_group.get_instances():\n",
    "    count_group_list.append(Instance.get(key))\n",
    "\n",
    "predictor.evaluate_performance(count_group_list)\n",
    "print({\"predictor\": predictor.name, \"perform\": predictor.perform })"
   ]
  },
  {
   "cell_type": "code",
   "execution_count": 40,
   "id": "02e120f2-4fb9-4b20-9c2f-39a9d37ed795",
   "metadata": {},
   "outputs": [
    {
     "name": "stdout",
     "output_type": "stream",
     "text": [
      "Lower Quartile : 1.0\n",
      "median : 2.0\n",
      "Upper Quartile : 3.0\n"
     ]
    }
   ],
   "source": [
    "import numpy as np\n",
    "\n",
    "data = [4, 1, 1, 3, 3, 1, 4, 1, 4, 5, 0, 2, 1, 3, 0, 1, 0, 3, 4, 1, 0, 3, 0, 5, 0, 2, 3, 0, 0, 1, 4, 2, 0, 0, 8, 1, 1, 2, 0, 3, 0, 1, 4, 0, 0, 0, 1, 0, 1, 2, 2, 3, 2, 6, 2, 2, 1, 2, 2, 1, 3, 8, 2, 2, 11, 6, 3, 3, 2, 10, 2, 1, 1, 3, 2, 0]\n",
    "\n",
    "# Calculate the lower quartile (Q1)\n",
    "lower_quartile = np.percentile(data, 25)\n",
    "upper_quartile = np.percentile(data, 75)\n",
    "median=np.percentile(data, 50)\n",
    "\n",
    "\n",
    "print(\"Lower Quartile :\", lower_quartile)\n",
    "print(\"median :\",median)\n",
    "\n",
    "print(\"Upper Quartile :\", upper_quartile)"
   ]
  },
  {
   "cell_type": "code",
   "execution_count": 41,
   "id": "2d734d8e-b75d-4f6a-bc63-8d8646931de6",
   "metadata": {},
   "outputs": [
    {
     "name": "stdout",
     "output_type": "stream",
     "text": [
      "Negations: [\"n't\", 'not']\n",
      "Number of negations: 2\n"
     ]
    }
   ],
   "source": [
    "import spacy\n",
    "\n",
    "# Load the SpaCy English model\n",
    "nlp = spacy.load(\"en_core_web_sm\")\n",
    "\n",
    "# Example text\n",
    "text = \"I don't believe that understanding potential energy is not crucial. However, I think kinetic energy is equally important.\"\n",
    "\n",
    "# Process the text using SpaCy\n",
    "doc = nlp(text)\n",
    "\n",
    "# Identify negations\n",
    "negations = [token.text for token in doc if token.dep_ == \"neg\"]\n",
    "\n",
    "# Count the number of negations\n",
    "num_negations = len(negations)\n",
    "\n",
    "# Print the results\n",
    "print(\"Negations:\", negations)\n",
    "print(\"Number of negations:\", num_negations)\n"
   ]
  },
  {
   "cell_type": "code",
   "execution_count": 89,
   "id": "d4ebf134-893a-492b-8f36-0669e0222ae2",
   "metadata": {},
   "outputs": [
    {
     "name": "stderr",
     "output_type": "stream",
     "text": [
      "WARNING:errudite.utils.registrable:Register num_negations as PrimFunc: Overwritting name already in use for num_negations.\n"
     ]
    }
   ],
   "source": [
    "from errudite.build_blocks import PrimFunc\n",
    "from errudite.build_blocks.prim_funcs.linguistic import STRING\n",
    "import spacy\n",
    "nlp = spacy.load(\"en_core_web_sm\")\n",
    "\n",
    "\n",
    "@PrimFunc.register()\n",
    "def num_negations(target: 'Target') -> int:\n",
    "    \"\"\"\n",
    "    Count the number of verbs in a given target.\n",
    "    \"\"\"\n",
    "    try:\n",
    "        # Access the tokens associated with the Target\n",
    "        #print(STRING(target))\n",
    "        #tokens = STRING(target).tokens\n",
    "        doc = nlp(STRING(target))\n",
    "        # Identify negations\n",
    "        negations = [token.text for token in doc if token.dep_ == \"neg\"]\n",
    "        # Count the number of negations\n",
    "        num_negations = len(negations)\n",
    "        return num_negations\n",
    "    except Exception as e:\n",
    "        ex = Exception(f\"Unknown exception from [  ]: {e}\")\n",
    "        raise ex\n",
    "        \n",
    "        \n",
    "    "
   ]
  },
  {
   "cell_type": "code",
   "execution_count": 96,
   "id": "3e9d81fc-f949-4af6-a93e-c909cc4212d3",
   "metadata": {},
   "outputs": [
    {
     "name": "stderr",
     "output_type": "stream",
     "text": [
      "INFO:errudite.build_blocks.wrapper:Parsed: FuncOp(num_negations):[ArgOp:essay]+[]\n",
      "WARNING:errudite.utils.store:Storing contains_negation_in_essay in Attribute: Overwritting name already in use.\n",
      "INFO:errudite.builts.attribute:Created attr: contains_negation_in_essay\n",
      "INFO:errudite.build_blocks.wrapper:Parsed: [BinOp](>):[[BuildBlockOp](attr):contains_negation_in_essay, 3.0]\n",
      "WARNING:errudite.utils.store:Storing contains_negation_group in Group: Overwritting name already in use.\n",
      "INFO:errudite.builts.group:Created group: contains_negation_group\n"
     ]
    },
    {
     "data": {
      "text/plain": [
       "[Group](contains_negation_group): \n",
       "\tCMD\t: attr:contains_negation_in_essay  > 3 \n",
       "\tCOUNT\t: 14"
      ]
     },
     "execution_count": 96,
     "metadata": {},
     "output_type": "execute_result"
    }
   ],
   "source": [
    "from errudite.builts import Attribute, Group\n",
    "\n",
    "# Assuming you have already defined the PrimFunc num_adjectives\n",
    "\n",
    "# Create an attribute that counts the adjectives among essay targets\n",
    "attr = Attribute.create(\n",
    "    name=\"contains_negation_in_essay\",\n",
    "    description=\"Number of nagations among essay targets\",\n",
    "    cmd=\"num_negations(essay)\"\n",
    ")\n",
    "\n",
    "\n",
    "# Create a group to check if there are more than 5 adjectives in the essay\n",
    "contains_negation_group = Group.create(\n",
    "    name=\"contains_negation_group\",\n",
    "    description=\"Group for checking negations in the essay\",\n",
    "    cmd=\"attr:contains_negation_in_essay  > 3 \",\n",
    "    attr_hash=Attribute.store_hash(),\n",
    "    group_hash=Group.store_hash()\n",
    ")\n",
    "\n",
    "# You can now use the 'group' to check if there are more than 5 adjectives in your essay targets.\n",
    "contains_negation_group"
   ]
  },
  {
   "cell_type": "code",
   "execution_count": 97,
   "id": "0a001c38-7361-414e-91de-c7035c49fdd5",
   "metadata": {},
   "outputs": [
    {
     "name": "stdout",
     "output_type": "stream",
     "text": [
      "{'predictor': 'FLAN_T5', 'perform': {'accuracy': 0.0, 'accuracy_PE_Acceptable': 'None', 'accuracy_PE_Unacceptable': 'None', 'accuracy_PE_Insufficient': 0.5, 'accuracy_PE_NotFound': 0.0, 'accuracy_KE_Acceptable': 'None', 'accuracy_KE_Unacceptable': 'None', 'accuracy_KE_Insufficient': 0.5, 'accuracy_KE_NotFound': 0.25, 'accuracy_LCE_Acceptable': 0.5555555555555556, 'accuracy_LCE_Unacceptable': 'None', 'accuracy_LCE_Insufficient': 0.0, 'accuracy_LCE_NotFound': 0.375}}\n"
     ]
    }
   ],
   "source": [
    "count_group_list = []\n",
    "for key in contains_negation_group.get_instances():\n",
    "    count_group_list.append(Instance.get(key))\n",
    "\n",
    "predictor.evaluate_performance(count_group_list)\n",
    "print({\"predictor\": predictor.name, \"perform\": predictor.perform })"
   ]
  },
  {
   "cell_type": "code",
   "execution_count": null,
   "id": "21fe3b2e-7be7-4632-90c1-2d08ae04f042",
   "metadata": {},
   "outputs": [],
   "source": []
  }
 ],
 "metadata": {
  "kernelspec": {
   "display_name": "Python 3",
   "language": "python",
   "name": "python3"
  },
  "language_info": {
   "codemirror_mode": {
    "name": "ipython",
    "version": 3
   },
   "file_extension": ".py",
   "mimetype": "text/x-python",
   "name": "python",
   "nbconvert_exporter": "python",
   "pygments_lexer": "ipython3",
   "version": "3.6.13"
  }
 },
 "nbformat": 4,
 "nbformat_minor": 5
}
