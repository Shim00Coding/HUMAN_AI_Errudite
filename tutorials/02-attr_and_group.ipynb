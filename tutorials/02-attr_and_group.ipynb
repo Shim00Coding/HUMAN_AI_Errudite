{
 "cells": [
  {
   "cell_type": "markdown",
   "metadata": {},
   "source": [
    "# Tutorial 02: Domain Specific Language, Attribute, and Group\n",
    "\n",
    "At the core of Errudite is an expressive domain-specific language (DSL) for precisely querying instances based on linguistic features. Using composable building blocks in DSL, Errudite supports forming semantically meaningful groups and rewriting instances to test counterfactuals across all available validation data.\n",
    "\n",
    "This section discusses the DSL, and the grouping. We leave rewriting to tutorial 03."
   ]
  },
  {
   "cell_type": "markdown",
   "metadata": {},
   "source": [
    "### Setup"
   ]
  },
  {
   "cell_type": "code",
   "execution_count": 3,
   "metadata": {},
   "outputs": [
    {
     "name": "stdout",
     "output_type": "stream",
     "text": [
      "<module 'errudite' from '..\\\\errudite\\\\__init__.py'>\n"
     ]
    }
   ],
   "source": [
    "%load_ext autoreload\n",
    "%autoreload 2\n",
    "\n",
    "import warnings\n",
    "warnings.filterwarnings('ignore')\n",
    "\n",
    "def import_sys():\n",
    "    import sys\n",
    "    sys.path.append('..')\n",
    "import_sys()\n",
    "\n",
    "import logging\n",
    "logging.basicConfig(level=logging.INFO)\n",
    "logger = logging.getLogger(__name__)  # pylint: disable=invalid-name\n",
    "\n",
    "import errudite\n",
    "print(errudite)"
   ]
  },
  {
   "cell_type": "code",
   "execution_count": 4,
   "metadata": {
    "scrolled": true
   },
   "outputs": [
    {
     "name": "stderr",
     "output_type": "stream",
     "text": [
      "WARNING:errudite.utils.file_utils:Local path not yet exist, but still parsed: C:\\Users\\dongh\\errudite\\tutorials\\caches\\vocab.pkl\n",
      "WARNING:errudite.processor.spacy_annotator:(2, 'No such file or directory')\n",
      "INFO:errudite.utils.file_utils:Errudite cache folder selected: ./data/snli_tutorial_caches/\n",
      "INFO:errudite.io.dataset_reader:Loaded 100 objects to ./data/snli_tutorial_caches/instances.pkl.\n",
      "INFO:errudite.io.dataset_reader:Loaded 100 objects to ./data/snli_tutorial_caches/evaluations/decompose_att.pkl.\n"
     ]
    }
   ],
   "source": [
    "# set the dataset reader\n",
    "from errudite.io import DatasetReader\n",
    "\n",
    "cache_folder_path = \"./data/snli_tutorial_caches/\"\n",
    "reader = DatasetReader.by_name(\"snli\")(\n",
    "    cache_folder_path=cache_folder_path)\n",
    "\n",
    "# load the data saved \n",
    "\"\"\"\n",
    "Re-store all the preprocessed information in 01-preprocess.ipynb. \n",
    "In specific, it reloads:\n",
    "\n",
    "1. Instances\n",
    "2. Set the predictions from models as entries of the instances, \n",
    "   and set Instance.instance_hash, Instance.instance_hash_rewritten, and Instance.qid_hash.\n",
    "3. Get the Instance.ling_perform_dict, which saves the relationship\n",
    "   between linguistic features and model performances, and \n",
    "   Instance.train_freq, which saves the training vocabulary \n",
    "   frequency.\n",
    "\"\"\"\n",
    "instances = reader.load_preprocessed()"
   ]
  },
  {
   "cell_type": "code",
   "execution_count": 5,
   "metadata": {},
   "outputs": [
    {
     "name": "stdout",
     "output_type": "stream",
     "text": [
      "[Instance] [InstanceKey(qid='4705552913.jpg#2r1n', vid=0)]\n",
      "[hypothesis]\tThe sisters are hugging goodbye while holding to go packages after just eating lunch.\n",
      "[premise]\tTwo women are embracing while holding to go packages.\n",
      "[groundtruth]\tneutral\tgroundtruth\t{}\n",
      "[predictions]\tneutral\tdecompose_att\t{'accuracy': 1.0, 'confidence': 0.9988018274307251}\n",
      "\n"
     ]
    }
   ],
   "source": [
    "from errudite.targets.instance import Instance\n",
    "# take a look at the recovered instance\n",
    "instance = list(Instance.instance_hash.values())[0]\n",
    "instance.show_instance()"
   ]
  },
  {
   "cell_type": "markdown",
   "metadata": {},
   "source": [
    "## Domain Specific Language\n",
    "---\n",
    "\n",
    "### General information & base class\n",
    "Errudite has a DSL language that: \n",
    "\n",
    "1. Use primitive functions that run on targets to extract fundamental instance metadata (e.g., `length(premise)` returns the length of a question). \n",
    "2. Allows string command inputs, which can be automatically parsed into actual primitive functions. The objective here is, we try to query the frequently used targets more easily for you. On a high level, parser works as the following:\n",
    "    - If it recognizes a target name that occurrs in `instance.entries`, it automatically retrive the target.\n",
    "    - If it recognizes a registered primitive function, it runs the function.\n",
    "    - It also supports more general operators like `>`, `<=`, `and`, `or`, etc.\n",
    "    - It resolves previously created attributes (\"attr:attr_name\") and groups ((\"group:group_name\")).\n",
    "\n",
    "There is a basic wrapper class, `errudite.build_blocks.PrimFunc` ([documentation](https://errudite.readthedocs.io/en/latest/api/errudite.build_blocks.prim_funcs.html)), to wrap all the functions up.\n",
    "\n",
    "### Predefined primitive functions\n",
    "Errudite also has a list of predefined functions to support computing instance attributes and/or build instance groups. The functions can be divided into several types:\n",
    "\n",
    "1. basic extractors like `length`,\n",
    "2. general purpose linguistic features like token `LEMMA`, `POS` tags, and entity (`ENT`) annotations,\n",
    "3. standard prediction performance metrics such as `f1` or `accuracy`, \n",
    "4. between-target relations such as `overlap(t1, t2)`, and \n",
    "5. domain-specific attributes (e.g., for Machine Comprehension or Visual Question Answering) such as `question_type` and `answer_type`/\n",
    "\n",
    "Checkout the [documention](https://errudite.readthedocs.io/en/latest/api/errudite.build_blocks.prim_funcs.html) of the pre-defined functions here!\n",
    "\n",
    "### Function extension\n",
    "\n",
    "Just like `DatasetReader` and `Predictor`, `PrimFunc` allows extension through `register`. For example, if you are interested in learning the length difference between two targets, you could register a function as below:"
   ]
  },
  {
   "cell_type": "code",
   "execution_count": 6,
   "metadata": {},
   "outputs": [],
   "source": [
    "from errudite.build_blocks import PrimFunc\n",
    "\n",
    "@PrimFunc.register()\n",
    "def delta_length(t1: 'Target', t2: 'Target') -> int:\n",
    "    \"\"\"\n",
    "    The length diff of two given targets.\n",
    "    \"\"\"\n",
    "    output = None\n",
    "    try:\n",
    "        output = len(t1.doc) - len(t2.doc)\n",
    "    except Exception as e:\n",
    "        ex = Exception(f\"Unknown exception from [ delta_length ]: {e}\")\n",
    "        raise(ex)\n",
    "    else:\n",
    "        return output"
   ]
  },
  {
   "cell_type": "markdown",
   "metadata": {},
   "source": [
    "## DSL built into Attributes & Groups\n",
    "---\n",
    "\n",
    "Errudite’s DSL and operators can be used to:\n",
    "\n",
    "1. Extract complex attributes from instances, and\n",
    "2. Create semantically meaningful groups.\n",
    "\n",
    "### Base classes\n",
    "\n",
    "Both `Attribute` and `Group` are implemented under a base class called `Store` ([documentation](https://errudite.readthedocs.io/en/latest/api/errudite.utils.store.html)). It stores the objects in a hash variable, so all the created objects and analyses can be easily queried and used in various functions. `[Attribute|Group].store_hash()` gets the dicts saving the created attributes and groups. `Store` also has `keys()`, `values()`, and `items()`, which makes `Store` usable just as a dict."
   ]
  },
  {
   "cell_type": "markdown",
   "metadata": {},
   "source": [
    "### Attributes\n",
    "\n",
    "Attributes are quantitave information from instances. Extracting them helps you check certain interesting distributions. Creating an attribute and running it on instances is easy. Let's create an attribute that extracts the distribution of `len(premise) - len(hypothesis)`, with the function we've just created (Note that this function can take more optional arguments -- Checkout the[ documentation](https://errudite.readthedocs.io/en/latest/api/errudite.builts.attribute.html) for more details): "
   ]
  },
  {
   "cell_type": "code",
   "execution_count": 7,
   "metadata": {},
   "outputs": [
    {
     "name": "stderr",
     "output_type": "stream",
     "text": [
      "INFO:errudite.build_blocks.wrapper:Parsed: FuncOp(delta_length):[ArgOp:premise, ArgOp:hypothesis]+[]\n",
      "INFO:errudite.builts.attribute:Created attr: delta_len_premise_hypo\n"
     ]
    }
   ],
   "source": [
    "from errudite.builts import Attribute\n",
    "attr = Attribute.create(\n",
    "    # The name of the attribute\n",
    "    name=\"delta_len_premise_hypo\",\n",
    "    # the description of the attribute\n",
    "    description=\"The length delta between the premise and the hypothesis\",\n",
    "    # The command that extracts attributes from instances\n",
    "    # Input in string, it will be parsed by the DSL to \n",
    "    # actual functions.\n",
    "    cmd=\"delta_length(premise, hypothesis)\")"
   ]
  },
  {
   "cell_type": "markdown",
   "metadata": {},
   "source": [
    "Once created, you could see what instances are available, and what are their attributes:"
   ]
  },
  {
   "cell_type": "code",
   "execution_count": 8,
   "metadata": {
    "scrolled": true
   },
   "outputs": [
    {
     "data": {
      "text/plain": [
       "defaultdict(None,\n",
       "            {InstanceKey(qid='4705552913.jpg#2r1n', vid=0): -5,\n",
       "             InstanceKey(qid='4705552913.jpg#2r1e', vid=0): 4,\n",
       "             InstanceKey(qid='4705552913.jpg#2r1c', vid=0): 2,\n",
       "             InstanceKey(qid='2407214681.jpg#0r1e', vid=0): 25,\n",
       "             InstanceKey(qid='2407214681.jpg#0r1n', vid=0): 25,\n",
       "             InstanceKey(qid='2407214681.jpg#0r1c', vid=0): 26,\n",
       "             InstanceKey(qid='4718146904.jpg#2r1c', vid=0): 8,\n",
       "             InstanceKey(qid='4718146904.jpg#2r1n', vid=0): -2,\n",
       "             InstanceKey(qid='4718146904.jpg#2r1e', vid=0): 10,\n",
       "             InstanceKey(qid='3980085662.jpg#0r1e', vid=0): 14,\n",
       "             InstanceKey(qid='3980085662.jpg#0r1c', vid=0): 12,\n",
       "             InstanceKey(qid='3980085662.jpg#0r1n', vid=0): 13,\n",
       "             InstanceKey(qid='24467676.jpg#1r1n', vid=0): 14,\n",
       "             InstanceKey(qid='24467676.jpg#1r1e', vid=0): 13,\n",
       "             InstanceKey(qid='24467676.jpg#1r1c', vid=0): 13,\n",
       "             InstanceKey(qid='3667788497.jpg#0r1e', vid=0): 15,\n",
       "             InstanceKey(qid='3667788497.jpg#0r1n', vid=0): 15,\n",
       "             InstanceKey(qid='3667788497.jpg#0r1c', vid=0): 19,\n",
       "             InstanceKey(qid='3948003394.jpg#1r1e', vid=0): 11,\n",
       "             InstanceKey(qid='3948003394.jpg#1r1c', vid=0): 11,\n",
       "             InstanceKey(qid='3948003394.jpg#1r1n', vid=0): 6,\n",
       "             InstanceKey(qid='6170429974.jpg#3r1e', vid=0): 4,\n",
       "             InstanceKey(qid='6170429974.jpg#3r1n', vid=0): 1,\n",
       "             InstanceKey(qid='6170429974.jpg#3r1c', vid=0): 2,\n",
       "             InstanceKey(qid='530472459.jpg#4r1n', vid=0): 7,\n",
       "             InstanceKey(qid='530472459.jpg#4r1e', vid=0): 8,\n",
       "             InstanceKey(qid='530472459.jpg#4r1c', vid=0): 8,\n",
       "             InstanceKey(qid='173499538.jpg#2r1n', vid=0): 8,\n",
       "             InstanceKey(qid='173499538.jpg#2r1e', vid=0): 5,\n",
       "             InstanceKey(qid='173499538.jpg#2r1c', vid=0): 6,\n",
       "             InstanceKey(qid='2868652721.jpg#1r1e', vid=0): 5,\n",
       "             InstanceKey(qid='2868652721.jpg#1r1c', vid=0): 4,\n",
       "             InstanceKey(qid='2868652721.jpg#1r1n', vid=0): 3,\n",
       "             InstanceKey(qid='3021028400.jpg#1r1e', vid=0): 18,\n",
       "             InstanceKey(qid='3021028400.jpg#1r1c', vid=0): 19,\n",
       "             InstanceKey(qid='3021028400.jpg#1r1n', vid=0): 17,\n",
       "             InstanceKey(qid='508074953.jpg#2r1e', vid=0): 4,\n",
       "             InstanceKey(qid='508074953.jpg#2r1c', vid=0): 4,\n",
       "             InstanceKey(qid='508074953.jpg#2r1n', vid=0): 4,\n",
       "             InstanceKey(qid='3261712960.jpg#0r1c', vid=0): 19,\n",
       "             InstanceKey(qid='3261712960.jpg#0r1n', vid=0): 23,\n",
       "             InstanceKey(qid='3261712960.jpg#0r1e', vid=0): 19,\n",
       "             InstanceKey(qid='5436250638.jpg#4r1c', vid=0): 1,\n",
       "             InstanceKey(qid='5436250638.jpg#4r1e', vid=0): 2,\n",
       "             InstanceKey(qid='5436250638.jpg#4r1n', vid=0): -2,\n",
       "             InstanceKey(qid='485054073.jpg#0r1c', vid=0): 5,\n",
       "             InstanceKey(qid='485054073.jpg#0r1e', vid=0): 6,\n",
       "             InstanceKey(qid='485054073.jpg#0r1n', vid=0): -4,\n",
       "             InstanceKey(qid='7391785714.jpg#4r1n', vid=0): 0,\n",
       "             InstanceKey(qid='7391785714.jpg#4r1c', vid=0): -5,\n",
       "             InstanceKey(qid='7391785714.jpg#4r1e', vid=0): 1,\n",
       "             InstanceKey(qid='3497317981.jpg#2r1n', vid=0): 1,\n",
       "             InstanceKey(qid='3497317981.jpg#2r1c', vid=0): -2,\n",
       "             InstanceKey(qid='3497317981.jpg#2r1e', vid=0): -1,\n",
       "             InstanceKey(qid='5964395383.jpg#1r1n', vid=0): 11,\n",
       "             InstanceKey(qid='5964395383.jpg#1r1e', vid=0): 12,\n",
       "             InstanceKey(qid='5964395383.jpg#1r1c', vid=0): 12,\n",
       "             InstanceKey(qid='2915400809.jpg#0r1e', vid=0): 17,\n",
       "             InstanceKey(qid='2915400809.jpg#0r1c', vid=0): 17,\n",
       "             InstanceKey(qid='2915400809.jpg#0r1n', vid=0): 15,\n",
       "             InstanceKey(qid='6291644661.jpg#2r1c', vid=0): 17,\n",
       "             InstanceKey(qid='6291644661.jpg#2r1n', vid=0): 15,\n",
       "             InstanceKey(qid='6291644661.jpg#2r1e', vid=0): 15,\n",
       "             InstanceKey(qid='1257692349.jpg#2r1c', vid=0): 9,\n",
       "             InstanceKey(qid='1257692349.jpg#2r1n', vid=0): 9,\n",
       "             InstanceKey(qid='1257692349.jpg#2r1e', vid=0): 8,\n",
       "             InstanceKey(qid='3184031654.jpg#0r1c', vid=0): 9,\n",
       "             InstanceKey(qid='3184031654.jpg#0r1n', vid=0): 12,\n",
       "             InstanceKey(qid='4543570621.jpg#1r1c', vid=0): 6,\n",
       "             InstanceKey(qid='4543570621.jpg#1r1e', vid=0): 11,\n",
       "             InstanceKey(qid='4543570621.jpg#1r1n', vid=0): 3,\n",
       "             InstanceKey(qid='4784866019.jpg#0r1c', vid=0): 15,\n",
       "             InstanceKey(qid='4784866019.jpg#0r1e', vid=0): 15,\n",
       "             InstanceKey(qid='4784866019.jpg#0r1n', vid=0): 14,\n",
       "             InstanceKey(qid='2447052614.jpg#0r1c', vid=0): 18,\n",
       "             InstanceKey(qid='2447052614.jpg#0r1e', vid=0): 18,\n",
       "             InstanceKey(qid='2447052614.jpg#0r1n', vid=0): 15,\n",
       "             InstanceKey(qid='4826810171.jpg#0r1n', vid=0): 14,\n",
       "             InstanceKey(qid='4826810171.jpg#0r1c', vid=0): 12,\n",
       "             InstanceKey(qid='4826810171.jpg#0r1e', vid=0): 10,\n",
       "             InstanceKey(qid='7699580622.jpg#1r1n', vid=0): 14,\n",
       "             InstanceKey(qid='7699580622.jpg#1r1e', vid=0): 12,\n",
       "             InstanceKey(qid='7699580622.jpg#1r1c', vid=0): 15,\n",
       "             InstanceKey(qid='8162775105.jpg#3r1c', vid=0): 6,\n",
       "             InstanceKey(qid='8162775105.jpg#3r1e', vid=0): 7,\n",
       "             InstanceKey(qid='8162775105.jpg#3r1n', vid=0): 4,\n",
       "             InstanceKey(qid='5777129645.jpg#2r1n', vid=0): 6,\n",
       "             InstanceKey(qid='5777129645.jpg#2r1e', vid=0): 3,\n",
       "             InstanceKey(qid='5777129645.jpg#2r1c', vid=0): 6,\n",
       "             InstanceKey(qid='3168293517.jpg#2r1n', vid=0): 1,\n",
       "             InstanceKey(qid='3168293517.jpg#2r1c', vid=0): 2,\n",
       "             InstanceKey(qid='3168293517.jpg#2r1e', vid=0): 3,\n",
       "             InstanceKey(qid='3082355901.jpg#0r1n', vid=0): 20,\n",
       "             InstanceKey(qid='3082355901.jpg#0r1c', vid=0): 20,\n",
       "             InstanceKey(qid='3082355901.jpg#0r1e', vid=0): 21,\n",
       "             InstanceKey(qid='2537197415.jpg#3r1n', vid=0): 8,\n",
       "             InstanceKey(qid='2537197415.jpg#3r1c', vid=0): 2,\n",
       "             InstanceKey(qid='2537197415.jpg#3r1e', vid=0): 9,\n",
       "             InstanceKey(qid='3670918456.jpg#3r1n', vid=0): -2,\n",
       "             InstanceKey(qid='4444092165.jpg#0r1n', vid=0): 34})"
      ]
     },
     "execution_count": 8,
     "metadata": {},
     "output_type": "execute_result"
    }
   ],
   "source": [
    "attr.get_instances()"
   ]
  },
  {
   "cell_type": "markdown",
   "metadata": {},
   "source": [
    "You can also extract one attribute from one instance:"
   ]
  },
  {
   "cell_type": "code",
   "execution_count": 9,
   "metadata": {},
   "outputs": [
    {
     "data": {
      "text/plain": [
       "-5"
      ]
     },
     "execution_count": 9,
     "metadata": {},
     "output_type": "execute_result"
    }
   ],
   "source": [
    "# then the group is ready for testing\n",
    "attr.test_one_instance(instance)"
   ]
  },
  {
   "cell_type": "markdown",
   "metadata": {},
   "source": [
    "#### Check attribute distribution\n",
    "\n",
    "We provide visualization from [Altair](http://altair-viz.github.io) to display the attribute distribution. The visualization is a histogram that displays the relative frequency of different attribute values, as well as the proportion of incorrect predictions. Because of the incorrect prediction proportion, this historgram is different for each different model.\n",
    "\n",
    "If categorical, each value is a bar. Otherwise, the domain is automatically binned, and each bin is a bar."
   ]
  },
  {
   "cell_type": "code",
   "execution_count": 10,
   "metadata": {},
   "outputs": [
    {
     "data": {
      "application/vnd.vegalite.v3+json": {
       "$schema": "https://vega.github.io/schema/vega-lite/v3.2.1.json",
       "config": {
        "mark": {
         "tooltip": null
        },
        "view": {
         "height": 300,
         "width": 400
        }
       },
       "datasets": {
        "data-97631a100bcc80b2981d54c39ecd489d": [
         {
          "correctness": "correct",
          "count": 2,
          "delta_len_premise_hypo": -5
         },
         {
          "correctness": "correct",
          "count": 6,
          "delta_len_premise_hypo": 4
         },
         {
          "correctness": "correct",
          "count": 5,
          "delta_len_premise_hypo": 2
         },
         {
          "correctness": "correct",
          "count": 2,
          "delta_len_premise_hypo": 25
         },
         {
          "correctness": "correct",
          "count": 1,
          "delta_len_premise_hypo": 26
         },
         {
          "correctness": "correct",
          "count": 6,
          "delta_len_premise_hypo": 8
         },
         {
          "correctness": "correct",
          "count": 4,
          "delta_len_premise_hypo": -2
         },
         {
          "correctness": "correct",
          "count": 2,
          "delta_len_premise_hypo": 10
         },
         {
          "correctness": "correct",
          "count": 4,
          "delta_len_premise_hypo": 14
         },
         {
          "correctness": "correct",
          "count": 6,
          "delta_len_premise_hypo": 12
         },
         {
          "correctness": "correct",
          "count": 3,
          "delta_len_premise_hypo": 13
         },
         {
          "correctness": "correct",
          "count": 8,
          "delta_len_premise_hypo": 15
         },
         {
          "correctness": "correct",
          "count": 3,
          "delta_len_premise_hypo": 19
         },
         {
          "correctness": "correct",
          "count": 4,
          "delta_len_premise_hypo": 11
         },
         {
          "correctness": "correct",
          "count": 5,
          "delta_len_premise_hypo": 1
         },
         {
          "correctness": "correct",
          "count": 2,
          "delta_len_premise_hypo": 7
         },
         {
          "correctness": "correct",
          "count": 3,
          "delta_len_premise_hypo": 5
         },
         {
          "correctness": "correct",
          "count": 4,
          "delta_len_premise_hypo": 6
         },
         {
          "correctness": "correct",
          "count": 4,
          "delta_len_premise_hypo": 3
         },
         {
          "correctness": "correct",
          "count": 3,
          "delta_len_premise_hypo": 18
         },
         {
          "correctness": "correct",
          "count": 4,
          "delta_len_premise_hypo": 17
         },
         {
          "correctness": "correct",
          "count": 1,
          "delta_len_premise_hypo": 23
         },
         {
          "correctness": "correct",
          "count": 1,
          "delta_len_premise_hypo": -4
         },
         {
          "correctness": "correct",
          "count": 1,
          "delta_len_premise_hypo": 0
         },
         {
          "correctness": "correct",
          "count": 1,
          "delta_len_premise_hypo": -1
         },
         {
          "correctness": "correct",
          "count": 3,
          "delta_len_premise_hypo": 9
         },
         {
          "correctness": "correct",
          "count": 2,
          "delta_len_premise_hypo": 20
         },
         {
          "correctness": "correct",
          "count": 1,
          "delta_len_premise_hypo": 21
         },
         {
          "correctness": "correct",
          "count": 1,
          "delta_len_premise_hypo": 34
         },
         {
          "correctness": "incorrect",
          "count": 3,
          "delta_len_premise_hypo": 6
         },
         {
          "correctness": "incorrect",
          "count": 1,
          "delta_len_premise_hypo": 4
         },
         {
          "correctness": "incorrect",
          "count": 1,
          "delta_len_premise_hypo": 19
         },
         {
          "correctness": "incorrect",
          "count": 1,
          "delta_len_premise_hypo": 15
         },
         {
          "correctness": "incorrect",
          "count": 1,
          "delta_len_premise_hypo": 9
         },
         {
          "correctness": "incorrect",
          "count": 1,
          "delta_len_premise_hypo": 14
         }
        ]
       },
       "resolve": {
        "scale": {
         "color": "shared",
         "x": "shared",
         "y": "shared"
        }
       },
       "vconcat": [
        {
         "data": {
          "name": "data-97631a100bcc80b2981d54c39ecd489d"
         },
         "encoding": {
          "color": {
           "field": "correctness",
           "scale": {
            "domain": [
             "correct",
             "incorrect"
            ]
           },
           "type": "nominal"
          },
          "tooltip": [
           {
            "field": "delta_len_premise_hypo",
            "type": "quantitative"
           },
           {
            "field": "count",
            "type": "quantitative"
           },
           {
            "field": "correctness",
            "type": "nominal"
           }
          ],
          "x": {
           "bin": {
            "extent": [
             -5,
             34
            ],
            "maxbins": 10
           },
           "field": "delta_len_premise_hypo",
           "type": "quantitative"
          },
          "y": {
           "field": "count",
           "stack": "zero",
           "type": "quantitative"
          }
         },
         "height": 100,
         "mark": "bar",
         "title": "delta_len_premise_hypo on decompose_att"
        }
       ]
      },
      "image/png": "[encoded data removed]",
      "text/plain": [
       "<VegaLite 3 object>\n",
       "\n",
       "If you see this message, it means the renderer has not been properly enabled\n",
       "for the frontend that you are using. For more information, see\n",
       "https://altair-viz.github.io/user_guide/troubleshooting.html\n"
      ]
     },
     "execution_count": 10,
     "metadata": {},
     "output_type": "execute_result"
    }
   ],
   "source": [
    "attr.visualize_models(models=[\"decompose_att\"])"
   ]
  },
  {
   "cell_type": "markdown",
   "metadata": {},
   "source": [
    "Similarly, we could create an attribute to check the distribution of the groundtruth labels. In our very small sample size, `entailment` is the only label type that is entirely correct."
   ]
  },
  {
   "cell_type": "code",
   "execution_count": 11,
   "metadata": {},
   "outputs": [
    {
     "name": "stderr",
     "output_type": "stream",
     "text": [
      "INFO:errudite.build_blocks.wrapper:Parsed: FuncOp(LABEL):[ArgOp:groundtruth]+[]\n",
      "INFO:errudite.builts.attribute:Created attr: label\n"
     ]
    },
    {
     "data": {
      "application/vnd.vegalite.v3+json": {
       "$schema": "https://vega.github.io/schema/vega-lite/v3.2.1.json",
       "config": {
        "mark": {
         "tooltip": null
        },
        "view": {
         "height": 300,
         "width": 400
        }
       },
       "datasets": {
        "data-6d4e72eab2b74ddd8970ee7d2d04a309": [
         {
          "correctness": "correct",
          "count": 29,
          "label": "neutral"
         },
         {
          "correctness": "correct",
          "count": 32,
          "label": "entailment"
         },
         {
          "correctness": "correct",
          "count": 31,
          "label": "contradiction"
         },
         {
          "correctness": "incorrect",
          "count": 5,
          "label": "contradiction"
         },
         {
          "correctness": "incorrect",
          "count": 3,
          "label": "neutral"
         }
        ]
       },
       "resolve": {
        "scale": {
         "color": "shared",
         "x": "shared",
         "y": "shared"
        }
       },
       "vconcat": [
        {
         "data": {
          "name": "data-6d4e72eab2b74ddd8970ee7d2d04a309"
         },
         "encoding": {
          "color": {
           "field": "correctness",
           "scale": {
            "domain": [
             "correct",
             "incorrect"
            ]
           },
           "type": "nominal"
          },
          "tooltip": [
           {
            "field": "label",
            "type": "nominal"
           },
           {
            "field": "count",
            "type": "quantitative"
           },
           {
            "field": "correctness",
            "type": "nominal"
           }
          ],
          "x": {
           "bin": null,
           "field": "label",
           "type": "nominal"
          },
          "y": {
           "field": "count",
           "stack": "zero",
           "type": "quantitative"
          }
         },
         "height": 100,
         "mark": "bar",
         "title": "label on decompose_att"
        }
       ]
      },
      "image/png": "[encoded data removed]",
      "text/plain": [
       "<VegaLite 3 object>\n",
       "\n",
       "If you see this message, it means the renderer has not been properly enabled\n",
       "for the frontend that you are using. For more information, see\n",
       "https://altair-viz.github.io/user_guide/troubleshooting.html\n"
      ]
     },
     "execution_count": 11,
     "metadata": {},
     "output_type": "execute_result"
    }
   ],
   "source": [
    "from errudite.builts import Attribute\n",
    "attr = Attribute.create(\n",
    "    name=\"label\",\n",
    "    description=\"The labels of the instances.\",\n",
    "    cmd=\"LABEL(groundtruth)\")\n",
    "attr.visualize_models(models=[\"decompose_att\"])"
   ]
  },
  {
   "cell_type": "markdown",
   "metadata": {},
   "source": [
    "If we test the overlap beween the `premise` and the `hypothesis`, we will see that the model performs worse when we have lower overlap (though, again, this is only based on our 100 sampled instances.)"
   ]
  },
  {
   "cell_type": "code",
   "execution_count": 12,
   "metadata": {},
   "outputs": [
    {
     "name": "stderr",
     "output_type": "stream",
     "text": [
      "INFO:errudite.build_blocks.wrapper:Parsed: FuncOp(overlap):[ArgOp:premise, ArgOp:hypothesis]+[]\n",
      "INFO:errudite.builts.attribute:Created attr: overlap_between\n"
     ]
    },
    {
     "data": {
      "application/vnd.vegalite.v3+json": {
       "$schema": "https://vega.github.io/schema/vega-lite/v3.2.1.json",
       "config": {
        "mark": {
         "tooltip": null
        },
        "view": {
         "height": 300,
         "width": 400
        }
       },
       "datasets": {
        "data-e887f0f32d53a6f1a92628377fc56581": [
         {
          "correctness": "correct",
          "count": 6,
          "overlap_between": 0.5
         },
         {
          "correctness": "correct",
          "count": 3,
          "overlap_between": 0.75
         },
         {
          "correctness": "correct",
          "count": 14,
          "overlap_between": 0
         },
         {
          "correctness": "correct",
          "count": 1,
          "overlap_between": 0.21428571428571427
         },
         {
          "correctness": "correct",
          "count": 3,
          "overlap_between": 0.14285714285714285
         },
         {
          "correctness": "correct",
          "count": 1,
          "overlap_between": 0.7
         },
         {
          "correctness": "correct",
          "count": 1,
          "overlap_between": 0.4
         },
         {
          "correctness": "correct",
          "count": 2,
          "overlap_between": 0.3
         },
         {
          "correctness": "correct",
          "count": 1,
          "overlap_between": 0.1
         },
         {
          "correctness": "correct",
          "count": 4,
          "overlap_between": 0.2
         },
         {
          "correctness": "correct",
          "count": 1,
          "overlap_between": 0.38461538461538464
         },
         {
          "correctness": "correct",
          "count": 1,
          "overlap_between": 0.3076923076923077
         },
         {
          "correctness": "correct",
          "count": 1,
          "overlap_between": 0.07692307692307693
         },
         {
          "correctness": "correct",
          "count": 5,
          "overlap_between": 0.3333333333333333
         },
         {
          "correctness": "correct",
          "count": 6,
          "overlap_between": 0.16666666666666666
         },
         {
          "correctness": "correct",
          "count": 3,
          "overlap_between": 0.2857142857142857
         },
         {
          "correctness": "correct",
          "count": 3,
          "overlap_between": 0.09090909090909091
         },
         {
          "correctness": "correct",
          "count": 2,
          "overlap_between": 0.07142857142857142
         },
         {
          "correctness": "correct",
          "count": 1,
          "overlap_between": 0.4444444444444444
         },
         {
          "correctness": "correct",
          "count": 1,
          "overlap_between": 0.2222222222222222
         },
         {
          "correctness": "correct",
          "count": 1,
          "overlap_between": 0.8888888888888888
         },
         {
          "correctness": "correct",
          "count": 2,
          "overlap_between": 1
         },
         {
          "correctness": "correct",
          "count": 2,
          "overlap_between": 0.8333333333333334
         },
         {
          "correctness": "correct",
          "count": 6,
          "overlap_between": 0.125
         },
         {
          "correctness": "correct",
          "count": 2,
          "overlap_between": 0.36363636363636365
         },
         {
          "correctness": "correct",
          "count": 3,
          "overlap_between": 0.2727272727272727
         },
         {
          "correctness": "correct",
          "count": 2,
          "overlap_between": 0.375
         },
         {
          "correctness": "correct",
          "count": 3,
          "overlap_between": 0.25
         },
         {
          "correctness": "correct",
          "count": 1,
          "overlap_between": 0.45454545454545453
         },
         {
          "correctness": "correct",
          "count": 3,
          "overlap_between": 0.1111111111111111
         },
         {
          "correctness": "correct",
          "count": 2,
          "overlap_between": 0.18181818181818182
         },
         {
          "correctness": "correct",
          "count": 1,
          "overlap_between": 0.42857142857142855
         },
         {
          "correctness": "correct",
          "count": 2,
          "overlap_between": 0.6666666666666666
         },
         {
          "correctness": "correct",
          "count": 1,
          "overlap_between": 0.6
         },
         {
          "correctness": "correct",
          "count": 1,
          "overlap_between": 0.05555555555555555
         },
         {
          "correctness": "incorrect",
          "count": 2,
          "overlap_between": 0.3333333333333333
         },
         {
          "correctness": "incorrect",
          "count": 2,
          "overlap_between": 0.14285714285714285
         },
         {
          "correctness": "incorrect",
          "count": 3,
          "overlap_between": 0
         },
         {
          "correctness": "incorrect",
          "count": 1,
          "overlap_between": 0.2727272727272727
         }
        ]
       },
       "resolve": {
        "scale": {
         "color": "shared",
         "x": "shared",
         "y": "shared"
        }
       },
       "vconcat": [
        {
         "data": {
          "name": "data-e887f0f32d53a6f1a92628377fc56581"
         },
         "encoding": {
          "color": {
           "field": "correctness",
           "scale": {
            "domain": [
             "correct",
             "incorrect"
            ]
           },
           "type": "nominal"
          },
          "tooltip": [
           {
            "field": "overlap_between",
            "type": "quantitative"
           },
           {
            "field": "count",
            "type": "quantitative"
           },
           {
            "field": "correctness",
            "type": "nominal"
           }
          ],
          "x": {
           "bin": {
            "extent": [
             0,
             1
            ],
            "maxbins": 10
           },
           "field": "overlap_between",
           "type": "quantitative"
          },
          "y": {
           "field": "count",
           "stack": "zero",
           "type": "quantitative"
          }
         },
         "height": 100,
         "mark": "bar",
         "title": "overlap_between on decompose_att"
        }
       ]
      },
      "image/png": "[encoded data removed]",
      "text/plain": [
       "<VegaLite 3 object>\n",
       "\n",
       "If you see this message, it means the renderer has not been properly enabled\n",
       "for the frontend that you are using. For more information, see\n",
       "https://altair-viz.github.io/user_guide/troubleshooting.html\n"
      ]
     },
     "execution_count": 12,
     "metadata": {},
     "output_type": "execute_result"
    }
   ],
   "source": [
    "from errudite.builts import Attribute\n",
    "attr = Attribute.create(\n",
    "    name=\"overlap_between\",\n",
    "    description=\"The text overlap between premise and hypothesis.\",\n",
    "    cmd=\"overlap(premise, hypothesis)\")\n",
    "attr.visualize_models(models=[\"decompose_att\"])"
   ]
  },
  {
   "cell_type": "markdown",
   "metadata": {},
   "source": [
    "### Group\n",
    "\n",
    "`Group`s ([documentation](https://errudite.readthedocs.io/en/latest/api/errudite.builts.group.html)) helps filter and put together instances that share similar attributes together, through filters created through the DSL.\n",
    "\n",
    "`Group`s are extremely similar to attributes, only that instead of saving a value per instance, it saves a list of instance keys that satisfies certain filter.\n",
    "\n",
    "Here, we build a group where the absolute length diferences between the premises and the hypothses are larget than 5.\n",
    "\n",
    "Note that all the previously created attributes and groups can be used and queried, as long as we serve the stored attributes and groups as part of the inputs."
   ]
  },
  {
   "cell_type": "code",
   "execution_count": 17,
   "metadata": {
    "scrolled": true
   },
   "outputs": [
    {
     "name": "stderr",
     "output_type": "stream",
     "text": [
      "INFO:errudite.build_blocks.wrapper:Parsed: [BinOp](>):[FuncOp(abs_num):[ArgOp:[BuildBlockOp](attr):delta_len_premise_hypo]+[], 10.0]\n",
      "WARNING:errudite.utils.store:Storing large_diff_length in Group: Overwritting name already in use.\n",
      "INFO:errudite.builts.group:Created group: large_diff_length\n"
     ]
    },
    {
     "name": "stdout",
     "output_type": "stream",
     "text": [
      "[Instance] [InstanceKey(qid='2407214681.jpg#0r1e', vid=0)]\n",
      "[hypothesis]\tTwo kids in numbered jerseys wash their hands.\n",
      "[premise]\tTwo young children in blue jerseys, one with the number 9 and one with the number 2 are standing on wooden steps in a bathroom and washing their hands in a sink.\n",
      "[groundtruth]\tentailment\tgroundtruth\t{}\n",
      "[predictions]\tentailment\tdecompose_att\t{'accuracy': 1.0, 'confidence': 0.9653038382530212}\n",
      "\n",
      "[Instance] [InstanceKey(qid='2407214681.jpg#0r1n', vid=0)]\n",
      "[hypothesis]\tTwo kids at a ballgame wash their hands.\n",
      "[premise]\tTwo young children in blue jerseys, one with the number 9 and one with the number 2 are standing on wooden steps in a bathroom and washing their hands in a sink.\n",
      "[groundtruth]\tneutral\tgroundtruth\t{}\n",
      "[predictions]\tneutral\tdecompose_att\t{'accuracy': 1.0, 'confidence': 0.35869789123535156}\n",
      "\n",
      "[Instance] [InstanceKey(qid='2407214681.jpg#0r1c', vid=0)]\n",
      "[hypothesis]\tTwo kids in jackets walk to school.\n",
      "[premise]\tTwo young children in blue jerseys, one with the number 9 and one with the number 2 are standing on wooden steps in a bathroom and washing their hands in a sink.\n",
      "[groundtruth]\tcontradiction\tgroundtruth\t{}\n",
      "[predictions]\tcontradiction\tdecompose_att\t{'accuracy': 1.0, 'confidence': 0.9591428637504578}\n",
      "\n",
      "[Instance] [InstanceKey(qid='3980085662.jpg#0r1e', vid=0)]\n",
      "[hypothesis]\tboys play football\n",
      "[premise]\tTwo young boys of opposing teams play football, while wearing full protection uniforms and helmets.\n",
      "[groundtruth]\tentailment\tgroundtruth\t{}\n",
      "[predictions]\tentailment\tdecompose_att\t{'accuracy': 1.0, 'confidence': 0.9914072155952454}\n",
      "\n",
      "[Instance] [InstanceKey(qid='3980085662.jpg#0r1c', vid=0)]\n",
      "[hypothesis]\tdog eats out of bowl\n",
      "[premise]\tTwo young boys of opposing teams play football, while wearing full protection uniforms and helmets.\n",
      "[groundtruth]\tcontradiction\tgroundtruth\t{}\n",
      "[predictions]\tcontradiction\tdecompose_att\t{'accuracy': 1.0, 'confidence': 0.9998904466629028}\n",
      "\n",
      "[Instance] [InstanceKey(qid='3980085662.jpg#0r1n', vid=0)]\n",
      "[hypothesis]\tboys scoring a touchdown\n",
      "[premise]\tTwo young boys of opposing teams play football, while wearing full protection uniforms and helmets.\n",
      "[groundtruth]\tneutral\tgroundtruth\t{}\n",
      "[predictions]\tneutral\tdecompose_att\t{'accuracy': 1.0, 'confidence': 0.9252913594245911}\n",
      "\n",
      "[Instance] [InstanceKey(qid='24467676.jpg#1r1n', vid=0)]\n",
      "[hypothesis]\tA man is repainting a garage\n",
      "[premise]\tA man in a blue shirt standing in front of a garage-like structure painted with geometric designs.\n",
      "[groundtruth]\tneutral\tgroundtruth\t{}\n",
      "[predictions]\tneutral\tdecompose_att\t{'accuracy': 1.0, 'confidence': 0.8032169342041016}\n",
      "\n",
      "[Instance] [InstanceKey(qid='24467676.jpg#1r1e', vid=0)]\n",
      "[hypothesis]\tA man is wearing a blue shirt\n",
      "[premise]\tA man in a blue shirt standing in front of a garage-like structure painted with geometric designs.\n",
      "[groundtruth]\tentailment\tgroundtruth\t{}\n",
      "[predictions]\tentailment\tdecompose_att\t{'accuracy': 1.0, 'confidence': 0.9623713493347168}\n",
      "\n",
      "[Instance] [InstanceKey(qid='24467676.jpg#1r1c', vid=0)]\n",
      "[hypothesis]\tA man is wearing a black shirt\n",
      "[premise]\tA man in a blue shirt standing in front of a garage-like structure painted with geometric designs.\n",
      "[groundtruth]\tcontradiction\tgroundtruth\t{}\n",
      "[predictions]\tcontradiction\tdecompose_att\t{'accuracy': 1.0, 'confidence': 0.9771413207054138}\n",
      "\n",
      "[Instance] [InstanceKey(qid='3667788497.jpg#0r1e', vid=0)]\n",
      "[hypothesis]\tA child is reaching to touch the propeller of a plane.\n",
      "[premise]\tUnder a blue sky with white clouds, a child reaches up to touch the propeller of a plane standing parked on a field of grass.\n",
      "[groundtruth]\tentailment\tgroundtruth\t{}\n",
      "[predictions]\tentailment\tdecompose_att\t{'accuracy': 1.0, 'confidence': 0.9480412006378174}\n",
      "\n",
      "[Instance] [InstanceKey(qid='3667788497.jpg#0r1n', vid=0)]\n",
      "[hypothesis]\tA child is reaching to touch the propeller out of curiosity.\n",
      "[premise]\tUnder a blue sky with white clouds, a child reaches up to touch the propeller of a plane standing parked on a field of grass.\n",
      "[groundtruth]\tneutral\tgroundtruth\t{}\n",
      "[predictions]\tneutral\tdecompose_att\t{'accuracy': 1.0, 'confidence': 0.9159883260726929}\n",
      "\n",
      "[Instance] [InstanceKey(qid='3667788497.jpg#0r1c', vid=0)]\n",
      "[hypothesis]\tA child is playing with a ball.\n",
      "[premise]\tUnder a blue sky with white clouds, a child reaches up to touch the propeller of a plane standing parked on a field of grass.\n",
      "[groundtruth]\tcontradiction\tgroundtruth\t{}\n",
      "[predictions]\tcontradiction\tdecompose_att\t{'accuracy': 1.0, 'confidence': 0.9512708783149719}\n",
      "\n",
      "[Instance] [InstanceKey(qid='3948003394.jpg#1r1e', vid=0)]\n",
      "[hypothesis]\tA woman is doing a cartwheel.\n",
      "[premise]\tA woman is doing a cartwheel while wearing a bikini in the sand next to the beach.\n",
      "[groundtruth]\tentailment\tgroundtruth\t{}\n",
      "[predictions]\tentailment\tdecompose_att\t{'accuracy': 1.0, 'confidence': 0.9912165403366089}\n",
      "\n",
      "[Instance] [InstanceKey(qid='3948003394.jpg#1r1c', vid=0)]\n",
      "[hypothesis]\tA woman is fixing her home.\n",
      "[premise]\tA woman is doing a cartwheel while wearing a bikini in the sand next to the beach.\n",
      "[groundtruth]\tcontradiction\tgroundtruth\t{}\n",
      "[predictions]\tcontradiction\tdecompose_att\t{'accuracy': 1.0, 'confidence': 0.9981176853179932}\n",
      "\n",
      "[Instance] [InstanceKey(qid='3021028400.jpg#1r1e', vid=0)]\n",
      "[hypothesis]\tA person in a suit\n",
      "[premise]\tMan in a black suit, white shirt and black bowtie playing an instrument with the rest of his symphony surrounding him.\n",
      "[groundtruth]\tentailment\tgroundtruth\t{}\n",
      "[predictions]\tentailment\tdecompose_att\t{'accuracy': 1.0, 'confidence': 0.9792790412902832}\n",
      "\n",
      "[Instance] [InstanceKey(qid='3021028400.jpg#1r1c', vid=0)]\n",
      "[hypothesis]\tNobody has a suit\n",
      "[premise]\tMan in a black suit, white shirt and black bowtie playing an instrument with the rest of his symphony surrounding him.\n",
      "[groundtruth]\tcontradiction\tgroundtruth\t{}\n",
      "[predictions]\tcontradiction\tdecompose_att\t{'accuracy': 1.0, 'confidence': 0.999993085861206}\n",
      "\n",
      "[Instance] [InstanceKey(qid='3021028400.jpg#1r1n', vid=0)]\n",
      "[hypothesis]\tA tall person in a suit\n",
      "[premise]\tMan in a black suit, white shirt and black bowtie playing an instrument with the rest of his symphony surrounding him.\n",
      "[groundtruth]\tneutral\tgroundtruth\t{}\n",
      "[predictions]\tneutral\tdecompose_att\t{'accuracy': 1.0, 'confidence': 0.9925812482833862}\n",
      "\n",
      "[Instance] [InstanceKey(qid='3261712960.jpg#0r1c', vid=0)]\n",
      "[hypothesis]\tA single man is next to a camera\n",
      "[premise]\tAt an outdoor event in an Asian-themed area, a crowd congregates as one person in a yellow Chinese dragon costume confronts the camera.\n",
      "[groundtruth]\tcontradiction\tgroundtruth\t{}\n",
      "[predictions]\tcontradiction\tdecompose_att\t{'accuracy': 1.0, 'confidence': 0.6392043828964233}\n",
      "\n",
      "[Instance] [InstanceKey(qid='3261712960.jpg#0r1n', vid=0)]\n",
      "[hypothesis]\tA crowd is dancing\n",
      "[premise]\tAt an outdoor event in an Asian-themed area, a crowd congregates as one person in a yellow Chinese dragon costume confronts the camera.\n",
      "[groundtruth]\tneutral\tgroundtruth\t{}\n",
      "[predictions]\tneutral\tdecompose_att\t{'accuracy': 1.0, 'confidence': 0.7137401700019836}\n",
      "\n",
      "[Instance] [InstanceKey(qid='3261712960.jpg#0r1e', vid=0)]\n",
      "[hypothesis]\tA crowd is in front of a camera\n",
      "[premise]\tAt an outdoor event in an Asian-themed area, a crowd congregates as one person in a yellow Chinese dragon costume confronts the camera.\n",
      "[groundtruth]\tneutral\tgroundtruth\t{}\n",
      "[predictions]\tentailment\tdecompose_att\t{'accuracy': 0.0, 'confidence': 0.9800276160240173}\n",
      "\n",
      "[Instance] [InstanceKey(qid='5964395383.jpg#1r1n', vid=0)]\n",
      "[hypothesis]\ta blond man laughs while doing laundry\n",
      "[premise]\tA older gentleman finds it humorous that he is getting his picture taken while doing his laundry.\n",
      "[groundtruth]\tneutral\tgroundtruth\t{}\n",
      "[predictions]\tneutral\tdecompose_att\t{'accuracy': 1.0, 'confidence': 0.7642491459846497}\n",
      "\n",
      "[Instance] [InstanceKey(qid='5964395383.jpg#1r1e', vid=0)]\n",
      "[hypothesis]\ta guy laughs while doing laundry\n",
      "[premise]\tA older gentleman finds it humorous that he is getting his picture taken while doing his laundry.\n",
      "[groundtruth]\tentailment\tgroundtruth\t{}\n",
      "[predictions]\tentailment\tdecompose_att\t{'accuracy': 1.0, 'confidence': 0.6901483535766602}\n",
      "\n",
      "[Instance] [InstanceKey(qid='5964395383.jpg#1r1c', vid=0)]\n",
      "[hypothesis]\ttwo ladies pin clothes to dry\n",
      "[premise]\tA older gentleman finds it humorous that he is getting his picture taken while doing his laundry.\n",
      "[groundtruth]\tcontradiction\tgroundtruth\t{}\n",
      "[predictions]\tcontradiction\tdecompose_att\t{'accuracy': 1.0, 'confidence': 0.990131139755249}\n",
      "\n",
      "[Instance] [InstanceKey(qid='2915400809.jpg#0r1e', vid=0)]\n",
      "[hypothesis]\tAn Indian woman is doing her laundry in a lake.\n",
      "[premise]\tAn Indian woman is washing and cleaning dirty laundry at a lake and in the background is a kid who appears to have jumped into the lake.\n",
      "[groundtruth]\tentailment\tgroundtruth\t{}\n",
      "[predictions]\tentailment\tdecompose_att\t{'accuracy': 1.0, 'confidence': 0.9141949415206909}\n",
      "\n",
      "[Instance] [InstanceKey(qid='2915400809.jpg#0r1c', vid=0)]\n",
      "[hypothesis]\tAn Indian woman is putting her laundry into the machine.\n",
      "[premise]\tAn Indian woman is washing and cleaning dirty laundry at a lake and in the background is a kid who appears to have jumped into the lake.\n",
      "[groundtruth]\tcontradiction\tgroundtruth\t{}\n",
      "[predictions]\tcontradiction\tdecompose_att\t{'accuracy': 1.0, 'confidence': 0.9748595356941223}\n",
      "\n",
      "[Instance] [InstanceKey(qid='2915400809.jpg#0r1n', vid=0)]\n",
      "[hypothesis]\tAn Indian woman is doing laundry for her son in the lake.\n",
      "[premise]\tAn Indian woman is washing and cleaning dirty laundry at a lake and in the background is a kid who appears to have jumped into the lake.\n",
      "[groundtruth]\tneutral\tgroundtruth\t{}\n",
      "[predictions]\tneutral\tdecompose_att\t{'accuracy': 1.0, 'confidence': 0.9796924591064453}\n",
      "\n",
      "[Instance] [InstanceKey(qid='6291644661.jpg#2r1c', vid=0)]\n",
      "[hypothesis]\tThey are driving cars.\n",
      "[premise]\tA man in a green jersey and rollerskates stumbles as a man in a black jersey appears to collide with him.\n",
      "[groundtruth]\tcontradiction\tgroundtruth\t{}\n",
      "[predictions]\tcontradiction\tdecompose_att\t{'accuracy': 1.0, 'confidence': 0.9610396027565002}\n",
      "\n",
      "[Instance] [InstanceKey(qid='6291644661.jpg#2r1n', vid=0)]\n",
      "[hypothesis]\tThey both fall to the ground.\n",
      "[premise]\tA man in a green jersey and rollerskates stumbles as a man in a black jersey appears to collide with him.\n",
      "[groundtruth]\tneutral\tgroundtruth\t{}\n",
      "[predictions]\tcontradiction\tdecompose_att\t{'accuracy': 0.0, 'confidence': 0.7426172494888306}\n",
      "\n",
      "[Instance] [InstanceKey(qid='6291644661.jpg#2r1e', vid=0)]\n",
      "[hypothesis]\tThe man stumbles stumbles in rollerskates.\n",
      "[premise]\tA man in a green jersey and rollerskates stumbles as a man in a black jersey appears to collide with him.\n",
      "[groundtruth]\tentailment\tgroundtruth\t{}\n",
      "[predictions]\tentailment\tdecompose_att\t{'accuracy': 1.0, 'confidence': 0.8979691863059998}\n",
      "\n",
      "[Instance] [InstanceKey(qid='3184031654.jpg#0r1n', vid=0)]\n",
      "[hypothesis]\tThese two women are friends.\n",
      "[premise]\tThe middle eastern woman wearing the pink headscarf is walking beside a woman in a purple headscarf.\n",
      "[groundtruth]\tneutral\tgroundtruth\t{}\n",
      "[predictions]\tneutral\tdecompose_att\t{'accuracy': 1.0, 'confidence': 0.9730514287948608}\n",
      "\n",
      "[Instance] [InstanceKey(qid='4543570621.jpg#1r1e', vid=0)]\n",
      "[hypothesis]\tAn SUV and a man are going in opposite directions.\n",
      "[premise]\tA taxi SUV drives past an urban construction site, as a man walks down the street in the other direction.\n",
      "[groundtruth]\tentailment\tgroundtruth\t{}\n",
      "[predictions]\tentailment\tdecompose_att\t{'accuracy': 1.0, 'confidence': 0.7427619695663452}\n",
      "\n",
      "[Instance] [InstanceKey(qid='4784866019.jpg#0r1c', vid=0)]\n",
      "[hypothesis]\tNobody has a shirt on\n",
      "[premise]\tPeople wearing red shirts are standing in a large pool of water as it splashes over and around them.\n",
      "[groundtruth]\tcontradiction\tgroundtruth\t{}\n",
      "[predictions]\tcontradiction\tdecompose_att\t{'accuracy': 1.0, 'confidence': 0.9999076128005981}\n",
      "\n",
      "[Instance] [InstanceKey(qid='4784866019.jpg#0r1e', vid=0)]\n",
      "[hypothesis]\tA person in a shirt\n",
      "[premise]\tPeople wearing red shirts are standing in a large pool of water as it splashes over and around them.\n",
      "[groundtruth]\tentailment\tgroundtruth\t{}\n",
      "[predictions]\tentailment\tdecompose_att\t{'accuracy': 1.0, 'confidence': 0.941978394985199}\n",
      "\n",
      "[Instance] [InstanceKey(qid='4784866019.jpg#0r1n', vid=0)]\n",
      "[hypothesis]\tA tall person in a shirt\n",
      "[premise]\tPeople wearing red shirts are standing in a large pool of water as it splashes over and around them.\n",
      "[groundtruth]\tneutral\tgroundtruth\t{}\n",
      "[predictions]\tneutral\tdecompose_att\t{'accuracy': 1.0, 'confidence': 0.999803364276886}\n",
      "\n",
      "[Instance] [InstanceKey(qid='2447052614.jpg#0r1c', vid=0)]\n",
      "[hypothesis]\tA man is wearing a black shirt\n",
      "[premise]\tA man in a white t-shirt takes a picture in the middle of the street with two public buses in the background.\n",
      "[groundtruth]\tcontradiction\tgroundtruth\t{}\n",
      "[predictions]\tcontradiction\tdecompose_att\t{'accuracy': 1.0, 'confidence': 0.989000678062439}\n",
      "\n",
      "[Instance] [InstanceKey(qid='2447052614.jpg#0r1e', vid=0)]\n",
      "[hypothesis]\tA man is wearing a white shirt\n",
      "[premise]\tA man in a white t-shirt takes a picture in the middle of the street with two public buses in the background.\n",
      "[groundtruth]\tentailment\tgroundtruth\t{}\n",
      "[predictions]\tentailment\tdecompose_att\t{'accuracy': 1.0, 'confidence': 0.9544745087623596}\n",
      "\n",
      "[Instance] [InstanceKey(qid='2447052614.jpg#0r1n', vid=0)]\n",
      "[hypothesis]\tA man is taking photos while on tour in nyc\n",
      "[premise]\tA man in a white t-shirt takes a picture in the middle of the street with two public buses in the background.\n",
      "[groundtruth]\tneutral\tgroundtruth\t{}\n",
      "[predictions]\tneutral\tdecompose_att\t{'accuracy': 1.0, 'confidence': 0.9805970788002014}\n",
      "\n",
      "[Instance] [InstanceKey(qid='4826810171.jpg#0r1n', vid=0)]\n",
      "[hypothesis]\tHe is Polish.\n",
      "[premise]\tA shirtless man is singing into a microphone while a woman next to him plays an accordion.\n",
      "[groundtruth]\tneutral\tgroundtruth\t{}\n",
      "[predictions]\tcontradiction\tdecompose_att\t{'accuracy': 0.0, 'confidence': 0.5111828446388245}\n",
      "\n",
      "[Instance] [InstanceKey(qid='4826810171.jpg#0r1c', vid=0)]\n",
      "[hypothesis]\tHe is playing a saxophone.\n",
      "[premise]\tA shirtless man is singing into a microphone while a woman next to him plays an accordion.\n",
      "[groundtruth]\tcontradiction\tgroundtruth\t{}\n",
      "[predictions]\tcontradiction\tdecompose_att\t{'accuracy': 1.0, 'confidence': 0.922244131565094}\n",
      "\n",
      "[Instance] [InstanceKey(qid='7699580622.jpg#1r1n', vid=0)]\n",
      "[hypothesis]\tIt is very sunny outside.\n",
      "[premise]\tWomen and children sitting outside in the shade while a group of younger children sitting inside in the shade.\n",
      "[groundtruth]\tneutral\tgroundtruth\t{}\n",
      "[predictions]\tneutral\tdecompose_att\t{'accuracy': 1.0, 'confidence': 0.8981500864028931}\n",
      "\n",
      "[Instance] [InstanceKey(qid='7699580622.jpg#1r1e', vid=0)]\n",
      "[hypothesis]\tThe woman and kids and sitting down.\n",
      "[premise]\tWomen and children sitting outside in the shade while a group of younger children sitting inside in the shade.\n",
      "[groundtruth]\tentailment\tgroundtruth\t{}\n",
      "[predictions]\tentailment\tdecompose_att\t{'accuracy': 1.0, 'confidence': 0.9911642670631409}\n",
      "\n",
      "[Instance] [InstanceKey(qid='7699580622.jpg#1r1c', vid=0)]\n",
      "[hypothesis]\tThe woman is running.\n",
      "[premise]\tWomen and children sitting outside in the shade while a group of younger children sitting inside in the shade.\n",
      "[groundtruth]\tcontradiction\tgroundtruth\t{}\n",
      "[predictions]\tcontradiction\tdecompose_att\t{'accuracy': 1.0, 'confidence': 0.9997414946556091}\n",
      "\n",
      "[Instance] [InstanceKey(qid='3082355901.jpg#0r1n', vid=0)]\n",
      "[hypothesis]\tThe woman is writing a grocery list.\n",
      "[premise]\tA woman is writing something on a post-it note which is hanging on a bulletin board with a lot of other post-it notes.\n",
      "[groundtruth]\tneutral\tgroundtruth\t{}\n",
      "[predictions]\tneutral\tdecompose_att\t{'accuracy': 1.0, 'confidence': 0.9011777639389038}\n",
      "\n",
      "[Instance] [InstanceKey(qid='3082355901.jpg#0r1c', vid=0)]\n",
      "[hypothesis]\tThe woman is talking on the phone.\n",
      "[premise]\tA woman is writing something on a post-it note which is hanging on a bulletin board with a lot of other post-it notes.\n",
      "[groundtruth]\tcontradiction\tgroundtruth\t{}\n",
      "[predictions]\tcontradiction\tdecompose_att\t{'accuracy': 1.0, 'confidence': 0.5604204535484314}\n",
      "\n",
      "[Instance] [InstanceKey(qid='3082355901.jpg#0r1e', vid=0)]\n",
      "[hypothesis]\tThe woman is writing a note.\n",
      "[premise]\tA woman is writing something on a post-it note which is hanging on a bulletin board with a lot of other post-it notes.\n",
      "[groundtruth]\tentailment\tgroundtruth\t{}\n",
      "[predictions]\tentailment\tdecompose_att\t{'accuracy': 1.0, 'confidence': 0.9792509078979492}\n",
      "\n",
      "[Instance] [InstanceKey(qid='4444092165.jpg#0r1n', vid=0)]\n",
      "[hypothesis]\tThe man is getting ready to speak.\n",
      "[premise]\tA white-haired man with a mustache and glasses in a business suit stands outside at a podium marked with the seal of the US House of Representatives, surrounded by many people, with a columned building behind him.\n",
      "[groundtruth]\tneutral\tgroundtruth\t{}\n",
      "[predictions]\tneutral\tdecompose_att\t{'accuracy': 1.0, 'confidence': 0.7993756532669067}\n",
      "\n"
     ]
    }
   ],
   "source": [
    "from errudite.builts import Group\n",
    "group = Group.create(\n",
    "    # The name of the attribute\n",
    "    name=\"large_diff_length\",\n",
    "    # the description of the attribute\n",
    "    description=\"The input length is very different.\",\n",
    "    # All the previously created attributes and groups \n",
    "    # can be used and queried, as long as we serve the \n",
    "    # stored attributes and groups as part of the inputs.\n",
    "    cmd=\"abs_num(attr:delta_len_premise_hypo) > 10\",\n",
    "    attr_hash=Attribute.store_hash(),\n",
    "    group_hash=Group.store_hash()\n",
    ")\n",
    "group.show_instances()"
   ]
  },
  {
   "cell_type": "markdown",
   "metadata": {},
   "source": [
    "`test_instance()` in `group` objects test whether or not one instance belongs to the group:"
   ]
  },
  {
   "cell_type": "markdown",
   "metadata": {},
   "source": [
    "#### Visualize grouped instance performance\n",
    "\n",
    "The visualization for a group is a one-bar histogram that displays the count of instances in the group, and the proportion of incorrect predictions. Similar to attributes, because of the incorrect prediction proportion, this historgram is different for each different model.\n",
    "\n",
    "If categorical, each value is a bar. Otherwise, the domain is automatically binned, and each bin is a bar."
   ]
  },
  {
   "cell_type": "code",
   "execution_count": 18,
   "metadata": {},
   "outputs": [
    {
     "data": {
      "application/vnd.vegalite.v3+json": {
       "$schema": "https://vega.github.io/schema/vega-lite/v3.2.1.json",
       "config": {
        "mark": {
         "tooltip": null
        },
        "view": {
         "height": 300,
         "width": 400
        }
       },
       "data": {
        "name": "data-e150b561b9f3aaf421189853b0ceab06"
       },
       "datasets": {
        "data-e150b561b9f3aaf421189853b0ceab06": [
         {
          "correctness": "correct",
          "count": 43,
          "model": "decompose_att"
         },
         {
          "correctness": "incorrect",
          "count": 3,
          "model": "decompose_att"
         }
        ]
       },
       "encoding": {
        "color": {
         "field": "correctness",
         "scale": {
          "domain": [
           "correct",
           "incorrect"
          ]
         },
         "type": "nominal"
        },
        "tooltip": [
         {
          "field": "model",
          "type": "nominal"
         },
         {
          "field": "count",
          "type": "quantitative"
         },
         {
          "field": "correctness",
          "type": "nominal"
         }
        ],
        "x": {
         "field": "count",
         "stack": "zero",
         "type": "quantitative"
        },
        "y": {
         "field": "model",
         "type": "nominal"
        }
       },
       "mark": "bar",
       "width": 100
      },
      "image/png": "[encoded data removed]",
      "text/plain": [
       "<VegaLite 3 object>\n",
       "\n",
       "If you see this message, it means the renderer has not been properly enabled\n",
       "for the frontend that you are using. For more information, see\n",
       "https://altair-viz.github.io/user_guide/troubleshooting.html\n"
      ]
     },
     "execution_count": 18,
     "metadata": {},
     "output_type": "execute_result"
    }
   ],
   "source": [
    "group.visualize_models(models=[\"decompose_att\"])"
   ]
  },
  {
   "cell_type": "markdown",
   "metadata": {},
   "source": [
    "We could also print the instance correctness for the given filtering instance in numbers:\n",
    "\n",
    "```python\n",
    "{\n",
    "    'counts': {\n",
    "        'correct': # The number of correct predictions in\n",
    "                   # filtered_instances,\n",
    "        'incorrect': # The number of incorrect predictions in \n",
    "                     # filtered_instances,\n",
    "    },\n",
    "    'stats': {\n",
    "        'coverage': # (count_correct + count_incorrect) / TOTAL_SIZE,\n",
    "        'error_coverage': # The ratio of how many incorrect \n",
    "                          # instances are covered.\n",
    "        'local_error_rate': # The ratio of incorrect instances \n",
    "                            # within filtered_instances.\n",
    "        'global_error_rate': # count_incorrect / TOTAL_SIZE\n",
    "    }\n",
    "}\n",
    "```"
   ]
  },
  {
   "cell_type": "code",
   "execution_count": 19,
   "metadata": {},
   "outputs": [
    {
     "data": {
      "text/plain": [
       "{'counts': {'correct': 43, 'incorrect': 3},\n",
       " 'stats': {'coverage': 0.46,\n",
       "  'error_coverage': 0.375,\n",
       "  'local_error_rate': 0.06521739130434782,\n",
       "  'global_error_rate': 0.03}}"
      ]
     },
     "execution_count": 19,
     "metadata": {},
     "output_type": "execute_result"
    }
   ],
   "source": [
    "# some general stats on groups\n",
    "Group.eval_stats(\n",
    "    filtered_instances=group.get_instances(),\n",
    "    # this will automatically call the default model we got\n",
    "    model=None\n",
    ")"
   ]
  },
  {
   "cell_type": "markdown",
   "metadata": {},
   "source": [
    "## Attributes and Groups defined with customized functions\n",
    "\n",
    "As we've seen, pne way to extend the DSL/attribute/group is to register new primitive functions and allow them to be recognized when we parse string `cmd`s. \n",
    "\n",
    "However, when the extractor/filtering function is unique enought that you would prefer not to reuse it, it's also possible to override `cmd` with a function that directly takes an `instance` as an input. Here, we create exactly the same group as before, with a raw function:"
   ]
  },
  {
   "cell_type": "code",
   "execution_count": 20,
   "metadata": {},
   "outputs": [
    {
     "name": "stderr",
     "output_type": "stream",
     "text": [
      "INFO:errudite.build_blocks.wrapper:Parsed: <function BuildBlockWrapper._parse_cmd_func.<locals>.test_func at 0x0000027C6ED9DD90>\n",
      "INFO:errudite.builts.group:Created group: large_diff_length_from_func\n"
     ]
    },
    {
     "data": {
      "application/vnd.vegalite.v3+json": {
       "$schema": "https://vega.github.io/schema/vega-lite/v3.2.1.json",
       "config": {
        "mark": {
         "tooltip": null
        },
        "view": {
         "height": 300,
         "width": 400
        }
       },
       "data": {
        "name": "data-e3704b0d6188ef694e5100b9e56f0c30"
       },
       "datasets": {
        "data-e3704b0d6188ef694e5100b9e56f0c30": [
         {
          "correctness": "correct",
          "count": 60,
          "model": "decompose_att"
         },
         {
          "correctness": "incorrect",
          "count": 7,
          "model": "decompose_att"
         }
        ]
       },
       "encoding": {
        "color": {
         "field": "correctness",
         "scale": {
          "domain": [
           "correct",
           "incorrect"
          ]
         },
         "type": "nominal"
        },
        "tooltip": [
         {
          "field": "model",
          "type": "nominal"
         },
         {
          "field": "count",
          "type": "quantitative"
         },
         {
          "field": "correctness",
          "type": "nominal"
         }
        ],
        "x": {
         "field": "count",
         "stack": "zero",
         "type": "quantitative"
        },
        "y": {
         "field": "model",
         "type": "nominal"
        }
       },
       "mark": "bar",
       "width": 100
      },
      "image/png": "[encoded data removed]",
      "text/plain": [
       "<VegaLite 3 object>\n",
       "\n",
       "If you see this message, it means the renderer has not been properly enabled\n",
       "for the frontend that you are using. For more information, see\n",
       "https://altair-viz.github.io/user_guide/troubleshooting.html\n"
      ]
     },
     "execution_count": 20,
     "metadata": {},
     "output_type": "execute_result"
    }
   ],
   "source": [
    "def large_diff_length_func(instance, **kwargs):\n",
    "    premise = instance.get_entry('premise')\n",
    "    hypothesis = instance.get_entry('hypothesis')\n",
    "    if premise and hypothesis:\n",
    "        delta_length = len(premise.doc) - len(hypothesis.doc)\n",
    "        return abs(delta_length) > 5 \n",
    "    return False\n",
    "\n",
    "group = Group.create(\n",
    "    name=\"large_diff_length_from_func\",\n",
    "    description=\"The input length is very different.\",\n",
    "    cmd=large_diff_length_func,\n",
    ")\n",
    "group.visualize_models(models=[\"decompose_att\"])"
   ]
  },
  {
   "cell_type": "markdown",
   "metadata": {},
   "source": [
    "## Functions supporting qureries\n",
    "\n",
    "As mentioned before, `Group` and `Attribute` can be used as `store dict`. You can get all the saved attributes by calling:\n",
    "```python\n",
    "Attribute.store_hash()\n",
    "```\n",
    "\n",
    "Get the names of attributes by calling: \n",
    "```python\n",
    "list(Attribute.keys())\n",
    "```\n",
    "\n",
    "Get the actual attribute list by calling: \n",
    "```python\n",
    "list(Attribute.values())\n",
    "```\n",
    "\n",
    "Query one attribute by calling: \n",
    "```python\n",
    "list(Attribute.get(\"attr_name\"))\n",
    "```"
   ]
  },
  {
   "cell_type": "markdown",
   "metadata": {},
   "source": [
    "# Save & reload"
   ]
  },
  {
   "cell_type": "markdown",
   "metadata": {},
   "source": [
    "All attributes and groups (and in fact, rewrite rules as we will see)  are expressed and saved as precise queries, enabling reproducible analyses -- We can just share the definitions in json formats. With the `export_to_file` function, the json definitions are exported to `{cache_folder}/analysis/`:\n",
    "\n",
    "```sh\n",
    "[cache folder]\n",
    "└── analysis \n",
    "    ├── save_attr.json\n",
    "    ├── save_group.json\n",
    "    └── save_rewrite.json\n",
    "```"
   ]
  },
  {
   "cell_type": "code",
   "execution_count": 15,
   "metadata": {},
   "outputs": [
    {
     "name": "stderr",
     "output_type": "stream",
     "text": [
      "INFO:errudite.utils.store:Done saving to ./data/snli_tutorial_caches/analysis/save_attr.json\n",
      "INFO:errudite.utils.store:Done saving to ./data/snli_tutorial_caches/analysis/save_group.json\n"
     ]
    },
    {
     "data": {
      "text/plain": [
       "True"
      ]
     },
     "execution_count": 15,
     "metadata": {},
     "output_type": "execute_result"
    }
   ],
   "source": [
    "Attribute.export_to_file(file_name=\"save_attr.json\")\n",
    "Group.export_to_file(file_name=\"save_group.json\")"
   ]
  },
  {
   "cell_type": "markdown",
   "metadata": {},
   "source": [
    "Reloading is also easy:"
   ]
  },
  {
   "cell_type": "code",
   "execution_count": 16,
   "metadata": {},
   "outputs": [
    {
     "name": "stderr",
     "output_type": "stream",
     "text": [
      "INFO:errudite.build_blocks.wrapper:Parsed: FuncOp(delta_length):[ArgOp:premise, ArgOp:hypothesis]+[]\n",
      "WARNING:errudite.utils.store:Storing delta_len_premise_hypo in Attribute: Overwritting name already in use.\n",
      "INFO:errudite.build_blocks.wrapper:Parsed: FuncOp(LABEL):[ArgOp:groundtruth]+[]\n",
      "WARNING:errudite.utils.store:Storing label in Attribute: Overwritting name already in use.\n",
      "INFO:errudite.build_blocks.wrapper:Parsed: FuncOp(overlap):[ArgOp:premise, ArgOp:hypothesis]+[]\n",
      "WARNING:errudite.utils.store:Storing overlap_between in Attribute: Overwritting name already in use.\n",
      "INFO:errudite.build_blocks.wrapper:Parsed: [BinOp](>):[FuncOp(abs_num):[ArgOp:[BuildBlockOp](attr):delta_len_premise_hypo]+[], 5.0]\n",
      "WARNING:errudite.utils.store:Storing large_diff_length in Group: Overwritting name already in use.\n",
      "INFO:errudite.build_blocks.wrapper:Parsed: <function BuildBlockWrapper._parse_cmd_func.<locals>.test_func at 0x00000206C7AE4730>\n",
      "WARNING:errudite.utils.store:Storing large_diff_length_from_func in Group: Overwritting name already in use.\n"
     ]
    },
    {
     "data": {
      "text/plain": [
       "{'large_diff_length': [Group](large_diff_length): \n",
       " \tCMD\t: abs_num(attr:delta_len_premise_hypo) > 5\n",
       " \tCOUNT\t: 0,\n",
       " 'large_diff_length_from_func': [Group](large_diff_length_from_func): \n",
       " \tCMD\t: <function large_diff_length_func at 0x00000206C7AE4F28>\n",
       " \tCOUNT\t: 0}"
      ]
     },
     "execution_count": 16,
     "metadata": {},
     "output_type": "execute_result"
    }
   ],
   "source": [
    "# reload \n",
    "Attribute.import_from_file('save_attr.json')\n",
    "Group.import_from_file('save_group.json')"
   ]
  },
  {
   "cell_type": "code",
   "execution_count": 17,
   "metadata": {},
   "outputs": [
    {
     "data": {
      "text/plain": [
       "False"
      ]
     },
     "execution_count": 17,
     "metadata": {},
     "output_type": "execute_result"
    }
   ],
   "source": [
    "Group.get(\"large_diff_length_from_func\").test_one_instance(instance)"
   ]
  },
  {
   "cell_type": "code",
   "execution_count": null,
   "metadata": {},
   "outputs": [],
   "source": []
  },
  {
   "cell_type": "code",
   "execution_count": null,
   "metadata": {},
   "outputs": [],
   "source": []
  }
 ],
 "metadata": {
  "kernelspec": {
   "display_name": "Python 3",
   "language": "python",
   "name": "python3"
  },
  "language_info": {
   "codemirror_mode": {
    "name": "ipython",
    "version": 3
   },
   "file_extension": ".py",
   "mimetype": "text/x-python",
   "name": "python",
   "nbconvert_exporter": "python",
   "pygments_lexer": "ipython3",
   "version": "3.6.13"
  }
 },
 "nbformat": 4,
 "nbformat_minor": 4
}
