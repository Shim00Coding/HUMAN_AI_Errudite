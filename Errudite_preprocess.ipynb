{
 "cells": [
  {
   "cell_type": "code",
   "execution_count": 1,
   "id": "6f5772aa-a5a3-42ce-b7f1-3a88ffb33205",
   "metadata": {},
   "outputs": [],
   "source": [
    "%load_ext autoreload\n",
    "%autoreload 2\n",
    "\n",
    "import warnings\n",
    "warnings.filterwarnings('ignore')\n",
    "\n",
    "def import_sys():\n",
    "    import sys\n",
    "    sys.path.append('..')\n",
    "import_sys()\n",
    "\n",
    "import logging\n",
    "logging.basicConfig(level=logging.INFO)\n",
    "logger = logging.getLogger(__name__)  # pylint: disable=invalid-name"
   ]
  },
  {
   "cell_type": "code",
   "execution_count": 2,
   "id": "c45e0efc-e592-48c0-9b0b-39ed0053958f",
   "metadata": {},
   "outputs": [
    {
     "name": "stdout",
     "output_type": "stream",
     "text": [
      "<module 'errudite' from '/Users/gyuhoshim/errudite/errudite/__init__.py'>\n"
     ]
    }
   ],
   "source": [
    "import errudite\n",
    "print(errudite)"
   ]
  },
  {
   "cell_type": "code",
   "execution_count": 3,
   "id": "3d68f74e-e731-4994-8f06-051c473b07f3",
   "metadata": {},
   "outputs": [
    {
     "name": "stderr",
     "output_type": "stream",
     "text": [
      "WARNING:errudite.utils.file_utils:Local path not yet exist, but still parsed: /Users/gyuhoshim/errudite/tutorials/caches/vocab.pkl\n",
      "WARNING:errudite.processor.spacy_annotator:(2, 'No such file or directory')\n"
     ]
    }
   ],
   "source": [
    "import pandas as pd\n",
    "from tqdm import tqdm\n",
    "\n",
    "from overrides import overrides\n",
    "\n",
    "from errudite.io import DatasetReader\n",
    "from errudite.utils import normalize_file_path, accuracy_score\n",
    "from errudite.targets.instance import Instance\n",
    "from errudite.targets.target import Target\n",
    "from errudite.targets.label import Label, PredefinedLabel"
   ]
  },
  {
   "cell_type": "markdown",
   "id": "b89717e1-b336-4699-acb7-1aec0a8283ec",
   "metadata": {},
   "source": [
    "## 1. DatasetReader"
   ]
  },
  {
   "cell_type": "code",
   "execution_count": null,
   "id": "8c5c9d28-abc6-44c0-8487-55553c642f21",
   "metadata": {},
   "outputs": [],
   "source": [
    "@DatasetReader.register(\"STE\")\n",
    "class STEReader(DatasetReader):\n",
    "    def __init__(self, cache_folder_path: str=None) -> None:\n",
    "        super().__init__(cache_folder_path)\n",
    "        # overwrite the primary evaluation method and metric name\n",
    "        Label.set_task_evaluator(accuracy_score, 'accuracy')\n",
    "        \n",
    "    @overrides\n",
    "    def _read(self, file_path: str, lazy: bool, sample_size: int):\n",
    "        \"\"\"\n",
    "        Returns a list containing all the instances in the specified dataset.\n",
    "\n",
    "        Parameters\n",
    "        ----------\n",
    "        file_path : str\n",
    "            The path of the input data file.\n",
    "        lazy : bool, optional\n",
    "            If ``lazy==True``, only run the tokenization, does not compute the linguistic\n",
    "            features like POS, NER. By default False\n",
    "        sample_size : int, optional\n",
    "            If sample size is set, only load this many of instances, by default None\n",
    "        \n",
    "        Returns\n",
    "        -------\n",
    "        List[Instance]\n",
    "            The instance list.\n",
    "        \"\"\"\n",
    "        logger.info(\"Reading instances from lines in file at: %s\", file_path)\n",
    "        df = pd.read_csv(normalize_file_path(file_path), sep='\\t')\n",
    "        for idx, row in tqdm(df.iterrows()):\n",
    "            if lazy:\n",
    "                premises.append(row['sentence1'])\n",
    "                hypotheses.append(row['sentence2'])\n",
    "            else:\n",
    "                instance = self._text_to_instance(f'q:{idx}', row)\n",
    "                if instance is not None:\n",
    "                    instances.append(instance)\n",
    "                if sample_size and idx > sample_size:\n",
    "                    break\n",
    "        if lazy:\n",
    "            return { \"premise\": premises, \"hypoethsis\": hypotheses }\n",
    "        else:\n",
    "            return instances\n",
    "    \n",
    "    @overrides\n",
    "    def _text_to_instance(self, id: str, row) -> Instance:\n",
    "        # The function that transfers raw text to instance.\n",
    "        premise = Target(qid=row['pairID'], text=row['sentence1'], vid=0, metas={'type': 'premise'})\n",
    "        hypothesis = Target(qid=row['pairID'], text=row['sentence2'], vid=0, metas={'type': 'hypothesis'})\n",
    "        # label\n",
    "        raw_labels = [row[f'label{i}']  for i in range(1,6)]\n",
    "        groundtruth = PredefinedLabel(\n",
    "            model='groundtruth', \n",
    "            qid=row['pairID'], \n",
    "            text=row['gold_label'], \n",
    "            vid=0, \n",
    "            metas={'raw_labels': raw_labels}\n",
    "        )\n",
    "        return self.create_instance(row['pairID'], \n",
    "            hypothesis=hypothesis, \n",
    "            premise=premise, \n",
    "            groundtruth=groundtruth)"
   ]
  },
  {
   "cell_type": "code",
   "execution_count": null,
   "id": "43f607ec-f9a5-4473-90ab-6112cebb5e49",
   "metadata": {},
   "outputs": [],
   "source": [
    "#This reader, as we did before, can be queried via:\n",
    "\n",
    "from errudite.readers import DatasetReader\n",
    "DatasetReader.by_name(\"STE\")"
   ]
  },
  {
   "cell_type": "markdown",
   "id": "165f2e57-4003-4345-8159-e4e264d0b90c",
   "metadata": {},
   "source": [
    "## 2. Predictor"
   ]
  },
  {
   "cell_type": "code",
   "execution_count": 4,
   "id": "6b58a708-bf1f-4d9d-aa44-80821ac2bd5e",
   "metadata": {},
   "outputs": [
    {
     "ename": "ValueError",
     "evalue": "attempted relative import beyond top-level package",
     "output_type": "error",
     "traceback": [
      "\u001b[0;31m---------------------------------------------------------------------------\u001b[0m",
      "\u001b[0;31mValueError\u001b[0m                                Traceback (most recent call last)",
      "\u001b[0;32m<ipython-input-4-d6c7384d2788>\u001b[0m in \u001b[0;36m<module>\u001b[0;34m\u001b[0m\n\u001b[1;32m      1\u001b[0m \u001b[0;32mfrom\u001b[0m \u001b[0mtyping\u001b[0m \u001b[0;32mimport\u001b[0m \u001b[0mList\u001b[0m\u001b[0;34m,\u001b[0m \u001b[0mDict\u001b[0m\u001b[0;34m\u001b[0m\u001b[0;34m\u001b[0m\u001b[0m\n\u001b[0;32m----> 2\u001b[0;31m \u001b[0;32mfrom\u001b[0m \u001b[0;34m.\u001b[0m\u001b[0;34m.\u001b[0m\u001b[0mpredictor\u001b[0m \u001b[0;32mimport\u001b[0m \u001b[0mPredictor\u001b[0m\u001b[0;34m\u001b[0m\u001b[0;34m\u001b[0m\u001b[0m\n\u001b[0m\u001b[1;32m      3\u001b[0m \u001b[0;32mfrom\u001b[0m \u001b[0;34m...\u001b[0m\u001b[0mtargets\u001b[0m\u001b[0;34m.\u001b[0m\u001b[0mlabel\u001b[0m \u001b[0;32mimport\u001b[0m \u001b[0mLabel\u001b[0m\u001b[0;34m,\u001b[0m \u001b[0mPredefinedLabel\u001b[0m\u001b[0;34m\u001b[0m\u001b[0;34m\u001b[0m\u001b[0m\n\u001b[1;32m      4\u001b[0m \u001b[0;32mfrom\u001b[0m \u001b[0;34m.\u001b[0m\u001b[0;34m.\u001b[0m\u001b[0mpredictor_allennlp\u001b[0m \u001b[0;32mimport\u001b[0m \u001b[0mPredictorAllennlp\u001b[0m \u001b[0;31m# a wrapper for Allennlp classes\u001b[0m\u001b[0;34m\u001b[0m\u001b[0;34m\u001b[0m\u001b[0m\n",
      "\u001b[0;31mValueError\u001b[0m: attempted relative import beyond top-level package"
     ]
    }
   ],
   "source": [
    "from typing import List, Dict\n",
    "from ..predictor import Predictor\n",
    "from ...targets.label import Label, PredefinedLabel\n",
    "from ..predictor_allennlp import PredictorAllennlp # a wrapper for Allennlp classes"
   ]
  },
  {
   "cell_type": "code",
   "execution_count": 6,
   "id": "67ecc3b0-3ec7-4182-bc44-ce87d74d1a08",
   "metadata": {},
   "outputs": [
    {
     "name": "stdout",
     "output_type": "stream",
     "text": [
      "LICENSE                \u001b[34mmyenv\u001b[m\u001b[m/                 \u001b[34mscripts\u001b[m\u001b[m/\n",
      "README.md              \u001b[34mnli\u001b[m\u001b[m/                   \u001b[34msentiment_analysis\u001b[m\u001b[m/\n",
      "__init__.py            predictor.py           setup.py\n",
      "\u001b[34m__pycache__\u001b[m\u001b[m/           predictor_allennlp.py  \u001b[34mtutorials\u001b[m\u001b[m/\n",
      "config.yml             \u001b[34mpredictors\u001b[m\u001b[m/            \u001b[34mui\u001b[m\u001b[m/\n",
      "\u001b[34mdocs\u001b[m\u001b[m/                  \u001b[34mpy36env\u001b[m\u001b[m/               \u001b[34mvqa\u001b[m\u001b[m/\n",
      "\u001b[34merrudite\u001b[m\u001b[m/              \u001b[34mqa\u001b[m\u001b[m/\n",
      "\u001b[34merrudite.egg-info\u001b[m\u001b[m/     requirements.txt\n"
     ]
    }
   ],
   "source": [
    "ls ../"
   ]
  },
  {
   "cell_type": "code",
   "execution_count": null,
   "id": "b04beb21-4f2d-4128-b251-2e996eea8bde",
   "metadata": {},
   "outputs": [],
   "source": [
    "\n",
    "\n",
    "@Predictor.register(\"nli_decompose_att\")\n",
    "class PredictorNLI(Predictor, PredictorAllennlp):\n",
    "    \"\"\"\n",
    "    The wrapper for DecomposableAttention model, as implemented in Allennlp:\n",
    "    https://allenai.github.io/allennlp-docs/api/allennlp.predictors.html#decomposable-attention\n",
    "    \"\"\"\n",
    "    def __init__(self, name: str, \n",
    "        model_path: str=None,\n",
    "        model_online_path: str=None,\n",
    "        description: str='') -> None:\n",
    "        PredictorAllennlp.__init__(self, name, model_path, model_online_path, description)\n",
    "        Predictor.__init__(self, name, description, model, perform_metrics)\n",
    "        # set the perform metrics\n",
    "        perform_metrics = ['accuracy', 'confidence']\n",
    "        # First, define the evaluation function to determine how well a model is doing \n",
    "        # on one instance, based on an individual predicted label.\n",
    "        from ...utils.evaluator import accuracy_score\n",
    "        # Second, from the metrics above, pick one that's primary, and it will be used \n",
    "        # to compute `is_incorrect()` in any label target object: primary metric < 1.\n",
    "        Label.set_task_evaluator(\n",
    "            # the evaluation function that accepts pred and groundtruths, \n",
    "            # and return a dict of metrics: { metric_name: metric_score }. \n",
    "            # This is saved as Label.task_evaluation_func.\n",
    "            task_evaluation_func=accuracy_score, \n",
    "            # The primary task metric name, ideally a key of task_evaluation_func ‘s return.\n",
    "            task_primary_metric='accuracy')\n",
    "\n",
    "    # the raw prediction function, returning the output of the model in a json format.\n",
    "    def predict(self, premise: str, hypothesis: str) -> Dict[str, float]:\n",
    "        try:\n",
    "            labels = ['entailment', 'contradiction', 'neutral']\n",
    "            predicted = self.model.predict_json({\n",
    "                \"premise\": premise, \"hypothesis\":hypothesis})\n",
    "            return {\n",
    "                'confidence': max(predicted['label_probs']),\n",
    "                'text': labels[np.argmax(label_probs)],\n",
    "            }\n",
    "        except:\n",
    "            raise\n",
    "\n",
    "    @classmethod\n",
    "    # the class method that takes `Target` inputs, and output a `Label` object.\n",
    "    def model_predict(cls, \n",
    "        predictor: Predictor, \n",
    "        premise: Target, \n",
    "        hypothesis: Target, \n",
    "        groundtruth: Label) -> 'Label':\n",
    "        answer = None\n",
    "        if not predictor:\n",
    "            return answer\n",
    "        predicted = predictor.predict(premise.get_text(), hypothesis.get_text())\n",
    "        if not predicted:\n",
    "            return None\n",
    "        answer = PredefinedLabel(\n",
    "            model=predictor.name, \n",
    "            qid=premise.qid,\n",
    "            text=predicted['text'], \n",
    "            vid=max([premise.vid, hypothesis.vid, groundtruth.vid] ))\n",
    "        answer.compute_perform(groundtruths=groundtruth)\n",
    "        answer.set_perform(confidence=predicted['confidence'])\n",
    "        return answer\n",
    "\n"
   ]
  }
 ],
 "metadata": {
  "kernelspec": {
   "display_name": "Python 3",
   "language": "python",
   "name": "python3"
  },
  "language_info": {
   "codemirror_mode": {
    "name": "ipython",
    "version": 3
   },
   "file_extension": ".py",
   "mimetype": "text/x-python",
   "name": "python",
   "nbconvert_exporter": "python",
   "pygments_lexer": "ipython3",
   "version": "3.6.13"
  }
 },
 "nbformat": 4,
 "nbformat_minor": 5
}
