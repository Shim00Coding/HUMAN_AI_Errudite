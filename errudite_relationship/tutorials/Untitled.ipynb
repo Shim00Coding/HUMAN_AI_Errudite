{
 "cells": [
  {
   "cell_type": "code",
   "execution_count": null,
   "id": "1edb1310-7deb-4f15-8c2b-f4c6663c98ec",
   "metadata": {},
   "outputs": [],
   "source": []
  }
 ],
 "metadata": {
  "kernelspec": {
   "display_name": "Python 3",
   "language": "python",
   "name": "python3"
  },
  "language_info": {
   "codemirror_mode": {
    "name": "ipython",
    "version": 3
   },
   "file_extension": ".py",
   "mimetype": "text/x-python",
   "name": "python",
   "nbconvert_exporter": "python",
   "pygments_lexer": "ipython3",
   "version": "3.6.13"
  }
 },
 "nbformat": 4,
 "nbformat_minor": 5
}
