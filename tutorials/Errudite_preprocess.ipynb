{
 "cells": [
  {
   "cell_type": "code",
   "execution_count": 4,
   "id": "decdf747",
   "metadata": {},
   "outputs": [
    {
     "name": "stdout",
     "output_type": "stream",
     "text": [
      "The autoreload extension is already loaded. To reload it, use:\n",
      "  %reload_ext autoreload\n"
     ]
    }
   ],
   "source": [
    "%load_ext autoreload\n",
    "%autoreload 2\n",
    "\n",
    "import warnings\n",
    "warnings.filterwarnings('ignore')\n",
    "\n",
    "def import_sys():\n",
    "    import sys\n",
    "    sys.path.append('..')\n",
    "import_sys()\n",
    "\n",
    "import logging\n",
    "logging.basicConfig(level=logging.INFO)\n",
    "logger = logging.getLogger(__name__)  # pylint: disable=invalid-name"
   ]
  },
  {
   "cell_type": "code",
   "execution_count": 5,
   "id": "1bb14612",
   "metadata": {},
   "outputs": [
    {
     "name": "stdout",
     "output_type": "stream",
     "text": [
      "<module 'errudite' from '/Users/gyuhoshim/errudite/errudite/__init__.py'>\n"
     ]
    }
   ],
   "source": [
    "import errudite\n",
    "print(errudite)"
   ]
  },
  {
   "cell_type": "code",
   "execution_count": 6,
   "id": "90b85bb6",
   "metadata": {},
   "outputs": [],
   "source": [
    "import pandas as pd\n",
    "from tqdm import tqdm\n",
    "\n",
    "from overrides import overrides\n",
    "\n",
    "from errudite.io import DatasetReader\n",
    "from errudite.utils import normalize_file_path, accuracy_score\n",
    "from errudite.targets.instance import Instance\n",
    "from errudite.targets.target import Target\n",
    "from errudite.targets.label import Label, PredefinedLabel"
   ]
  },
  {
   "cell_type": "code",
   "execution_count": 4,
   "id": "1f375bc2",
   "metadata": {},
   "outputs": [],
   "source": [
    "#!pip install transformers==4.3.0"
   ]
  },
  {
   "cell_type": "code",
   "execution_count": 5,
   "id": "a8ee2687",
   "metadata": {},
   "outputs": [],
   "source": [
    "#!pip install sentencepiece"
   ]
  },
  {
   "cell_type": "code",
   "execution_count": 6,
   "id": "b05c8ea5",
   "metadata": {},
   "outputs": [],
   "source": [
    "#!pip install accelerate"
   ]
  },
  {
   "cell_type": "code",
   "execution_count": 7,
   "id": "577dd838",
   "metadata": {},
   "outputs": [],
   "source": [
    "#!pip install  xlrd==1.1.0"
   ]
  },
  {
   "cell_type": "code",
   "execution_count": 8,
   "id": "e7dbe81f",
   "metadata": {},
   "outputs": [],
   "source": [
    "#!pip install --upgrade ipywidgets"
   ]
  },
  {
   "cell_type": "code",
   "execution_count": 7,
   "id": "cb812ef2",
   "metadata": {},
   "outputs": [
    {
     "name": "stderr",
     "output_type": "stream",
     "text": [
      "INFO:pytorch_pretrained_bert.modeling:Better speed can be achieved with apex installed from https://www.github.com/nvidia/apex .\n",
      "INFO:pytorch_transformers.modeling_bert:Better speed can be achieved with apex installed from https://www.github.com/nvidia/apex .\n",
      "INFO:pytorch_transformers.modeling_xlnet:Better speed can be achieved with apex installed from https://www.github.com/nvidia/apex .\n",
      "INFO:allennlp.common.registrable:instantiating registered subclass relu of <class 'allennlp.nn.activations.Activation'>\n",
      "INFO:allennlp.common.registrable:instantiating registered subclass relu of <class 'allennlp.nn.activations.Activation'>\n",
      "INFO:allennlp.common.registrable:instantiating registered subclass relu of <class 'allennlp.nn.activations.Activation'>\n",
      "INFO:allennlp.common.registrable:instantiating registered subclass relu of <class 'allennlp.nn.activations.Activation'>\n"
     ]
    }
   ],
   "source": [
    "import pandas as pd\n",
    "from transformers import T5Tokenizer, T5ForConditionalGeneration\n",
    "import torch\n",
    "from typing import List, Dict\n",
    "import sys\n",
    "sys.path.append('..')\n",
    "from errudite.predictors.predictor import Predictor\n",
    "from errudite.targets.label import Label, PredefinedLabel\n",
    "\n",
    "class Predictor_FLAN_T5(Predictor):\n",
    "    def __init__(self, name: str, \n",
    "    model_path: str=None,\n",
    "    model_online_path: str=None,\n",
    "    description: str='',\n",
    "    model_type: str=None) -> None:\n",
    "        model = None\n",
    "        Predictor.__init__(self, name, description, model, ['accuracy', 'accuracy_PE', 'accuracy_KE', 'accuracy_LCE'])\n",
    "        \n",
    "    def predict_essay(self, essay : str) -> Dict[str,str]:\n",
    "        # Load data into pandas DataFrame\n",
    "        data_df = pd.read_excel(\"StudentEssays.xlsx\")\n",
    "\n",
    "        # Initialize T5 tokenizer and model\n",
    "        tokenizer = T5Tokenizer.from_pretrained(\"google/flan-t5-base\")\n",
    "        model = T5ForConditionalGeneration.from_pretrained(\"google/flan-t5-base\")\n",
    "\n",
    "        # Move the model to the CUDA device if available\n",
    "        if torch.cuda.is_available():\n",
    "            model.to(\"cuda\")\n",
    "\n",
    "        # Define a list of concepts to predict\n",
    "        concepts_to_predict = [\"potential energy\", \"kinetic energy\", \"Law of Conservation of Energy\"]\n",
    "\n",
    "        # Define possible outcome labels\n",
    "        outcome_labels = [\"Acceptable\", \"Unacceptable\", \"Insufficient\", \"Not Found\"]\n",
    "\n",
    "        # Create a list to store predictions as dictionaries\n",
    "        predictions_list = []\n",
    "\n",
    "        text = essay  # Assuming the text content is in column 'Essay'\n",
    "\n",
    "        # Initialize predictions dictionary for this row\n",
    "        predictions = {}\n",
    "\n",
    "        # Iterate through each concept to predict\n",
    "        for concept in concepts_to_predict:\n",
    "            # Define a template for classification\n",
    "            template = f\"According to the following essay, is the student's definition of {concept} Acceptable, Unacceptable, Insufficient, or Not Found? Only use one of these labels for outputs\\n{text}\"\n",
    "            # Prepare the input by replacing placeholders\n",
    "            formatted_input = template\n",
    "            # Tokenize and classify the text\n",
    "            input_ids = tokenizer(formatted_input, return_tensors=\"pt\", padding=True, truncation=True).input_ids.to(\"cuda\" if torch.cuda.is_available() else \"cpu\")\n",
    "            outputs = model.generate(input_ids, max_length=128)\n",
    "            decoded_output = tokenizer.decode(outputs[0], skip_special_tokens=True)  # Remove special tokens\n",
    "\n",
    "            # Store the prediction in the dictionary\n",
    "            predictions[concept] = next((label for label in outcome_labels if label.lower() in decoded_output.lower()), \"Unknown\")\n",
    "\n",
    "            if predictions[concept] == \"Unknown\":\n",
    "              print(len(decoded_output))\n",
    "              with open('output.txt', 'w') as f:\n",
    "                f.write(decoded_output)\n",
    "\n",
    "        return predictions"
   ]
  },
  {
   "cell_type": "markdown",
   "id": "c1583618",
   "metadata": {},
   "source": [
    "## 1. DatasetReader"
   ]
  },
  {
   "cell_type": "code",
   "execution_count": 8,
   "id": "f809ca23",
   "metadata": {},
   "outputs": [],
   "source": [
    "@DatasetReader.register(\"STE\")\n",
    "class STEReader(DatasetReader):\n",
    "    def __init__(self, cache_folder_path: str=None) -> None:\n",
    "        super().__init__(cache_folder_path)\n",
    "        # overwrite the primary evaluation method and metric name\n",
    "        Label.set_task_evaluator(accuracy_score, 'accuracy')\n",
    "        \n",
    "    @overrides\n",
    "    def _read(self, file_path: str, lazy: bool, sample_size: int):\n",
    "        \"\"\"\n",
    "        Returns a list containing all the instances in the specified dataset.\n",
    " \n",
    "        Parameters\n",
    "        ----------\n",
    "        file_path : str\n",
    "            The path of the input data file.\n",
    "        lazy : bool, optional\n",
    "            If ``lazy==True``, only run the tokenization, does not compute the linguistic\n",
    "            features like POS, NER. By default False\n",
    "        sample_size : int, optional\n",
    "            If sample size is set, only load this many of instances, by default None\n",
    "        \n",
    "        Returns\n",
    "        -------\n",
    "        List[Instance]\n",
    "            The instance list.\n",
    "        \"\"\"\n",
    "        instances = []\n",
    "        essays = []\n",
    "        logger.info(\"Reading instances from lines in file at: %s\", file_path)\n",
    "        df = pd.read_excel(normalize_file_path(file_path), sep='\\t')\n",
    "        for idx, row in tqdm(df.iterrows()):\n",
    "            if lazy:\n",
    "                essays.append(row['Essay'])\n",
    "            else:\n",
    "                instance = self._text_to_instance(f'q:{idx}', row)\n",
    "                if instance is not None:\n",
    "                    instances.append(instance)\n",
    "                if sample_size and idx > sample_size:\n",
    "                    break\n",
    "        if lazy:\n",
    "            return { \"Essays\": essays }\n",
    "        else:\n",
    "            return instances\n",
    "    \n",
    "    @overrides\n",
    "    def _text_to_instance(self, id: str, row) -> Instance:\n",
    "        # The function that transfers raw text to instance.\n",
    "        essay = Target(qid=row['Essay_ID'], text=row['Essay'], vid=0, metas={'type': 'essays'})        # label\n",
    "        groundtruth_PE = PredefinedLabel(\n",
    "            model='groundtruth', \n",
    "            qid=row['Essay_ID'], \n",
    "            text=row['PE'], \n",
    "            vid=0, \n",
    "        )\n",
    "        groundtruth_KE = PredefinedLabel(\n",
    "            model='groundtruth', \n",
    "            qid=row['Essay_ID'], \n",
    "            text=row['KE'], \n",
    "            vid=0, \n",
    "        )\n",
    "        groundtruth_LCE = PredefinedLabel(\n",
    "            model='groundtruth', \n",
    "            qid=row['Essay_ID'], \n",
    "            text=row['LCE'], \n",
    "            vid=0, \n",
    "        )\n",
    "        return self.create_instance(row['Essay_ID'], \n",
    "            essay=essay, \n",
    "            groundtruth_PE=groundtruth_PE,\n",
    "            groundtruth_KE=groundtruth_KE,\n",
    "            groundtruth_LCE=groundtruth_LCE)"
   ]
  },
  {
   "cell_type": "code",
   "execution_count": 9,
   "id": "a37136a7",
   "metadata": {},
   "outputs": [
    {
     "name": "stderr",
     "output_type": "stream",
     "text": [
      "INFO:errudite.utils.file_utils:Errudite cache folder selected: ./ste_caches\n"
     ]
    }
   ],
   "source": [
    "from errudite.io import DatasetReader\n",
    "\n",
    "cache_folder_path = \"./ste_caches\"\n",
    "reader = DatasetReader.by_name(\"STE\")(cache_folder_path=cache_folder_path)"
   ]
  },
  {
   "cell_type": "code",
   "execution_count": 10,
   "id": "cd3edf82",
   "metadata": {},
   "outputs": [
    {
     "name": "stderr",
     "output_type": "stream",
     "text": [
      "INFO:errudite.io.dataset_reader:Reading instances from lines in file at: StudentEssays.xlsx\n",
      "INFO:__main__:Reading instances from lines in file at: StudentEssays.xlsx\n",
      "76it [00:02, 29.27it/s]\n"
     ]
    }
   ],
   "source": [
    "# read the raw data!\n",
    "instances = reader.read(\n",
    "    # The path of the input data file. We are using the first 100 rows from the SNLI dev set.\n",
    "    file_path='StudentEssays.xlsx', \n",
    "    # If sample size is set, only load this many of instances, by default None.\n",
    "    sample_size=76)"
   ]
  },
  {
   "cell_type": "code",
   "execution_count": 11,
   "id": "8e7058b4-be23-41b0-a772-a22734e0caff",
   "metadata": {},
   "outputs": [
    {
     "data": {
      "text/plain": [
       "[Instance [InstanceKey(qid='L24-RCFinal proposal, L3b8-23_RCFinal proposal, & L3b8-08_RCFinal proposal', vid=0)],\n",
       " Instance [InstanceKey(qid='L3b8-21_RCFinal proposal', vid=0)],\n",
       " Instance [InstanceKey(qid='L23-RCFinal proposal, L22-RCFinal proposal, L3b8-22_RCFinal proposal, L3b8-20_RCFinal proposal, & L3b8-19_RCFinal', vid=0)],\n",
       " Instance [InstanceKey(qid='L21-RCFinal proposal & L3b8-24_RCFinal proposal', vid=0)],\n",
       " Instance [InstanceKey(qid='L3b8-17_RCFinal proposal', vid=0)],\n",
       " Instance [InstanceKey(qid='L3b8-16_RCFinal proposal & UG_ENGM-RC74', vid=0)],\n",
       " Instance [InstanceKey(qid='L3b8-15_RCFinal proposal & UG_ENGM-RC63 ', vid=0)],\n",
       " Instance [InstanceKey(qid='L3b8-14_RCFinal proposal', vid=0)],\n",
       " Instance [InstanceKey(qid='L3b8-13_RCFinal proposal', vid=0)],\n",
       " Instance [InstanceKey(qid='L3b8-11_RCFinal proposal', vid=0)],\n",
       " Instance [InstanceKey(qid='L3b8-02_RCFinal proposal & L3b7-16_RCFinal', vid=0)],\n",
       " Instance [InstanceKey(qid='L216_RCFinal Proposal  & L215_RCFinal Proposal', vid=0)],\n",
       " Instance [InstanceKey(qid='L214_RCFinal Proposal & L3b8-12_RCFinal proposal', vid=0)],\n",
       " Instance [InstanceKey(qid=' \\nL3b8-10 RC Proposal \\n', vid=0)],\n",
       " Instance [InstanceKey(qid='L3b8-09 RC Proposal  &L3b8-03_RCFinal proposal', vid=0)],\n",
       " Instance [InstanceKey(qid='L3b8-07 RC Proposal', vid=0)],\n",
       " Instance [InstanceKey(qid='L3b8-06 RC Proposal', vid=0)],\n",
       " Instance [InstanceKey(qid='L3b8-05 RC Proposal ', vid=0)],\n",
       " Instance [InstanceKey(qid='L3b8-04 RC Proposal', vid=0)],\n",
       " Instance [InstanceKey(qid='L3b8-01 RC Proposal', vid=0)],\n",
       " Instance [InstanceKey(qid='\\nL3b7-29_RCFinal proposal, L3b7-23_RCFinal, & UG_ENGM-RC76', vid=0)],\n",
       " Instance [InstanceKey(qid='\\nL3b7-24_RCFinal', vid=0)],\n",
       " Instance [InstanceKey(qid='L3b7-22_RCFinal & L3b7-23_RCFinal', vid=0)],\n",
       " Instance [InstanceKey(qid=' L3b7-21_RCFinal', vid=0)],\n",
       " Instance [InstanceKey(qid=' L3b7-20_RCFinal', vid=0)],\n",
       " Instance [InstanceKey(qid=' L3b7-19_RCFinal', vid=0)],\n",
       " Instance [InstanceKey(qid=' L3b7-17_RCFinal', vid=0)],\n",
       " Instance [InstanceKey(qid='\\nL3b7-10_RCFinal & L3b5-22_RCFinal', vid=0)],\n",
       " Instance [InstanceKey(qid='L3b5-21_RCFinal', vid=0)],\n",
       " Instance [InstanceKey(qid='UG_ENGM-RC79', vid=0)],\n",
       " Instance [InstanceKey(qid='UG_ENGM-RC84', vid=0)],\n",
       " Instance [InstanceKey(qid='UG_ENGM-RC89', vid=0)],\n",
       " Instance [InstanceKey(qid='UG_ENGM-RC93', vid=0)],\n",
       " Instance [InstanceKey(qid='L1c3-12_RC', vid=0)],\n",
       " Instance [InstanceKey(qid='L1c2-13_RC', vid=0)],\n",
       " Instance [InstanceKey(qid='L1c3-02_RC & L3b5-17_RC', vid=0)],\n",
       " Instance [InstanceKey(qid='L1c3-20_RC', vid=0)],\n",
       " Instance [InstanceKey(qid='L3b8-10_RCFinal Proposal', vid=0)],\n",
       " Instance [InstanceKey(qid='L3b8-09_RCFinal proposal', vid=0)],\n",
       " Instance [InstanceKey(qid='L3b8-07_RCFinal proposal', vid=0)],\n",
       " Instance [InstanceKey(qid='L3b8-06_RCFinal proposal', vid=0)],\n",
       " Instance [InstanceKey(qid='L3b8-05_RCFinal proposal', vid=0)],\n",
       " Instance [InstanceKey(qid='L3b8-04_RCFinal proposal', vid=0)],\n",
       " Instance [InstanceKey(qid='L3b8-01_RCFinal proposal', vid=0)],\n",
       " Instance [InstanceKey(qid='L3b7-15_RCFinal proposal/L3b7-25_RCFinal proposal', vid=0)],\n",
       " Instance [InstanceKey(qid='L3b7-11_RCFinal proposal/L3b7-06_RCFinal proposal', vid=0)],\n",
       " Instance [InstanceKey(qid='L3b5-20_RCFinal Proposal', vid=0)],\n",
       " Instance [InstanceKey(qid='L3b5-18_RCFinal Proposal/L3b5-17_RCFinal proposal', vid=0)],\n",
       " Instance [InstanceKey(qid='L1c3-26_RCFinal proposal', vid=0)],\n",
       " Instance [InstanceKey(qid='L1c3-25_RCFinal proposal', vid=0)],\n",
       " Instance [InstanceKey(qid='L1c3-24_RCFinal proposal', vid=0)],\n",
       " Instance [InstanceKey(qid='L1c3-22_RCFinal proposal', vid=0)],\n",
       " Instance [InstanceKey(qid='L1c3-18_RCFinal proposal', vid=0)],\n",
       " Instance [InstanceKey(qid='L1c3-17_RCFinal proposal ', vid=0)],\n",
       " Instance [InstanceKey(qid='L1c3-16_RCFinal proposal', vid=0)],\n",
       " Instance [InstanceKey(qid='L1c3-15_RCFinal proposal/L1c3-19_RCFinal proposal', vid=0)],\n",
       " Instance [InstanceKey(qid='L1c3-13_RCFinal proposal', vid=0)],\n",
       " Instance [InstanceKey(qid='L1c3-12_RCFinal proposal', vid=0)],\n",
       " Instance [InstanceKey(qid='L1c3-11_RCFinal proposal', vid=0)],\n",
       " Instance [InstanceKey(qid='L1c3-10_RCFinal proposal', vid=0)],\n",
       " Instance [InstanceKey(qid='L1c3-09_RCFinal proposal\\n', vid=0)],\n",
       " Instance [InstanceKey(qid='L1c3-08_RCFinal proposal', vid=0)],\n",
       " Instance [InstanceKey(qid='L1c3-07_RCFinal proposal / L1c3-20_RCFinal proposal', vid=0)],\n",
       " Instance [InstanceKey(qid='L1c3-06_RCFinal proposal', vid=0)],\n",
       " Instance [InstanceKey(qid='L1c3-04_RCFinal proposal', vid=0)],\n",
       " Instance [InstanceKey(qid='L1c3-03_RCFinal proposal', vid=0)],\n",
       " Instance [InstanceKey(qid='L1c3-02_RCFinal proposal/L1c3-05_RCFinal proposal', vid=0)],\n",
       " Instance [InstanceKey(qid='L1c2-25_RCFinal proposal/L1c3-14_RCFinal proposal', vid=0)],\n",
       " Instance [InstanceKey(qid='L1c2-23_RCFinal proposal', vid=0)],\n",
       " Instance [InstanceKey(qid='L1c2-13_RCFinal proposal', vid=0)],\n",
       " Instance [InstanceKey(qid='L3b6-12_RCFinal proposal/L1c2-11_RCFinal proposal', vid=0)],\n",
       " Instance [InstanceKey(qid='L3b6-11_RCFinal proposal/L1c2-12_RCFinal proposal', vid=0)],\n",
       " Instance [InstanceKey(qid='L1c2-02_RCFinal proposal/L1c3-23_RCFinal proposal\\n', vid=0)],\n",
       " Instance [InstanceKey(qid='L1c1-23_RCFinal proposal/L1c2-01_RCFinal proposal', vid=0)],\n",
       " Instance [InstanceKey(qid='L1c1-22_RCFinal proposal/L1c1-21_RCFinal proposal/L1c1-20_RCFinal proposal', vid=0)],\n",
       " Instance [InstanceKey(qid='L1c1-16_RCFinal proposal/L1c1-19_RCFinal proposal', vid=0)]]"
      ]
     },
     "execution_count": 11,
     "metadata": {},
     "output_type": "execute_result"
    }
   ],
   "source": [
    "instances"
   ]
  },
  {
   "cell_type": "markdown",
   "id": "faa34aa7",
   "metadata": {},
   "source": [
    "## 2. Predictor"
   ]
  },
  {
   "cell_type": "code",
   "execution_count": 12,
   "id": "333f7976",
   "metadata": {},
   "outputs": [],
   "source": [
    "from typing import List, Dict\n",
    "import sys\n",
    "sys.path.append('..')\n",
    "from errudite.predictors.predictor import Predictor\n",
    "from errudite.targets.label import Label, PredefinedLabel"
   ]
  },
  {
   "cell_type": "code",
   "execution_count": 13,
   "id": "6156941f",
   "metadata": {},
   "outputs": [],
   "source": [
    "@Predictor.register(\"STE_FLAN_T5\")\n",
    "class PredictorSTE(Predictor_FLAN_T5):\n",
    "    def __init__(self, name: str, \n",
    "        model_path: str=None,\n",
    "        model_online_path: str=None,\n",
    "        description: str='') -> None:\n",
    "        Predictor_FLAN_T5.__init__(self, name, model_path, model_online_path, description)\n",
    "        import sys\n",
    "        sys.path.append('..')\n",
    "        from errudite.utils.evaluator import accuracy_score\n",
    "        # Second, from the metrics above, pick one that's primary, and it will be used \n",
    "        # to compute `is_incorrect()` in any label target object: primary metric < 1.\n",
    "        Label.set_task_evaluator(\n",
    "            # the evaluation function that accepts pred and groundtruths, \n",
    "            # and return a dict of metrics: { metric_name: metric_score }. \n",
    "            # This is saved as Label.task_evaluation_func.\n",
    "            task_evaluation_func=accuracy_score, \n",
    "            # The primary task metric name, ideally a key of task_evaluation_func ‘s return.\n",
    "            task_primary_metric='accuracy')\n",
    "\n",
    "    # the raw prediction function, returning the output of the model in a json format.\n",
    "    def predict(self, essay: str) -> Dict[str, str]:\n",
    "        predicted = self.predict_essay(essay)\n",
    "        return predicted\n",
    "\n",
    "    @classmethod\n",
    "    # the class method that takes `Target` inputs, and output a `Label` object.\n",
    "    def model_predict(cls, \n",
    "        predictor: Predictor, \n",
    "        essay: Target, \n",
    "        groundtruth_PE: Label, groundtruth_KE: Label, groundtruth_LCE: Label) -> 'Label':\n",
    "        answer = None\n",
    "        if not predictor:\n",
    "            return answer\n",
    "        predicted = predictor.predict(essay.get_text())\n",
    "        if not predicted:\n",
    "            return None\n",
    "        answer_PE = PredefinedLabel(\n",
    "            model=predictor.name, \n",
    "            qid=essay.qid,\n",
    "            text=predicted['potential energy'], \n",
    "            vid=max([essay.vid]))\n",
    "        answer_KE = PredefinedLabel(\n",
    "            model=predictor.name, \n",
    "            qid=essay.qid,\n",
    "            text=predicted['kinetic energy'], \n",
    "            vid=max([essay.vid]))\n",
    "        answer_LCE = PredefinedLabel(\n",
    "            model=predictor.name, \n",
    "            qid=essay.qid,\n",
    "            text=predicted['Law of Conservation of Energy'], \n",
    "            vid=max([essay.vid]))\n",
    "        answer_PE.compute_perform(groundtruths=groundtruth_PE)\n",
    "        answer_KE.compute_perform(groundtruths=groundtruth_KE)\n",
    "        answer_LCE.compute_perform(groundtruths=groundtruth_LCE)\n",
    "        return answer_PE, answer_KE, answer_LCE\n",
    "\n"
   ]
  },
  {
   "cell_type": "code",
   "execution_count": 14,
   "id": "c428052b",
   "metadata": {},
   "outputs": [],
   "source": [
    "from errudite.predictors import Predictor\n",
    "model_path = \"FLAN_T5_Essay\"\n",
    "predictor = Predictor.by_name(\"STE_FLAN_T5\")(\n",
    "    name ='FLAN_T5', \n",
    "    description='Prediction created by FLAN_T5')"
   ]
  },
  {
   "cell_type": "code",
   "execution_count": 15,
   "id": "6733e4d9",
   "metadata": {},
   "outputs": [
    {
     "name": "stderr",
     "output_type": "stream",
     "text": [
      "INFO:__main__:Running predictions....\n",
      "100%|██████████| 76/76 [16:38<00:00, 13.05s/it]\n"
     ]
    }
   ],
   "source": [
    "from tqdm import tqdm \n",
    "logger.info(\"Running predictions....\") \n",
    "for instance in tqdm(instances):\n",
    "    prediction_PE, prediction_KE, prediction_LCE = Predictor.by_name(\"STE_FLAN_T5\").model_predict(\n",
    "        predictor, \n",
    "        essay = instance.essay,\n",
    "        groundtruth_PE = instance.groundtruth_PE, groundtruth_KE = instance.groundtruth_KE, groundtruth_LCE = instance.groundtruth_LCE)\n",
    "    # set the prediction\n",
    "    instance.set_entries(prediction_PE = prediction_PE, prediction_KE = prediction_KE, prediction_LCE = prediction_LCE)"
   ]
  },
  {
   "cell_type": "code",
   "execution_count": 17,
   "id": "8b6a13d8",
   "metadata": {},
   "outputs": [
    {
     "name": "stdout",
     "output_type": "stream",
     "text": [
      "[Target] [InstanceKey(qid='L23-RCFinal proposal, L22-RCFinal proposal, L3b8-22_RCFinal proposal, L3b8-20_RCFinal proposal, & L3b8-19_RCFinal', vid=0)]\n",
      "The initial drop must be the highest point of your roller coaster. It will be where all of the energy must be created in the form of Potential energy. A height of 90m would be just right because the initial drop can help the car to go over the hills with enough potential energy. I propose that we should make the roller coasters drop 90 meters tall because the roller coaster needs a lot of KE to go through the rest of the roller coaster. During initial drop, the increasing height increases potential energy at the top of hill and kinetic energy at the bottom of hill. When we increase the initial drop height the car has a faster speed so it'll be able to travel farther.\n",
      "\n",
      "The hill of the roller coaster is another critical part. It must be a smaller height than the initial drop to have enough energy to go up the hill. The hill can be .80 meter or less because it can’t be more than .89 meter because the potential energy would be transformed to kinetic energy with the loss of heat.  The hill has this height, the car will have enough Kinetic energy to get it over the hill. When increasing height and mass in car lift, potential energy increased. \n",
      "\n",
      "[Instance] [InstanceKey(qid='L23-RCFinal proposal, L22-RCFinal proposal, L3b8-22_RCFinal proposal, L3b8-20_RCFinal proposal, & L3b8-19_RCFinal', vid=0)]\n",
      "[essay]\tThe initial drop must be the highest point of your roller coaster. It will be where all of the energy must be created in the form of Potential energy. A height of 90m would be just right because the initial drop can help the car to go over the hills with enough potential energy. I propose that we should make the roller coasters drop 90 meters tall because the roller coaster needs a lot of KE to go through the rest of the roller coaster. During initial drop, the increasing height increases potential energy at the top of hill and kinetic energy at the bottom of hill. When we increase the initial drop height the car has a faster speed so it'll be able to travel farther.\n",
      "\n",
      "The hill of the roller coaster is another critical part. It must be a smaller height than the initial drop to have enough energy to go up the hill. The hill can be .80 meter or less because it can’t be more than .89 meter because the potential energy would be transformed to kinetic energy with the loss of heat.  The hill has this height, the car will have enough Kinetic energy to get it over the hill. When increasing height and mass in car lift, potential energy increased.\n",
      "[groundtruth_PE]\tInsufficient\tgroundtruth\t{}\n",
      "[groundtruth_KE]\tInsufficient\tgroundtruth\t{}\n",
      "[groundtruth_LCE]\tInsufficient\tgroundtruth\t{}\n",
      "[prediction_PE]\tInsufficient\tFLAN_T5\t{'accuracy': 1.0}\n",
      "[prediction_KE]\tInsufficient\tFLAN_T5\t{'accuracy': 1.0}\n",
      "[prediction_LCE]\tAcceptable\tFLAN_T5\t{'accuracy': 0.0}\n",
      "\n"
     ]
    }
   ],
   "source": [
    "print(instances[2].get_entry('essay'), \"\\n\")\n",
    "instances[2].show_instance()"
   ]
  },
  {
   "cell_type": "code",
   "execution_count": 18,
   "id": "4f883549",
   "metadata": {},
   "outputs": [
    {
     "name": "stdout",
     "output_type": "stream",
     "text": [
      "{'predictor': 'FLAN_T5', 'perform': {'accuracy': 0.039473684210526314, 'accuracy_PE': 0.5526315789473685, 'accuracy_KE': 0.39473684210526316, 'accuracy_LCE': 0.2631578947368421}}\n"
     ]
    }
   ],
   "source": [
    "predictor.evaluate_performance(instances)\n",
    "print({\"predictor\": predictor.name, \"perform\": predictor.perform })"
   ]
  },
  {
   "cell_type": "code",
   "execution_count": 19,
   "id": "3663b694",
   "metadata": {},
   "outputs": [],
   "source": [
    "# ---------\n",
    "# Build the instance store hash\n",
    "from errudite.targets.instance import Instance\n",
    "instance_hash, instance_hash_rewritten, qid_hash = Instance.build_instance_hashes(instances)"
   ]
  },
  {
   "cell_type": "code",
   "execution_count": 20,
   "id": "b6f23a06",
   "metadata": {},
   "outputs": [
    {
     "name": "stdout",
     "output_type": "stream",
     "text": [
      "True \n",
      "\n"
     ]
    }
   ],
   "source": [
    "print(instances[2].is_incorrect(model = 'FLAN_T5'), \"\\n\")"
   ]
  },
  {
   "cell_type": "code",
   "execution_count": 21,
   "id": "3395891b",
   "metadata": {},
   "outputs": [
    {
     "name": "stderr",
     "output_type": "stream",
     "text": [
      "INFO:errudite.build_blocks.wrapper:Parsed: [BinOp](>):[FuncOp(length):[ArgOp:essay]+[], 100.0]\n",
      "INFO:errudite.builts.group:Created group: length\n"
     ]
    }
   ],
   "source": [
    "from errudite.builts import Group\n",
    "from errudite.builts import Attribute\n",
    "group_length_100 = Group.create(\n",
    "    # The name of the attribute\n",
    "    name=\"length\",\n",
    "    # the description of the attribute\n",
    "    description=\"length greater than 100\",\n",
    "    # All the previously created attributes and groups \n",
    "    # can be used and queried, as long as we serve the \n",
    "    # stored attributes and groups as part of the inputs.\n",
    "    cmd=\"length(essay) > 100\",\n",
    "    attr_hash=Attribute.store_hash(),\n",
    "    group_hash=Group.store_hash()\n",
    ")"
   ]
  },
  {
   "cell_type": "code",
   "execution_count": 22,
   "id": "cff1413c",
   "metadata": {},
   "outputs": [
    {
     "data": {
      "application/vnd.vegalite.v3+json": {
       "$schema": "https://vega.github.io/schema/vega-lite/v3.2.1.json",
       "config": {
        "mark": {
         "tooltip": null
        },
        "view": {
         "height": 300,
         "width": 400
        }
       },
       "data": {
        "name": "data-c91361f0b0969ec3df643d2ed42a49b4"
       },
       "datasets": {
        "data-c91361f0b0969ec3df643d2ed42a49b4": [
         {
          "correctness": "correct",
          "count": 3,
          "model": "FLAN_T5"
         },
         {
          "correctness": "incorrect",
          "count": 71,
          "model": "FLAN_T5"
         }
        ]
       },
       "encoding": {
        "color": {
         "field": "correctness",
         "scale": {
          "domain": [
           "correct",
           "incorrect"
          ]
         },
         "type": "nominal"
        },
        "tooltip": [
         {
          "field": "model",
          "type": "nominal"
         },
         {
          "field": "count",
          "type": "quantitative"
         },
         {
          "field": "correctness",
          "type": "nominal"
         }
        ],
        "x": {
         "field": "count",
         "stack": "zero",
         "type": "quantitative"
        },
        "y": {
         "field": "model",
         "type": "nominal"
        }
       },
       "mark": "bar",
       "width": 100
      },
      "image/png": "[encoded data removed]",
      "text/plain": [
       "<VegaLite 3 object>\n",
       "\n",
       "If you see this message, it means the renderer has not been properly enabled\n",
       "for the frontend that you are using. For more information, see\n",
       "https://altair-viz.github.io/user_guide/troubleshooting.html\n"
      ]
     },
     "execution_count": 22,
     "metadata": {},
     "output_type": "execute_result"
    }
   ],
   "source": [
    "group_length_100.visualize_models(models=[\"FLAN_T5\"])"
   ]
  },
  {
   "cell_type": "code",
   "execution_count": 23,
   "id": "1078d7c6",
   "metadata": {},
   "outputs": [
    {
     "data": {
      "text/plain": [
       "{'counts': {'correct': 3, 'incorrect': 71},\n",
       " 'stats': {'coverage': 0.9736842105263158,\n",
       "  'error_coverage': 0.9726027397260274,\n",
       "  'local_error_rate': 0.9594594594594594,\n",
       "  'global_error_rate': 0.9342105263157895}}"
      ]
     },
     "execution_count": 23,
     "metadata": {},
     "output_type": "execute_result"
    }
   ],
   "source": [
    "# some general stats on groups\n",
    "Group.eval_stats(\n",
    "    filtered_instances=group_length_100.get_instances(),\n",
    "    # this will automatically call the default model we got\n",
    "    model=None\n",
    ")"
   ]
  },
  {
   "cell_type": "code",
   "execution_count": 24,
   "id": "11785d8a",
   "metadata": {},
   "outputs": [
    {
     "name": "stderr",
     "output_type": "stream",
     "text": [
      "INFO:errudite.build_blocks.wrapper:Parsed: [BinOp](>):[FuncOp(length):[ArgOp:essay]+[], 200.0]\n",
      "WARNING:errudite.utils.store:Storing length in Group: Overwritting name already in use.\n",
      "INFO:errudite.builts.group:Created group: length\n"
     ]
    }
   ],
   "source": [
    "from errudite.builts import Group\n",
    "from errudite.builts import Attribute\n",
    "group_length_200 = Group.create(\n",
    "    # The name of the attribute\n",
    "    name=\"length\",\n",
    "    # the description of the attribute\n",
    "    description=\"length greater than 200\",\n",
    "    # All the previously created attributes and groups \n",
    "    # can be used and queried, as long as we serve the \n",
    "    # stored attributes and groups as part of the inputs.\n",
    "    cmd=\"length(essay) > 200\",\n",
    "    attr_hash=Attribute.store_hash(),\n",
    "    group_hash=Group.store_hash()\n",
    ")"
   ]
  },
  {
   "cell_type": "code",
   "execution_count": 25,
   "id": "1be30bde",
   "metadata": {},
   "outputs": [
    {
     "data": {
      "application/vnd.vegalite.v3+json": {
       "$schema": "https://vega.github.io/schema/vega-lite/v3.2.1.json",
       "config": {
        "mark": {
         "tooltip": null
        },
        "view": {
         "height": 300,
         "width": 400
        }
       },
       "data": {
        "name": "data-87efc58a8a092b594f6a8f3054723e42"
       },
       "datasets": {
        "data-87efc58a8a092b594f6a8f3054723e42": [
         {
          "correctness": "correct",
          "count": 1,
          "model": "FLAN_T5"
         },
         {
          "correctness": "incorrect",
          "count": 32,
          "model": "FLAN_T5"
         }
        ]
       },
       "encoding": {
        "color": {
         "field": "correctness",
         "scale": {
          "domain": [
           "correct",
           "incorrect"
          ]
         },
         "type": "nominal"
        },
        "tooltip": [
         {
          "field": "model",
          "type": "nominal"
         },
         {
          "field": "count",
          "type": "quantitative"
         },
         {
          "field": "correctness",
          "type": "nominal"
         }
        ],
        "x": {
         "field": "count",
         "stack": "zero",
         "type": "quantitative"
        },
        "y": {
         "field": "model",
         "type": "nominal"
        }
       },
       "mark": "bar",
       "width": 100
      },
      "image/png": "[encoded data removed]",
      "text/plain": [
       "<VegaLite 3 object>\n",
       "\n",
       "If you see this message, it means the renderer has not been properly enabled\n",
       "for the frontend that you are using. For more information, see\n",
       "https://altair-viz.github.io/user_guide/troubleshooting.html\n"
      ]
     },
     "execution_count": 25,
     "metadata": {},
     "output_type": "execute_result"
    }
   ],
   "source": [
    "group_length_200.visualize_models(models=[\"FLAN_T5\"])"
   ]
  },
  {
   "cell_type": "code",
   "execution_count": 26,
   "id": "cdae26e4",
   "metadata": {},
   "outputs": [
    {
     "data": {
      "text/plain": [
       "{'counts': {'correct': 1, 'incorrect': 32},\n",
       " 'stats': {'coverage': 0.4342105263157895,\n",
       "  'error_coverage': 0.4383561643835616,\n",
       "  'local_error_rate': 0.9696969696969697,\n",
       "  'global_error_rate': 0.42105263157894735}}"
      ]
     },
     "execution_count": 26,
     "metadata": {},
     "output_type": "execute_result"
    }
   ],
   "source": [
    "# some general stats on groups\n",
    "Group.eval_stats(\n",
    "    filtered_instances=group_length_200.get_instances(),\n",
    "    # this will automatically call the default model we got\n",
    "    model=None\n",
    ")"
   ]
  },
  {
   "cell_type": "code",
   "execution_count": 46,
   "id": "884ae7be",
   "metadata": {},
   "outputs": [
    {
     "name": "stderr",
     "output_type": "stream",
     "text": [
      "INFO:errudite.build_blocks.wrapper:Parsed: essay\n",
      "INFO:errudite.build_blocks.wrapper:Parsed: essay\n",
      "WARNING:errudite.utils.store:Storing rest -> motion in Rewrite: Overwritting name already in use.\n"
     ]
    },
    {
     "name": "stdout",
     "output_type": "stream",
     "text": [
      "<class 'errudite.rewrites.replace_str.ReplaceStr'>\n"
     ]
    }
   ],
   "source": [
    "from errudite.rewrites import Rewrite\n",
    "rewrite_rest_motion = Rewrite.create_with_cmd(\n",
    "    from_cmd='rest', \n",
    "    to_cmd= 'motion', \n",
    "    target_cmd= 'essay'\n",
    ")"
   ]
  },
  {
   "cell_type": "code",
   "execution_count": 48,
   "id": "b58c5bc5",
   "metadata": {},
   "outputs": [
    {
     "name": "stderr",
     "output_type": "stream",
     "text": [
      "100%|██████████| 74/74 [01:44<00:00,  2.88s/it]\n"
     ]
    }
   ],
   "source": [
    "from errudite.targets.instance import Instance\n",
    "from errudite.targets.target import Target\n",
    "from tqdm import tqdm\n",
    "\n",
    "li_group_length_100_var=[]\n",
    "\n",
    "for key in tqdm(group_length_100.get_instances()):\n",
    "#for key in tqdm(instances):\n",
    "    \"\"\"\n",
    "    This function returns a named tuple, with rid and the \n",
    "    rewritten text of the instance intended target. \n",
    "    If the instance cannot be rewritten, return None.\n",
    "    \"\"\"\n",
    "    instance = Instance.get(key)\n",
    "    rewritten_output = rewrite_rest_motion.rewrite_one_instance(instance)\n",
    "    if not rewritten_output:\n",
    "        li_group_length_100_var.append(instance)\n",
    "        continue\n",
    "    entries = {}\n",
    "    # compute the vid automatically\n",
    "    vid = len(Instance.qid_hash[instance.qid])\n",
    "    # init the instance \n",
    "    rewritten_instance = Instance(\n",
    "        qid=instance.qid, vid=vid, rid=rewrite_rest_motion.rid)\n",
    "    for e in instance.entries:\n",
    "        if e in rewrite_rest_motion.target_cmd:\n",
    "            # automatically create a new Target for the \n",
    "            # rewritten part.\n",
    "            entry = Target(\n",
    "                qid=instance.qid, \n",
    "                text=rewritten_output.text, \n",
    "                vid=vid, \n",
    "                metas=instance.get_entry(e).metas)\n",
    "        else:\n",
    "            # Otherwise, use the original target\n",
    "            entry = instance.get_entry(e)\n",
    "        # save all the entries\n",
    "        rewritten_instance.set_entries(**{e: entry})\n",
    "    # run the prediction\n",
    "    prediction_PE, prediction_KE, prediction_LCE = Predictor.by_name(\"STE_FLAN_T5\").model_predict(\n",
    "        predictor, \n",
    "        essay = rewritten_instance.get_entry('essay'),\n",
    "        groundtruth_PE = instance.groundtruth_PE, groundtruth_KE = instance.groundtruth_KE, groundtruth_LCE = instance.groundtruth_LCE)\n",
    "    # save the prediction\n",
    "    rewritten_instance.set_entries(prediction_PE = prediction_PE, prediction_KE = prediction_KE, prediction_LCE = prediction_LCE)\n",
    "    li_group_length_100_var.append(rewritten_instance)\n",
    "    # set the rewritten key into the rewrite\n",
    "    rewrite_rest_motion.add_instance(rewritten_instance.key())\n",
    "    # save into the Instance hashes\n",
    "    #print(rewritten_instance)\n",
    "    Instance.save(rewritten_instance)"
   ]
  },
  {
   "cell_type": "code",
   "execution_count": 49,
   "id": "c7a919ee-5dd8-4264-bbf3-d8bdd565eadd",
   "metadata": {},
   "outputs": [
    {
     "name": "stdout",
     "output_type": "stream",
     "text": [
      "{'predictor': 'FLAN_T5', 'perform': {'accuracy': 0.030303030303030304, 'accuracy_PE': 0.5151515151515151, 'accuracy_KE': 0.5151515151515151, 'accuracy_LCE': 0.2727272727272727}}\n"
     ]
    }
   ],
   "source": [
    "li_group_length_100_org=[]\n",
    "for key  in group_length_100.get_instances():\n",
    "    #print(type(Instance.get(key)))\n",
    "    li_group_length_100_org.append(Instance.get(key))\n",
    "predictor.evaluate_performance(li_group_length_100_org)\n",
    "print({\"predictor\": predictor.name, \"perform\": predictor.perform })"
   ]
  },
  {
   "cell_type": "code",
   "execution_count": 50,
   "id": "1c195505-4d1d-42f0-81c6-29f4452a3f9e",
   "metadata": {},
   "outputs": [
    {
     "name": "stdout",
     "output_type": "stream",
     "text": [
      "{'predictor': 'FLAN_T5', 'perform': {'accuracy': 0.046153846153846156, 'accuracy_PE': 0.5538461538461539, 'accuracy_KE': 0.38461538461538464, 'accuracy_LCE': 0.26153846153846155}}\n"
     ]
    }
   ],
   "source": [
    "predictor.evaluate_performance(li_group_length_100_var)\n",
    "print({\"predictor\": predictor.name, \"perform\": predictor.perform })"
   ]
  },
  {
   "cell_type": "code",
   "execution_count": 51,
   "id": "b785589c-f148-4d32-965d-2167b629aa1f",
   "metadata": {},
   "outputs": [
    {
     "name": "stderr",
     "output_type": "stream",
     "text": [
      "INFO:errudite.build_blocks.wrapper:Parsed: essay\n",
      "INFO:errudite.build_blocks.wrapper:Parsed: essay\n"
     ]
    },
    {
     "name": "stdout",
     "output_type": "stream",
     "text": [
      "<class 'errudite.rewrites.replace_str.ReplaceStr'>\n"
     ]
    }
   ],
   "source": [
    "from errudite.rewrites import Rewrite\n",
    "rewrite_ke = Rewrite.create_with_cmd(\n",
    "    from_cmd='kinetic energy', \n",
    "    to_cmd= '#', \n",
    "    target_cmd= 'essay'\n",
    ")"
   ]
  },
  {
   "cell_type": "code",
   "execution_count": null,
   "id": "9290ea20-a913-41cf-b1e5-167542fde9df",
   "metadata": {},
   "outputs": [
    {
     "name": "stderr",
     "output_type": "stream",
     "text": [
      " 69%|██████▉   | 51/74 [08:34<04:40, 12.18s/it]"
     ]
    }
   ],
   "source": [
    "from errudite.targets.instance import Instance\n",
    "from errudite.targets.target import Target\n",
    "from tqdm import tqdm\n",
    "\n",
    "rewrite_ke_var=[]\n",
    "\n",
    "for key in tqdm(group_length_100.get_instances()):\n",
    "#for key in tqdm(instances):\n",
    "    \"\"\"\n",
    "    This function returns a named tuple, with rid and the \n",
    "    rewritten text of the instance intended target. \n",
    "    If the instance cannot be rewritten, return None.\n",
    "    \"\"\"\n",
    "    instance = Instance.get(key)\n",
    "    rewritten_output = rewrite_ke.rewrite_one_instance(instance)\n",
    "    if not rewritten_output:\n",
    "        rewrite_ke_var.append(instance)\n",
    "        continue\n",
    "    entries = {}\n",
    "    # compute the vid automatically\n",
    "    vid = len(Instance.qid_hash[instance.qid])\n",
    "    # init the instance \n",
    "    rewritten_instance = Instance(\n",
    "        qid=instance.qid, vid=vid, rid=rewrite_ke.rid)\n",
    "    for e in instance.entries:\n",
    "        if e in rewrite_ke.target_cmd:\n",
    "            # automatically create a new Target for the \n",
    "            # rewritten part.\n",
    "            entry = Target(\n",
    "                qid=instance.qid, \n",
    "                text=rewritten_output.text, \n",
    "                vid=vid, \n",
    "                metas=instance.get_entry(e).metas)\n",
    "        else:\n",
    "            # Otherwise, use the original target\n",
    "            entry = instance.get_entry(e)\n",
    "        # save all the entries\n",
    "        rewritten_instance.set_entries(**{e: entry})\n",
    "    # run the prediction\n",
    "    prediction_PE, prediction_KE, prediction_LCE = Predictor.by_name(\"STE_FLAN_T5\").model_predict(\n",
    "        predictor, \n",
    "        essay = rewritten_instance.get_entry('essay'),\n",
    "        groundtruth_PE = instance.groundtruth_PE, groundtruth_KE = instance.groundtruth_KE, groundtruth_LCE = instance.groundtruth_LCE)\n",
    "    # save the prediction\n",
    "    rewritten_instance.set_entries(prediction_PE = prediction_PE, prediction_KE = prediction_KE, prediction_LCE = prediction_LCE)\n",
    "    rewrite_ke_var.append(rewritten_instance)\n",
    "    # set the rewritten key into the rewrite\n",
    "    rewrite_ke.add_instance(rewritten_instance.key())\n",
    "    # save into the Instance hashes\n",
    "    #print(rewritten_instance)\n",
    "    Instance.save(rewritten_instance)"
   ]
  },
  {
   "cell_type": "code",
   "execution_count": null,
   "id": "f7885249-8410-4a25-9c47-dc194844b0a6",
   "metadata": {},
   "outputs": [],
   "source": [
    "rewrite_ke_org=[]\n",
    "for key  in group_length_100.get_instances():\n",
    "    #print(type(Instance.get(key)))\n",
    "    rewrite_ke_org.append(Instance.get(key))\n",
    "predictor.evaluate_performance(rewrite_ke_org)\n",
    "print({\"predictor\": predictor.name, \"perform\": predictor.perform })"
   ]
  },
  {
   "cell_type": "code",
   "execution_count": null,
   "id": "e5af1d4d-07c8-4313-b18b-106e633a5adf",
   "metadata": {},
   "outputs": [],
   "source": [
    "predictor.evaluate_performance(rewrite_ke_var)\n",
    "print({\"predictor\": predictor.name, \"perform\": predictor.perform })"
   ]
  },
  {
   "cell_type": "code",
   "execution_count": 1,
   "id": "09c366ec",
   "metadata": {},
   "outputs": [],
   "source": [
    "#rewrite_rest_motion.visualize_models(models=[\"FLAN_T5\"])"
   ]
  },
  {
   "cell_type": "code",
   "execution_count": 106,
   "id": "95625215",
   "metadata": {},
   "outputs": [
    {
     "name": "stderr",
     "output_type": "stream",
     "text": [
      "INFO:errudite.build_blocks.wrapper:Parsed: essay\n",
      "INFO:errudite.build_blocks.wrapper:Parsed: essay\n",
      "WARNING:errudite.utils.store:Storing top -> bottom in Rewrite: Overwritting name already in use.\n"
     ]
    },
    {
     "name": "stdout",
     "output_type": "stream",
     "text": [
      "<class 'errudite.rewrites.replace_str.ReplaceStr'>\n"
     ]
    }
   ],
   "source": [
    "from errudite.rewrites import Rewrite\n",
    "rewrite_top_bottom = Rewrite.create_with_cmd(\n",
    "    from_cmd='top', \n",
    "    to_cmd= 'bottom', \n",
    "    target_cmd= 'essay'\n",
    ")"
   ]
  },
  {
   "cell_type": "code",
   "execution_count": null,
   "id": "9151993a-7f71-45b7-a624-25e4139cf262",
   "metadata": {},
   "outputs": [],
   "source": [
    "predictor.evaluate_performance(group_length_100.get_instances())\n",
    "print({\"predictor\": predictor.name, \"perform\": predictor.perform })"
   ]
  },
  {
   "cell_type": "code",
   "execution_count": null,
   "id": "a8a031d7",
   "metadata": {},
   "outputs": [
    {
     "name": "stderr",
     "output_type": "stream",
     "text": [
      " 50%|█████     | 37/74 [07:46<12:52, 20.88s/it]"
     ]
    }
   ],
   "source": [
    "from errudite.targets.instance import Instance\n",
    "from errudite.targets.target import Target\n",
    "from tqdm import tqdm\n",
    "\n",
    "rewrite_tb_var=[]\n",
    "\n",
    "for key in tqdm(group_length_100.get_instances()):\n",
    "    \"\"\"\n",
    "    This function returns a named tuple, with rid and the \n",
    "    rewritten text of the instance intended target. \n",
    "    If the instance cannot be rewritten, return None.\n",
    "    \"\"\"\n",
    "    instance = Instance.get(key)\n",
    "    rewritten_output = rewrite_top_bottom.rewrite_one_instance(instance)\n",
    "    if not rewritten_output:\n",
    "        rewrite_tb_var.append(instance)\n",
    "        continue\n",
    "    entries = {}\n",
    "    # compute the vid automatically\n",
    "    vid = len(Instance.qid_hash[instance.qid])\n",
    "    # init the instance \n",
    "    rewritten_instance = Instance(\n",
    "        qid=instance.qid, vid=vid, rid=rewrite_top_bottom.rid)\n",
    "    for e in instance.entries:\n",
    "        if e in rewrite_top_bottom.target_cmd:\n",
    "            # automatically create a new Target for the \n",
    "            # rewritten part.\n",
    "            entry = Target(\n",
    "                qid=instance.qid, \n",
    "                text=rewritten_output.text, \n",
    "                vid=vid, \n",
    "                metas=instance.get_entry(e).metas)\n",
    "        else:\n",
    "            # Otherwise, use the original target\n",
    "            entry = instance.get_entry(e)\n",
    "        # save all the entries\n",
    "        rewritten_instance.set_entries(**{e: entry})\n",
    "    # run the prediction\n",
    "    prediction_PE, prediction_KE, prediction_LCE = Predictor.by_name(\"STE_FLAN_T5\").model_predict(\n",
    "        predictor, \n",
    "        essay = rewritten_instance.get_entry('essay'),\n",
    "        groundtruth_PE = instance.groundtruth_PE, groundtruth_KE = instance.groundtruth_KE, groundtruth_LCE = instance.groundtruth_LCE)\n",
    "    # save the prediction\n",
    "    rewritten_instance.set_entries(prediction_PE = prediction_PE, prediction_KE = prediction_KE, prediction_LCE = prediction_LCE)\n",
    "    rewrite_tb_var.append(rewritten_instance)\n",
    "    # set the rewritten key into the rewrite\n",
    "    rewrite_top_bottom.add_instance(rewritten_instance.key())\n",
    "    \n",
    "    # save into the Instance hashes\n",
    "    Instance.save(rewritten_instance)"
   ]
  },
  {
   "cell_type": "code",
   "execution_count": null,
   "id": "08a82f75-0a7e-4f1e-898a-2dfa679811fb",
   "metadata": {},
   "outputs": [],
   "source": [
    "rewrite_tb_org=[]\n",
    "for key  in group_length_100.get_instances():\n",
    "    #print(type(Instance.get(key)))\n",
    "    rewrite_ke_org.append(Instance.get(key))\n",
    "predictor.evaluate_performance(rewrite_ke_org)\n",
    "print({\"predictor\": predictor.name, \"perform\": predictor.perform })"
   ]
  },
  {
   "cell_type": "code",
   "execution_count": null,
   "id": "dab002cc-49ef-4dee-9e3e-616300ca20b6",
   "metadata": {},
   "outputs": [],
   "source": [
    "predictor.evaluate_performance(rewrite_tb_var)\n",
    "print({\"predictor\": predictor.name, \"perform\": predictor.perform })"
   ]
  },
  {
   "cell_type": "code",
   "execution_count": null,
   "id": "46029234-b0e2-4b9f-a30e-8b885a49a4f9",
   "metadata": {},
   "outputs": [],
   "source": [
    "from errudite.rewrites import Rewrite\n",
    "rewrite_car_stone = Rewrite.create_with_cmd(\n",
    "    from_cmd='car', \n",
    "    to_cmd= 'stone', \n",
    "    target_cmd= 'essay'\n",
    ")"
   ]
  },
  {
   "cell_type": "code",
   "execution_count": null,
   "id": "b4707ff8-8209-4a4f-ae41-72b43f81a8a7",
   "metadata": {},
   "outputs": [],
   "source": [
    "from errudite.targets.instance import Instance\n",
    "from errudite.targets.target import Target\n",
    "from tqdm import tqdm\n",
    "\n",
    "rewrite_car_var=[]\n",
    "\n",
    "for key in tqdm(group_length_100.get_instances()):\n",
    "    \"\"\"\n",
    "    This function returns a named tuple, with rid and the \n",
    "    rewritten text of the instance intended target. \n",
    "    If the instance cannot be rewritten, return None.\n",
    "    \"\"\"\n",
    "    instance = Instance.get(key)\n",
    "    rewritten_output = rewrite_car_stone.rewrite_one_instance(instance)\n",
    "    if not rewritten_output:\n",
    "        rewrite_car_var.append(instance)\n",
    "        continue\n",
    "    entries = {}\n",
    "    # compute the vid automatically\n",
    "    vid = len(Instance.qid_hash[instance.qid])\n",
    "    # init the instance \n",
    "    rewritten_instance = Instance(\n",
    "        qid=instance.qid, vid=vid, rid=rewrite_car_stone.rid)\n",
    "    for e in instance.entries:\n",
    "        if e in rewrite_car_stone.target_cmd:\n",
    "            # automatically create a new Target for the \n",
    "            # rewritten part.\n",
    "            entry = Target(\n",
    "                qid=instance.qid, \n",
    "                text=rewritten_output.text, \n",
    "                vid=vid, \n",
    "                metas=instance.get_entry(e).metas)\n",
    "        else:\n",
    "            # Otherwise, use the original target\n",
    "            entry = instance.get_entry(e)\n",
    "        # save all the entries\n",
    "        rewritten_instance.set_entries(**{e: entry})\n",
    "    # run the prediction\n",
    "    prediction_PE, prediction_KE, prediction_LCE = Predictor.by_name(\"STE_FLAN_T5\").model_predict(\n",
    "        predictor, \n",
    "        essay = rewritten_instance.get_entry('essay'),\n",
    "        groundtruth_PE = instance.groundtruth_PE, groundtruth_KE = instance.groundtruth_KE, groundtruth_LCE = instance.groundtruth_LCE)\n",
    "    # save the prediction\n",
    "    rewritten_instance.set_entries(prediction_PE = prediction_PE, prediction_KE = prediction_KE, prediction_LCE = prediction_LCE)\n",
    "    rewrite_car_var.append(rewritten_instance)\n",
    "    # set the rewritten key into the rewrite\n",
    "    rewrite_car_stone.add_instance(rewritten_instance.key())\n",
    "    \n",
    "    # save into the Instance hashes\n",
    "    Instance.save(rewritten_instance)"
   ]
  },
  {
   "cell_type": "code",
   "execution_count": null,
   "id": "66678f5f-4eb3-4c48-bc8e-10270b45e88d",
   "metadata": {},
   "outputs": [],
   "source": [
    "rewrite_car_org=[]\n",
    "for key  in group_length_100.get_instances():\n",
    "    #print(type(Instance.get(key)))\n",
    "    rewrite_car_org.append(Instance.get(key))\n",
    "predictor.evaluate_performance(rewrite_car_org)\n",
    "print({\"predictor\": predictor.name, \"perform\": predictor.perform })"
   ]
  },
  {
   "cell_type": "code",
   "execution_count": null,
   "id": "4f14d2de-c6b6-479d-98d8-55fae9b2aac6",
   "metadata": {},
   "outputs": [],
   "source": [
    "predictor.evaluate_performance(rewrite_car_var)\n",
    "print({\"predictor\": predictor.name, \"perform\": predictor.perform })"
   ]
  },
  {
   "cell_type": "code",
   "execution_count": null,
   "id": "61fa749b-cb21-4685-8701-be20a72463ad",
   "metadata": {},
   "outputs": [],
   "source": [
    "from errudite.rewrites import Rewrite\n",
    "rewrite_not_blank = Rewrite.create_with_cmd(\n",
    "    from_cmd='not', \n",
    "    to_cmd= ' ', \n",
    "    target_cmd= 'essay'\n",
    ")"
   ]
  },
  {
   "cell_type": "code",
   "execution_count": null,
   "id": "5c7def72-382b-4cb6-8840-cd66d35c5cec",
   "metadata": {},
   "outputs": [],
   "source": [
    "from errudite.targets.instance import Instance\n",
    "from errudite.targets.target import Target\n",
    "from tqdm import tqdm\n",
    "\n",
    "rewrite_not_var=[]\n",
    "\n",
    "for key in tqdm(group_length_100.get_instances()):\n",
    "    \"\"\"\n",
    "    This function returns a named tuple, with rid and the \n",
    "    rewritten text of the instance intended target. \n",
    "    If the instance cannot be rewritten, return None.\n",
    "    \"\"\"\n",
    "    instance = Instance.get(key)\n",
    "    rewritten_output = rewrite_not_blanck.rewrite_one_instance(instance)\n",
    "    if not rewritten_output:\n",
    "        rewrite_not_var.append(instance)\n",
    "        continue\n",
    "    entries = {}\n",
    "    # compute the vid automatically\n",
    "    vid = len(Instance.qid_hash[instance.qid])\n",
    "    # init the instance \n",
    "    rewritten_instance = Instance(\n",
    "        qid=instance.qid, vid=vid, rid=rewrite_not_blanck.rid)\n",
    "    for e in instance.entries:\n",
    "        if e in rewrite_not_blanck.target_cmd:\n",
    "            # automatically create a new Target for the \n",
    "            # rewritten part.\n",
    "            entry = Target(\n",
    "                qid=instance.qid, \n",
    "                text=rewritten_output.text, \n",
    "                vid=vid, \n",
    "                metas=instance.get_entry(e).metas)\n",
    "        else:\n",
    "            # Otherwise, use the original target\n",
    "            entry = instance.get_entry(e)\n",
    "        # save all the entries\n",
    "        rewritten_instance.set_entries(**{e: entry})\n",
    "    # run the prediction\n",
    "    prediction_PE, prediction_KE, prediction_LCE = Predictor.by_name(\"STE_FLAN_T5\").model_predict(\n",
    "        predictor, \n",
    "        essay = rewritten_instance.get_entry('essay'),\n",
    "        groundtruth_PE = instance.groundtruth_PE, groundtruth_KE = instance.groundtruth_KE, groundtruth_LCE = instance.groundtruth_LCE)\n",
    "    # save the prediction\n",
    "    rewritten_instance.set_entries(prediction_PE = prediction_PE, prediction_KE = prediction_KE, prediction_LCE = prediction_LCE)\n",
    "    rewrite_not_var.append(rewritten_instance)\n",
    "    # set the rewritten key into the rewrite\n",
    "    rewrite_not_blanck.add_instance(rewritten_instance.key())\n",
    "    \n",
    "    # save into the Instance hashes\n",
    "    Instance.save(rewritten_instance)"
   ]
  },
  {
   "cell_type": "code",
   "execution_count": null,
   "id": "fe3aabaf-7df8-4577-b533-755fa0bda4f6",
   "metadata": {},
   "outputs": [],
   "source": [
    "rewrite_not_org=[]\n",
    "for key  in group_length_100.get_instances():\n",
    "    #print(type(Instance.get(key)))\n",
    "    rewrite_not_org.append(Instance.get(key))\n",
    "predictor.evaluate_performance(rewrite_not_org)\n",
    "print({\"predictor\": predictor.name, \"perform\": predictor.perform })"
   ]
  },
  {
   "cell_type": "code",
   "execution_count": null,
   "id": "a6ba351d-e02a-4dc3-93e0-f3f8a1523ba4",
   "metadata": {},
   "outputs": [],
   "source": [
    "predictor.evaluate_performance(rewrite_not_var)\n",
    "print({\"predictor\": predictor.name, \"perform\": predictor.perform })"
   ]
  },
  {
   "cell_type": "code",
   "execution_count": null,
   "id": "32e17d80-5f0f-4304-880f-3f4ab4571e2b",
   "metadata": {},
   "outputs": [],
   "source": [
    "import traceback\n",
    "from typing import Union, List\n",
    "from spacy.tokens import Doc, Span, Token\n",
    "def import_sys():\n",
    "    import sys\n",
    "    sys.path.append('..')\n",
    "import_sys()\n",
    "from errudite.utils.helpers import convert_doc\n",
    "from errudite.utils.check import DSLValueError\n",
    "import logging\n",
    "logger = logging.getLogger(__name__)  # pylint: disable=invalid-name\n"
   ]
  },
  {
   "cell_type": "code",
   "execution_count": null,
   "id": "54d34753-f2d5-4ab2-a571-a50fae04b35c",
   "metadata": {},
   "outputs": [],
   "source": [
    "from errudite.build_blocks import PrimFunc\n",
    "from errudite.build_blocks.prim_funcs.linguistic import linguistic\n",
    "\n",
    "@PrimFunc.register()\n",
    "def contains_quantity(docs: Union['Target', Span]) -> bool:\n",
    "    \"\"\"\n",
    "    Detect the presence of quantity entities in the essay.\n",
    "    \"\"\"\n",
    "    # Use the linguistic function to extract entity types\n",
    "    entities = linguistic(docs, label='ent_type')\n",
    "    #print(entities)\n",
    "    contains='QUANTITY' in entities\n",
    "    # Check if 'bottom' or 'top' is present in the extracted entity types\n",
    "    #print(contains)\n",
    "    return contains\n"
   ]
  },
  {
   "cell_type": "code",
   "execution_count": null,
   "id": "ae8f1a18-c432-473f-918f-3fa5af36d417",
   "metadata": {},
   "outputs": [],
   "source": [
    "from errudite.builts import Attribute, Group\n",
    "\n",
    "# Create an attribute based on the location function\n",
    "attr = Attribute.create(\n",
    "    name=\"quantity_entities\",\n",
    "    description=\"Presence of location entities in the essay\",\n",
    "    cmd=\"location(essay)\"\n",
    ")\n",
    "\n",
    "# Create a group that checks for the presence of location entities\n",
    "quantity_group = Group.create(\n",
    "    name=\"quantity\",\n",
    "    description=\"quantity entity detected\",\n",
    "    cmd=\"attr:quantity_entities == TRUE\",\n",
    "    attr_hash=Attribute.store_hash(),\n",
    "    group_hash=Group.store_hash()\n",
    ")\n",
    "quantity_group"
   ]
  },
  {
   "cell_type": "code",
   "execution_count": null,
   "id": "52b32d96-a9a6-42bb-acd3-c2caf50fbf5f",
   "metadata": {},
   "outputs": [],
   "source": [
    "# some general stats on groups\n",
    "Group.eval_stats(\n",
    "    filtered_instances=quantity_group.get_instances(),\n",
    "    # this will automatically call the default model we got\n",
    "    model=None\n",
    ")"
   ]
  },
  {
   "cell_type": "code",
   "execution_count": null,
   "id": "b3e2ddb4-1ec9-48a9-affd-0f7446b1da4b",
   "metadata": {},
   "outputs": [],
   "source": [
    "quantity_group.visualize_models(models=[\"FLAN_T5\"])"
   ]
  },
  {
   "cell_type": "code",
   "execution_count": null,
   "id": "24eaf8a1-2708-4a30-9488-4ce37cbd2684",
   "metadata": {},
   "outputs": [],
   "source": [
    "from errudite.build_blocks import PrimFunc\n",
    "from errudite.build_blocks.prim_funcs.linguistic import STRING\n",
    "import spacy\n",
    "nlp = spacy.load(\"en_core_web_sm\")\n",
    "\n",
    "\n",
    "@PrimFunc.register()\n",
    "def num_adjectives(target: 'Target') -> int:\n",
    "    \"\"\"\n",
    "    Count the number of adjectives in a given target.\n",
    "    \"\"\"\n",
    "    try:\n",
    "        # Access the tokens associated with the Target\n",
    "        #print(STRING(target))\n",
    "        #tokens = STRING(target).tokens\n",
    "        doc = nlp(STRING(target))\n",
    "        adjectives = [token for token in doc if token.pos_ == \"ADJ\"]\n",
    "        return len(adjectives)\n",
    "    except Exception as e:\n",
    "        ex = Exception(f\"Unknown exception from [num_adjectives]: {e}\")\n",
    "        raise ex\n",
    "\n",
    "\n"
   ]
  },
  {
   "cell_type": "code",
   "execution_count": null,
   "id": "8436ad19-7862-4d3c-8011-95988afd456e",
   "metadata": {},
   "outputs": [],
   "source": [
    "from errudite.builts import Attribute, Group\n",
    "\n",
    "# Assuming you have already defined the PrimFunc num_adjectives\n",
    "\n",
    "# Create an attribute that counts the adjectives among essay targets\n",
    "attr = Attribute.create(\n",
    "    name=\"num_adjectives_in_essay\",\n",
    "    description=\"Number of adjectives among essay targets\",\n",
    "    cmd=\"num_adjectives(essay)\"\n",
    ")\n",
    "\n",
    "\n",
    "# Create a group to check if there are more than 5 adjectives in the essay\n",
    "adj_count_group = Group.create(\n",
    "    name=\"adjective_count_group\",\n",
    "    description=\"Group for counting adjectives in the essay\",\n",
    "    cmd=\"attr:num_adjectives_in_essay > 10\",\n",
    "    attr_hash=Attribute.store_hash(),\n",
    "    group_hash=Group.store_hash()\n",
    ")\n",
    "\n",
    "# You can now use the 'group' to check if there are more than 5 adjectives in your essay targets.\n",
    "adj_count_group"
   ]
  },
  {
   "cell_type": "code",
   "execution_count": null,
   "id": "9303eeed-6a61-4a9c-92a3-92256189d5bf",
   "metadata": {},
   "outputs": [],
   "source": [
    "# some general stats on groups\n",
    "Group.eval_stats(\n",
    "    filtered_instances=adj_count_group.get_instances(),\n",
    "    # this will automatically call the default model we got\n",
    "    model=None\n",
    ")"
   ]
  },
  {
   "cell_type": "code",
   "execution_count": null,
   "id": "00fbdcfa-fd3f-4252-91eb-2f8ba9cae4ac",
   "metadata": {},
   "outputs": [],
   "source": [
    "adj_count_group.visualize_models(models=[\"FLAN_T5\"])"
   ]
  },
  {
   "cell_type": "code",
   "execution_count": null,
   "id": "f4231b95-e169-419a-9cca-776835ac473e",
   "metadata": {},
   "outputs": [],
   "source": [
    "from errudite.build_blocks import PrimFunc\n",
    "from errudite.build_blocks.prim_funcs.linguistic import STRING\n",
    "import spacy\n",
    "nlp = spacy.load(\"en_core_web_sm\")\n",
    "\n",
    "\n",
    "@PrimFunc.register()\n",
    "def contains_loc(target: 'Target') -> int:\n",
    "    \"\"\"\n",
    "    Detect the presence of location entities ('bottom' or 'top') in the essay.\n",
    "    \"\"\"\n",
    "    try:\n",
    "        # Access the tokens associated with the Target\n",
    "        target_str=STRING(target)\n",
    "        #tokens = STRING(target).tokens\n",
    "        if \"bottom\" in target_str or \"top\" in target_str:\n",
    "            return True\n",
    "    except Exception as e:\n",
    "        ex = Exception(f\"Unknown exception from [num_adjectives]: {e}\")\n",
    "        raise ex\n",
    "\n"
   ]
  },
  {
   "cell_type": "code",
   "execution_count": null,
   "id": "c0939e51-0789-4b44-bf0f-2124b1a24da7",
   "metadata": {},
   "outputs": [],
   "source": [
    "from errudite.builts import Attribute, Group\n",
    "\n",
    "# Assuming you have already defined the PrimFunc num_adjectives\n",
    "\n",
    "# Create an attribute that counts the adjectives among essay targets\n",
    "attr = Attribute.create(\n",
    "    name=\"contains_loc_in_essay\",\n",
    "    description=\"Number of adjectives among essay targets\",\n",
    "    cmd=\"contains_loc(essay)\"\n",
    ")\n",
    "\n",
    "\n",
    "# Create a group to check if there are more than 5 adjectives in the essay\n",
    "contains_loc_group = Group.create(\n",
    "    name=\"adjective_count_group\",\n",
    "    description=\"Group for counting adjectives in the essay\",\n",
    "    cmd=\"attr:contains_loc_in_essay==TRUE \",\n",
    "    attr_hash=Attribute.store_hash(),\n",
    "    group_hash=Group.store_hash()\n",
    ")\n",
    "\n",
    "# You can now use the 'group' to check if there are more than 5 adjectives in your essay targets.\n",
    "contains_loc_group"
   ]
  },
  {
   "cell_type": "code",
   "execution_count": null,
   "id": "534d79a4-1c0d-4d25-b762-989f64e21017",
   "metadata": {},
   "outputs": [],
   "source": [
    "# some general stats on groups\n",
    "Group.eval_stats(\n",
    "    filtered_instances=contains_loc_group.get_instances(),\n",
    "    # this will automatically call the default model we got\n",
    "    model=None\n",
    ")"
   ]
  },
  {
   "cell_type": "code",
   "execution_count": null,
   "id": "9b2960c0-afdd-4e27-b960-47c200912b05",
   "metadata": {},
   "outputs": [],
   "source": [
    "contains_loc_group.visualize_models(models=[\"FLAN_T5\"])"
   ]
  },
  {
   "cell_type": "code",
   "execution_count": null,
   "id": "83d4f06a-1683-4af9-a70d-65ac84b75313",
   "metadata": {},
   "outputs": [],
   "source": []
  }
 ],
 "metadata": {
  "kernelspec": {
   "display_name": "Python 3",
   "language": "python",
   "name": "python3"
  },
  "language_info": {
   "codemirror_mode": {
    "name": "ipython",
    "version": 3
   },
   "file_extension": ".py",
   "mimetype": "text/x-python",
   "name": "python",
   "nbconvert_exporter": "python",
   "pygments_lexer": "ipython3",
   "version": "3.6.13"
  }
 },
 "nbformat": 4,
 "nbformat_minor": 5
}
