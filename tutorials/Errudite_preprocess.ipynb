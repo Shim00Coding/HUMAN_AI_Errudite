{
 "cells": [
  {
   "cell_type": "code",
   "execution_count": 2,
   "id": "6f5772aa-a5a3-42ce-b7f1-3a88ffb33205",
   "metadata": {},
   "outputs": [],
   "source": [
    "%load_ext autoreload\n",
    "%autoreload 2\n",
    "\n",
    "import warnings\n",
    "warnings.filterwarnings('ignore')\n",
    "\n",
    "def import_sys():\n",
    "    import sys\n",
    "    sys.path.append('..')\n",
    "import_sys()\n",
    "\n",
    "import logging\n",
    "logging.basicConfig(level=logging.INFO)\n",
    "logger = logging.getLogger(__name__)  # pylint: disable=invalid-name"
   ]
  },
  {
   "cell_type": "code",
   "execution_count": 3,
   "id": "c45e0efc-e592-48c0-9b0b-39ed0053958f",
   "metadata": {},
   "outputs": [
    {
     "name": "stdout",
     "output_type": "stream",
     "text": [
      "<module 'errudite' from '/Users/gyuhoshim/errudite/errudite/__init__.py'>\n"
     ]
    }
   ],
   "source": [
    "import errudite\n",
    "print(errudite)"
   ]
  },
  {
   "cell_type": "code",
   "execution_count": 4,
   "id": "3d68f74e-e731-4994-8f06-051c473b07f3",
   "metadata": {},
   "outputs": [
    {
     "name": "stderr",
     "output_type": "stream",
     "text": [
      "WARNING:errudite.utils.file_utils:Local path not yet exist, but still parsed: /Users/gyuhoshim/errudite/tutorials/caches/vocab.pkl\n",
      "WARNING:errudite.processor.spacy_annotator:(2, 'No such file or directory')\n"
     ]
    }
   ],
   "source": [
    "import pandas as pd\n",
    "from overrides import overrides\n",
    "from errudite.io import DatasetReader\n",
    "from errudite.utils import normalize_file_path, accuracy_score\n",
    "from errudite.targets.instance import Instance\n",
    "from errudite.targets.target import Target\n",
    "from errudite.targets.label import Label, PredefinedLabel"
   ]
  },
  {
   "cell_type": "markdown",
   "id": "b89717e1-b336-4699-acb7-1aec0a8283ec",
   "metadata": {},
   "source": [
    "## 1. DatasetReader"
   ]
  },
  {
   "cell_type": "markdown",
   "id": "5454b9a8-d125-4e55-a0a5-2eec5218886c",
   "metadata": {},
   "source": [
    "## Define a `DatasetReader`.\n",
    "---\n",
    "\n",
    "A ``DatasetReader`` ([documentation here](https://errudite.readthedocs.io/en/latest/api/_extensible_dataset_reader.html)) loads the raw data from a data file, preprocess the data to include linguistic features, and save the processed data to a cache folder. All the task specific readers are *registered* under the base class ``DatasetReader``, so they could be queried via their names:\n",
    "\n",
    "```python\n",
    "DatasetReader.by_name(\"dataset_name\")\n",
    "```\n",
    "\n",
    "Because the reader also handles dumping the processed instances into cache files, we require you to provide a desired cache path. If not provided, the default path is `./caches/`\n",
    "\n",
    "To get the pre-implemented reader for SNLI, we could run the following: "
   ]
  },
  {
   "cell_type": "code",
   "execution_count": 5,
   "id": "8c5c9d28-abc6-44c0-8487-55553c642f21",
   "metadata": {},
   "outputs": [],
   "source": [
    "@DatasetReader.register(\"STE\")\n",
    "class STEReader(DatasetReader):\n",
    "    def __init__(self, cache_folder_path: str=None) -> None:\n",
    "        super().__init__(cache_folder_path)\n",
    "        # overwrite the primary evaluation method and metric name\n",
    "        Label.set_task_evaluator(accuracy_score, 'accuracy')\n",
    "        \n",
    "    @overrides\n",
    "    def _read(self, file_path: str, lazy: bool, sample_size: int):\n",
    "        \"\"\"\n",
    "        Returns a list containing all the instances in the specified dataset.\n",
    "\n",
    "        Parameters\n",
    "        ----------\n",
    "        file_path : str\n",
    "            The path of the input data file.\n",
    "        lazy : bool, optional\n",
    "            If ``lazy==True``, only run the tokenization, does not compute the linguistic\n",
    "            features like POS, NER. By default False\n",
    "        sample_size : int, optional\n",
    "            If sample size is set, only load this many of instances, by default None\n",
    "        \n",
    "        Returns\n",
    "        -------\n",
    "        List[Instance]\n",
    "            The instance list.\n",
    "        \"\"\"\n",
    "        logger.info(\"Reading instances from lines in file at: %s\", file_path)\n",
    "        df = pd.read_csv(normalize_file_path(file_path), sep='\\t')\n",
    "        for idx, row in tqdm(df.iterrows()):\n",
    "            if lazy:\n",
    "                essay_ID.append(row['Essay_ID'])\n",
    "                essay.append(row['Essay'])\n",
    "            else:\n",
    "                instance = self._text_to_instance(f'q:{idx}', row)\n",
    "                if instance is not None:\n",
    "                    instances.append(instance)\n",
    "                if sample_size and idx > sample_size:\n",
    "                    break\n",
    "        if lazy:\n",
    "            return { \"Essay_ID\": premises, \"Essay\": hypotheses }\n",
    "        else:\n",
    "            return instances\n",
    "    \n",
    "    @overrides\n",
    "    def _text_to_instance(self, id: str, row) -> Instance:\n",
    "        # The function that transfers raw text to instance.\n",
    "        premise = Target(qid=row['pairID'], text=row['Essay_ID'], vid=0, metas={'type': 'Essay_ID'})\n",
    "        hypothesis = Target(qid=row['pairID'], text=row['Essay'], vid=0, metas={'type': 'Essay'})\n",
    "        # label\n",
    "        raw_labels = [row[f'label{i}']  for i in range(1,6)]\n",
    "        groundtruth = PredefinedLabel(\n",
    "            model='groundtruth', \n",
    "            qid=row['pairID'], \n",
    "            text=row['gold_label'], \n",
    "            vid=0, \n",
    "            metas={'raw_labels': raw_labels}\n",
    "        )\n",
    "        return self.create_instance(row['pairID'], \n",
    "            hypothesis=hypothesis, \n",
    "            premise=premise, \n",
    "            groundtruth=groundtruth)"
   ]
  },
  {
   "cell_type": "code",
   "execution_count": null,
   "id": "3b6c95de-e285-4f46-8551-e92c50fd3016",
   "metadata": {},
   "outputs": [],
   "source": []
  },
  {
   "cell_type": "code",
   "execution_count": 6,
   "id": "9d78bfaa-8071-4ba8-8bef-da2de10ba81d",
   "metadata": {},
   "outputs": [],
   "source": [
    "import pandas as pd\n",
    "\n",
    "from overrides import overrides\n",
    "from errudite.io import DatasetReader\n",
    "from errudite.targets.instance import Instance\n",
    "from errudite.targets.target import Target\n",
    "from errudite.targets.label import Label\n",
    "\n",
    "@DatasetReader.register(\"student_essays\")\n",
    "class StudentEssaysReader(DatasetReader):\n",
    "    def __init__(self, cache_folder_path: str = None):\n",
    "        super().__init__(cache_folder_path)\n",
    "\n",
    "    @overrides\n",
    "    def _read(self, file_path, lazy=False, sample_size=None):\n",
    "\n",
    "        instances = []\n",
    "\n",
    "        # Load the dataset from the provided file_path (assuming it's in Excel format)\n",
    "        df = pd.read_excel(file_path)\n",
    "\n",
    "        for idx, row in df.iterrows():\n",
    "            if lazy:\n",
    "                essays = [row['Essay']]\n",
    "            else:\n",
    "                instance = self._text_to_instance(f'essay_{idx}', row)\n",
    "                if instance is not None:\n",
    "                    instances.append(instance)\n",
    "                if sample_size and idx >= sample_size:\n",
    "                    break\n",
    "\n",
    "        if lazy:\n",
    "            return {\"essays\": essays}\n",
    "        else:\n",
    "            return instances\n",
    "\n",
    "    @overrides\n",
    "    def _text_to_instance(self, id: str, row) -> Instance:\n",
    "        essay = Target(qid=row['Essay_ID'], text=row['Essay'], vid=0)\n",
    "        return self.create_instance(row['Essay_ID'], essay=essay)\n"
   ]
  },
  {
   "cell_type": "code",
   "execution_count": null,
   "id": "3d663ac8-da60-49bd-925c-80aba90f8dbc",
   "metadata": {},
   "outputs": [],
   "source": []
  },
  {
   "cell_type": "code",
   "execution_count": 7,
   "id": "43f607ec-f9a5-4473-90ab-6112cebb5e49",
   "metadata": {},
   "outputs": [
    {
     "name": "stderr",
     "output_type": "stream",
     "text": [
      "INFO:errudite.utils.file_utils:Errudite cache folder selected: ./data/ste_cache/\n",
      "INFO:errudite.io.dataset_reader:Reading instances from lines in file at: ./StudentEssays.xlsx\n"
     ]
    }
   ],
   "source": [
    "#This reader, as we did before, can be queried via:\n",
    "\n",
    "# #from errudite.readers import DatasetReader\n",
    "# from errudite.io import DatasetReader\n",
    "\n",
    "cache_folder_path = \"./data/ste_cache/\"\n",
    "reader=DatasetReader.by_name(\"student_essays\")(cache_folder_path=cache_folder_path)\n",
    "instances=reader.read(\"./StudentEssays.xlsx\", sample_size= 70)"
   ]
  },
  {
   "cell_type": "code",
   "execution_count": 8,
   "id": "9f0edef2-80c2-4bfd-a4c5-2c907cc56969",
   "metadata": {},
   "outputs": [
    {
     "data": {
      "text/plain": [
       "Instance [InstanceKey(qid='L24-RCFinal proposal, L3b8-23_RCFinal proposal, & L3b8-08_RCFinal proposal', vid=0)]"
      ]
     },
     "execution_count": 8,
     "metadata": {},
     "output_type": "execute_result"
    }
   ],
   "source": [
    "instances[0]"
   ]
  },
  {
   "cell_type": "code",
   "execution_count": 76,
   "id": "915635b8-753c-4593-993d-5dba05d9255b",
   "metadata": {},
   "outputs": [
    {
     "ename": "TypeError",
     "evalue": "read() missing 1 required positional argument: 'self'",
     "output_type": "error",
     "traceback": [
      "\u001b[0;31m---------------------------------------------------------------------------\u001b[0m",
      "\u001b[0;31mTypeError\u001b[0m                                 Traceback (most recent call last)",
      "\u001b[0;32m<ipython-input-76-036a1c7b27f3>\u001b[0m in \u001b[0;36m<module>\u001b[0;34m\u001b[0m\n\u001b[1;32m      5\u001b[0m \u001b[0;34m\u001b[0m\u001b[0m\n\u001b[1;32m      6\u001b[0m \u001b[0;31m# Use the read method on the reader instance\u001b[0m\u001b[0;34m\u001b[0m\u001b[0;34m\u001b[0m\u001b[0;34m\u001b[0m\u001b[0m\n\u001b[0;32m----> 7\u001b[0;31m \u001b[0minstances\u001b[0m \u001b[0;34m=\u001b[0m \u001b[0mreader\u001b[0m\u001b[0;34m.\u001b[0m\u001b[0mread\u001b[0m\u001b[0;34m(\u001b[0m\u001b[0mfile_path\u001b[0m\u001b[0;34m=\u001b[0m\u001b[0;34m\"./StudentEssays.xlsx\"\u001b[0m\u001b[0;34m,\u001b[0m \u001b[0mlazy\u001b[0m\u001b[0;34m=\u001b[0m\u001b[0;32mFalse\u001b[0m\u001b[0;34m,\u001b[0m \u001b[0msample_size\u001b[0m\u001b[0;34m=\u001b[0m\u001b[0;32mNone\u001b[0m\u001b[0;34m)\u001b[0m\u001b[0;34m\u001b[0m\u001b[0;34m\u001b[0m\u001b[0m\n\u001b[0m",
      "\u001b[0;31mTypeError\u001b[0m: read() missing 1 required positional argument: 'self'"
     ]
    }
   ],
   "source": [
    "# from errudite.io import DatasetReader\n",
    "\n",
    "# # Create an instance of your custom dataset reader\n",
    "# reader = DatasetReader.by_name(\"student_essays\")\n",
    "\n",
    "# # Use the read method on the reader instance\n",
    "# instances = reader.read(file_path=\"./StudentEssays.xlsx\", lazy=False, sample_size=None)\n"
   ]
  },
  {
   "cell_type": "markdown",
   "id": "165f2e57-4003-4345-8159-e4e264d0b90c",
   "metadata": {},
   "source": [
    "## 2. Predictor"
   ]
  },
  {
   "cell_type": "code",
   "execution_count": 47,
   "id": "6b58a708-bf1f-4d9d-aa44-80821ac2bd5e",
   "metadata": {},
   "outputs": [],
   "source": [
    "from typing import List, Dict\n",
    "#from errudite.io import Predictor\n",
    "#from allennlp.predictors import Predictor\n",
    "from errudite.predictors import Predictor\n",
    "from errudite.targets.label import Label, PredefinedLabel\n",
    "from errudite.targets.instance import Instance\n",
    "from errudite.predictors.predictor_allennlp import PredictorAllennlp # a wrapper for Allennlp classes"
   ]
  },
  {
   "cell_type": "code",
   "execution_count": 50,
   "id": "b04beb21-4f2d-4128-b251-2e996eea8bde",
   "metadata": {},
   "outputs": [
    {
     "name": "stderr",
     "output_type": "stream",
     "text": [
      "WARNING:errudite.utils.registrable:Register nli_decompose_att as Predictor: Overwritting name already in use for PredictorDecomposeAtt.\n"
     ]
    }
   ],
   "source": [
    "@Predictor.register(\"nli_decompose_att\")\n",
    "class PredictorNLI(PredictorAllennlp,Predictor):\n",
    "    \"\"\"\n",
    "    The wrapper for DecomposableAttention model, as implemented in Allennlp:\n",
    "    https://allenai.github.io/allennlp-docs/api/allennlp.predictors.html#decomposable-attention\n",
    "    \"\"\"\n",
    "    def __init__(self, name: str, \n",
    "        model_path: str=None,\n",
    "        model_online_path: str=None,\n",
    "        description: str='') -> None:\n",
    "        PredictorAllennlp.__init__(self, name, model_path, model_online_path, description)\n",
    "        Predictor.__init__(self, name, description, model, perform_metrics)\n",
    "        # set the perform metrics\n",
    "        perform_metrics = ['accuracy', 'confidence']\n",
    "        # First, define the evaluation function to determine how well a model is doing \n",
    "        # on one instance, based on an individual predicted label.\n",
    "        from ...utils.evaluator import accuracy_score\n",
    "        # Second, from the metrics above, pick one that's primary, and it will be used \n",
    "        # to compute `is_incorrect()` in any label target object: primary metric < 1.\n",
    "        Label.set_task_evaluator(\n",
    "            # the evaluation function that accepts pred and groundtruths, \n",
    "            # and return a dict of metrics: { metric_name: metric_score }. \n",
    "            # This is saved as Label.task_evaluation_func.\n",
    "            task_evaluation_func=accuracy_score, \n",
    "            # The primary task metric name, ideally a key of task_evaluation_func ‘s return.\n",
    "            task_primary_metric='accuracy')\n",
    "\n",
    "    # the raw prediction function, returning the output of the model in a json format.\n",
    "    def predict(self, premise: str, hypothesis: str) -> Dict[str, float]:\n",
    "        try:\n",
    "            labels = ['entailment', 'contradiction', 'neutral']\n",
    "            predicted = self.model.predict_json({\n",
    "                \"premise\": premise, \"hypothesis\":hypothesis})\n",
    "            return {\n",
    "                'confidence': max(predicted['label_probs']),\n",
    "                'text': labels[np.argmax(label_probs)],\n",
    "            }\n",
    "        except:\n",
    "            raise\n",
    "\n",
    "    @classmethod\n",
    "    # the class method that takes `Target` inputs, and output a `Label` object.\n",
    "    def model_predict(cls, \n",
    "        predictor: Predictor, \n",
    "        premise: Target, \n",
    "        hypothesis: Target, \n",
    "        groundtruth: Label) -> 'Label':\n",
    "        answer = None\n",
    "        if not predictor:\n",
    "            return answer\n",
    "        predicted = predictor.predict(premise.get_text(), hypothesis.get_text())\n",
    "        if not predicted:\n",
    "            return None\n",
    "        answer = PredefinedLabel(\n",
    "            model=predictor.name, \n",
    "            qid=premise.qid,\n",
    "            text=predicted['text'], \n",
    "            vid=max([premise.vid, hypothesis.vid, groundtruth.vid] ))\n",
    "        answer.compute_perform(groundtruths=groundtruth)\n",
    "        answer.set_perform(confidence=predicted['confidence'])\n",
    "        return answer\n",
    "\n"
   ]
  },
  {
   "cell_type": "code",
   "execution_count": null,
   "id": "233a578f-d2c5-4060-a4eb-525c01d02968",
   "metadata": {},
   "outputs": [],
   "source": []
  }
 ],
 "metadata": {
  "kernelspec": {
   "display_name": "Python 3",
   "language": "python",
   "name": "python3"
  },
  "language_info": {
   "codemirror_mode": {
    "name": "ipython",
    "version": 3
   },
   "file_extension": ".py",
   "mimetype": "text/x-python",
   "name": "python",
   "nbconvert_exporter": "python",
   "pygments_lexer": "ipython3",
   "version": "3.6.13"
  }
 },
 "nbformat": 4,
 "nbformat_minor": 5
}
